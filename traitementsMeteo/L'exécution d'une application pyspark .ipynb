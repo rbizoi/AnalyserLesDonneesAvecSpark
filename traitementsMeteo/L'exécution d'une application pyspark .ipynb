{
 "cells": [
  {
   "cell_type": "markdown",
   "metadata": {},
   "source": [
    "# Initialisation des librairies"
   ]
  },
  {
   "cell_type": "code",
   "execution_count": 1,
   "metadata": {},
   "outputs": [],
   "source": [
    "import os\n",
    "from pyspark.sql.functions import *\n",
    "from pyspark.sql.types     import StructType, \\\n",
    "     StructField, FloatType, \\\n",
    "     IntegerType, StringType"
   ]
  },
  {
   "cell_type": "markdown",
   "metadata": {},
   "source": [
    "# L'objet SPARK Session"
   ]
  },
  {
   "cell_type": "code",
   "execution_count": 2,
   "metadata": {},
   "outputs": [
    {
     "data": {
      "text/html": [
       "\n",
       "            <div>\n",
       "                <p><b>SparkSession - hive</b></p>\n",
       "                \n",
       "        <div>\n",
       "            <p><b>SparkContext</b></p>\n",
       "\n",
       "            <p><a href=\"http://192.168.116.128:4040\">Spark UI</a></p>\n",
       "\n",
       "            <dl>\n",
       "              <dt>Version</dt>\n",
       "                <dd><code>v3.2.0</code></dd>\n",
       "              <dt>Master</dt>\n",
       "                <dd><code>local[*]</code></dd>\n",
       "              <dt>AppName</dt>\n",
       "                <dd><code>PySparkShell</code></dd>\n",
       "            </dl>\n",
       "        </div>\n",
       "        \n",
       "            </div>\n",
       "        "
      ],
      "text/plain": [
       "<pyspark.sql.session.SparkSession at 0x7f686c3a0790>"
      ]
     },
     "execution_count": 2,
     "metadata": {},
     "output_type": "execute_result"
    }
   ],
   "source": [
    "spark"
   ]
  },
  {
   "cell_type": "code",
   "execution_count": 3,
   "metadata": {},
   "outputs": [
    {
     "data": {
      "text/html": [
       "\n",
       "        <div>\n",
       "            <p><b>SparkContext</b></p>\n",
       "\n",
       "            <p><a href=\"http://192.168.116.128:4040\">Spark UI</a></p>\n",
       "\n",
       "            <dl>\n",
       "              <dt>Version</dt>\n",
       "                <dd><code>v3.2.0</code></dd>\n",
       "              <dt>Master</dt>\n",
       "                <dd><code>local[*]</code></dd>\n",
       "              <dt>AppName</dt>\n",
       "                <dd><code>PySparkShell</code></dd>\n",
       "            </dl>\n",
       "        </div>\n",
       "        "
      ],
      "text/plain": [
       "<SparkContext master=local[*] appName=PySparkShell>"
      ]
     },
     "execution_count": 3,
     "metadata": {},
     "output_type": "execute_result"
    }
   ],
   "source": [
    "spark.sparkContext"
   ]
  },
  {
   "cell_type": "code",
   "execution_count": 4,
   "metadata": {},
   "outputs": [
    {
     "data": {
      "text/plain": [
       "'3.2.0'"
      ]
     },
     "execution_count": 4,
     "metadata": {},
     "output_type": "execute_result"
    }
   ],
   "source": [
    "spark.version"
   ]
  },
  {
   "cell_type": "markdown",
   "metadata": {},
   "source": [
    "# Le chargement des données"
   ]
  },
  {
   "cell_type": "code",
   "execution_count": 5,
   "metadata": {},
   "outputs": [],
   "source": [
    "os.chdir(\"/home/razvan/Documents/donnees\")"
   ]
  },
  {
   "cell_type": "raw",
   "metadata": {},
   "source": [
    "!wget https://donneespubliques.meteofrance.fr/donnees_libres/Txt/Synop/postesSynop.csv"
   ]
  },
  {
   "cell_type": "code",
   "execution_count": 6,
   "metadata": {},
   "outputs": [
    {
     "name": "stdout",
     "output_type": "stream",
     "text": [
      "/home/razvan/Documents/donnees\r\n"
     ]
    }
   ],
   "source": [
    "!pwd"
   ]
  },
  {
   "cell_type": "code",
   "execution_count": 7,
   "metadata": {},
   "outputs": [
    {
     "name": "stdout",
     "output_type": "stream",
     "text": [
      "total 36\r\n",
      "drwxrwxr-x  6 razvan razvan  4096 nov.  29 16:29 .\r\n",
      "drwxr-xr-x  5 razvan razvan  4096 nov.  29 16:35 ..\r\n",
      "drwxrwxr-x  2 razvan razvan  4096 nov.  29 11:14 .ipynb_checkpoints\r\n",
      "drwxrwxr-x  3 razvan razvan 12288 nov.  29 13:40 meteo\r\n",
      "drwxr-xr-x 28 razvan razvan  4096 nov.  29 16:29 meteoFrance\r\n",
      "-rw-rw-r--  1 razvan razvan  2618 nov.  29 10:10 postesSynop.csv\r\n",
      "drwxr-xr-x  2 razvan razvan  4096 nov.  29 16:19 postesSynop.parquet\r\n"
     ]
    }
   ],
   "source": [
    "!ls -al"
   ]
  },
  {
   "cell_type": "raw",
   "metadata": {},
   "source": [
    "!mkdir -p meteo"
   ]
  },
  {
   "cell_type": "code",
   "execution_count": 8,
   "metadata": {},
   "outputs": [],
   "source": [
    "os.chdir(\"/home/razvan/Documents/donnees/meteo\")"
   ]
  },
  {
   "cell_type": "code",
   "execution_count": 9,
   "metadata": {},
   "outputs": [
    {
     "name": "stdout",
     "output_type": "stream",
     "text": [
      "total 1103832\r\n",
      "drwxrwxr-x 3 razvan razvan   12288 nov.  29 13:40 .\r\n",
      "drwxrwxr-x 6 razvan razvan    4096 nov.  29 16:29 ..\r\n",
      "drwxrwxr-x 2 razvan razvan    4096 nov.  29 13:40 .ipynb_checkpoints\r\n",
      "-rw-rw-r-- 1 razvan razvan 3253969 mars   4  2015 synop.199601.csv\r\n",
      "-rw-rw-r-- 1 razvan razvan 3040309 mars   4  2015 synop.199602.csv\r\n",
      "-rw-rw-r-- 1 razvan razvan 3145838 mars   4  2015 synop.199603.csv\r\n",
      "-rw-rw-r-- 1 razvan razvan 3190770 mars   4  2015 synop.199604.csv\r\n",
      "-rw-rw-r-- 1 razvan razvan 3371785 mars   4  2015 synop.199605.csv\r\n",
      "-rw-rw-r-- 1 razvan razvan 3294127 mars   4  2015 synop.199606.csv\r\n",
      "-rw-rw-r-- 1 razvan razvan 3348536 mars   4  2015 synop.199607.csv\r\n",
      "-rw-rw-r-- 1 razvan razvan 3342032 mars   4  2015 synop.199608.csv\r\n",
      "-rw-rw-r-- 1 razvan razvan 3184987 mars   4  2015 synop.199609.csv\r\n",
      "-rw-rw-r-- 1 razvan razvan 3247610 mars   4  2015 synop.199610.csv\r\n",
      "-rw-rw-r-- 1 razvan razvan 3176893 mars   4  2015 synop.199611.csv\r\n",
      "-rw-rw-r-- 1 razvan razvan 3278665 mars   4  2015 synop.199612.csv\r\n",
      "-rw-rw-r-- 1 razvan razvan 3211593 mars   4  2015 synop.199701.csv\r\n",
      "-rw-rw-r-- 1 razvan razvan 2925833 mars   4  2015 synop.199702.csv\r\n",
      "-rw-rw-r-- 1 razvan razvan 3273857 mars   4  2015 synop.199703.csv\r\n",
      "-rw-rw-r-- 1 razvan razvan 3220579 mars   4  2015 synop.199704.csv\r\n",
      "-rw-rw-r-- 1 razvan razvan 3446705 mars   4  2015 synop.199705.csv\r\n",
      "-rw-rw-r-- 1 razvan razvan 3230274 mars   4  2015 synop.199706.csv\r\n",
      "-rw-rw-r-- 1 razvan razvan 3380794 mars   4  2015 synop.199707.csv\r\n",
      "-rw-rw-r-- 1 razvan razvan 3359285 mars   4  2015 synop.199708.csv\r\n",
      "-rw-rw-r-- 1 razvan razvan 3240264 mars   4  2015 synop.199709.csv\r\n",
      "-rw-rw-r-- 1 razvan razvan 3300629 mars   4  2015 synop.199710.csv\r\n",
      "-rw-rw-r-- 1 razvan razvan 3273264 mars   4  2015 synop.199711.csv\r\n",
      "-rw-rw-r-- 1 razvan razvan 3358776 mars   4  2015 synop.199712.csv\r\n",
      "-rw-rw-r-- 1 razvan razvan 3376618 mars   4  2015 synop.199801.csv\r\n",
      "-rw-rw-r-- 1 razvan razvan 3086094 mars   4  2015 synop.199802.csv\r\n",
      "-rw-rw-r-- 1 razvan razvan 3413054 mars   4  2015 synop.199803.csv\r\n",
      "-rw-rw-r-- 1 razvan razvan 3323530 mars   4  2015 synop.199804.csv\r\n",
      "-rw-rw-r-- 1 razvan razvan 3395030 mars   4  2015 synop.199805.csv\r\n",
      "-rw-rw-r-- 1 razvan razvan 3316321 mars   4  2015 synop.199806.csv\r\n",
      "-rw-rw-r-- 1 razvan razvan 3404471 mars   4  2015 synop.199807.csv\r\n",
      "-rw-rw-r-- 1 razvan razvan 3373867 mars   4  2015 synop.199808.csv\r\n",
      "-rw-rw-r-- 1 razvan razvan 3218722 mars   4  2015 synop.199809.csv\r\n",
      "-rw-rw-r-- 1 razvan razvan 3326559 mars   4  2015 synop.199810.csv\r\n",
      "-rw-rw-r-- 1 razvan razvan 3238835 mars   4  2015 synop.199811.csv\r\n",
      "-rw-rw-r-- 1 razvan razvan 3304023 mars   4  2015 synop.199812.csv\r\n",
      "-rw-rw-r-- 1 razvan razvan 3312033 mars   4  2015 synop.199901.csv\r\n",
      "-rw-rw-r-- 1 razvan razvan 2983151 mars   4  2015 synop.199902.csv\r\n",
      "-rw-rw-r-- 1 razvan razvan 3331087 mars   4  2015 synop.199903.csv\r\n",
      "-rw-rw-r-- 1 razvan razvan 3246142 mars   4  2015 synop.199904.csv\r\n",
      "-rw-rw-r-- 1 razvan razvan 3358086 mars   4  2015 synop.199905.csv\r\n",
      "-rw-rw-r-- 1 razvan razvan 3291348 mars   4  2015 synop.199906.csv\r\n",
      "-rw-rw-r-- 1 razvan razvan 3358071 mars   4  2015 synop.199907.csv\r\n",
      "-rw-rw-r-- 1 razvan razvan 3372916 mars   4  2015 synop.199908.csv\r\n",
      "-rw-rw-r-- 1 razvan razvan 3188844 mars   4  2015 synop.199909.csv\r\n",
      "-rw-rw-r-- 1 razvan razvan 3314005 mars   4  2015 synop.199910.csv\r\n",
      "-rw-rw-r-- 1 razvan razvan 3135834 mars   4  2015 synop.199911.csv\r\n",
      "-rw-rw-r-- 1 razvan razvan 3244919 mars   4  2015 synop.199912.csv\r\n",
      "-rw-rw-r-- 1 razvan razvan 3221074 mars   4  2015 synop.200001.csv\r\n",
      "-rw-rw-r-- 1 razvan razvan 2954710 mars   4  2015 synop.200002.csv\r\n",
      "-rw-rw-r-- 1 razvan razvan 3151339 mars   4  2015 synop.200003.csv\r\n",
      "-rw-rw-r-- 1 razvan razvan 3120814 mars   4  2015 synop.200004.csv\r\n",
      "-rw-rw-r-- 1 razvan razvan 3332271 mars   4  2015 synop.200005.csv\r\n",
      "-rw-rw-r-- 1 razvan razvan 3308398 mars   4  2015 synop.200006.csv\r\n",
      "-rw-rw-r-- 1 razvan razvan 3381693 mars   4  2015 synop.200007.csv\r\n",
      "-rw-rw-r-- 1 razvan razvan 3400774 mars   4  2015 synop.200008.csv\r\n",
      "-rw-rw-r-- 1 razvan razvan 3279892 mars   4  2015 synop.200009.csv\r\n",
      "-rw-rw-r-- 1 razvan razvan 3378940 mars   4  2015 synop.200010.csv\r\n",
      "-rw-rw-r-- 1 razvan razvan 3266363 mars   4  2015 synop.200011.csv\r\n",
      "-rw-rw-r-- 1 razvan razvan 3425932 mars   4  2015 synop.200012.csv\r\n",
      "-rw-rw-r-- 1 razvan razvan 3418165 mars   4  2015 synop.200101.csv\r\n",
      "-rw-rw-r-- 1 razvan razvan 3115915 mars   4  2015 synop.200102.csv\r\n",
      "-rw-rw-r-- 1 razvan razvan 3483524 mars   4  2015 synop.200103.csv\r\n",
      "-rw-rw-r-- 1 razvan razvan 3358126 mars   4  2015 synop.200104.csv\r\n",
      "-rw-rw-r-- 1 razvan razvan 3474440 mars   4  2015 synop.200105.csv\r\n",
      "-rw-rw-r-- 1 razvan razvan 3388643 mars   4  2015 synop.200106.csv\r\n",
      "-rw-rw-r-- 1 razvan razvan 3444134 mars   4  2015 synop.200107.csv\r\n",
      "-rw-rw-r-- 1 razvan razvan 3474254 mars   4  2015 synop.200108.csv\r\n",
      "-rw-rw-r-- 1 razvan razvan 3335217 mars   4  2015 synop.200109.csv\r\n",
      "-rw-rw-r-- 1 razvan razvan 3381234 mars   4  2015 synop.200110.csv\r\n",
      "-rw-rw-r-- 1 razvan razvan 3250854 mars   4  2015 synop.200111.csv\r\n",
      "-rw-rw-r-- 1 razvan razvan 3326363 mars   4  2015 synop.200112.csv\r\n",
      "-rw-rw-r-- 1 razvan razvan 3368381 mars   4  2015 synop.200201.csv\r\n",
      "-rw-rw-r-- 1 razvan razvan 3086017 mars   4  2015 synop.200202.csv\r\n",
      "-rw-rw-r-- 1 razvan razvan 3365132 mars   4  2015 synop.200203.csv\r\n",
      "-rw-rw-r-- 1 razvan razvan 3278462 mars   4  2015 synop.200204.csv\r\n",
      "-rw-rw-r-- 1 razvan razvan 3419598 mars   4  2015 synop.200205.csv\r\n",
      "-rw-rw-r-- 1 razvan razvan 3274817 mars   4  2015 synop.200206.csv\r\n",
      "-rw-rw-r-- 1 razvan razvan 3357078 mars   4  2015 synop.200207.csv\r\n",
      "-rw-rw-r-- 1 razvan razvan 3371774 mars   4  2015 synop.200208.csv\r\n",
      "-rw-rw-r-- 1 razvan razvan 3252793 mars   4  2015 synop.200209.csv\r\n",
      "-rw-rw-r-- 1 razvan razvan 3361569 mars   4  2015 synop.200210.csv\r\n",
      "-rw-rw-r-- 1 razvan razvan 3206726 mars   4  2015 synop.200211.csv\r\n",
      "-rw-rw-r-- 1 razvan razvan 3360495 mars   4  2015 synop.200212.csv\r\n",
      "-rw-rw-r-- 1 razvan razvan 3314741 mars   4  2015 synop.200301.csv\r\n",
      "-rw-rw-r-- 1 razvan razvan 2983769 mars   4  2015 synop.200302.csv\r\n",
      "-rw-rw-r-- 1 razvan razvan 3220837 mars   4  2015 synop.200303.csv\r\n",
      "-rw-rw-r-- 1 razvan razvan 3065285 mars   4  2015 synop.200304.csv\r\n",
      "-rw-rw-r-- 1 razvan razvan 3208068 mars   4  2015 synop.200305.csv\r\n",
      "-rw-rw-r-- 1 razvan razvan 3127743 mars   4  2015 synop.200306.csv\r\n",
      "-rw-rw-r-- 1 razvan razvan 3272882 mars   4  2015 synop.200307.csv\r\n",
      "-rw-rw-r-- 1 razvan razvan 3269953 mars   4  2015 synop.200308.csv\r\n",
      "-rw-rw-r-- 1 razvan razvan 3218530 mars   4  2015 synop.200309.csv\r\n",
      "-rw-rw-r-- 1 razvan razvan 3351701 mars   4  2015 synop.200310.csv\r\n",
      "-rw-rw-r-- 1 razvan razvan 3354225 mars   4  2015 synop.200311.csv\r\n",
      "-rw-rw-r-- 1 razvan razvan 3461494 mars   4  2015 synop.200312.csv\r\n",
      "-rw-rw-r-- 1 razvan razvan 3480849 mars   4  2015 synop.200401.csv\r\n",
      "-rw-rw-r-- 1 razvan razvan 3303111 mars   4  2015 synop.200402.csv\r\n",
      "-rw-rw-r-- 1 razvan razvan 3490334 mars   4  2015 synop.200403.csv\r\n",
      "-rw-rw-r-- 1 razvan razvan 3373772 mars   4  2015 synop.200404.csv\r\n",
      "-rw-rw-r-- 1 razvan razvan 3613516 mars   4  2015 synop.200405.csv\r\n",
      "-rw-rw-r-- 1 razvan razvan 3577807 mars   4  2015 synop.200406.csv\r\n",
      "-rw-rw-r-- 1 razvan razvan 3723803 mars   4  2015 synop.200407.csv\r\n",
      "-rw-rw-r-- 1 razvan razvan 3732308 mars   4  2015 synop.200408.csv\r\n",
      "-rw-rw-r-- 1 razvan razvan 3638315 mars   4  2015 synop.200409.csv\r\n",
      "-rw-rw-r-- 1 razvan razvan 3776098 mars   4  2015 synop.200410.csv\r\n",
      "-rw-rw-r-- 1 razvan razvan 3689804 mars   4  2015 synop.200411.csv\r\n",
      "-rw-rw-r-- 1 razvan razvan 3801398 mars   4  2015 synop.200412.csv\r\n",
      "-rw-rw-r-- 1 razvan razvan 3798843 mars   4  2015 synop.200501.csv\r\n",
      "-rw-rw-r-- 1 razvan razvan 3438340 mars   4  2015 synop.200502.csv\r\n",
      "-rw-rw-r-- 1 razvan razvan 3869403 mars   4  2015 synop.200503.csv\r\n",
      "-rw-rw-r-- 1 razvan razvan 3734473 mars   4  2015 synop.200504.csv\r\n",
      "-rw-rw-r-- 1 razvan razvan 3805871 mars   4  2015 synop.200505.csv\r\n",
      "-rw-rw-r-- 1 razvan razvan 3646957 mars   4  2015 synop.200506.csv\r\n",
      "-rw-rw-r-- 1 razvan razvan 3830290 mars   4  2015 synop.200507.csv\r\n",
      "-rw-rw-r-- 1 razvan razvan 3760282 mars   4  2015 synop.200508.csv\r\n",
      "-rw-rw-r-- 1 razvan razvan 3229483 mars   4  2015 synop.200509.csv\r\n",
      "-rw-rw-r-- 1 razvan razvan 3861015 mars   4  2015 synop.200510.csv\r\n",
      "-rw-rw-r-- 1 razvan razvan 3791582 mars   4  2015 synop.200511.csv\r\n",
      "-rw-rw-r-- 1 razvan razvan 3924019 mars   4  2015 synop.200512.csv\r\n",
      "-rw-rw-r-- 1 razvan razvan 3912134 mars   4  2015 synop.200601.csv\r\n",
      "-rw-rw-r-- 1 razvan razvan 3499349 mars   4  2015 synop.200602.csv\r\n",
      "-rw-rw-r-- 1 razvan razvan 3911662 mars   4  2015 synop.200603.csv\r\n",
      "-rw-rw-r-- 1 razvan razvan 3809526 mars   4  2015 synop.200604.csv\r\n",
      "-rw-rw-r-- 1 razvan razvan 3958881 mars   4  2015 synop.200605.csv\r\n",
      "-rw-rw-r-- 1 razvan razvan 3821754 mars   4  2015 synop.200606.csv\r\n",
      "-rw-rw-r-- 1 razvan razvan 3810680 mars   4  2015 synop.200607.csv\r\n",
      "-rw-rw-r-- 1 razvan razvan 3786052 mars   4  2015 synop.200608.csv\r\n",
      "-rw-rw-r-- 1 razvan razvan 3785207 mars   4  2015 synop.200609.csv\r\n",
      "-rw-rw-r-- 1 razvan razvan 3905390 mars   4  2015 synop.200610.csv\r\n",
      "-rw-rw-r-- 1 razvan razvan 3723042 mars   4  2015 synop.200611.csv\r\n",
      "-rw-rw-r-- 1 razvan razvan 3823836 mars   4  2015 synop.200612.csv\r\n",
      "-rw-rw-r-- 1 razvan razvan 3881667 mars   4  2015 synop.200701.csv\r\n",
      "-rw-rw-r-- 1 razvan razvan 3519629 mars   4  2015 synop.200702.csv\r\n",
      "-rw-rw-r-- 1 razvan razvan 3863602 mars   4  2015 synop.200703.csv\r\n",
      "-rw-rw-r-- 1 razvan razvan 3786946 mars   4  2015 synop.200704.csv\r\n",
      "-rw-rw-r-- 1 razvan razvan 3898782 mars   4  2015 synop.200705.csv\r\n",
      "-rw-rw-r-- 1 razvan razvan 3765444 mars   4  2015 synop.200706.csv\r\n",
      "-rw-rw-r-- 1 razvan razvan 3887781 mars   4  2015 synop.200707.csv\r\n",
      "-rw-rw-r-- 1 razvan razvan 3898222 mars   4  2015 synop.200708.csv\r\n",
      "-rw-rw-r-- 1 razvan razvan 3753254 mars   3  2015 synop.200709.csv\r\n",
      "-rw-rw-r-- 1 razvan razvan 3868160 mars   3  2015 synop.200710.csv\r\n",
      "-rw-rw-r-- 1 razvan razvan 3748105 mars   3  2015 synop.200711.csv\r\n",
      "-rw-rw-r-- 1 razvan razvan 3828635 mars   3  2015 synop.200712.csv\r\n",
      "-rw-rw-r-- 1 razvan razvan 3836010 mars   3  2015 synop.200801.csv\r\n",
      "-rw-rw-r-- 1 razvan razvan 3562412 mars   3  2015 synop.200802.csv\r\n",
      "-rw-rw-r-- 1 razvan razvan 3906199 mars   3  2015 synop.200803.csv\r\n",
      "-rw-rw-r-- 1 razvan razvan 3789136 mars   3  2015 synop.200804.csv\r\n",
      "-rw-rw-r-- 1 razvan razvan 3827168 mars   3  2015 synop.200805.csv\r\n",
      "-rw-rw-r-- 1 razvan razvan 3642542 mars   3  2015 synop.200806.csv\r\n",
      "-rw-rw-r-- 1 razvan razvan 3842922 mars   3  2015 synop.200807.csv\r\n",
      "-rw-rw-r-- 1 razvan razvan 3829554 mars   3  2015 synop.200808.csv\r\n",
      "-rw-rw-r-- 1 razvan razvan 3740364 mars   3  2015 synop.200809.csv\r\n",
      "-rw-rw-r-- 1 razvan razvan 3833976 mars   3  2015 synop.200810.csv\r\n",
      "-rw-rw-r-- 1 razvan razvan 3710229 mars   3  2015 synop.200811.csv\r\n",
      "-rw-rw-r-- 1 razvan razvan 3791282 mars   3  2015 synop.200812.csv\r\n",
      "-rw-rw-r-- 1 razvan razvan 3846955 mars   3  2015 synop.200901.csv\r\n",
      "-rw-rw-r-- 1 razvan razvan 3490571 mars   3  2015 synop.200902.csv\r\n",
      "-rw-rw-r-- 1 razvan razvan 3839742 mars   3  2015 synop.200903.csv\r\n",
      "-rw-rw-r-- 1 razvan razvan 3720270 mars   3  2015 synop.200904.csv\r\n",
      "-rw-rw-r-- 1 razvan razvan 3798411 mars   3  2015 synop.200905.csv\r\n",
      "-rw-rw-r-- 1 razvan razvan 3625483 mars   3  2015 synop.200906.csv\r\n",
      "-rw-rw-r-- 1 razvan razvan 3768825 mars   3  2015 synop.200907.csv\r\n",
      "-rw-rw-r-- 1 razvan razvan 3822050 mars   3  2015 synop.200908.csv\r\n",
      "-rw-rw-r-- 1 razvan razvan 3733692 mars   3  2015 synop.200909.csv\r\n",
      "-rw-rw-r-- 1 razvan razvan 3808332 mars   3  2015 synop.200910.csv\r\n",
      "-rw-rw-r-- 1 razvan razvan 3665340 mars   3  2015 synop.200911.csv\r\n",
      "-rw-rw-r-- 1 razvan razvan 3830098 mars   3  2015 synop.200912.csv\r\n",
      "-rw-rw-r-- 1 razvan razvan 3841189 mars   3  2015 synop.201001.csv\r\n",
      "-rw-rw-r-- 1 razvan razvan 3491543 mars   3  2015 synop.201002.csv\r\n",
      "-rw-rw-r-- 1 razvan razvan 3749618 mars   3  2015 synop.201003.csv\r\n",
      "-rw-rw-r-- 1 razvan razvan 3707520 mars   3  2015 synop.201004.csv\r\n",
      "-rw-rw-r-- 1 razvan razvan 3863547 mars   3  2015 synop.201005.csv\r\n",
      "-rw-rw-r-- 1 razvan razvan 3707722 mars   3  2015 synop.201006.csv\r\n",
      "-rw-rw-r-- 1 razvan razvan 3793544 mars   3  2015 synop.201007.csv\r\n",
      "-rw-rw-r-- 1 razvan razvan 3727149 mars   3  2015 synop.201008.csv\r\n",
      "-rw-rw-r-- 1 razvan razvan 3630729 mars   3  2015 synop.201009.csv\r\n",
      "-rw-rw-r-- 1 razvan razvan 3866923 mars   3  2015 synop.201010.csv\r\n",
      "-rw-rw-r-- 1 razvan razvan 3720862 mars   3  2015 synop.201011.csv\r\n",
      "-rw-rw-r-- 1 razvan razvan 3855698 mars   3  2015 synop.201012.csv\r\n",
      "-rw-rw-r-- 1 razvan razvan 3848514 mars   3  2015 synop.201101.csv\r\n",
      "-rw-rw-r-- 1 razvan razvan 3489820 mars   3  2015 synop.201102.csv\r\n",
      "-rw-rw-r-- 1 razvan razvan 3828481 mars   3  2015 synop.201103.csv\r\n",
      "-rw-rw-r-- 1 razvan razvan 3760133 mars   3  2015 synop.201104.csv\r\n",
      "-rw-rw-r-- 1 razvan razvan 3822914 mars   3  2015 synop.201105.csv\r\n",
      "-rw-rw-r-- 1 razvan razvan 3690212 mars   3  2015 synop.201106.csv\r\n",
      "-rw-rw-r-- 1 razvan razvan 3811678 mars   3  2015 synop.201107.csv\r\n",
      "-rw-rw-r-- 1 razvan razvan 3825033 mars   3  2015 synop.201108.csv\r\n",
      "-rw-rw-r-- 1 razvan razvan 3653024 mars   3  2015 synop.201109.csv\r\n",
      "-rw-rw-r-- 1 razvan razvan 3747866 mars   3  2015 synop.201110.csv\r\n",
      "-rw-rw-r-- 1 razvan razvan 3675461 mars   3  2015 synop.201111.csv\r\n",
      "-rw-rw-r-- 1 razvan razvan 3749916 mars   3  2015 synop.201112.csv\r\n",
      "-rw-rw-r-- 1 razvan razvan 3680316 mars   3  2015 synop.201201.csv\r\n",
      "-rw-rw-r-- 1 razvan razvan 3538427 mars   3  2015 synop.201202.csv\r\n",
      "-rw-rw-r-- 1 razvan razvan 3769265 mars   3  2015 synop.201203.csv\r\n",
      "-rw-rw-r-- 1 razvan razvan 3679735 mars   3  2015 synop.201204.csv\r\n",
      "-rw-rw-r-- 1 razvan razvan 3781708 mars   3  2015 synop.201205.csv\r\n",
      "-rw-rw-r-- 1 razvan razvan 3634215 mars   3  2015 synop.201206.csv\r\n",
      "-rw-rw-r-- 1 razvan razvan 3738797 mars   3  2015 synop.201207.csv\r\n",
      "-rw-rw-r-- 1 razvan razvan 3788060 mars   3  2015 synop.201208.csv\r\n",
      "-rw-rw-r-- 1 razvan razvan 3657976 mars   3  2015 synop.201209.csv\r\n",
      "-rw-rw-r-- 1 razvan razvan 3762312 mars   3  2015 synop.201210.csv\r\n",
      "-rw-rw-r-- 1 razvan razvan 3767880 mars   3  2015 synop.201211.csv\r\n",
      "-rw-rw-r-- 1 razvan razvan 3902899 mars   3  2015 synop.201212.csv\r\n",
      "-rw-rw-r-- 1 razvan razvan 3926577 mars   3  2015 synop.201301.csv\r\n",
      "-rw-rw-r-- 1 razvan razvan 3542022 mars   3  2015 synop.201302.csv\r\n",
      "-rw-rw-r-- 1 razvan razvan 3909114 mars   3  2015 synop.201303.csv\r\n",
      "-rw-rw-r-- 1 razvan razvan 3824035 mars   3  2015 synop.201304.csv\r\n",
      "-rw-rw-r-- 1 razvan razvan 3944533 mars   3  2015 synop.201305.csv\r\n",
      "-rw-rw-r-- 1 razvan razvan 3818471 mars   3  2015 synop.201306.csv\r\n",
      "-rw-rw-r-- 1 razvan razvan 3932772 mars   3  2015 synop.201307.csv\r\n",
      "-rw-rw-r-- 1 razvan razvan 3920521 mars   3  2015 synop.201308.csv\r\n",
      "-rw-rw-r-- 1 razvan razvan 3799532 mars   3  2015 synop.201309.csv\r\n",
      "-rw-rw-r-- 1 razvan razvan 3895929 mars   3  2015 synop.201310.csv\r\n",
      "-rw-rw-r-- 1 razvan razvan 3762977 mars   3  2015 synop.201311.csv\r\n",
      "-rw-rw-r-- 1 razvan razvan 3855971 mars   3  2015 synop.201312.csv\r\n",
      "-rw-rw-r-- 1 razvan razvan 3841718 mars   3  2015 synop.201401.csv\r\n",
      "-rw-rw-r-- 1 razvan razvan 3381743 mars   3  2015 synop.201402.csv\r\n",
      "-rw-rw-r-- 1 razvan razvan 3805507 mars   3  2015 synop.201403.csv\r\n",
      "-rw-rw-r-- 1 razvan razvan 3782129 mars   3  2015 synop.201404.csv\r\n",
      "-rw-rw-r-- 1 razvan razvan 3883226 mars   3  2015 synop.201405.csv\r\n",
      "-rw-rw-r-- 1 razvan razvan 3795850 mars   3  2015 synop.201406.csv\r\n",
      "-rw-rw-r-- 1 razvan razvan 3875120 mars   3  2015 synop.201407.csv\r\n",
      "-rw-rw-r-- 1 razvan razvan 3845199 mars   3  2015 synop.201408.csv\r\n",
      "-rw-rw-r-- 1 razvan razvan 3744360 mars   3  2015 synop.201409.csv\r\n",
      "-rw-rw-r-- 1 razvan razvan 3913105 mars   3  2015 synop.201410.csv\r\n",
      "-rw-rw-r-- 1 razvan razvan 3759036 mars   3  2015 synop.201411.csv\r\n",
      "-rw-rw-r-- 1 razvan razvan 3888181 mars   3  2015 synop.201412.csv\r\n",
      "-rw-rw-r-- 1 razvan razvan 3989602 nov.  12  2015 synop.201501.csv\r\n",
      "-rw-rw-r-- 1 razvan razvan 3575777 nov.  12  2015 synop.201502.csv\r\n",
      "-rw-rw-r-- 1 razvan razvan 3697598 nov.  12  2015 synop.201503.csv\r\n",
      "-rw-rw-r-- 1 razvan razvan 3557772 nov.  12  2015 synop.201504.csv\r\n",
      "-rw-rw-r-- 1 razvan razvan 3611148 nov.  12  2015 synop.201505.csv\r\n",
      "-rw-rw-r-- 1 razvan razvan 3514845 nov.  12  2015 synop.201506.csv\r\n",
      "-rw-rw-r-- 1 razvan razvan 3674936 nov.  12  2015 synop.201507.csv\r\n",
      "-rw-rw-r-- 1 razvan razvan 3537123 nov.  12  2015 synop.201508.csv\r\n",
      "-rw-rw-r-- 1 razvan razvan 3468539 nov.  12  2015 synop.201509.csv\r\n",
      "-rw-rw-r-- 1 razvan razvan 3589145 nov.  12  2015 synop.201510.csv\r\n",
      "-rw-rw-r-- 1 razvan razvan 3522950 nov.  30  2015 synop.201511.csv\r\n",
      "-rw-rw-r-- 1 razvan razvan 3662629 déc.  31  2015 synop.201512.csv\r\n",
      "-rw-rw-r-- 1 razvan razvan 3752704 janv. 31  2016 synop.201601.csv\r\n",
      "-rw-rw-r-- 1 razvan razvan 3544757 févr. 29  2016 synop.201602.csv\r\n",
      "-rw-rw-r-- 1 razvan razvan 3816749 mars  31  2016 synop.201603.csv\r\n",
      "-rw-rw-r-- 1 razvan razvan 3732292 avril 30  2016 synop.201604.csv\r\n",
      "-rw-rw-r-- 1 razvan razvan 3714039 mai   31  2016 synop.201605.csv\r\n",
      "-rw-rw-r-- 1 razvan razvan 3748695 juin  30  2016 synop.201606.csv\r\n",
      "-rw-rw-r-- 1 razvan razvan 3929324 juil. 31  2016 synop.201607.csv\r\n",
      "-rw-rw-r-- 1 razvan razvan 3916774 août  31  2016 synop.201608.csv\r\n",
      "-rw-rw-r-- 1 razvan razvan 3832847 sept. 30  2016 synop.201609.csv\r\n",
      "-rw-rw-r-- 1 razvan razvan 3876818 oct.  31  2016 synop.201610.csv\r\n",
      "-rw-rw-r-- 1 razvan razvan 3839455 nov.  30  2016 synop.201611.csv\r\n",
      "-rw-rw-r-- 1 razvan razvan 4031630 déc.  31  2016 synop.201612.csv\r\n",
      "-rw-rw-r-- 1 razvan razvan 3993292 janv. 31  2017 synop.201701.csv\r\n",
      "-rw-rw-r-- 1 razvan razvan 3618172 févr. 28  2017 synop.201702.csv\r\n",
      "-rw-rw-r-- 1 razvan razvan 3981055 mars  31  2017 synop.201703.csv\r\n",
      "-rw-rw-r-- 1 razvan razvan 3911849 avril 30  2017 synop.201704.csv\r\n",
      "-rw-rw-r-- 1 razvan razvan 3959433 mai   31  2017 synop.201705.csv\r\n",
      "-rw-rw-r-- 1 razvan razvan 3839532 juin  30  2017 synop.201706.csv\r\n",
      "-rw-rw-r-- 1 razvan razvan 3963787 juil. 31  2017 synop.201707.csv\r\n",
      "-rw-rw-r-- 1 razvan razvan 3971719 août  31  2017 synop.201708.csv\r\n",
      "-rw-rw-r-- 1 razvan razvan 3905433 sept. 30  2017 synop.201709.csv\r\n",
      "-rw-rw-r-- 1 razvan razvan 4038674 oct.  31  2017 synop.201710.csv\r\n",
      "-rw-rw-r-- 1 razvan razvan 3861128 nov.  30  2017 synop.201711.csv\r\n",
      "-rw-rw-r-- 1 razvan razvan 4050813 déc.  31  2017 synop.201712.csv\r\n",
      "-rw-rw-r-- 1 razvan razvan 4049549 janv. 31  2018 synop.201801.csv\r\n",
      "-rw-rw-r-- 1 razvan razvan 3688566 févr. 28  2018 synop.201802.csv\r\n",
      "-rw-rw-r-- 1 razvan razvan 3963878 mars  31  2018 synop.201803.csv\r\n",
      "-rw-rw-r-- 1 razvan razvan 3387471 avril 30  2018 synop.201804.csv\r\n",
      "-rw-rw-r-- 1 razvan razvan 3469243 mai   31  2018 synop.201805.csv\r\n",
      "-rw-rw-r-- 1 razvan razvan 3386288 juin  30  2018 synop.201806.csv\r\n",
      "-rw-rw-r-- 1 razvan razvan 3560302 juil. 31  2018 synop.201807.csv\r\n",
      "-rw-rw-r-- 1 razvan razvan 4021795 août  31  2018 synop.201808.csv\r\n",
      "-rw-rw-r-- 1 razvan razvan 3886348 sept. 30  2018 synop.201809.csv\r\n",
      "-rw-rw-r-- 1 razvan razvan 4033944 oct.  31  2018 synop.201810.csv\r\n",
      "-rw-rw-r-- 1 razvan razvan 3951288 nov.  30  2018 synop.201811.csv\r\n",
      "-rw-rw-r-- 1 razvan razvan 4074805 déc.  31  2018 synop.201812.csv\r\n",
      "-rw-rw-r-- 1 razvan razvan 4138824 janv. 31  2019 synop.201901.csv\r\n",
      "-rw-rw-r-- 1 razvan razvan 3745894 févr. 28  2019 synop.201902.csv\r\n",
      "-rw-rw-r-- 1 razvan razvan 4152372 mars  31  2019 synop.201903.csv\r\n",
      "-rw-rw-r-- 1 razvan razvan 4004616 avril 30  2019 synop.201904.csv\r\n",
      "-rw-rw-r-- 1 razvan razvan 4092190 mai   31  2019 synop.201905.csv\r\n",
      "-rw-rw-r-- 1 razvan razvan 3917524 juin  30  2019 synop.201906.csv\r\n",
      "-rw-rw-r-- 1 razvan razvan 4013640 juil. 31  2019 synop.201907.csv\r\n",
      "-rw-rw-r-- 1 razvan razvan 4029251 août  31  2019 synop.201908.csv\r\n",
      "-rw-rw-r-- 1 razvan razvan 3910689 sept. 30  2019 synop.201909.csv\r\n",
      "-rw-rw-r-- 1 razvan razvan 4090858 oct.  31  2019 synop.201910.csv\r\n",
      "-rw-rw-r-- 1 razvan razvan 4017273 nov.  30  2019 synop.201911.csv\r\n",
      "-rw-rw-r-- 1 razvan razvan 4153564 déc.  31  2019 synop.201912.csv\r\n",
      "-rw-rw-r-- 1 razvan razvan 4151722 janv. 31  2020 synop.202001.csv\r\n",
      "-rw-rw-r-- 1 razvan razvan 3875048 févr. 29  2020 synop.202002.csv\r\n",
      "-rw-rw-r-- 1 razvan razvan 4153369 mars  31  2020 synop.202003.csv\r\n",
      "-rw-rw-r-- 1 razvan razvan 3968822 avril 30  2020 synop.202004.csv\r\n",
      "-rw-rw-r-- 1 razvan razvan 4057881 mai   31  2020 synop.202005.csv\r\n",
      "-rw-rw-r-- 1 razvan razvan 3926591 juin  30  2020 synop.202006.csv\r\n",
      "-rw-rw-r-- 1 razvan razvan 4033695 juil. 31  2020 synop.202007.csv\r\n",
      "-rw-rw-r-- 1 razvan razvan 4141683 avril 27  2021 synop.202008.csv\r\n",
      "-rw-rw-r-- 1 razvan razvan 4025268 sept. 30  2020 synop.202009.csv\r\n",
      "-rw-rw-r-- 1 razvan razvan 4065880 oct.  31  2020 synop.202010.csv\r\n",
      "-rw-rw-r-- 1 razvan razvan 4029428 nov.  30  2020 synop.202011.csv\r\n",
      "-rw-rw-r-- 1 razvan razvan 4064029 déc.  31  2020 synop.202012.csv\r\n",
      "-rw-rw-r-- 1 razvan razvan 4107698 janv. 31  2021 synop.202101.csv\r\n",
      "-rw-rw-r-- 1 razvan razvan 3711064 févr. 28  2021 synop.202102.csv\r\n",
      "-rw-rw-r-- 1 razvan razvan 4136098 mars  31  2021 synop.202103.csv\r\n",
      "-rw-rw-r-- 1 razvan razvan 3961162 avril 30  2021 synop.202104.csv\r\n",
      "-rw-rw-r-- 1 razvan razvan 4110220 mai   31 23:10 synop.202105.csv\r\n",
      "-rw-rw-r-- 1 razvan razvan 3948992 juin  30 23:10 synop.202106.csv\r\n",
      "-rw-rw-r-- 1 razvan razvan 4056040 juil. 31 23:10 synop.202107.csv\r\n",
      "-rw-rw-r-- 1 razvan razvan 4043328 août  31 23:10 synop.202108.csv\r\n",
      "-rw-rw-r-- 1 razvan razvan 3919674 sept. 30 23:10 synop.202109.csv\r\n",
      "-rw-rw-r-- 1 razvan razvan 4116416 oct.  31 22:10 synop.202110.csv\r\n"
     ]
    }
   ],
   "source": [
    "!ls -al"
   ]
  },
  {
   "cell_type": "raw",
   "metadata": {},
   "source": [
    "!curl -s https://raw.githubusercontent.com/rbizoi/AnalyserLesDonneesAvecSpark/main/traitementsMeteo/chargeMeteo.sh\n",
    "!bash <(curl -s https://raw.githubusercontent.com/rbizoi/AnalyserLesDonneesAvecSpark/main/traitementsMeteo/chargeMeteo1.sh)\n",
    "!rm synop.202111.csv synop.202112.csv.gz"
   ]
  },
  {
   "cell_type": "markdown",
   "metadata": {},
   "source": [
    "# Lecture d'un fichier csv"
   ]
  },
  {
   "cell_type": "code",
   "execution_count": 10,
   "metadata": {},
   "outputs": [
    {
     "data": {
      "text/html": [
       "<div>\n",
       "<style scoped>\n",
       "    .dataframe tbody tr th:only-of-type {\n",
       "        vertical-align: middle;\n",
       "    }\n",
       "\n",
       "    .dataframe tbody tr th {\n",
       "        vertical-align: top;\n",
       "    }\n",
       "\n",
       "    .dataframe thead th {\n",
       "        text-align: right;\n",
       "    }\n",
       "</style>\n",
       "<table border=\"1\" class=\"dataframe\">\n",
       "  <thead>\n",
       "    <tr style=\"text-align: right;\">\n",
       "      <th></th>\n",
       "      <th>Station</th>\n",
       "      <th>Ville</th>\n",
       "      <th>Latitude</th>\n",
       "      <th>Longitude</th>\n",
       "      <th>Altitude</th>\n",
       "    </tr>\n",
       "  </thead>\n",
       "  <tbody>\n",
       "    <tr>\n",
       "      <th>0</th>\n",
       "      <td>07005</td>\n",
       "      <td>ABBEVILLE</td>\n",
       "      <td>50.136000</td>\n",
       "      <td>1.834000</td>\n",
       "      <td>69</td>\n",
       "    </tr>\n",
       "    <tr>\n",
       "      <th>1</th>\n",
       "      <td>07015</td>\n",
       "      <td>LILLE-LESQUIN</td>\n",
       "      <td>50.570000</td>\n",
       "      <td>3.097500</td>\n",
       "      <td>47</td>\n",
       "    </tr>\n",
       "    <tr>\n",
       "      <th>2</th>\n",
       "      <td>07020</td>\n",
       "      <td>PTE DE LA HAGUE</td>\n",
       "      <td>49.725167</td>\n",
       "      <td>-1.939833</td>\n",
       "      <td>6</td>\n",
       "    </tr>\n",
       "    <tr>\n",
       "      <th>3</th>\n",
       "      <td>07027</td>\n",
       "      <td>CAEN-CARPIQUET</td>\n",
       "      <td>49.180000</td>\n",
       "      <td>-0.456167</td>\n",
       "      <td>67</td>\n",
       "    </tr>\n",
       "    <tr>\n",
       "      <th>4</th>\n",
       "      <td>07037</td>\n",
       "      <td>ROUEN-BOOS</td>\n",
       "      <td>49.383000</td>\n",
       "      <td>1.181667</td>\n",
       "      <td>151</td>\n",
       "    </tr>\n",
       "  </tbody>\n",
       "</table>\n",
       "</div>"
      ],
      "text/plain": [
       "  Station            Ville   Latitude  Longitude Altitude\n",
       "0   07005        ABBEVILLE  50.136000   1.834000       69\n",
       "1   07015    LILLE-LESQUIN  50.570000   3.097500       47\n",
       "2   07020  PTE DE LA HAGUE  49.725167  -1.939833        6\n",
       "3   07027   CAEN-CARPIQUET  49.180000  -0.456167       67\n",
       "4   07037       ROUEN-BOOS  49.383000   1.181667      151"
      ]
     },
     "execution_count": 10,
     "metadata": {},
     "output_type": "execute_result"
    }
   ],
   "source": [
    "spark.read.format(\"csv\").option(\"sep\", \";\").\\\n",
    "           option(\"mergeSchema\", \"true\").\\\n",
    "           option(\"header\",\"true\").\\\n",
    "           option(\"nullValue\",\"mq\").\\\n",
    "           load(\"donnees/postesSynop.csv\").\\\n",
    "           filter(\"ID<8000\").\\\n",
    "           toDF(\"Station\",\"Ville\",\"Latitude\",\"Longitude\",\"Altitude\").\\\n",
    "           toPandas().head(5)"
   ]
  },
  {
   "cell_type": "code",
   "execution_count": 11,
   "metadata": {},
   "outputs": [],
   "source": [
    "donneesStations = spark.read.format(\"csv\").\\\n",
    "                        option(\"sep\", \";\").\\\n",
    "                        option(\"mergeSchema\", \"true\").\\\n",
    "                        option(\"header\",\"true\").\\\n",
    "                        option(\"nullValue\",\"mq\").\\\n",
    "                        load(\"file:/home/razvan/Documents/donnees/postesSynop.csv\").\\\n",
    "                        filter(\"ID<8000\").\\\n",
    "                        toDF(\"Station\",\"Ville\",\\\n",
    "                             \"Latitude\",\"Longitude\",\"Altitude\")"
   ]
  },
  {
   "cell_type": "code",
   "execution_count": 12,
   "metadata": {},
   "outputs": [
    {
     "name": "stdout",
     "output_type": "stream",
     "text": [
      "root\n",
      " |-- Station: string (nullable = true)\n",
      " |-- Ville: string (nullable = true)\n",
      " |-- Latitude: string (nullable = true)\n",
      " |-- Longitude: string (nullable = true)\n",
      " |-- Altitude: string (nullable = true)\n",
      "\n"
     ]
    }
   ],
   "source": [
    "donneesStations.printSchema()"
   ]
  },
  {
   "cell_type": "code",
   "execution_count": 13,
   "metadata": {},
   "outputs": [
    {
     "name": "stdout",
     "output_type": "stream",
     "text": [
      "+-------+---------------+---------+---------+--------+\n",
      "|Station|          Ville| Latitude|Longitude|Altitude|\n",
      "+-------+---------------+---------+---------+--------+\n",
      "|  07005|      ABBEVILLE|50.136000| 1.834000|      69|\n",
      "|  07015|  LILLE-LESQUIN|50.570000| 3.097500|      47|\n",
      "|  07020|PTE DE LA HAGUE|49.725167|-1.939833|       6|\n",
      "|  07027| CAEN-CARPIQUET|49.180000|-0.456167|      67|\n",
      "|  07037|     ROUEN-BOOS|49.383000| 1.181667|     151|\n",
      "+-------+---------------+---------+---------+--------+\n",
      "only showing top 5 rows\n",
      "\n"
     ]
    }
   ],
   "source": [
    "donneesStations.show(5)"
   ]
  },
  {
   "cell_type": "code",
   "execution_count": 14,
   "metadata": {},
   "outputs": [],
   "source": [
    "donneesStations.write.mode('overwrite').format('parquet').save('file:/home/razvan/Documents/donnees/postesSynop.parquet')"
   ]
  },
  {
   "cell_type": "code",
   "execution_count": 15,
   "metadata": {},
   "outputs": [],
   "source": [
    "donnees = spark.read.format('parquet').load('file:/home/razvan/Documents/donnees/postesSynop.parquet')"
   ]
  },
  {
   "cell_type": "code",
   "execution_count": 16,
   "metadata": {},
   "outputs": [
    {
     "name": "stdout",
     "output_type": "stream",
     "text": [
      "total 36\r\n",
      "drwxrwxr-x  6 razvan razvan  4096 nov.  29 16:36 .\r\n",
      "drwxr-xr-x  5 razvan razvan  4096 nov.  29 16:35 ..\r\n",
      "drwxrwxr-x  2 razvan razvan  4096 nov.  29 11:14 .ipynb_checkpoints\r\n",
      "drwxrwxr-x  3 razvan razvan 12288 nov.  29 13:40 meteo\r\n",
      "drwxr-xr-x 28 razvan razvan  4096 nov.  29 16:29 meteoFrance\r\n",
      "-rw-rw-r--  1 razvan razvan  2618 nov.  29 10:10 postesSynop.csv\r\n",
      "drwxr-xr-x  2 razvan razvan  4096 nov.  29 16:36 postesSynop.parquet\r\n"
     ]
    }
   ],
   "source": [
    "!ls -al /home/razvan/Documents/donnees"
   ]
  },
  {
   "cell_type": "code",
   "execution_count": 17,
   "metadata": {},
   "outputs": [
    {
     "name": "stdout",
     "output_type": "stream",
     "text": [
      "+-------+---------------+---------+---------+--------+\n",
      "|Station|          Ville| Latitude|Longitude|Altitude|\n",
      "+-------+---------------+---------+---------+--------+\n",
      "|  07005|      ABBEVILLE|50.136000| 1.834000|      69|\n",
      "|  07015|  LILLE-LESQUIN|50.570000| 3.097500|      47|\n",
      "|  07020|PTE DE LA HAGUE|49.725167|-1.939833|       6|\n",
      "|  07027| CAEN-CARPIQUET|49.180000|-0.456167|      67|\n",
      "|  07037|     ROUEN-BOOS|49.383000| 1.181667|     151|\n",
      "+-------+---------------+---------+---------+--------+\n",
      "only showing top 5 rows\n",
      "\n"
     ]
    }
   ],
   "source": [
    "donnees.show(5)"
   ]
  },
  {
   "cell_type": "code",
   "execution_count": 18,
   "metadata": {},
   "outputs": [
    {
     "name": "stdout",
     "output_type": "stream",
     "text": [
      "+-------+---------+---------+---------+--------+\n",
      "|Station|    Ville| Latitude|Longitude|Altitude|\n",
      "+-------+---------+---------+---------+--------+\n",
      "|  07005|ABBEVILLE|50.136000| 1.834000|      69|\n",
      "+-------+---------+---------+---------+--------+\n",
      "\n"
     ]
    }
   ],
   "source": [
    "spark.sql(\"select * from parquet.\"+\n",
    "          \"`/home/razvan/Documents/donnees/postesSynop.parquet`  \"+\n",
    "          \"where Ville = 'ABBEVILLE'\").show()"
   ]
  },
  {
   "cell_type": "markdown",
   "metadata": {},
   "source": [
    "## Chargement des Villes"
   ]
  },
  {
   "cell_type": "code",
   "execution_count": 19,
   "metadata": {},
   "outputs": [],
   "source": [
    "schema = StructType([\n",
    "        StructField('Id'           , StringType() , True),\n",
    "        StructField('ville'        , StringType() , True),\n",
    "        StructField('latitude'     , FloatType() , True),\n",
    "        StructField('longitude'    , FloatType() , True),\n",
    "        StructField('altitude'     , IntegerType() , True)])\n",
    "\n",
    "villes  = spark.read.format('csv')   \\\n",
    "      .option('sep',';')                \\\n",
    "      .option('mergeSchema', 'true')    \\\n",
    "      .option('header','true')          \\\n",
    "      .schema(schema)                   \\\n",
    "      .load(\"file:/home/razvan/Documents/donnees/postesSynop.csv\")  \\\n",
    "      .cache()"
   ]
  },
  {
   "cell_type": "code",
   "execution_count": 20,
   "metadata": {},
   "outputs": [],
   "source": [
    "@udf(\"string\")\n",
    "def formatVille(ville):\n",
    "    if ville in ['CLERMONT-FD','MONT-DE-MARSAN',\n",
    "                                   'ST-PIERRE','ST-BARTHELEMY METEO'] :\n",
    "        return ville.title()\n",
    "    else :\n",
    "        if ville.find('-') != -1 :\n",
    "            return ville[0:ville.find('-')].title()\n",
    "        else:\n",
    "            return ville.title()\n",
    "\n",
    "villesT  = villes.select(\n",
    "                col('Id').alias('id'),\n",
    "                formatVille('ville').alias('ville'),\n",
    "               'latitude',\n",
    "               'longitude',\n",
    "               'altitude')"
   ]
  },
  {
   "cell_type": "markdown",
   "metadata": {},
   "source": [
    "## Chargemet du répértoire meteo"
   ]
  },
  {
   "cell_type": "code",
   "execution_count": 21,
   "metadata": {},
   "outputs": [
    {
     "name": "stderr",
     "output_type": "stream",
     "text": [
      "                                                                                \r"
     ]
    }
   ],
   "source": [
    "meteoDataFrame  = spark.read.format('csv')\\\n",
    "                       .option('sep',';')\\\n",
    "                       .option('header','true')\\\n",
    "                       .option('nullValue','mq')\\\n",
    "                       .option('inferSchema', 'true')\\\n",
    "                       .load('/home/razvan/Documents/donnees/meteo')\\\n",
    "                       .cache()"
   ]
  },
  {
   "cell_type": "code",
   "execution_count": 22,
   "metadata": {},
   "outputs": [],
   "source": [
    "meteo = meteoDataFrame.select(\n",
    "                 col('numer_sta'),\n",
    "                 to_timestamp(col('date').cast('string'),'yyyyMMddHHmmss'),\n",
    "                 col('date')[0:4].cast('int') ,\n",
    "                 col('date')[5:2].cast('int'),\n",
    "                 col('date')[7:2].cast('int'),\n",
    "                 col('date')[5:4],\n",
    "                 round(col('t') - 273.15,2),\n",
    "                 col('u') / 100 ,\n",
    "                 col('vv') / 1000 ,\n",
    "                 col('pres') / 1000,\n",
    "                 coalesce( col('rr3'),\n",
    "                           col('rr24')/8,\n",
    "                           col('rr12')/4,\n",
    "                           col('rr6')/2,\n",
    "                           col('rr1')*3  ) )\\\n",
    "             .toDF('id','date','annee','mois','jour','mois_jour','temperature',\n",
    "                   'humidite','visibilite','pression','precipitations')\\\n",
    "             .cache()"
   ]
  },
  {
   "cell_type": "code",
   "execution_count": 23,
   "metadata": {},
   "outputs": [
    {
     "name": "stderr",
     "output_type": "stream",
     "text": [
      "[Stage 12:>                                                         (0 + 1) / 1]\r"
     ]
    },
    {
     "name": "stdout",
     "output_type": "stream",
     "text": [
      "+-----+----+----+-----------+--------+----------+--------+\n",
      "|annee|mois|jour|temperature|humidite|visibilite|pression|\n",
      "+-----+----+----+-----------+--------+----------+--------+\n",
      "| 2019|  12|   1|        3.7|    0.79|      20.0|  100.86|\n",
      "| 2019|  12|   1|        2.8|    0.87|     12.23|  101.38|\n",
      "| 2019|  12|   1|        8.7|    0.75|      10.0|  101.39|\n",
      "+-----+----+----+-----------+--------+----------+--------+\n",
      "only showing top 3 rows\n",
      "\n"
     ]
    },
    {
     "name": "stderr",
     "output_type": "stream",
     "text": [
      "                                                                                \r"
     ]
    }
   ],
   "source": [
    "meteo.select('annee','mois','jour','temperature','humidite',\n",
    "             'visibilite','pression').show(3)"
   ]
  },
  {
   "cell_type": "code",
   "execution_count": 24,
   "metadata": {},
   "outputs": [],
   "source": [
    "meteoFance = meteo.where('id < 8000')\\\n",
    "             .join(villesT,'id')\\\n",
    "             .select(initcap(regexp_replace('ville','-',' ')).alias('ville'),\n",
    "                     'date','annee','mois','jour','temperature','humidite',\n",
    "                     'visibilite','pression','precipitations')"
   ]
  },
  {
   "cell_type": "code",
   "execution_count": 25,
   "metadata": {},
   "outputs": [
    {
     "name": "stderr",
     "output_type": "stream",
     "text": [
      "                                                                                \r"
     ]
    }
   ],
   "source": [
    "meteoFance.write\\\n",
    "       .mode('overwrite')\\\n",
    "       .format('parquet')\\\n",
    "       .partitionBy('annee')\\\n",
    "       .option('path', '/home/razvan/Documents/donnees/meteoFrance')\\\n",
    "       .save()"
   ]
  },
  {
   "cell_type": "code",
   "execution_count": 26,
   "metadata": {},
   "outputs": [
    {
     "name": "stdout",
     "output_type": "stream",
     "text": [
      "root\n",
      " |-- ville: string (nullable = true)\n",
      " |-- date: timestamp (nullable = true)\n",
      " |-- annee: integer (nullable = true)\n",
      " |-- mois: integer (nullable = true)\n",
      " |-- jour: integer (nullable = true)\n",
      " |-- temperature: double (nullable = true)\n",
      " |-- humidite: double (nullable = true)\n",
      " |-- visibilite: double (nullable = true)\n",
      " |-- pression: double (nullable = true)\n",
      " |-- precipitations: double (nullable = true)\n",
      "\n"
     ]
    }
   ],
   "source": [
    "meteoFance.printSchema()"
   ]
  },
  {
   "cell_type": "code",
   "execution_count": 27,
   "metadata": {},
   "outputs": [
    {
     "name": "stdout",
     "output_type": "stream",
     "text": [
      "+---------------+-------------------+----+----+-----------+--------+----------+--------+--------------+-----+\n",
      "|          ville|               date|mois|jour|temperature|humidite|visibilite|pression|precipitations|annee|\n",
      "+---------------+-------------------+----+----+-----------+--------+----------+--------+--------------+-----+\n",
      "|      Abbeville|2020-03-01 00:00:00|   3|   1|        4.9|     0.8|      20.0|   98.58|           0.0| 2020|\n",
      "|          Lille|2020-03-01 00:00:00|   3|   1|        5.1|    0.77|      60.0|   98.86|           0.0| 2020|\n",
      "|Pte De La Hague|2020-03-01 00:00:00|   3|   1|        7.7|    0.81|      10.0|   99.19|           1.8| 2020|\n",
      "|           Caen|2020-03-01 00:00:00|   3|   1|        6.2|    0.75|     59.95|    98.8|           0.0| 2020|\n",
      "|          Rouen|2020-03-01 00:00:00|   3|   1|        4.3|    0.86|      60.0|   97.84|           0.0| 2020|\n",
      "|          Reims|2020-03-01 00:00:00|   3|   1|        6.7|    0.76|      20.0|   98.83|          -0.1| 2020|\n",
      "|          Brest|2020-03-01 00:00:00|   3|   1|        6.2|    0.81|     18.38|   98.61|           0.2| 2020|\n",
      "|    Ploumanac'h|2020-03-01 00:00:00|   3|   1|        7.0|    0.74|      null|   98.92|           1.2| 2020|\n",
      "|         Rennes|2020-03-01 00:00:00|   3|   1|        6.5|    0.81|     37.48|   99.53|           0.2| 2020|\n",
      "|        Alencon|2020-03-01 00:00:00|   3|   1|        6.2|    0.81|      20.0|   98.15|           0.0| 2020|\n",
      "|           Orly|2020-03-01 00:00:00|   3|   1|        6.8|    0.79|      38.9|    98.9|           0.0| 2020|\n",
      "|         Troyes|2020-03-01 00:00:00|   3|   1|        7.3|    0.76|      20.0|   98.77|           0.0| 2020|\n",
      "|          Nancy|2020-03-01 00:00:00|   3|   1|        6.0|    0.77|      20.0|   96.19|           0.0| 2020|\n",
      "|     Strasbourg|2020-03-01 00:00:00|   3|   1|        7.2|     0.8|      60.0|   98.56|           0.0| 2020|\n",
      "|      Belle Ile|2020-03-01 00:00:00|   3|   1|       10.0|    0.64|      null|   99.56|           0.0| 2020|\n",
      "|         Nantes|2020-03-01 00:00:00|   3|   1|        7.6|    0.85|     57.75|   99.88|           0.8| 2020|\n",
      "|          Tours|2020-03-01 00:00:00|   3|   1|        7.7|    0.81|      60.0|   98.89|          -0.1| 2020|\n",
      "|        Bourges|2020-03-01 00:00:00|   3|   1|        7.3|     0.8|      20.0|   98.48|           0.0| 2020|\n",
      "|          Dijon|2020-03-01 00:00:00|   3|   1|        7.6|     0.8|      60.0|   97.81|           0.0| 2020|\n",
      "|           Bale|2020-03-01 00:00:00|   3|   1|        8.9|    0.72|      60.0|   97.29|           0.2| 2020|\n",
      "+---------------+-------------------+----+----+-----------+--------+----------+--------+--------------+-----+\n",
      "only showing top 20 rows\n",
      "\n"
     ]
    }
   ],
   "source": [
    "spark.sql(\"select * from parquet.\"+\n",
    "          \"`/home/razvan/Documents/donnees/meteoFrance` \"+\n",
    "          \"where annee = 2020\").show()"
   ]
  },
  {
   "cell_type": "code",
   "execution_count": 28,
   "metadata": {},
   "outputs": [],
   "source": [
    "meteoFance = spark.read.format('parquet').load('/home/razvan/Documents/donnees/meteoFrance')"
   ]
  },
  {
   "cell_type": "code",
   "execution_count": 29,
   "metadata": {},
   "outputs": [
    {
     "name": "stdout",
     "output_type": "stream",
     "text": [
      "root\n",
      " |-- ville: string (nullable = true)\n",
      " |-- date: timestamp (nullable = true)\n",
      " |-- mois: integer (nullable = true)\n",
      " |-- jour: integer (nullable = true)\n",
      " |-- temperature: double (nullable = true)\n",
      " |-- humidite: double (nullable = true)\n",
      " |-- visibilite: double (nullable = true)\n",
      " |-- pression: double (nullable = true)\n",
      " |-- precipitations: double (nullable = true)\n",
      " |-- annee: integer (nullable = true)\n",
      "\n"
     ]
    }
   ],
   "source": [
    "meteoFance.printSchema()"
   ]
  },
  {
   "cell_type": "code",
   "execution_count": 30,
   "metadata": {},
   "outputs": [
    {
     "name": "stdout",
     "output_type": "stream",
     "text": [
      "+---------+\n",
      "|namespace|\n",
      "+---------+\n",
      "|  default|\n",
      "+---------+\n",
      "\n"
     ]
    }
   ],
   "source": [
    "spark.sql(\"show databases\").show()"
   ]
  },
  {
   "cell_type": "code",
   "execution_count": 31,
   "metadata": {},
   "outputs": [
    {
     "name": "stdout",
     "output_type": "stream",
     "text": [
      "+---------+---------+-----------+\n",
      "|namespace|tableName|isTemporary|\n",
      "+---------+---------+-----------+\n",
      "+---------+---------+-----------+\n",
      "\n"
     ]
    }
   ],
   "source": [
    "spark.sql(\"show tables\").show()"
   ]
  },
  {
   "cell_type": "code",
   "execution_count": null,
   "metadata": {},
   "outputs": [],
   "source": []
  }
 ],
 "metadata": {
  "kernelspec": {
   "display_name": "Python 3 (ipykernel)",
   "language": "python",
   "name": "python3"
  },
  "language_info": {
   "codemirror_mode": {
    "name": "ipython",
    "version": 3
   },
   "file_extension": ".py",
   "mimetype": "text/x-python",
   "name": "python",
   "nbconvert_exporter": "python",
   "pygments_lexer": "ipython3",
   "version": "3.9.7"
  }
 },
 "nbformat": 4,
 "nbformat_minor": 4
}
