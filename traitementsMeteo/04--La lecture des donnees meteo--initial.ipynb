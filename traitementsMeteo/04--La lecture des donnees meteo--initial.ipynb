{
 "cells": [
  {
   "cell_type": "markdown",
   "metadata": {
    "toc": true
   },
   "source": [
    "<h1>Table of Contents<span class=\"tocSkip\"></span></h1>\n",
    "<div class=\"toc\"><ul class=\"toc-item\"><li><span><a href=\"#Les-imports-et-configuration-du-document\" data-toc-modified-id=\"Les-imports-et-configuration-du-document-1\"><span class=\"toc-item-num\">1&nbsp;&nbsp;</span>Les imports et configuration du document</a></span><ul class=\"toc-item\"><li><span><a href=\"#La-lecture-des-fichiers-d'un-répértoire\" data-toc-modified-id=\"La-lecture-des-fichiers-d'un-répértoire-1.1\"><span class=\"toc-item-num\">1.1&nbsp;&nbsp;</span>La lecture des fichiers d'un répértoire</a></span></li><li><span><a href=\"#La-description-du-dataframe\" data-toc-modified-id=\"La-description-du-dataframe-1.2\"><span class=\"toc-item-num\">1.2&nbsp;&nbsp;</span>La description du dataframe</a></span></li></ul></li></ul></div>"
   ]
  },
  {
   "cell_type": "markdown",
   "metadata": {},
   "source": [
    "# Les imports et configuration du document"
   ]
  },
  {
   "cell_type": "code",
   "execution_count": 1,
   "metadata": {
    "ExecuteTime": {
     "end_time": "2021-11-30T10:52:11.123312Z",
     "start_time": "2021-11-30T10:52:09.467501Z"
    }
   },
   "outputs": [
    {
     "name": "stdout",
     "output_type": "stream",
     "text": [
      "Populating the interactive namespace from numpy and matplotlib\n"
     ]
    }
   ],
   "source": [
    "import pandas as pd \n",
    "import seaborn as sns\n",
    "import warnings \n",
    "import os\n",
    "from datetime import datetime\n",
    "warnings.filterwarnings(action=\"ignore\")\n",
    "\n",
    "%pylab inline\n",
    "\n",
    "plt.style.use('seaborn-darkgrid')\n",
    "sns.set(font_scale=3)\n",
    "\n",
    "os.chdir(\"donnees\")"
   ]
  },
  {
   "cell_type": "markdown",
   "metadata": {},
   "source": [
    "## La lecture des fichiers d'un répértoire "
   ]
  },
  {
   "cell_type": "code",
   "execution_count": 2,
   "metadata": {
    "ExecuteTime": {
     "end_time": "2021-11-30T10:52:13.077013Z",
     "start_time": "2021-11-30T10:52:13.072029Z"
    }
   },
   "outputs": [
    {
     "name": "stdout",
     "output_type": "stream",
     "text": [
      "meteo\\synop.202001.csv\n",
      "meteo\\synop.202002.csv\n",
      "meteo\\synop.202003.csv\n",
      "meteo\\synop.202004.csv\n",
      "meteo\\synop.202005.csv\n",
      "meteo\\synop.202006.csv\n",
      "meteo\\synop.202007.csv\n",
      "meteo\\synop.202008.csv\n",
      "meteo\\synop.202009.csv\n",
      "meteo\\synop.202010.csv\n",
      "meteo\\synop.202011.csv\n",
      "meteo\\synop.202012.csv\n"
     ]
    }
   ],
   "source": [
    "for dirname, _, filenames in os.walk('meteo'):\n",
    "    for filename in filenames:\n",
    "        if filename.rfind('synop') >= 0 :\n",
    "            print(os.path.join(dirname, filename))"
   ]
  },
  {
   "cell_type": "code",
   "execution_count": null,
   "metadata": {},
   "outputs": [],
   "source": []
  },
  {
   "cell_type": "code",
   "execution_count": null,
   "metadata": {},
   "outputs": [],
   "source": []
  },
  {
   "cell_type": "code",
   "execution_count": null,
   "metadata": {},
   "outputs": [],
   "source": []
  },
  {
   "cell_type": "code",
   "execution_count": null,
   "metadata": {},
   "outputs": [],
   "source": []
  },
  {
   "cell_type": "code",
   "execution_count": null,
   "metadata": {},
   "outputs": [],
   "source": []
  }
 ],
 "metadata": {
  "kernelspec": {
   "display_name": "Python 3",
   "language": "python",
   "name": "python3"
  },
  "language_info": {
   "codemirror_mode": {
    "name": "ipython",
    "version": 3
   },
   "file_extension": ".py",
   "mimetype": "text/x-python",
   "name": "python",
   "nbconvert_exporter": "python",
   "pygments_lexer": "ipython3",
   "version": "3.8.8"
  },
  "toc": {
   "base_numbering": 1,
   "nav_menu": {},
   "number_sections": true,
   "sideBar": true,
   "skip_h1_title": false,
   "title_cell": "Table of Contents",
   "title_sidebar": "Contents",
   "toc_cell": true,
   "toc_position": {},
   "toc_section_display": true,
   "toc_window_display": false
  }
 },
 "nbformat": 4,
 "nbformat_minor": 4
}
