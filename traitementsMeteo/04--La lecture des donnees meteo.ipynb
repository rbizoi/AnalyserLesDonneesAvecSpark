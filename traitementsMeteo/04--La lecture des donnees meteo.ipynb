{
 "cells": [
  {
   "cell_type": "markdown",
   "metadata": {
    "toc": true
   },
   "source": [
    "<h1>Table of Contents<span class=\"tocSkip\"></span></h1>\n",
    "<div class=\"toc\"><ul class=\"toc-item\"><li><span><a href=\"#Les-imports-et-configuration-du-document\" data-toc-modified-id=\"Les-imports-et-configuration-du-document-1\"><span class=\"toc-item-num\">1&nbsp;&nbsp;</span>Les imports et configuration du document</a></span><ul class=\"toc-item\"><li><span><a href=\"#La-lecture-des-fichiers-d'un-répértoire\" data-toc-modified-id=\"La-lecture-des-fichiers-d'un-répértoire-1.1\"><span class=\"toc-item-num\">1.1&nbsp;&nbsp;</span>La lecture des fichiers d'un répértoire</a></span></li></ul></li></ul></div>"
   ]
  },
  {
   "cell_type": "markdown",
   "metadata": {},
   "source": [
    "# Les imports et configuration du document"
   ]
  },
  {
   "cell_type": "code",
   "execution_count": 1,
   "metadata": {
    "ExecuteTime": {
     "end_time": "2021-11-30T13:14:08.417398Z",
     "start_time": "2021-11-30T13:14:06.676987Z"
    }
   },
   "outputs": [
    {
     "name": "stdout",
     "output_type": "stream",
     "text": [
      "Populating the interactive namespace from numpy and matplotlib\n"
     ]
    }
   ],
   "source": [
    "import pandas as pd \n",
    "import seaborn as sns\n",
    "import warnings \n",
    "import os\n",
    "from datetime import datetime\n",
    "warnings.filterwarnings(action=\"ignore\")\n",
    "\n",
    "%pylab inline\n",
    "\n",
    "plt.style.use('seaborn-darkgrid')\n",
    "sns.set(font_scale=3)\n",
    "\n",
    "os.chdir(\"../donnees\")"
   ]
  },
  {
   "cell_type": "code",
   "execution_count": 2,
   "metadata": {
    "ExecuteTime": {
     "end_time": "2021-11-30T13:14:08.471225Z",
     "start_time": "2021-11-30T13:14:08.420363Z"
    }
   },
   "outputs": [
    {
     "name": "stdout",
     "output_type": "stream",
     "text": [
      " Le volume dans le lecteur C s'appelle OS_Install\n",
      " Le num‚ro de s‚rie du volume est F4F1-3800\n",
      "\n",
      " R‚pertoire de C:\\Formation\\donnees\n",
      "\n",
      "30/11/2021  14:06    <DIR>          .\n",
      "30/11/2021  14:06    <DIR>          ..\n",
      "29/01/2018  11:42             2ÿ436 50_Startups.csv\n",
      "26/02/2018  05:29           240ÿ949 abalone.csv\n",
      "21/02/2018  01:44         1ÿ171ÿ439 agents.json\n",
      "20/11/2016  12:12           785ÿ065 AirQualityUCI01.csv\n",
      "03/09/2015  14:39           785ÿ065 AirQualityUCI02.csv\n",
      "20/11/2016  12:14           785ÿ065 AirQualityUCI03.csv\n",
      "20/11/2016  12:34           783ÿ119 AirQualityUCI04.csv\n",
      "22/07/2018  08:35            49ÿ082 boston.housing.data.txt\n",
      "26/02/2018  05:30           129ÿ652 breastCancer.csv\n",
      "10/05/2018  14:56         1ÿ423ÿ529 California Housing Price.csv\n",
      "26/02/2018  14:33       152ÿ996ÿ104 creditCard.csv\n",
      "25/04/2019  08:16           315ÿ987 creditDesc.csv\n",
      "07/10/2021  14:37         1ÿ010ÿ610 Data_Cortex_Nuclear.csv\n",
      "16/09/2021  14:04            23ÿ873 diabetes.csv\n",
      "13/03/2017  04:25        76ÿ775ÿ041 DigitRecognizer.csv\n",
      "15/12/2017  06:23         2ÿ240ÿ427 Financial Distress.csv\n",
      "16/09/2021  14:09           195ÿ955 framingham.csv\n",
      "05/06/2018  16:03            11ÿ680 glass.csv\n",
      "31/07/2018  12:27       132ÿ796ÿ832 GroundStateEnergies.16.242.Molecules.csv\n",
      "16/09/2021  14:04           316ÿ971 healthcare-dataset-stroke-data.csv\n",
      "01/10/2019  19:15            11ÿ328 heart.csv\n",
      "16/09/2021  14:00            12ÿ239 heart_failure_clinical_records_dataset.csv\n",
      "28/05/2018  14:49           460ÿ676 House Prices.csv\n",
      "21/09/2019  02:46            23ÿ930 indian_liver_patient.csv\n",
      "21/02/2019  20:37            34ÿ545 Infarct.xlsx\n",
      "26/09/2016  23:38             5ÿ107 Iris.csv\n",
      "16/09/2021  14:06           102ÿ059 kag_risk_factors_cervical_cancer.csv\n",
      "05/12/2016  22:13             1ÿ388 loups-g.txt\n",
      "30/11/2021  14:03    <DIR>          meteo\n",
      "30/11/2021  14:12        12ÿ192ÿ916 meteo.csv\n",
      "30/11/2021  14:12         1ÿ274ÿ670 meteo.gzip\n",
      "28/03/2021  14:21         6ÿ547ÿ017 meteo.rar\n",
      "30/11/2021  14:03    <DIR>          meteo02\n",
      "23/11/2021  12:15    <DIR>          meteo_sav\n",
      "01/12/2016  15:08           374ÿ003 mushrooms.csv\n",
      "31/12/2017  14:11             6ÿ961 ozone.csv\n",
      "23/11/2021  12:15    <DIR>          pandas\n",
      "23/11/2021  12:15    <DIR>          sauvegarde\n",
      "05/03/2018  15:26           363ÿ131 tableMeteoMmoyenneJournaliere.csv\n",
      "02/08/2019  13:33             4ÿ957 temperatures.csv\n",
      "18/06/2017  14:48            28ÿ629 titanic-test.csv\n",
      "18/06/2017  14:48            61ÿ194 titanic-train.csv\n",
      "21/04/2019  07:15        24ÿ341ÿ270 titanic.all.features.final.csv\n",
      "05/07/2019  16:20        61ÿ665ÿ483 titanic.all.filter.constant.features.final.csv\n",
      "29/04/2019  09:12        84ÿ395ÿ003 titanic.all.filter.constant.features.final.log.csv\n",
      "05/07/2019  16:30        17ÿ048ÿ549 titanic.all.filter.features.final.csv\n",
      "19/10/2017  23:34            57ÿ018 titanic.csv\n",
      "06/07/2019  08:04            78ÿ661 titanic.format.csv\n",
      "02/08/2019  16:03            95ÿ583 titanic.format.final.csv\n",
      "05/07/2019  16:07            51ÿ579 titanic.format.initial.avant.all.features.final.csv\n",
      "05/07/2019  16:09            87ÿ726 titanic.format.initial.avant.all.features.final.log.csv\n",
      "20/04/2019  08:11        10ÿ606ÿ932 titanic.format.initial.avant.fi-creation1077.csv\n",
      "17/04/2019  19:10            59ÿ474 titanic.format.initial.avant.fi.csv\n",
      "20/04/2019  11:46            59ÿ475 titanic.format.initial.avant.fi01.csv\n",
      "21/04/2019  10:46            91ÿ299 titanic.resultats.fi.01.csv\n",
      "21/04/2019  11:07            91ÿ350 titanic.resultats.fi.02.csv\n",
      "21/04/2019  11:48            91ÿ219 titanic.resultats.fi.csv\n",
      "20/04/2019  18:11            29ÿ869 titanic.resultats1.fi.csv\n",
      "18/06/2017  05:48            28ÿ629 TitanicTest.csv\n",
      "18/06/2017  05:48            61ÿ194 TitanicTrain.csv\n",
      "28/01/2018  17:54            84ÿ199 winequality-red.csv\n",
      "28/01/2018  17:55           264ÿ426 winequality-white.csv\n",
      "              57 fichier(s)      593ÿ632ÿ569 octets\n",
      "               7 R‚p(s)  16ÿ175ÿ423ÿ488 octets libres\n"
     ]
    }
   ],
   "source": [
    "!dir"
   ]
  },
  {
   "cell_type": "markdown",
   "metadata": {},
   "source": [
    "## La lecture des fichiers d'un répértoire "
   ]
  },
  {
   "cell_type": "code",
   "execution_count": 3,
   "metadata": {
    "ExecuteTime": {
     "end_time": "2021-11-30T13:14:14.123149Z",
     "start_time": "2021-11-30T13:14:08.482198Z"
    }
   },
   "outputs": [
    {
     "data": {
      "text/html": [
       "<div>\n",
       "<style scoped>\n",
       "    .dataframe tbody tr th:only-of-type {\n",
       "        vertical-align: middle;\n",
       "    }\n",
       "\n",
       "    .dataframe tbody tr th {\n",
       "        vertical-align: top;\n",
       "    }\n",
       "\n",
       "    .dataframe thead th {\n",
       "        text-align: right;\n",
       "    }\n",
       "</style>\n",
       "<table border=\"1\" class=\"dataframe\">\n",
       "  <thead>\n",
       "    <tr style=\"text-align: right;\">\n",
       "      <th></th>\n",
       "      <th>DateHeure</th>\n",
       "      <th>Station</th>\n",
       "      <th>DirectionVent</th>\n",
       "      <th>VitesseVent</th>\n",
       "      <th>Temperature</th>\n",
       "      <th>Humidite</th>\n",
       "      <th>Visibilite</th>\n",
       "      <th>Pression</th>\n",
       "      <th>Precipitation01</th>\n",
       "      <th>Precipitation03</th>\n",
       "      <th>Precipitation06</th>\n",
       "      <th>Precipitation12</th>\n",
       "      <th>Precipitation24</th>\n",
       "    </tr>\n",
       "  </thead>\n",
       "  <tbody>\n",
       "    <tr>\n",
       "      <th>0</th>\n",
       "      <td>2020-01-01</td>\n",
       "      <td>07005</td>\n",
       "      <td>120.0</td>\n",
       "      <td>1.8</td>\n",
       "      <td>1.2</td>\n",
       "      <td>89.0</td>\n",
       "      <td>9.29</td>\n",
       "      <td>1022.6</td>\n",
       "      <td>0.0</td>\n",
       "      <td>0.0</td>\n",
       "      <td>0.0</td>\n",
       "      <td>0.0</td>\n",
       "      <td>-0.1</td>\n",
       "    </tr>\n",
       "    <tr>\n",
       "      <th>1</th>\n",
       "      <td>2020-01-01</td>\n",
       "      <td>07015</td>\n",
       "      <td>80.0</td>\n",
       "      <td>4.7</td>\n",
       "      <td>2.1</td>\n",
       "      <td>99.0</td>\n",
       "      <td>0.13</td>\n",
       "      <td>1027.2</td>\n",
       "      <td>0.0</td>\n",
       "      <td>0.0</td>\n",
       "      <td>0.0</td>\n",
       "      <td>-0.1</td>\n",
       "      <td>-0.1</td>\n",
       "    </tr>\n",
       "    <tr>\n",
       "      <th>2</th>\n",
       "      <td>2020-01-01</td>\n",
       "      <td>07020</td>\n",
       "      <td>80.0</td>\n",
       "      <td>1.3</td>\n",
       "      <td>7.4</td>\n",
       "      <td>93.0</td>\n",
       "      <td>8.00</td>\n",
       "      <td>1027.6</td>\n",
       "      <td>0.0</td>\n",
       "      <td>0.0</td>\n",
       "      <td>0.0</td>\n",
       "      <td>0.0</td>\n",
       "      <td>0.0</td>\n",
       "    </tr>\n",
       "    <tr>\n",
       "      <th>3</th>\n",
       "      <td>2020-01-01</td>\n",
       "      <td>07027</td>\n",
       "      <td>100.0</td>\n",
       "      <td>4.2</td>\n",
       "      <td>2.6</td>\n",
       "      <td>100.0</td>\n",
       "      <td>0.35</td>\n",
       "      <td>1022.3</td>\n",
       "      <td>0.0</td>\n",
       "      <td>0.0</td>\n",
       "      <td>0.0</td>\n",
       "      <td>0.0</td>\n",
       "      <td>0.0</td>\n",
       "    </tr>\n",
       "    <tr>\n",
       "      <th>4</th>\n",
       "      <td>2020-01-01</td>\n",
       "      <td>07037</td>\n",
       "      <td>130.0</td>\n",
       "      <td>2.2</td>\n",
       "      <td>-0.9</td>\n",
       "      <td>100.0</td>\n",
       "      <td>0.08</td>\n",
       "      <td>1012.5</td>\n",
       "      <td>0.0</td>\n",
       "      <td>0.0</td>\n",
       "      <td>0.0</td>\n",
       "      <td>0.0</td>\n",
       "      <td>0.0</td>\n",
       "    </tr>\n",
       "  </tbody>\n",
       "</table>\n",
       "</div>"
      ],
      "text/plain": [
       "   DateHeure Station  DirectionVent  VitesseVent  Temperature  Humidite  \\\n",
       "0 2020-01-01   07005          120.0          1.8          1.2      89.0   \n",
       "1 2020-01-01   07015           80.0          4.7          2.1      99.0   \n",
       "2 2020-01-01   07020           80.0          1.3          7.4      93.0   \n",
       "3 2020-01-01   07027          100.0          4.2          2.6     100.0   \n",
       "4 2020-01-01   07037          130.0          2.2         -0.9     100.0   \n",
       "\n",
       "   Visibilite  Pression  Precipitation01  Precipitation03  Precipitation06  \\\n",
       "0        9.29    1022.6              0.0              0.0              0.0   \n",
       "1        0.13    1027.2              0.0              0.0              0.0   \n",
       "2        8.00    1027.6              0.0              0.0              0.0   \n",
       "3        0.35    1022.3              0.0              0.0              0.0   \n",
       "4        0.08    1012.5              0.0              0.0              0.0   \n",
       "\n",
       "   Precipitation12  Precipitation24  \n",
       "0              0.0             -0.1  \n",
       "1             -0.1             -0.1  \n",
       "2              0.0              0.0  \n",
       "3              0.0              0.0  \n",
       "4              0.0              0.0  "
      ]
     },
     "execution_count": 3,
     "metadata": {},
     "output_type": "execute_result"
    }
   ],
   "source": [
    "def dateparse(d):\n",
    "    return pd.datetime.strptime(d,'%Y%m%d%H%M%S')\n",
    "\n",
    "meteo = pd.DataFrame()\n",
    "\n",
    "for dirname, _, filenames in os.walk('meteo'):\n",
    "    for filename in filenames:\n",
    "        if filename.rfind('synop') >= 0 :\n",
    "            meteo = pd.concat([meteo,\n",
    "                               pd.read_csv(os.path.join(dirname, filename),\n",
    "                                           sep=';',\n",
    "                                           usecols=['numer_sta','date','dd','ff','t','u','vv',\n",
    "                                                    'pres','rr1','rr3','rr6','rr12','rr24'],\n",
    "                                           na_values='mq',\n",
    "                                           dtype={'numer_sta':str,'date':str},\n",
    "                                           parse_dates={'DateHeure': ['date']},\n",
    "                                           date_parser=dateparse\n",
    "                                          ).rename( columns={'numer_sta':'Station',\n",
    "                                                              'date':'Date',\n",
    "                                                              'dd':'DirectionVent',\n",
    "                                                              'ff':'VitesseVent',\n",
    "                                                              't':'Temperature',\n",
    "                                                              'u':'Humidite',\n",
    "                                                              'vv':'Visibilite',\n",
    "                                                              'pres':'Pression',\n",
    "                                                              'rr1' :'Precipitation01',\n",
    "                                                              'rr3' :'Precipitation03',\n",
    "                                                              'rr6' :'Precipitation06',\n",
    "                                                              'rr12':'Precipitation12',\n",
    "                                                              'rr24':'Precipitation24'})],axis=0)\n",
    "            \n",
    "meteo.Temperature = meteo.Temperature - 273.15\n",
    "meteo.Pression    = meteo.Pression / 100\n",
    "meteo.Visibilite  = meteo.Visibilite / 1000\n",
    "meteo.head(5)            "
   ]
  },
  {
   "cell_type": "code",
   "execution_count": 4,
   "metadata": {
    "ExecuteTime": {
     "end_time": "2021-11-30T13:14:14.132092Z",
     "start_time": "2021-11-30T13:14:14.125110Z"
    }
   },
   "outputs": [
    {
     "data": {
      "text/plain": [
       "(174227, 13)"
      ]
     },
     "execution_count": 4,
     "metadata": {},
     "output_type": "execute_result"
    }
   ],
   "source": [
    "meteo.shape"
   ]
  },
  {
   "cell_type": "code",
   "execution_count": 5,
   "metadata": {
    "ExecuteTime": {
     "end_time": "2021-11-30T13:14:14.251789Z",
     "start_time": "2021-11-30T13:14:14.135080Z"
    }
   },
   "outputs": [],
   "source": [
    "postes = pd.read_csv('meteo/postesSynop.csv',sep=';',dtype={'ID':str})\n",
    "postes.Nom =postes.Nom.apply(lambda x : x if x in ['CLERMONT-FD','MONT-DE-MARSAN',\n",
    "                                       'ST-PIERRE','ST-BARTHELEMY METEO'] \n",
    "                               else x[0:x.find('-')] \n",
    "                                    if x.find('-') != -1 else x).apply(lambda x : str(x).title())\n",
    "postes.Altitude = postes.Altitude.astype('int16')\n",
    "postes = postes[postes.ID < '08000']\n",
    "meteo = postes.merge(meteo, how = \"inner\", \n",
    "                     left_on = \"ID\", right_on = \"Station\").drop([\"ID\",\"Station\"], axis = \"columns\")"
   ]
  },
  {
   "cell_type": "code",
   "execution_count": 6,
   "metadata": {
    "ExecuteTime": {
     "end_time": "2021-11-30T13:14:14.293714Z",
     "start_time": "2021-11-30T13:14:14.254790Z"
    }
   },
   "outputs": [],
   "source": [
    "meteo['Precipitation'] =  meteo['Precipitation03'].combine_first(meteo['Precipitation06']/2)\\\n",
    "                                                  .combine_first(meteo['Precipitation12']/4)\\\n",
    "                                                  .combine_first(meteo['Precipitation24']/8)\\\n",
    "                                                  .combine_first(meteo['Precipitation01']*3)"
   ]
  },
  {
   "cell_type": "code",
   "execution_count": 7,
   "metadata": {
    "ExecuteTime": {
     "end_time": "2021-11-30T13:14:14.326653Z",
     "start_time": "2021-11-30T13:14:14.296686Z"
    }
   },
   "outputs": [],
   "source": [
    "meteo.drop(columns=['Precipitation06',\n",
    "                    'Precipitation12',\n",
    "                    'Precipitation24',\n",
    "                    'Precipitation01',\n",
    "                    'Precipitation03'], inplace=True)"
   ]
  },
  {
   "cell_type": "code",
   "execution_count": 8,
   "metadata": {
    "ExecuteTime": {
     "end_time": "2021-11-30T13:14:14.787443Z",
     "start_time": "2021-11-30T13:14:14.330615Z"
    }
   },
   "outputs": [],
   "source": [
    "meteo.to_parquet('meteo.gzip',compression='gzip', engine='pyarrow')"
   ]
  },
  {
   "cell_type": "code",
   "execution_count": 9,
   "metadata": {
    "ExecuteTime": {
     "end_time": "2021-11-30T13:14:16.723519Z",
     "start_time": "2021-11-30T13:14:14.789506Z"
    }
   },
   "outputs": [],
   "source": [
    "meteo.to_csv('meteo.csv', index=None, index_label=None)"
   ]
  },
  {
   "cell_type": "code",
   "execution_count": 10,
   "metadata": {
    "ExecuteTime": {
     "end_time": "2021-11-30T13:14:17.034715Z",
     "start_time": "2021-11-30T13:14:16.725540Z"
    }
   },
   "outputs": [
    {
     "name": "stdout",
     "output_type": "stream",
     "text": [
      "Wall time: 299 ms\n"
     ]
    },
    {
     "data": {
      "text/plain": [
       "Nom               object\n",
       "Latitude         float64\n",
       "Longitude        float64\n",
       "Altitude           int64\n",
       "DateHeure         object\n",
       "DirectionVent    float64\n",
       "VitesseVent      float64\n",
       "Temperature      float64\n",
       "Humidite         float64\n",
       "Visibilite       float64\n",
       "Pression         float64\n",
       "Precipitation    float64\n",
       "dtype: object"
      ]
     },
     "execution_count": 10,
     "metadata": {},
     "output_type": "execute_result"
    }
   ],
   "source": [
    "%%time\n",
    "pd.read_csv('meteo.csv').dtypes"
   ]
  },
  {
   "cell_type": "code",
   "execution_count": 11,
   "metadata": {
    "ExecuteTime": {
     "end_time": "2021-11-30T13:14:17.112506Z",
     "start_time": "2021-11-30T13:14:17.038704Z"
    }
   },
   "outputs": [
    {
     "name": "stdout",
     "output_type": "stream",
     "text": [
      "Wall time: 63.8 ms\n"
     ]
    },
    {
     "data": {
      "text/plain": [
       "Nom                      object\n",
       "Latitude                float64\n",
       "Longitude               float64\n",
       "Altitude                  int16\n",
       "DateHeure        datetime64[ns]\n",
       "DirectionVent           float64\n",
       "VitesseVent             float64\n",
       "Temperature             float64\n",
       "Humidite                float64\n",
       "Visibilite              float64\n",
       "Pression                float64\n",
       "Precipitation           float64\n",
       "dtype: object"
      ]
     },
     "execution_count": 11,
     "metadata": {},
     "output_type": "execute_result"
    }
   ],
   "source": [
    "%%time\n",
    "meteo = pd.read_parquet('meteo.gzip', engine='pyarrow')\n",
    "meteo.dtypes"
   ]
  }
 ],
 "metadata": {
  "kernelspec": {
   "display_name": "Python 3",
   "language": "python",
   "name": "python3"
  },
  "language_info": {
   "codemirror_mode": {
    "name": "ipython",
    "version": 3
   },
   "file_extension": ".py",
   "mimetype": "text/x-python",
   "name": "python",
   "nbconvert_exporter": "python",
   "pygments_lexer": "ipython3",
   "version": "3.8.8"
  },
  "toc": {
   "base_numbering": 1,
   "nav_menu": {},
   "number_sections": true,
   "sideBar": true,
   "skip_h1_title": false,
   "title_cell": "Table of Contents",
   "title_sidebar": "Contents",
   "toc_cell": true,
   "toc_position": {},
   "toc_section_display": true,
   "toc_window_display": false
  }
 },
 "nbformat": 4,
 "nbformat_minor": 4
}
