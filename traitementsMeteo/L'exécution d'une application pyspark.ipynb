{
 "cells": [
  {
   "cell_type": "markdown",
   "metadata": {},
   "source": [
    "# Initialisation des librairies"
   ]
  },
  {
   "cell_type": "code",
   "execution_count": 1,
   "metadata": {},
   "outputs": [],
   "source": [
    "import os\n",
    "from pyspark.sql.functions import *\n",
    "from pyspark.sql.types     import StructType, \\\n",
    "     StructField, FloatType, \\\n",
    "     IntegerType, StringType"
   ]
  },
  {
   "cell_type": "markdown",
   "metadata": {},
   "source": [
    "# L'objet SPARK Session"
   ]
  },
  {
   "cell_type": "code",
   "execution_count": 2,
   "metadata": {},
   "outputs": [
    {
     "data": {
      "text/html": [
       "\n",
       "            <div>\n",
       "                <p><b>SparkSession - hive</b></p>\n",
       "                \n",
       "        <div>\n",
       "            <p><b>SparkContext</b></p>\n",
       "\n",
       "            <p><a href=\"http://192.168.116.128:4040\">Spark UI</a></p>\n",
       "\n",
       "            <dl>\n",
       "              <dt>Version</dt>\n",
       "                <dd><code>v3.2.0</code></dd>\n",
       "              <dt>Master</dt>\n",
       "                <dd><code>local[*]</code></dd>\n",
       "              <dt>AppName</dt>\n",
       "                <dd><code>PySparkShell</code></dd>\n",
       "            </dl>\n",
       "        </div>\n",
       "        \n",
       "            </div>\n",
       "        "
      ],
      "text/plain": [
       "<pyspark.sql.session.SparkSession at 0x7f47e423d790>"
      ]
     },
     "execution_count": 2,
     "metadata": {},
     "output_type": "execute_result"
    }
   ],
   "source": [
    "spark"
   ]
  },
  {
   "cell_type": "code",
   "execution_count": 3,
   "metadata": {},
   "outputs": [
    {
     "data": {
      "text/html": [
       "\n",
       "        <div>\n",
       "            <p><b>SparkContext</b></p>\n",
       "\n",
       "            <p><a href=\"http://192.168.116.128:4040\">Spark UI</a></p>\n",
       "\n",
       "            <dl>\n",
       "              <dt>Version</dt>\n",
       "                <dd><code>v3.2.0</code></dd>\n",
       "              <dt>Master</dt>\n",
       "                <dd><code>local[*]</code></dd>\n",
       "              <dt>AppName</dt>\n",
       "                <dd><code>PySparkShell</code></dd>\n",
       "            </dl>\n",
       "        </div>\n",
       "        "
      ],
      "text/plain": [
       "<SparkContext master=local[*] appName=PySparkShell>"
      ]
     },
     "execution_count": 3,
     "metadata": {},
     "output_type": "execute_result"
    }
   ],
   "source": [
    "spark.sparkContext"
   ]
  },
  {
   "cell_type": "code",
   "execution_count": 4,
   "metadata": {},
   "outputs": [
    {
     "data": {
      "text/plain": [
       "'3.2.0'"
      ]
     },
     "execution_count": 4,
     "metadata": {},
     "output_type": "execute_result"
    }
   ],
   "source": [
    "spark.version"
   ]
  },
  {
   "cell_type": "markdown",
   "metadata": {},
   "source": [
    "# Le chargement des données"
   ]
  },
  {
   "cell_type": "code",
   "execution_count": 5,
   "metadata": {},
   "outputs": [],
   "source": [
    "!mkdir /home/razvan/Documents/donnees"
   ]
  },
  {
   "cell_type": "code",
   "execution_count": 6,
   "metadata": {},
   "outputs": [],
   "source": [
    "os.chdir(\"/home/razvan/Documents/donnees\")"
   ]
  },
  {
   "cell_type": "code",
   "execution_count": 7,
   "metadata": {},
   "outputs": [
    {
     "name": "stdout",
     "output_type": "stream",
     "text": [
      "--2021-11-30 10:19:34--  https://donneespubliques.meteofrance.fr/donnees_libres/Txt/Synop/postesSynop.csv\n",
      "Résolution de donneespubliques.meteofrance.fr (donneespubliques.meteofrance.fr)… 137.129.43.49\n",
      "Connexion à donneespubliques.meteofrance.fr (donneespubliques.meteofrance.fr)|137.129.43.49|:443… connecté.\n",
      "requête HTTP transmise, en attente de la réponse… 200 OK\n",
      "Taille : 2618 (2,6K) [text/plain]\n",
      "Enregistre : «postesSynop.csv»\n",
      "\n",
      "postesSynop.csv     100%[===================>]   2,56K  --.-KB/s    ds 0s      \n",
      "\n",
      "2021-11-30 10:19:34 (416 MB/s) - «postesSynop.csv» enregistré [2618/2618]\n",
      "\n"
     ]
    }
   ],
   "source": [
    "!wget https://donneespubliques.meteofrance.fr/donnees_libres/Txt/Synop/postesSynop.csv"
   ]
  },
  {
   "cell_type": "code",
   "execution_count": 8,
   "metadata": {},
   "outputs": [
    {
     "name": "stdout",
     "output_type": "stream",
     "text": [
      "/home/razvan/Documents/donnees\r\n"
     ]
    }
   ],
   "source": [
    "!pwd"
   ]
  },
  {
   "cell_type": "code",
   "execution_count": 9,
   "metadata": {},
   "outputs": [
    {
     "name": "stdout",
     "output_type": "stream",
     "text": [
      "total 12\r\n",
      "drwxrwxr-x 2 razvan razvan 4096 nov.  30 10:19 .\r\n",
      "drwxr-xr-x 4 razvan razvan 4096 nov.  30 10:19 ..\r\n",
      "-rw-rw-r-- 1 razvan razvan 2618 nov.  30 10:10 postesSynop.csv\r\n"
     ]
    }
   ],
   "source": [
    "!ls -al"
   ]
  },
  {
   "cell_type": "code",
   "execution_count": 10,
   "metadata": {},
   "outputs": [],
   "source": [
    "!mkdir -p meteo"
   ]
  },
  {
   "cell_type": "code",
   "execution_count": 11,
   "metadata": {},
   "outputs": [],
   "source": [
    "os.chdir(\"/home/razvan/Documents/donnees/meteo\")"
   ]
  },
  {
   "cell_type": "code",
   "execution_count": 12,
   "metadata": {},
   "outputs": [
    {
     "name": "stdout",
     "output_type": "stream",
     "text": [
      "total 8\r\n",
      "drwxrwxr-x 2 razvan razvan 4096 nov.  30 10:19 .\r\n",
      "drwxrwxr-x 3 razvan razvan 4096 nov.  30 10:19 ..\r\n"
     ]
    }
   ],
   "source": [
    "!ls -al"
   ]
  },
  {
   "cell_type": "code",
   "execution_count": 14,
   "metadata": {},
   "outputs": [
    {
     "name": "stdout",
     "output_type": "stream",
     "text": [
      "#!/bin/bash\r\n",
      "#\r\n",
      "for annee in `seq 2019 2020`\r\n",
      "do\r\n",
      "    for mois in `seq 1 12`\r\n",
      "    do\r\n",
      "        fichier=`printf \"https://donneespubliques.meteofrance.fr/donnees_libres/Txt/Synop/Archive/synop.%d%02d.csv.gz\" $annee $mois`\r\n",
      "        wget $fichier\r\n",
      "        `printf \"gunzip -d synop.%d%02d.csv.gz\" $annee $mois`\r\n",
      "    done\r\n",
      "done\r\n"
     ]
    }
   ],
   "source": [
    "!curl -s https://raw.githubusercontent.com/rbizoi/AnalyserLesDonneesAvecSpark/main/traitementsMeteo/chargeMeteo.sh"
   ]
  },
  {
   "cell_type": "code",
   "execution_count": 15,
   "metadata": {
    "scrolled": true
   },
   "outputs": [
    {
     "name": "stdout",
     "output_type": "stream",
     "text": [
      "--2021-11-30 10:21:22--  https://donneespubliques.meteofrance.fr/donnees_libres/Txt/Synop/Archive/synop.201901.csv.gz\n",
      "Résolution de donneespubliques.meteofrance.fr (donneespubliques.meteofrance.fr)… 137.129.43.49\n",
      "Connexion à donneespubliques.meteofrance.fr (donneespubliques.meteofrance.fr)|137.129.43.49|:443… connecté.\n",
      "requête HTTP transmise, en attente de la réponse… 200 OK\n",
      "Taille : 668601 (653K) [application/x-gzip]\n",
      "Enregistre : «synop.201901.csv.gz»\n",
      "\n",
      "synop.201901.csv.gz 100%[===================>] 652,93K  1,11MB/s    ds 0,6s    \n",
      "\n",
      "2021-11-30 10:21:23 (1,11 MB/s) - «synop.201901.csv.gz» enregistré [668601/668601]\n",
      "\n",
      "--2021-11-30 10:21:23--  https://donneespubliques.meteofrance.fr/donnees_libres/Txt/Synop/Archive/synop.201902.csv.gz\n",
      "Résolution de donneespubliques.meteofrance.fr (donneespubliques.meteofrance.fr)… 137.129.43.49\n",
      "Connexion à donneespubliques.meteofrance.fr (donneespubliques.meteofrance.fr)|137.129.43.49|:443… connecté.\n",
      "requête HTTP transmise, en attente de la réponse… 200 OK\n",
      "Taille : 573872 (560K) [application/x-gzip]\n",
      "Enregistre : «synop.201902.csv.gz»\n",
      "\n",
      "synop.201902.csv.gz 100%[===================>] 560,42K  1,07MB/s    ds 0,5s    \n",
      "\n",
      "2021-11-30 10:21:23 (1,07 MB/s) - «synop.201902.csv.gz» enregistré [573872/573872]\n",
      "\n",
      "--2021-11-30 10:21:23--  https://donneespubliques.meteofrance.fr/donnees_libres/Txt/Synop/Archive/synop.201903.csv.gz\n",
      "Résolution de donneespubliques.meteofrance.fr (donneespubliques.meteofrance.fr)… 137.129.43.49\n",
      "Connexion à donneespubliques.meteofrance.fr (donneespubliques.meteofrance.fr)|137.129.43.49|:443… connecté.\n",
      "requête HTTP transmise, en attente de la réponse… 200 OK\n",
      "Taille : 647822 (633K) [application/x-gzip]\n",
      "Enregistre : «synop.201903.csv.gz»\n",
      "\n",
      "synop.201903.csv.gz 100%[===================>] 632,64K  1,68MB/s    ds 0,4s    \n",
      "\n",
      "2021-11-30 10:21:24 (1,68 MB/s) - «synop.201903.csv.gz» enregistré [647822/647822]\n",
      "\n",
      "--2021-11-30 10:21:24--  https://donneespubliques.meteofrance.fr/donnees_libres/Txt/Synop/Archive/synop.201904.csv.gz\n",
      "Résolution de donneespubliques.meteofrance.fr (donneespubliques.meteofrance.fr)… 137.129.43.49\n",
      "Connexion à donneespubliques.meteofrance.fr (donneespubliques.meteofrance.fr)|137.129.43.49|:443… connecté.\n",
      "requête HTTP transmise, en attente de la réponse… 200 OK\n",
      "Taille : 647095 (632K) [application/x-gzip]\n",
      "Enregistre : «synop.201904.csv.gz»\n",
      "\n",
      "synop.201904.csv.gz 100%[===================>] 631,93K  1,13MB/s    ds 0,5s    \n",
      "\n",
      "2021-11-30 10:21:25 (1,13 MB/s) - «synop.201904.csv.gz» enregistré [647095/647095]\n",
      "\n",
      "--2021-11-30 10:21:25--  https://donneespubliques.meteofrance.fr/donnees_libres/Txt/Synop/Archive/synop.201905.csv.gz\n",
      "Résolution de donneespubliques.meteofrance.fr (donneespubliques.meteofrance.fr)… 137.129.43.49\n",
      "Connexion à donneespubliques.meteofrance.fr (donneespubliques.meteofrance.fr)|137.129.43.49|:443… connecté.\n",
      "requête HTTP transmise, en attente de la réponse… 200 OK\n",
      "Taille : 660459 (645K) [application/x-gzip]\n",
      "Enregistre : «synop.201905.csv.gz»\n",
      "\n",
      "synop.201905.csv.gz 100%[===================>] 644,98K  1,05MB/s    ds 0,6s    \n",
      "\n",
      "2021-11-30 10:21:25 (1,05 MB/s) - «synop.201905.csv.gz» enregistré [660459/660459]\n",
      "\n",
      "--2021-11-30 10:21:25--  https://donneespubliques.meteofrance.fr/donnees_libres/Txt/Synop/Archive/synop.201906.csv.gz\n",
      "Résolution de donneespubliques.meteofrance.fr (donneespubliques.meteofrance.fr)… 137.129.43.49\n",
      "Connexion à donneespubliques.meteofrance.fr (donneespubliques.meteofrance.fr)|137.129.43.49|:443… connecté.\n",
      "requête HTTP transmise, en attente de la réponse… 200 OK\n",
      "Taille : 621914 (607K) [application/x-gzip]\n",
      "Enregistre : «synop.201906.csv.gz»\n",
      "\n",
      "synop.201906.csv.gz 100%[===================>] 607,34K  1,54MB/s    ds 0,4s    \n",
      "\n",
      "2021-11-30 10:21:26 (1,54 MB/s) - «synop.201906.csv.gz» enregistré [621914/621914]\n",
      "\n",
      "--2021-11-30 10:21:26--  https://donneespubliques.meteofrance.fr/donnees_libres/Txt/Synop/Archive/synop.201907.csv.gz\n",
      "Résolution de donneespubliques.meteofrance.fr (donneespubliques.meteofrance.fr)… 137.129.43.49\n",
      "Connexion à donneespubliques.meteofrance.fr (donneespubliques.meteofrance.fr)|137.129.43.49|:443… connecté.\n",
      "requête HTTP transmise, en attente de la réponse… 200 OK\n",
      "Taille : 616131 (602K) [application/x-gzip]\n",
      "Enregistre : «synop.201907.csv.gz»\n",
      "\n",
      "synop.201907.csv.gz 100%[===================>] 601,69K  1,63MB/s    ds 0,4s    \n",
      "\n",
      "2021-11-30 10:21:26 (1,63 MB/s) - «synop.201907.csv.gz» enregistré [616131/616131]\n",
      "\n",
      "--2021-11-30 10:21:26--  https://donneespubliques.meteofrance.fr/donnees_libres/Txt/Synop/Archive/synop.201908.csv.gz\n",
      "Résolution de donneespubliques.meteofrance.fr (donneespubliques.meteofrance.fr)… 137.129.43.49\n",
      "Connexion à donneespubliques.meteofrance.fr (donneespubliques.meteofrance.fr)|137.129.43.49|:443… connecté.\n",
      "requête HTTP transmise, en attente de la réponse… 200 OK\n",
      "Taille : 625469 (611K) [application/x-gzip]\n",
      "Enregistre : «synop.201908.csv.gz»\n",
      "\n",
      "synop.201908.csv.gz 100%[===================>] 610,81K  1,92MB/s    ds 0,3s    \n",
      "\n",
      "2021-11-30 10:21:27 (1,92 MB/s) - «synop.201908.csv.gz» enregistré [625469/625469]\n",
      "\n",
      "--2021-11-30 10:21:27--  https://donneespubliques.meteofrance.fr/donnees_libres/Txt/Synop/Archive/synop.201909.csv.gz\n",
      "Résolution de donneespubliques.meteofrance.fr (donneespubliques.meteofrance.fr)… 137.129.43.49\n",
      "Connexion à donneespubliques.meteofrance.fr (donneespubliques.meteofrance.fr)|137.129.43.49|:443… connecté.\n",
      "requête HTTP transmise, en attente de la réponse… 200 OK\n",
      "Taille : 605598 (591K) [application/x-gzip]\n",
      "Enregistre : «synop.201909.csv.gz»\n",
      "\n",
      "synop.201909.csv.gz 100%[===================>] 591,40K  1,53MB/s    ds 0,4s    \n",
      "\n",
      "2021-11-30 10:21:27 (1,53 MB/s) - «synop.201909.csv.gz» enregistré [605598/605598]\n",
      "\n",
      "--2021-11-30 10:21:27--  https://donneespubliques.meteofrance.fr/donnees_libres/Txt/Synop/Archive/synop.201910.csv.gz\n",
      "Résolution de donneespubliques.meteofrance.fr (donneespubliques.meteofrance.fr)… 137.129.43.49\n",
      "Connexion à donneespubliques.meteofrance.fr (donneespubliques.meteofrance.fr)|137.129.43.49|:443… connecté.\n",
      "requête HTTP transmise, en attente de la réponse… 200 OK\n",
      "Taille : 675016 (659K) [application/x-gzip]\n",
      "Enregistre : «synop.201910.csv.gz»\n",
      "\n",
      "synop.201910.csv.gz 100%[===================>] 659,20K  1,78MB/s    ds 0,4s    \n",
      "\n",
      "2021-11-30 10:21:28 (1,78 MB/s) - «synop.201910.csv.gz» enregistré [675016/675016]\n",
      "\n",
      "--2021-11-30 10:21:28--  https://donneespubliques.meteofrance.fr/donnees_libres/Txt/Synop/Archive/synop.201911.csv.gz\n",
      "Résolution de donneespubliques.meteofrance.fr (donneespubliques.meteofrance.fr)… 137.129.43.49\n",
      "Connexion à donneespubliques.meteofrance.fr (donneespubliques.meteofrance.fr)|137.129.43.49|:443… connecté.\n",
      "requête HTTP transmise, en attente de la réponse… 200 OK\n",
      "Taille : 679432 (664K) [application/x-gzip]\n",
      "Enregistre : «synop.201911.csv.gz»\n",
      "\n",
      "synop.201911.csv.gz 100%[===================>] 663,51K  2,52MB/s    ds 0,3s    \n",
      "\n",
      "2021-11-30 10:21:28 (2,52 MB/s) - «synop.201911.csv.gz» enregistré [679432/679432]\n",
      "\n",
      "--2021-11-30 10:21:28--  https://donneespubliques.meteofrance.fr/donnees_libres/Txt/Synop/Archive/synop.201912.csv.gz\n",
      "Résolution de donneespubliques.meteofrance.fr (donneespubliques.meteofrance.fr)… 137.129.43.49\n",
      "Connexion à donneespubliques.meteofrance.fr (donneespubliques.meteofrance.fr)|137.129.43.49|:443… connecté.\n",
      "requête HTTP transmise, en attente de la réponse… 200 OK\n",
      "Taille : 685603 (670K) [application/x-gzip]\n",
      "Enregistre : «synop.201912.csv.gz»\n",
      "\n",
      "synop.201912.csv.gz 100%[===================>] 669,53K  1,15MB/s    ds 0,6s    \n",
      "\n",
      "2021-11-30 10:21:29 (1,15 MB/s) - «synop.201912.csv.gz» enregistré [685603/685603]\n",
      "\n",
      "--2021-11-30 10:21:29--  https://donneespubliques.meteofrance.fr/donnees_libres/Txt/Synop/Archive/synop.202001.csv.gz\n",
      "Résolution de donneespubliques.meteofrance.fr (donneespubliques.meteofrance.fr)… 137.129.43.49\n",
      "Connexion à donneespubliques.meteofrance.fr (donneespubliques.meteofrance.fr)|137.129.43.49|:443… connecté.\n",
      "requête HTTP transmise, en attente de la réponse… 200 OK\n",
      "Taille : 664682 (649K) [application/x-gzip]\n",
      "Enregistre : «synop.202001.csv.gz»\n",
      "\n",
      "synop.202001.csv.gz 100%[===================>] 649,10K  1,50MB/s    ds 0,4s    \n",
      "\n",
      "2021-11-30 10:21:30 (1,50 MB/s) - «synop.202001.csv.gz» enregistré [664682/664682]\n",
      "\n",
      "--2021-11-30 10:21:30--  https://donneespubliques.meteofrance.fr/donnees_libres/Txt/Synop/Archive/synop.202002.csv.gz\n",
      "Résolution de donneespubliques.meteofrance.fr (donneespubliques.meteofrance.fr)… 137.129.43.49\n",
      "Connexion à donneespubliques.meteofrance.fr (donneespubliques.meteofrance.fr)|137.129.43.49|:443… connecté.\n",
      "requête HTTP transmise, en attente de la réponse… 200 OK\n",
      "Taille : 633160 (618K) [application/x-gzip]\n",
      "Enregistre : «synop.202002.csv.gz»\n",
      "\n",
      "synop.202002.csv.gz 100%[===================>] 618,32K  1,22MB/s    ds 0,5s    \n",
      "\n",
      "2021-11-30 10:21:30 (1,22 MB/s) - «synop.202002.csv.gz» enregistré [633160/633160]\n",
      "\n",
      "--2021-11-30 10:21:30--  https://donneespubliques.meteofrance.fr/donnees_libres/Txt/Synop/Archive/synop.202003.csv.gz\n",
      "Résolution de donneespubliques.meteofrance.fr (donneespubliques.meteofrance.fr)… 137.129.43.49\n",
      "Connexion à donneespubliques.meteofrance.fr (donneespubliques.meteofrance.fr)|137.129.43.49|:443… connecté.\n",
      "requête HTTP transmise, en attente de la réponse… 200 OK\n",
      "Taille : 660847 (645K) [application/x-gzip]\n",
      "Enregistre : «synop.202003.csv.gz»\n",
      "\n",
      "synop.202003.csv.gz 100%[===================>] 645,36K  3,08MB/s    ds 0,2s    \n",
      "\n",
      "2021-11-30 10:21:31 (3,08 MB/s) - «synop.202003.csv.gz» enregistré [660847/660847]\n",
      "\n",
      "--2021-11-30 10:21:31--  https://donneespubliques.meteofrance.fr/donnees_libres/Txt/Synop/Archive/synop.202004.csv.gz\n",
      "Résolution de donneespubliques.meteofrance.fr (donneespubliques.meteofrance.fr)… 137.129.43.49\n",
      "Connexion à donneespubliques.meteofrance.fr (donneespubliques.meteofrance.fr)|137.129.43.49|:443… connecté.\n",
      "requête HTTP transmise, en attente de la réponse… 200 OK\n",
      "Taille : 612419 (598K) [application/x-gzip]\n",
      "Enregistre : «synop.202004.csv.gz»\n",
      "\n",
      "synop.202004.csv.gz 100%[===================>] 598,07K  1,73MB/s    ds 0,3s    \n",
      "\n",
      "2021-11-30 10:21:31 (1,73 MB/s) - «synop.202004.csv.gz» enregistré [612419/612419]\n",
      "\n",
      "--2021-11-30 10:21:31--  https://donneespubliques.meteofrance.fr/donnees_libres/Txt/Synop/Archive/synop.202005.csv.gz\n",
      "Résolution de donneespubliques.meteofrance.fr (donneespubliques.meteofrance.fr)… 137.129.43.49\n",
      "Connexion à donneespubliques.meteofrance.fr (donneespubliques.meteofrance.fr)|137.129.43.49|:443… connecté.\n",
      "requête HTTP transmise, en attente de la réponse… 200 OK\n",
      "Taille : 616843 (602K) [application/x-gzip]\n",
      "Enregistre : «synop.202005.csv.gz»\n",
      "\n",
      "synop.202005.csv.gz 100%[===================>] 602,39K  3,09MB/s    ds 0,2s    \n",
      "\n",
      "2021-11-30 10:21:31 (3,09 MB/s) - «synop.202005.csv.gz» enregistré [616843/616843]\n",
      "\n",
      "--2021-11-30 10:21:31--  https://donneespubliques.meteofrance.fr/donnees_libres/Txt/Synop/Archive/synop.202006.csv.gz\n",
      "Résolution de donneespubliques.meteofrance.fr (donneespubliques.meteofrance.fr)… 137.129.43.49\n",
      "Connexion à donneespubliques.meteofrance.fr (donneespubliques.meteofrance.fr)|137.129.43.49|:443… connecté.\n",
      "requête HTTP transmise, en attente de la réponse… 200 OK\n",
      "Taille : 626225 (612K) [application/x-gzip]\n",
      "Enregistre : «synop.202006.csv.gz»\n",
      "\n",
      "synop.202006.csv.gz 100%[===================>] 611,55K  1,19MB/s    ds 0,5s    \n",
      "\n",
      "2021-11-30 10:21:32 (1,19 MB/s) - «synop.202006.csv.gz» enregistré [626225/626225]\n",
      "\n",
      "--2021-11-30 10:21:32--  https://donneespubliques.meteofrance.fr/donnees_libres/Txt/Synop/Archive/synop.202007.csv.gz\n",
      "Résolution de donneespubliques.meteofrance.fr (donneespubliques.meteofrance.fr)… 137.129.43.49\n",
      "Connexion à donneespubliques.meteofrance.fr (donneespubliques.meteofrance.fr)|137.129.43.49|:443… connecté.\n",
      "requête HTTP transmise, en attente de la réponse… 200 OK\n",
      "Taille : 612078 (598K) [application/x-gzip]\n",
      "Enregistre : «synop.202007.csv.gz»\n",
      "\n",
      "synop.202007.csv.gz 100%[===================>] 597,73K  1,23MB/s    ds 0,5s    \n",
      "\n",
      "2021-11-30 10:21:33 (1,23 MB/s) - «synop.202007.csv.gz» enregistré [612078/612078]\n",
      "\n",
      "--2021-11-30 10:21:33--  https://donneespubliques.meteofrance.fr/donnees_libres/Txt/Synop/Archive/synop.202008.csv.gz\n",
      "Résolution de donneespubliques.meteofrance.fr (donneespubliques.meteofrance.fr)… 137.129.43.49\n",
      "Connexion à donneespubliques.meteofrance.fr (donneespubliques.meteofrance.fr)|137.129.43.49|:443… connecté.\n",
      "requête HTTP transmise, en attente de la réponse… 200 OK\n",
      "Taille : 648116 (633K) [application/x-gzip]\n",
      "Enregistre : «synop.202008.csv.gz»\n",
      "\n",
      "synop.202008.csv.gz 100%[===================>] 632,93K  1,39MB/s    ds 0,4s    \n",
      "\n",
      "2021-11-30 10:21:33 (1,39 MB/s) - «synop.202008.csv.gz» enregistré [648116/648116]\n",
      "\n",
      "--2021-11-30 10:21:33--  https://donneespubliques.meteofrance.fr/donnees_libres/Txt/Synop/Archive/synop.202009.csv.gz\n",
      "Résolution de donneespubliques.meteofrance.fr (donneespubliques.meteofrance.fr)… 137.129.43.49\n",
      "Connexion à donneespubliques.meteofrance.fr (donneespubliques.meteofrance.fr)|137.129.43.49|:443… connecté.\n",
      "requête HTTP transmise, en attente de la réponse… 200 OK\n",
      "Taille : 619329 (605K) [application/x-gzip]\n",
      "Enregistre : «synop.202009.csv.gz»\n",
      "\n",
      "synop.202009.csv.gz 100%[===================>] 604,81K  1,32MB/s    ds 0,4s    \n",
      "\n",
      "2021-11-30 10:21:34 (1,32 MB/s) - «synop.202009.csv.gz» enregistré [619329/619329]\n",
      "\n",
      "--2021-11-30 10:21:34--  https://donneespubliques.meteofrance.fr/donnees_libres/Txt/Synop/Archive/synop.202010.csv.gz\n",
      "Résolution de donneespubliques.meteofrance.fr (donneespubliques.meteofrance.fr)… 137.129.43.49\n",
      "Connexion à donneespubliques.meteofrance.fr (donneespubliques.meteofrance.fr)|137.129.43.49|:443… connecté.\n",
      "requête HTTP transmise, en attente de la réponse… 200 OK\n",
      "Taille : 669961 (654K) [application/x-gzip]\n",
      "Enregistre : «synop.202010.csv.gz»\n",
      "\n",
      "synop.202010.csv.gz 100%[===================>] 654,26K  1,13MB/s    ds 0,6s    \n",
      "\n",
      "2021-11-30 10:21:34 (1,13 MB/s) - «synop.202010.csv.gz» enregistré [669961/669961]\n",
      "\n",
      "--2021-11-30 10:21:34--  https://donneespubliques.meteofrance.fr/donnees_libres/Txt/Synop/Archive/synop.202011.csv.gz\n",
      "Résolution de donneespubliques.meteofrance.fr (donneespubliques.meteofrance.fr)… 137.129.43.49\n",
      "Connexion à donneespubliques.meteofrance.fr (donneespubliques.meteofrance.fr)|137.129.43.49|:443… connecté.\n",
      "requête HTTP transmise, en attente de la réponse… 200 OK\n",
      "Taille : 628201 (613K) [application/x-gzip]\n",
      "Enregistre : «synop.202011.csv.gz»\n",
      "\n",
      "synop.202011.csv.gz 100%[===================>] 613,48K  1,30MB/s    ds 0,5s    \n",
      "\n",
      "2021-11-30 10:21:35 (1,30 MB/s) - «synop.202011.csv.gz» enregistré [628201/628201]\n",
      "\n",
      "--2021-11-30 10:21:35--  https://donneespubliques.meteofrance.fr/donnees_libres/Txt/Synop/Archive/synop.202012.csv.gz\n",
      "Résolution de donneespubliques.meteofrance.fr (donneespubliques.meteofrance.fr)… 137.129.43.49\n",
      "Connexion à donneespubliques.meteofrance.fr (donneespubliques.meteofrance.fr)|137.129.43.49|:443… connecté.\n",
      "requête HTTP transmise, en attente de la réponse… 200 OK\n",
      "Taille : 686352 (670K) [application/x-gzip]\n",
      "Enregistre : «synop.202012.csv.gz»\n",
      "\n",
      "synop.202012.csv.gz 100%[===================>] 670,27K  1,13MB/s    ds 0,6s    \n",
      "\n",
      "2021-11-30 10:21:36 (1,13 MB/s) - «synop.202012.csv.gz» enregistré [686352/686352]\n",
      "\n"
     ]
    }
   ],
   "source": [
    "!bash <(curl -s https://raw.githubusercontent.com/rbizoi/AnalyserLesDonneesAvecSpark/main/traitementsMeteo/chargeMeteo.sh)"
   ]
  },
  {
   "cell_type": "code",
   "execution_count": 17,
   "metadata": {},
   "outputs": [
    {
     "name": "stdout",
     "output_type": "stream",
     "text": [
      "synop.201901.csv  synop.201907.csv  synop.202001.csv  synop.202007.csv\r\n",
      "synop.201902.csv  synop.201908.csv  synop.202002.csv  synop.202008.csv\r\n",
      "synop.201903.csv  synop.201909.csv  synop.202003.csv  synop.202009.csv\r\n",
      "synop.201904.csv  synop.201910.csv  synop.202004.csv  synop.202010.csv\r\n",
      "synop.201905.csv  synop.201911.csv  synop.202005.csv  synop.202011.csv\r\n",
      "synop.201906.csv  synop.201912.csv  synop.202006.csv  synop.202012.csv\r\n"
     ]
    }
   ],
   "source": [
    "!ls"
   ]
  },
  {
   "cell_type": "markdown",
   "metadata": {},
   "source": [
    "# Lecture d'un fichier csv"
   ]
  },
  {
   "cell_type": "code",
   "execution_count": 18,
   "metadata": {},
   "outputs": [
    {
     "data": {
      "text/html": [
       "<div>\n",
       "<style scoped>\n",
       "    .dataframe tbody tr th:only-of-type {\n",
       "        vertical-align: middle;\n",
       "    }\n",
       "\n",
       "    .dataframe tbody tr th {\n",
       "        vertical-align: top;\n",
       "    }\n",
       "\n",
       "    .dataframe thead th {\n",
       "        text-align: right;\n",
       "    }\n",
       "</style>\n",
       "<table border=\"1\" class=\"dataframe\">\n",
       "  <thead>\n",
       "    <tr style=\"text-align: right;\">\n",
       "      <th></th>\n",
       "      <th>Station</th>\n",
       "      <th>Ville</th>\n",
       "      <th>Latitude</th>\n",
       "      <th>Longitude</th>\n",
       "      <th>Altitude</th>\n",
       "    </tr>\n",
       "  </thead>\n",
       "  <tbody>\n",
       "    <tr>\n",
       "      <th>0</th>\n",
       "      <td>07005</td>\n",
       "      <td>ABBEVILLE</td>\n",
       "      <td>50.136000</td>\n",
       "      <td>1.834000</td>\n",
       "      <td>69</td>\n",
       "    </tr>\n",
       "    <tr>\n",
       "      <th>1</th>\n",
       "      <td>07015</td>\n",
       "      <td>LILLE-LESQUIN</td>\n",
       "      <td>50.570000</td>\n",
       "      <td>3.097500</td>\n",
       "      <td>47</td>\n",
       "    </tr>\n",
       "    <tr>\n",
       "      <th>2</th>\n",
       "      <td>07020</td>\n",
       "      <td>PTE DE LA HAGUE</td>\n",
       "      <td>49.725167</td>\n",
       "      <td>-1.939833</td>\n",
       "      <td>6</td>\n",
       "    </tr>\n",
       "    <tr>\n",
       "      <th>3</th>\n",
       "      <td>07027</td>\n",
       "      <td>CAEN-CARPIQUET</td>\n",
       "      <td>49.180000</td>\n",
       "      <td>-0.456167</td>\n",
       "      <td>67</td>\n",
       "    </tr>\n",
       "    <tr>\n",
       "      <th>4</th>\n",
       "      <td>07037</td>\n",
       "      <td>ROUEN-BOOS</td>\n",
       "      <td>49.383000</td>\n",
       "      <td>1.181667</td>\n",
       "      <td>151</td>\n",
       "    </tr>\n",
       "  </tbody>\n",
       "</table>\n",
       "</div>"
      ],
      "text/plain": [
       "  Station            Ville   Latitude  Longitude Altitude\n",
       "0   07005        ABBEVILLE  50.136000   1.834000       69\n",
       "1   07015    LILLE-LESQUIN  50.570000   3.097500       47\n",
       "2   07020  PTE DE LA HAGUE  49.725167  -1.939833        6\n",
       "3   07027   CAEN-CARPIQUET  49.180000  -0.456167       67\n",
       "4   07037       ROUEN-BOOS  49.383000   1.181667      151"
      ]
     },
     "execution_count": 18,
     "metadata": {},
     "output_type": "execute_result"
    }
   ],
   "source": [
    "spark.read.format(\"csv\").option(\"sep\", \";\").\\\n",
    "           option(\"mergeSchema\", \"true\").\\\n",
    "           option(\"header\",\"true\").\\\n",
    "           option(\"nullValue\",\"mq\").\\\n",
    "           load(\"donnees/postesSynop.csv\").\\\n",
    "           filter(\"ID<8000\").\\\n",
    "           toDF(\"Station\",\"Ville\",\"Latitude\",\"Longitude\",\"Altitude\").\\\n",
    "           toPandas().head(5)"
   ]
  },
  {
   "cell_type": "code",
   "execution_count": 19,
   "metadata": {},
   "outputs": [],
   "source": [
    "donneesStations = spark.read.format(\"csv\").\\\n",
    "                        option(\"sep\", \";\").\\\n",
    "                        option(\"mergeSchema\", \"true\").\\\n",
    "                        option(\"header\",\"true\").\\\n",
    "                        option(\"nullValue\",\"mq\").\\\n",
    "                        load(\"file:/home/razvan/Documents/donnees/postesSynop.csv\").\\\n",
    "                        filter(\"ID<8000\").\\\n",
    "                        toDF(\"Station\",\"Ville\",\\\n",
    "                             \"Latitude\",\"Longitude\",\"Altitude\")"
   ]
  },
  {
   "cell_type": "code",
   "execution_count": 20,
   "metadata": {},
   "outputs": [
    {
     "name": "stdout",
     "output_type": "stream",
     "text": [
      "root\n",
      " |-- Station: string (nullable = true)\n",
      " |-- Ville: string (nullable = true)\n",
      " |-- Latitude: string (nullable = true)\n",
      " |-- Longitude: string (nullable = true)\n",
      " |-- Altitude: string (nullable = true)\n",
      "\n"
     ]
    }
   ],
   "source": [
    "donneesStations.printSchema()"
   ]
  },
  {
   "cell_type": "code",
   "execution_count": 21,
   "metadata": {},
   "outputs": [
    {
     "name": "stdout",
     "output_type": "stream",
     "text": [
      "+-------+---------------+---------+---------+--------+\n",
      "|Station|          Ville| Latitude|Longitude|Altitude|\n",
      "+-------+---------------+---------+---------+--------+\n",
      "|  07005|      ABBEVILLE|50.136000| 1.834000|      69|\n",
      "|  07015|  LILLE-LESQUIN|50.570000| 3.097500|      47|\n",
      "|  07020|PTE DE LA HAGUE|49.725167|-1.939833|       6|\n",
      "|  07027| CAEN-CARPIQUET|49.180000|-0.456167|      67|\n",
      "|  07037|     ROUEN-BOOS|49.383000| 1.181667|     151|\n",
      "+-------+---------------+---------+---------+--------+\n",
      "only showing top 5 rows\n",
      "\n"
     ]
    }
   ],
   "source": [
    "donneesStations.show(5)"
   ]
  },
  {
   "cell_type": "code",
   "execution_count": 22,
   "metadata": {},
   "outputs": [
    {
     "name": "stderr",
     "output_type": "stream",
     "text": [
      "                                                                                \r"
     ]
    }
   ],
   "source": [
    "donneesStations.write.mode('overwrite').format('parquet').save('file:/home/razvan/Documents/donnees/postesSynop.parquet')"
   ]
  },
  {
   "cell_type": "code",
   "execution_count": 23,
   "metadata": {},
   "outputs": [],
   "source": [
    "donnees = spark.read.format('parquet').load('file:/home/razvan/Documents/donnees/postesSynop.parquet')"
   ]
  },
  {
   "cell_type": "code",
   "execution_count": 24,
   "metadata": {},
   "outputs": [
    {
     "name": "stdout",
     "output_type": "stream",
     "text": [
      "total 20\r\n",
      "drwxrwxr-x 4 razvan razvan 4096 nov.  30 10:22 .\r\n",
      "drwxr-xr-x 4 razvan razvan 4096 nov.  30 10:21 ..\r\n",
      "drwxrwxr-x 2 razvan razvan 4096 nov.  30 10:21 meteo\r\n",
      "-rw-rw-r-- 1 razvan razvan 2618 nov.  30 10:10 postesSynop.csv\r\n",
      "drwxr-xr-x 2 razvan razvan 4096 nov.  30 10:22 postesSynop.parquet\r\n"
     ]
    }
   ],
   "source": [
    "!ls -al /home/razvan/Documents/donnees"
   ]
  },
  {
   "cell_type": "code",
   "execution_count": 25,
   "metadata": {},
   "outputs": [
    {
     "name": "stdout",
     "output_type": "stream",
     "text": [
      "+-------+---------------+---------+---------+--------+\n",
      "|Station|          Ville| Latitude|Longitude|Altitude|\n",
      "+-------+---------------+---------+---------+--------+\n",
      "|  07005|      ABBEVILLE|50.136000| 1.834000|      69|\n",
      "|  07015|  LILLE-LESQUIN|50.570000| 3.097500|      47|\n",
      "|  07020|PTE DE LA HAGUE|49.725167|-1.939833|       6|\n",
      "|  07027| CAEN-CARPIQUET|49.180000|-0.456167|      67|\n",
      "|  07037|     ROUEN-BOOS|49.383000| 1.181667|     151|\n",
      "+-------+---------------+---------+---------+--------+\n",
      "only showing top 5 rows\n",
      "\n"
     ]
    }
   ],
   "source": [
    "donnees.show(5)"
   ]
  },
  {
   "cell_type": "code",
   "execution_count": 26,
   "metadata": {},
   "outputs": [
    {
     "name": "stdout",
     "output_type": "stream",
     "text": [
      "+-------+---------+---------+---------+--------+\n",
      "|Station|    Ville| Latitude|Longitude|Altitude|\n",
      "+-------+---------+---------+---------+--------+\n",
      "|  07005|ABBEVILLE|50.136000| 1.834000|      69|\n",
      "+-------+---------+---------+---------+--------+\n",
      "\n"
     ]
    }
   ],
   "source": [
    "spark.sql(\"select * from parquet.\"+\n",
    "          \"`/home/razvan/Documents/donnees/postesSynop.parquet`  \"+\n",
    "          \"where Ville = 'ABBEVILLE'\").show()"
   ]
  },
  {
   "cell_type": "markdown",
   "metadata": {},
   "source": [
    "## Chargement des Villes"
   ]
  },
  {
   "cell_type": "code",
   "execution_count": 27,
   "metadata": {},
   "outputs": [],
   "source": [
    "schema = StructType([\n",
    "        StructField('Id'           , StringType() , True),\n",
    "        StructField('ville'        , StringType() , True),\n",
    "        StructField('latitude'     , FloatType() , True),\n",
    "        StructField('longitude'    , FloatType() , True),\n",
    "        StructField('altitude'     , IntegerType() , True)])\n",
    "\n",
    "villes  = spark.read.format('csv')   \\\n",
    "      .option('sep',';')                \\\n",
    "      .option('mergeSchema', 'true')    \\\n",
    "      .option('header','true')          \\\n",
    "      .schema(schema)                   \\\n",
    "      .load(\"file:/home/razvan/Documents/donnees/postesSynop.csv\")  \\\n",
    "      .cache()"
   ]
  },
  {
   "cell_type": "code",
   "execution_count": 28,
   "metadata": {},
   "outputs": [],
   "source": [
    "@udf(\"string\")\n",
    "def formatVille(ville):\n",
    "    if ville in ['CLERMONT-FD','MONT-DE-MARSAN',\n",
    "                                   'ST-PIERRE','ST-BARTHELEMY METEO'] :\n",
    "        return ville.title()\n",
    "    else :\n",
    "        if ville.find('-') != -1 :\n",
    "            return ville[0:ville.find('-')].title()\n",
    "        else:\n",
    "            return ville.title()\n",
    "\n",
    "villesT  = villes.select(\n",
    "                col('Id').alias('id'),\n",
    "                formatVille('ville').alias('ville'),\n",
    "               'latitude',\n",
    "               'longitude',\n",
    "               'altitude')"
   ]
  },
  {
   "cell_type": "markdown",
   "metadata": {},
   "source": [
    "## Chargemet du répértoire meteo"
   ]
  },
  {
   "cell_type": "code",
   "execution_count": 29,
   "metadata": {},
   "outputs": [
    {
     "name": "stderr",
     "output_type": "stream",
     "text": [
      "                                                                                \r"
     ]
    }
   ],
   "source": [
    "meteoDataFrame  = spark.read.format('csv')\\\n",
    "                       .option('sep',';')\\\n",
    "                       .option('header','true')\\\n",
    "                       .option('nullValue','mq')\\\n",
    "                       .option('inferSchema', 'true')\\\n",
    "                       .load('/home/razvan/Documents/donnees/meteo')\\\n",
    "                       .cache()"
   ]
  },
  {
   "cell_type": "code",
   "execution_count": 30,
   "metadata": {},
   "outputs": [],
   "source": [
    "meteo = meteoDataFrame.select(\n",
    "                 col('numer_sta'),\n",
    "                 to_timestamp(col('date').cast('string'),'yyyyMMddHHmmss'),\n",
    "                 col('date')[0:4].cast('int') ,\n",
    "                 col('date')[5:2].cast('int'),\n",
    "                 col('date')[7:2].cast('int'),\n",
    "                 col('date')[5:4],\n",
    "                 round(col('t') - 273.15,2),\n",
    "                 col('u') / 100 ,\n",
    "                 col('vv') / 1000 ,\n",
    "                 col('pres') / 1000,\n",
    "                 coalesce( col('rr3'),\n",
    "                           col('rr24')/8,\n",
    "                           col('rr12')/4,\n",
    "                           col('rr6')/2,\n",
    "                           col('rr1')*3  ) )\\\n",
    "             .toDF('id','date','annee','mois','jour','mois_jour','temperature',\n",
    "                   'humidite','visibilite','pression','precipitations')\\\n",
    "             .cache()"
   ]
  },
  {
   "cell_type": "code",
   "execution_count": 31,
   "metadata": {},
   "outputs": [
    {
     "name": "stderr",
     "output_type": "stream",
     "text": [
      "[Stage 11:>                                                         (0 + 1) / 1]\r"
     ]
    },
    {
     "name": "stdout",
     "output_type": "stream",
     "text": [
      "+-----+----+----+-----------+--------+----------+--------+\n",
      "|annee|mois|jour|temperature|humidite|visibilite|pression|\n",
      "+-----+----+----+-----------+--------+----------+--------+\n",
      "| 2019|  12|   1|        3.7|    0.79|      20.0|  100.86|\n",
      "| 2019|  12|   1|        2.8|    0.87|     12.23|  101.38|\n",
      "| 2019|  12|   1|        8.7|    0.75|      10.0|  101.39|\n",
      "+-----+----+----+-----------+--------+----------+--------+\n",
      "only showing top 3 rows\n",
      "\n"
     ]
    },
    {
     "name": "stderr",
     "output_type": "stream",
     "text": [
      "                                                                                \r"
     ]
    }
   ],
   "source": [
    "meteo.select('annee','mois','jour','temperature','humidite',\n",
    "             'visibilite','pression').show(3)"
   ]
  },
  {
   "cell_type": "code",
   "execution_count": 32,
   "metadata": {},
   "outputs": [],
   "source": [
    "meteoFance = meteo.where('id < 8000')\\\n",
    "             .join(villesT,'id')\\\n",
    "             .select(initcap(regexp_replace('ville','-',' ')).alias('ville'),\n",
    "                     'date','annee','mois','jour','temperature','humidite',\n",
    "                     'visibilite','pression','precipitations')"
   ]
  },
  {
   "cell_type": "code",
   "execution_count": 33,
   "metadata": {},
   "outputs": [
    {
     "name": "stderr",
     "output_type": "stream",
     "text": [
      "                                                                                \r"
     ]
    }
   ],
   "source": [
    "meteoFance.write\\\n",
    "       .mode('overwrite')\\\n",
    "       .format('parquet')\\\n",
    "       .partitionBy('annee')\\\n",
    "       .option('path', '/home/razvan/Documents/donnees/meteoFrance')\\\n",
    "       .save()"
   ]
  },
  {
   "cell_type": "code",
   "execution_count": 34,
   "metadata": {},
   "outputs": [
    {
     "name": "stdout",
     "output_type": "stream",
     "text": [
      "root\n",
      " |-- ville: string (nullable = true)\n",
      " |-- date: timestamp (nullable = true)\n",
      " |-- annee: integer (nullable = true)\n",
      " |-- mois: integer (nullable = true)\n",
      " |-- jour: integer (nullable = true)\n",
      " |-- temperature: double (nullable = true)\n",
      " |-- humidite: double (nullable = true)\n",
      " |-- visibilite: double (nullable = true)\n",
      " |-- pression: double (nullable = true)\n",
      " |-- precipitations: double (nullable = true)\n",
      "\n"
     ]
    }
   ],
   "source": [
    "meteoFance.printSchema()"
   ]
  },
  {
   "cell_type": "code",
   "execution_count": 35,
   "metadata": {},
   "outputs": [
    {
     "name": "stdout",
     "output_type": "stream",
     "text": [
      "+---------------+-------------------+----+----+-----------+--------+----------+--------+--------------+-----+\n",
      "|          ville|               date|mois|jour|temperature|humidite|visibilite|pression|precipitations|annee|\n",
      "+---------------+-------------------+----+----+-----------+--------+----------+--------+--------------+-----+\n",
      "|      Abbeville|2020-10-01 00:00:00|  10|   1|       14.5|     0.9|     17.33|   99.52|           1.6| 2020|\n",
      "|          Lille|2020-10-01 00:00:00|  10|   1|       15.4|    0.85|     46.41|    99.9|           0.0| 2020|\n",
      "|Pte De La Hague|2020-10-01 00:00:00|  10|   1|       15.1|    0.75|      14.0|  100.05|           0.0| 2020|\n",
      "|           Caen|2020-10-01 00:00:00|  10|   1|       14.4|    0.92|      3.83|   99.44|           1.0| 2020|\n",
      "|          Rouen|2020-10-01 00:00:00|  10|   1|       13.8|    0.95|     41.72|   98.61|           1.0| 2020|\n",
      "|          Reims|2020-10-01 00:00:00|  10|   1|       13.9|     0.9|      20.0|    99.6|           0.0| 2020|\n",
      "|          Brest|2020-10-01 00:00:00|  10|   1|       10.8|    0.95|     17.63|   99.34|           1.0| 2020|\n",
      "|    Ploumanac'h|2020-10-01 00:00:00|  10|   1|       13.1|    0.81|      null|    99.7|           0.0| 2020|\n",
      "|         Rennes|2020-10-01 00:00:00|  10|   1|       13.4|    0.96|     59.81|   99.95|           6.7| 2020|\n",
      "|        Alencon|2020-10-01 00:00:00|  10|   1|       14.3|    0.92|      20.0|    98.7|           1.2| 2020|\n",
      "|           Orly|2020-10-01 00:00:00|  10|   1|       15.0|    0.86|     27.94|   99.53|           0.2| 2020|\n",
      "|         Troyes|2020-10-01 00:00:00|  10|   1|       13.6|    0.86|      20.0|   99.43|           0.0| 2020|\n",
      "|          Nancy|2020-10-01 00:00:00|  10|   1|       11.8|    0.88|     50.77|   96.94|           0.0| 2020|\n",
      "|     Strasbourg|2020-10-01 00:00:00|  10|   1|        9.3|    0.94|      11.5|   99.27|           0.0| 2020|\n",
      "|      Belle Ile|2020-10-01 00:00:00|  10|   1|       14.7|    0.86|      null|  100.02|           0.8| 2020|\n",
      "|         Nantes|2020-10-01 00:00:00|  10|   1|       15.1|    0.97|      2.26|  100.13|          11.5| 2020|\n",
      "|          Tours|2020-10-01 00:00:00|  10|   1|       15.4|     0.8|     50.68|    99.3|          -0.1| 2020|\n",
      "|        Bourges|2020-10-01 00:00:00|  10|   1|       13.3|    0.84|      20.0|   98.86|           0.0| 2020|\n",
      "|          Dijon|2020-10-01 00:00:00|  10|   1|       10.5|     1.0|     11.39|   98.32|           0.0| 2020|\n",
      "|           Bale|2020-10-01 00:00:00|  10|   1|        9.8|    0.95|     17.82|   97.91|           0.0| 2020|\n",
      "+---------------+-------------------+----+----+-----------+--------+----------+--------+--------------+-----+\n",
      "only showing top 20 rows\n",
      "\n"
     ]
    }
   ],
   "source": [
    "spark.sql(\"select * from parquet.\"+\n",
    "          \"`/home/razvan/Documents/donnees/meteoFrance` \"+\n",
    "          \"where annee = 2020\").show()"
   ]
  },
  {
   "cell_type": "code",
   "execution_count": 36,
   "metadata": {},
   "outputs": [],
   "source": [
    "meteoFance = spark.read.format('parquet').load('/home/razvan/Documents/donnees/meteoFrance')"
   ]
  },
  {
   "cell_type": "code",
   "execution_count": 37,
   "metadata": {},
   "outputs": [
    {
     "name": "stdout",
     "output_type": "stream",
     "text": [
      "root\n",
      " |-- ville: string (nullable = true)\n",
      " |-- date: timestamp (nullable = true)\n",
      " |-- mois: integer (nullable = true)\n",
      " |-- jour: integer (nullable = true)\n",
      " |-- temperature: double (nullable = true)\n",
      " |-- humidite: double (nullable = true)\n",
      " |-- visibilite: double (nullable = true)\n",
      " |-- pression: double (nullable = true)\n",
      " |-- precipitations: double (nullable = true)\n",
      " |-- annee: integer (nullable = true)\n",
      "\n"
     ]
    }
   ],
   "source": [
    "meteoFance.printSchema()"
   ]
  },
  {
   "cell_type": "code",
   "execution_count": 38,
   "metadata": {},
   "outputs": [
    {
     "name": "stdout",
     "output_type": "stream",
     "text": [
      "+---------+\n",
      "|namespace|\n",
      "+---------+\n",
      "|  default|\n",
      "+---------+\n",
      "\n"
     ]
    }
   ],
   "source": [
    "spark.sql(\"show databases\").show()"
   ]
  },
  {
   "cell_type": "code",
   "execution_count": 39,
   "metadata": {},
   "outputs": [
    {
     "name": "stdout",
     "output_type": "stream",
     "text": [
      "+---------+---------+-----------+\n",
      "|namespace|tableName|isTemporary|\n",
      "+---------+---------+-----------+\n",
      "+---------+---------+-----------+\n",
      "\n"
     ]
    }
   ],
   "source": [
    "spark.sql(\"show tables\").show()"
   ]
  },
  {
   "cell_type": "code",
   "execution_count": null,
   "metadata": {},
   "outputs": [],
   "source": []
  }
 ],
 "metadata": {
  "kernelspec": {
   "display_name": "Python 3 (ipykernel)",
   "language": "python",
   "name": "python3"
  },
  "language_info": {
   "codemirror_mode": {
    "name": "ipython",
    "version": 3
   },
   "file_extension": ".py",
   "mimetype": "text/x-python",
   "name": "python",
   "nbconvert_exporter": "python",
   "pygments_lexer": "ipython3",
   "version": "3.9.7"
  }
 },
 "nbformat": 4,
 "nbformat_minor": 4
}
