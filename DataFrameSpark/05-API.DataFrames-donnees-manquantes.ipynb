{
 "cells": [
  {
   "cell_type": "markdown",
   "metadata": {
    "toc": true
   },
   "source": [
    "<h1>Table of Contents<span class=\"tocSkip\"></span></h1>\n",
    "<div class=\"toc\"><ul class=\"toc-item\"><li><span><a href=\"#isnull\" data-toc-modified-id=\"isnull-1\"><span class=\"toc-item-num\">1&nbsp;&nbsp;</span>isnull</a></span><ul class=\"toc-item\"><li><span><a href=\"#na\" data-toc-modified-id=\"na-1.1\"><span class=\"toc-item-num\">1.1&nbsp;&nbsp;</span>na</a></span></li><li><span><a href=\"#outer\" data-toc-modified-id=\"outer-1.2\"><span class=\"toc-item-num\">1.2&nbsp;&nbsp;</span>outer</a></span></li></ul></li></ul></div>"
   ]
  },
  {
   "cell_type": "code",
   "execution_count": 1,
   "metadata": {
    "ExecuteTime": {
     "end_time": "2021-12-07T10:32:51.109269Z",
     "start_time": "2021-12-07T10:32:51.092344Z"
    }
   },
   "outputs": [],
   "source": [
    "import os\n",
    "from pyspark.sql.functions import *\n",
    "from pyspark.sql.types     import StructType, \\\n",
    "     StructField, FloatType, \\\n",
    "     IntegerType, StringType"
   ]
  },
  {
   "cell_type": "code",
   "execution_count": 2,
   "metadata": {
    "ExecuteTime": {
     "end_time": "2021-12-07T10:32:51.139189Z",
     "start_time": "2021-12-07T10:32:51.111264Z"
    }
   },
   "outputs": [
    {
     "data": {
      "text/html": [
       "\n",
       "            <div>\n",
       "                <p><b>SparkSession - hive</b></p>\n",
       "                \n",
       "        <div>\n",
       "            <p><b>SparkContext</b></p>\n",
       "\n",
       "            <p><a href=\"http://athena.olimp.fr:4040\">Spark UI</a></p>\n",
       "\n",
       "            <dl>\n",
       "              <dt>Version</dt>\n",
       "                <dd><code>v3.2.0</code></dd>\n",
       "              <dt>Master</dt>\n",
       "                <dd><code>local[*]</code></dd>\n",
       "              <dt>AppName</dt>\n",
       "                <dd><code>PySparkShell</code></dd>\n",
       "            </dl>\n",
       "        </div>\n",
       "        \n",
       "            </div>\n",
       "        "
      ],
      "text/plain": [
       "<pyspark.sql.session.SparkSession at 0x14609e72610>"
      ]
     },
     "execution_count": 2,
     "metadata": {},
     "output_type": "execute_result"
    }
   ],
   "source": [
    "spark"
   ]
  },
  {
   "cell_type": "code",
   "execution_count": 3,
   "metadata": {
    "ExecuteTime": {
     "end_time": "2021-12-07T10:33:06.715880Z",
     "start_time": "2021-12-07T10:32:51.142183Z"
    }
   },
   "outputs": [
    {
     "name": "stdout",
     "output_type": "stream",
     "text": [
      "+-----+----+----+-----------+--------+----------+--------+\n",
      "|annee|mois|jour|temperature|humidite|visibilite|pression|\n",
      "+-----+----+----+-----------+--------+----------+--------+\n",
      "| 2019|  12|   1|        3.7|    0.79|      20.0|  100.86|\n",
      "| 2019|  12|   1|        2.8|    0.87|     12.23|  101.38|\n",
      "| 2019|  12|   1|        8.7|    0.75|      10.0|  101.39|\n",
      "+-----+----+----+-----------+--------+----------+--------+\n",
      "only showing top 3 rows\n",
      "\n"
     ]
    }
   ],
   "source": [
    "from pyspark.sql.functions import *\n",
    "from pyspark.sql.types     import StructType, \\\n",
    "     StructField, FloatType, \\\n",
    "     IntegerType, StringType\n",
    "\n",
    "meteoDataFrame  = spark.read.format('csv')\\\n",
    "    .option('sep',';')\\\n",
    "    .option('header','true')\\\n",
    "    .option('nullValue','mq')\\\n",
    "    .option('inferSchema', 'true')\\\n",
    "    .load('../donnees/meteo30')\\\n",
    "    .cache()\n",
    "\n",
    "schema = StructType([\n",
    "        StructField('Id'           , StringType() , True),\n",
    "        StructField('ville'        , StringType() , True),\n",
    "        StructField('latitude'     , FloatType() , True),\n",
    "        StructField('longitude'    , FloatType() , True),\n",
    "        StructField('altitude'     , IntegerType() , True)])\n",
    "\n",
    "villes  = spark.read.format('csv')   \\\n",
    "      .option('sep',';')                \\\n",
    "      .option('mergeSchema', 'true')    \\\n",
    "      .option('header','true')          \\\n",
    "      .schema(schema)                   \\\n",
    "      .load('../donnees/meteo/postesSynop.csv')  \\\n",
    "      .cache()\n",
    "\n",
    "@udf(\"string\")\n",
    "def formatVille(ville):\n",
    "    if ville in ['CLERMONT-FD','MONT-DE-MARSAN',\n",
    "                                   'ST-PIERRE','ST-BARTHELEMY METEO'] :\n",
    "        return ville.title()\n",
    "    else :\n",
    "        if ville.find('-') != -1 :\n",
    "            return ville[0:ville.find('-')].title()\n",
    "        else:\n",
    "            return ville.title()\n",
    "\n",
    "villesT  = villes.select(\n",
    "                col('Id').alias('id'),\n",
    "                formatVille('ville').alias('ville'),\n",
    "               'latitude',\n",
    "               'longitude',\n",
    "               'altitude')\n",
    "\n",
    "\n",
    "meteo = meteoDataFrame.select(\n",
    "                 col('numer_sta'),\n",
    "                 to_timestamp(col('date').cast('string'),'yyyyMMddHHmmss'),\n",
    "                 col('date')[0:4].cast('int') ,\n",
    "                 col('date')[5:2].cast('int'),\n",
    "                 col('date')[7:2].cast('int'),\n",
    "                 col('date')[5:4],\n",
    "                 round(col('t') - 273.15,2),\n",
    "                 col('u') / 100 ,\n",
    "                 col('vv') / 1000 ,\n",
    "                 col('pres') / 1000,\n",
    "                 coalesce( col('rr3'),\n",
    "                           col('rr24')/8,\n",
    "                           col('rr12')/4,\n",
    "                           col('rr6')/2,\n",
    "                           col('rr1')*3  ) )\\\n",
    "             .toDF('id','date','annee','mois','jour','mois_jour','temperature',\n",
    "                   'humidite','visibilite','pression','precipitations')\\\n",
    "             .cache()\n",
    "\n",
    "meteo.select('annee','mois','jour','temperature','humidite',\n",
    "             'visibilite','pression').show(3)"
   ]
  },
  {
   "cell_type": "code",
   "execution_count": 4,
   "metadata": {
    "ExecuteTime": {
     "end_time": "2021-12-07T10:33:07.480347Z",
     "start_time": "2021-12-07T10:33:06.717875Z"
    }
   },
   "outputs": [
    {
     "name": "stdout",
     "output_type": "stream",
     "text": [
      "+-----+---------------+---------+---------+--------+\n",
      "|   id|          ville| latitude|longitude|altitude|\n",
      "+-----+---------------+---------+---------+--------+\n",
      "|07005|      Abbeville|   50.136|    1.834|      69|\n",
      "|07015|          Lille|    50.57|   3.0975|      47|\n",
      "|07020|Pte De La Hague|49.725166|-1.939833|       6|\n",
      "+-----+---------------+---------+---------+--------+\n",
      "only showing top 3 rows\n",
      "\n"
     ]
    }
   ],
   "source": [
    "villesT.show(3)"
   ]
  },
  {
   "cell_type": "markdown",
   "metadata": {},
   "source": [
    "# isnull"
   ]
  },
  {
   "cell_type": "code",
   "execution_count": 5,
   "metadata": {
    "ExecuteTime": {
     "end_time": "2021-12-07T10:33:40.424942Z",
     "start_time": "2021-12-07T10:33:07.481344Z"
    }
   },
   "outputs": [
    {
     "name": "stdout",
     "output_type": "stream",
     "text": [
      "+-------+---------+-----------+---------+----------+---------+--------------+\n",
      "|summary|    annee|temperature| humidite|visibilite| pression|precipitations|\n",
      "+-------+---------+-----------+---------+----------+---------+--------------+\n",
      "|  count|2924329.0|  2917134.0|2914795.0| 2524195.0|2911657.0|     2911157.0|\n",
      "|   mean|   2008.8|      12.69|     0.76|     22.38|    99.57|          0.26|\n",
      "| stddev|     7.07|       7.33|     0.18|     15.13|     2.53|          1.32|\n",
      "|    min|   1997.0|      -21.3|     0.01|       0.0|     43.4|          -0.3|\n",
      "|    max|   2021.0|       46.9|      1.0|     80.01|   105.09|         443.0|\n",
      "+-------+---------+-----------+---------+----------+---------+--------------+\n",
      "\n"
     ]
    }
   ],
   "source": [
    "meteo.where('id < 8000').count()\n",
    "description = meteo.where('id < 8000')\\\n",
    "     .select('annee','temperature', 'humidite',\n",
    "             'visibilite', 'pression','precipitations')\\\n",
    "     .describe()\\\n",
    "     .select([c if c == 'summary'\n",
    "                else round(c,2).alias(c)\n",
    "                for c in\n",
    "                    ['summary','annee','temperature', 'humidite',\n",
    "                   'visibilite', 'pression','precipitations']])\\\n",
    "     .show()"
   ]
  },
  {
   "cell_type": "code",
   "execution_count": 6,
   "metadata": {
    "ExecuteTime": {
     "end_time": "2021-12-07T10:33:40.840871Z",
     "start_time": "2021-12-07T10:33:40.426938Z"
    }
   },
   "outputs": [
    {
     "data": {
      "text/plain": [
       "7195"
      ]
     },
     "execution_count": 6,
     "metadata": {},
     "output_type": "execute_result"
    }
   ],
   "source": [
    "meteo.where('id < 8000').where(meteo['temperature'].isNull()).count()"
   ]
  },
  {
   "cell_type": "code",
   "execution_count": 7,
   "metadata": {
    "ExecuteTime": {
     "end_time": "2021-12-07T10:33:41.372553Z",
     "start_time": "2021-12-07T10:33:40.841836Z"
    }
   },
   "outputs": [
    {
     "data": {
      "text/plain": [
       "9534"
      ]
     },
     "execution_count": 7,
     "metadata": {},
     "output_type": "execute_result"
    }
   ],
   "source": [
    "meteo.where('id < 8000').where(meteo['humidite'].isNull()).count()"
   ]
  },
  {
   "cell_type": "code",
   "execution_count": 8,
   "metadata": {
    "ExecuteTime": {
     "end_time": "2021-12-07T10:33:41.619952Z",
     "start_time": "2021-12-07T10:33:41.374549Z"
    }
   },
   "outputs": [
    {
     "data": {
      "text/plain": [
       "400134"
      ]
     },
     "execution_count": 8,
     "metadata": {},
     "output_type": "execute_result"
    }
   ],
   "source": [
    "meteo.where('id < 8000').where(meteo['visibilite'].isNull()).count()"
   ]
  },
  {
   "cell_type": "code",
   "execution_count": 9,
   "metadata": {
    "ExecuteTime": {
     "end_time": "2021-12-07T10:33:41.856293Z",
     "start_time": "2021-12-07T10:33:41.621920Z"
    }
   },
   "outputs": [
    {
     "data": {
      "text/plain": [
       "12672"
      ]
     },
     "execution_count": 9,
     "metadata": {},
     "output_type": "execute_result"
    }
   ],
   "source": [
    "meteo.where('id < 8000').where(meteo['pression'].isNull()).count()"
   ]
  },
  {
   "cell_type": "code",
   "execution_count": 10,
   "metadata": {
    "ExecuteTime": {
     "end_time": "2021-12-07T10:33:42.292233Z",
     "start_time": "2021-12-07T10:33:41.858288Z"
    }
   },
   "outputs": [
    {
     "data": {
      "text/plain": [
       "13172"
      ]
     },
     "execution_count": 10,
     "metadata": {},
     "output_type": "execute_result"
    }
   ],
   "source": [
    "meteo.where('id < 8000').where(meteo['precipitations'].isNull()).count()"
   ]
  },
  {
   "cell_type": "code",
   "execution_count": 9,
   "metadata": {
    "ExecuteTime": {
     "end_time": "2021-12-07T10:29:43.229612Z",
     "start_time": "2021-12-07T10:29:19.265615Z"
    },
    "scrolled": true
   },
   "outputs": [
    {
     "ename": "Py4JJavaError",
     "evalue": "An error occurred while calling o183.collectToPython.\n: java.lang.OutOfMemoryError: GC overhead limit exceeded\r\n\tat org.apache.spark.sql.execution.SparkPlan$$anon$1.next(SparkPlan.scala:377)\r\n\tat org.apache.spark.sql.execution.SparkPlan$$anon$1.next(SparkPlan.scala:373)\r\n\tat scala.collection.Iterator.foreach(Iterator.scala:943)\r\n\tat scala.collection.Iterator.foreach$(Iterator.scala:943)\r\n\tat org.apache.spark.sql.execution.SparkPlan$$anon$1.foreach(SparkPlan.scala:373)\r\n\tat org.apache.spark.sql.execution.SparkPlan.$anonfun$executeCollect$1(SparkPlan.scala:395)\r\n\tat org.apache.spark.sql.execution.SparkPlan.$anonfun$executeCollect$1$adapted(SparkPlan.scala:394)\r\n\tat org.apache.spark.sql.execution.SparkPlan$$Lambda$3737/637480592.apply(Unknown Source)\r\n\tat scala.collection.IndexedSeqOptimized.foreach(IndexedSeqOptimized.scala:36)\r\n\tat scala.collection.IndexedSeqOptimized.foreach$(IndexedSeqOptimized.scala:33)\r\n\tat scala.collection.mutable.ArrayOps$ofRef.foreach(ArrayOps.scala:198)\r\n\tat org.apache.spark.sql.execution.SparkPlan.executeCollect(SparkPlan.scala:394)\r\n\tat org.apache.spark.sql.Dataset.$anonfun$collectToPython$1(Dataset.scala:3538)\r\n\tat org.apache.spark.sql.Dataset$$Lambda$3834/1115713734.apply(Unknown Source)\r\n\tat org.apache.spark.sql.Dataset.$anonfun$withAction$1(Dataset.scala:3706)\r\n\tat org.apache.spark.sql.Dataset$$Lambda$2307/1916836474.apply(Unknown Source)\r\n\tat org.apache.spark.sql.execution.SQLExecution$.$anonfun$withNewExecutionId$5(SQLExecution.scala:103)\r\n\tat org.apache.spark.sql.execution.SQLExecution$$$Lambda$2312/572995098.apply(Unknown Source)\r\n\tat org.apache.spark.sql.execution.SQLExecution$.withSQLConfPropagated(SQLExecution.scala:163)\r\n\tat org.apache.spark.sql.execution.SQLExecution$.$anonfun$withNewExecutionId$1(SQLExecution.scala:90)\r\n\tat org.apache.spark.sql.execution.SQLExecution$$$Lambda$2308/1339097793.apply(Unknown Source)\r\n\tat org.apache.spark.sql.SparkSession.withActive(SparkSession.scala:775)\r\n\tat org.apache.spark.sql.execution.SQLExecution$.withNewExecutionId(SQLExecution.scala:64)\r\n\tat org.apache.spark.sql.Dataset.withAction(Dataset.scala:3704)\r\n\tat org.apache.spark.sql.Dataset.collectToPython(Dataset.scala:3535)\r\n\tat sun.reflect.NativeMethodAccessorImpl.invoke0(Native Method)\r\n\tat sun.reflect.NativeMethodAccessorImpl.invoke(NativeMethodAccessorImpl.java:62)\r\n\tat sun.reflect.DelegatingMethodAccessorImpl.invoke(DelegatingMethodAccessorImpl.java:43)\r\n\tat java.lang.reflect.Method.invoke(Method.java:498)\r\n\tat py4j.reflection.MethodInvoker.invoke(MethodInvoker.java:244)\r\n\tat py4j.reflection.ReflectionEngine.invoke(ReflectionEngine.java:357)\r\n\tat py4j.Gateway.invoke(Gateway.java:282)\r\n",
     "output_type": "error",
     "traceback": [
      "\u001b[1;31m---------------------------------------------------------------------------\u001b[0m",
      "\u001b[1;31mPy4JJavaError\u001b[0m                             Traceback (most recent call last)",
      "\u001b[1;32m<ipython-input-9-fa9f41811802>\u001b[0m in \u001b[0;36m<module>\u001b[1;34m\u001b[0m\n\u001b[1;32m----> 1\u001b[1;33m \u001b[0mmeteo\u001b[0m\u001b[1;33m.\u001b[0m\u001b[0mwhere\u001b[0m\u001b[1;33m(\u001b[0m\u001b[1;34m'id < 8000'\u001b[0m\u001b[1;33m)\u001b[0m\u001b[1;33m.\u001b[0m\u001b[0mtoPandas\u001b[0m\u001b[1;33m(\u001b[0m\u001b[1;33m)\u001b[0m\u001b[1;33m.\u001b[0m\u001b[0misna\u001b[0m\u001b[1;33m(\u001b[0m\u001b[1;33m)\u001b[0m\u001b[1;33m.\u001b[0m\u001b[0msum\u001b[0m\u001b[1;33m(\u001b[0m\u001b[1;33m)\u001b[0m\u001b[1;33m\u001b[0m\u001b[1;33m\u001b[0m\u001b[0m\n\u001b[0m",
      "\u001b[1;32mC:\\hadoop\\spark3.2.0\\python\\pyspark\\sql\\pandas\\conversion.py\u001b[0m in \u001b[0;36mtoPandas\u001b[1;34m(self)\u001b[0m\n\u001b[0;32m    155\u001b[0m \u001b[1;33m\u001b[0m\u001b[0m\n\u001b[0;32m    156\u001b[0m         \u001b[1;31m# Below is toPandas without Arrow optimization.\u001b[0m\u001b[1;33m\u001b[0m\u001b[1;33m\u001b[0m\u001b[1;33m\u001b[0m\u001b[0m\n\u001b[1;32m--> 157\u001b[1;33m         \u001b[0mpdf\u001b[0m \u001b[1;33m=\u001b[0m \u001b[0mpd\u001b[0m\u001b[1;33m.\u001b[0m\u001b[0mDataFrame\u001b[0m\u001b[1;33m.\u001b[0m\u001b[0mfrom_records\u001b[0m\u001b[1;33m(\u001b[0m\u001b[0mself\u001b[0m\u001b[1;33m.\u001b[0m\u001b[0mcollect\u001b[0m\u001b[1;33m(\u001b[0m\u001b[1;33m)\u001b[0m\u001b[1;33m,\u001b[0m \u001b[0mcolumns\u001b[0m\u001b[1;33m=\u001b[0m\u001b[0mself\u001b[0m\u001b[1;33m.\u001b[0m\u001b[0mcolumns\u001b[0m\u001b[1;33m)\u001b[0m\u001b[1;33m\u001b[0m\u001b[1;33m\u001b[0m\u001b[0m\n\u001b[0m\u001b[0;32m    158\u001b[0m         \u001b[0mcolumn_counter\u001b[0m \u001b[1;33m=\u001b[0m \u001b[0mCounter\u001b[0m\u001b[1;33m(\u001b[0m\u001b[0mself\u001b[0m\u001b[1;33m.\u001b[0m\u001b[0mcolumns\u001b[0m\u001b[1;33m)\u001b[0m\u001b[1;33m\u001b[0m\u001b[1;33m\u001b[0m\u001b[0m\n\u001b[0;32m    159\u001b[0m \u001b[1;33m\u001b[0m\u001b[0m\n",
      "\u001b[1;32mC:\\hadoop\\spark3.2.0\\python\\pyspark\\sql\\dataframe.py\u001b[0m in \u001b[0;36mcollect\u001b[1;34m(self)\u001b[0m\n\u001b[0;32m    691\u001b[0m         \"\"\"\n\u001b[0;32m    692\u001b[0m         \u001b[1;32mwith\u001b[0m \u001b[0mSCCallSiteSync\u001b[0m\u001b[1;33m(\u001b[0m\u001b[0mself\u001b[0m\u001b[1;33m.\u001b[0m\u001b[0m_sc\u001b[0m\u001b[1;33m)\u001b[0m \u001b[1;32mas\u001b[0m \u001b[0mcss\u001b[0m\u001b[1;33m:\u001b[0m\u001b[1;33m\u001b[0m\u001b[1;33m\u001b[0m\u001b[0m\n\u001b[1;32m--> 693\u001b[1;33m             \u001b[0msock_info\u001b[0m \u001b[1;33m=\u001b[0m \u001b[0mself\u001b[0m\u001b[1;33m.\u001b[0m\u001b[0m_jdf\u001b[0m\u001b[1;33m.\u001b[0m\u001b[0mcollectToPython\u001b[0m\u001b[1;33m(\u001b[0m\u001b[1;33m)\u001b[0m\u001b[1;33m\u001b[0m\u001b[1;33m\u001b[0m\u001b[0m\n\u001b[0m\u001b[0;32m    694\u001b[0m         \u001b[1;32mreturn\u001b[0m \u001b[0mlist\u001b[0m\u001b[1;33m(\u001b[0m\u001b[0m_load_from_socket\u001b[0m\u001b[1;33m(\u001b[0m\u001b[0msock_info\u001b[0m\u001b[1;33m,\u001b[0m \u001b[0mBatchedSerializer\u001b[0m\u001b[1;33m(\u001b[0m\u001b[0mPickleSerializer\u001b[0m\u001b[1;33m(\u001b[0m\u001b[1;33m)\u001b[0m\u001b[1;33m)\u001b[0m\u001b[1;33m)\u001b[0m\u001b[1;33m)\u001b[0m\u001b[1;33m\u001b[0m\u001b[1;33m\u001b[0m\u001b[0m\n\u001b[0;32m    695\u001b[0m \u001b[1;33m\u001b[0m\u001b[0m\n",
      "\u001b[1;32mC:\\hadoop\\spark3.2.0\\python\\lib\\py4j-0.10.9.2-src.zip\\py4j\\java_gateway.py\u001b[0m in \u001b[0;36m__call__\u001b[1;34m(self, *args)\u001b[0m\n\u001b[0;32m   1307\u001b[0m \u001b[1;33m\u001b[0m\u001b[0m\n\u001b[0;32m   1308\u001b[0m         \u001b[0manswer\u001b[0m \u001b[1;33m=\u001b[0m \u001b[0mself\u001b[0m\u001b[1;33m.\u001b[0m\u001b[0mgateway_client\u001b[0m\u001b[1;33m.\u001b[0m\u001b[0msend_command\u001b[0m\u001b[1;33m(\u001b[0m\u001b[0mcommand\u001b[0m\u001b[1;33m)\u001b[0m\u001b[1;33m\u001b[0m\u001b[1;33m\u001b[0m\u001b[0m\n\u001b[1;32m-> 1309\u001b[1;33m         return_value = get_return_value(\n\u001b[0m\u001b[0;32m   1310\u001b[0m             answer, self.gateway_client, self.target_id, self.name)\n\u001b[0;32m   1311\u001b[0m \u001b[1;33m\u001b[0m\u001b[0m\n",
      "\u001b[1;32mC:\\hadoop\\spark3.2.0\\python\\pyspark\\sql\\utils.py\u001b[0m in \u001b[0;36mdeco\u001b[1;34m(*a, **kw)\u001b[0m\n\u001b[0;32m    109\u001b[0m     \u001b[1;32mdef\u001b[0m \u001b[0mdeco\u001b[0m\u001b[1;33m(\u001b[0m\u001b[1;33m*\u001b[0m\u001b[0ma\u001b[0m\u001b[1;33m,\u001b[0m \u001b[1;33m**\u001b[0m\u001b[0mkw\u001b[0m\u001b[1;33m)\u001b[0m\u001b[1;33m:\u001b[0m\u001b[1;33m\u001b[0m\u001b[1;33m\u001b[0m\u001b[0m\n\u001b[0;32m    110\u001b[0m         \u001b[1;32mtry\u001b[0m\u001b[1;33m:\u001b[0m\u001b[1;33m\u001b[0m\u001b[1;33m\u001b[0m\u001b[0m\n\u001b[1;32m--> 111\u001b[1;33m             \u001b[1;32mreturn\u001b[0m \u001b[0mf\u001b[0m\u001b[1;33m(\u001b[0m\u001b[1;33m*\u001b[0m\u001b[0ma\u001b[0m\u001b[1;33m,\u001b[0m \u001b[1;33m**\u001b[0m\u001b[0mkw\u001b[0m\u001b[1;33m)\u001b[0m\u001b[1;33m\u001b[0m\u001b[1;33m\u001b[0m\u001b[0m\n\u001b[0m\u001b[0;32m    112\u001b[0m         \u001b[1;32mexcept\u001b[0m \u001b[0mpy4j\u001b[0m\u001b[1;33m.\u001b[0m\u001b[0mprotocol\u001b[0m\u001b[1;33m.\u001b[0m\u001b[0mPy4JJavaError\u001b[0m \u001b[1;32mas\u001b[0m \u001b[0me\u001b[0m\u001b[1;33m:\u001b[0m\u001b[1;33m\u001b[0m\u001b[1;33m\u001b[0m\u001b[0m\n\u001b[0;32m    113\u001b[0m             \u001b[0mconverted\u001b[0m \u001b[1;33m=\u001b[0m \u001b[0mconvert_exception\u001b[0m\u001b[1;33m(\u001b[0m\u001b[0me\u001b[0m\u001b[1;33m.\u001b[0m\u001b[0mjava_exception\u001b[0m\u001b[1;33m)\u001b[0m\u001b[1;33m\u001b[0m\u001b[1;33m\u001b[0m\u001b[0m\n",
      "\u001b[1;32mC:\\hadoop\\spark3.2.0\\python\\lib\\py4j-0.10.9.2-src.zip\\py4j\\protocol.py\u001b[0m in \u001b[0;36mget_return_value\u001b[1;34m(answer, gateway_client, target_id, name)\u001b[0m\n\u001b[0;32m    324\u001b[0m             \u001b[0mvalue\u001b[0m \u001b[1;33m=\u001b[0m \u001b[0mOUTPUT_CONVERTER\u001b[0m\u001b[1;33m[\u001b[0m\u001b[0mtype\u001b[0m\u001b[1;33m]\u001b[0m\u001b[1;33m(\u001b[0m\u001b[0manswer\u001b[0m\u001b[1;33m[\u001b[0m\u001b[1;36m2\u001b[0m\u001b[1;33m:\u001b[0m\u001b[1;33m]\u001b[0m\u001b[1;33m,\u001b[0m \u001b[0mgateway_client\u001b[0m\u001b[1;33m)\u001b[0m\u001b[1;33m\u001b[0m\u001b[1;33m\u001b[0m\u001b[0m\n\u001b[0;32m    325\u001b[0m             \u001b[1;32mif\u001b[0m \u001b[0manswer\u001b[0m\u001b[1;33m[\u001b[0m\u001b[1;36m1\u001b[0m\u001b[1;33m]\u001b[0m \u001b[1;33m==\u001b[0m \u001b[0mREFERENCE_TYPE\u001b[0m\u001b[1;33m:\u001b[0m\u001b[1;33m\u001b[0m\u001b[1;33m\u001b[0m\u001b[0m\n\u001b[1;32m--> 326\u001b[1;33m                 raise Py4JJavaError(\n\u001b[0m\u001b[0;32m    327\u001b[0m                     \u001b[1;34m\"An error occurred while calling {0}{1}{2}.\\n\"\u001b[0m\u001b[1;33m.\u001b[0m\u001b[1;33m\u001b[0m\u001b[1;33m\u001b[0m\u001b[0m\n\u001b[0;32m    328\u001b[0m                     format(target_id, \".\", name), value)\n",
      "\u001b[1;31mPy4JJavaError\u001b[0m: An error occurred while calling o183.collectToPython.\n: java.lang.OutOfMemoryError: GC overhead limit exceeded\r\n\tat org.apache.spark.sql.execution.SparkPlan$$anon$1.next(SparkPlan.scala:377)\r\n\tat org.apache.spark.sql.execution.SparkPlan$$anon$1.next(SparkPlan.scala:373)\r\n\tat scala.collection.Iterator.foreach(Iterator.scala:943)\r\n\tat scala.collection.Iterator.foreach$(Iterator.scala:943)\r\n\tat org.apache.spark.sql.execution.SparkPlan$$anon$1.foreach(SparkPlan.scala:373)\r\n\tat org.apache.spark.sql.execution.SparkPlan.$anonfun$executeCollect$1(SparkPlan.scala:395)\r\n\tat org.apache.spark.sql.execution.SparkPlan.$anonfun$executeCollect$1$adapted(SparkPlan.scala:394)\r\n\tat org.apache.spark.sql.execution.SparkPlan$$Lambda$3737/637480592.apply(Unknown Source)\r\n\tat scala.collection.IndexedSeqOptimized.foreach(IndexedSeqOptimized.scala:36)\r\n\tat scala.collection.IndexedSeqOptimized.foreach$(IndexedSeqOptimized.scala:33)\r\n\tat scala.collection.mutable.ArrayOps$ofRef.foreach(ArrayOps.scala:198)\r\n\tat org.apache.spark.sql.execution.SparkPlan.executeCollect(SparkPlan.scala:394)\r\n\tat org.apache.spark.sql.Dataset.$anonfun$collectToPython$1(Dataset.scala:3538)\r\n\tat org.apache.spark.sql.Dataset$$Lambda$3834/1115713734.apply(Unknown Source)\r\n\tat org.apache.spark.sql.Dataset.$anonfun$withAction$1(Dataset.scala:3706)\r\n\tat org.apache.spark.sql.Dataset$$Lambda$2307/1916836474.apply(Unknown Source)\r\n\tat org.apache.spark.sql.execution.SQLExecution$.$anonfun$withNewExecutionId$5(SQLExecution.scala:103)\r\n\tat org.apache.spark.sql.execution.SQLExecution$$$Lambda$2312/572995098.apply(Unknown Source)\r\n\tat org.apache.spark.sql.execution.SQLExecution$.withSQLConfPropagated(SQLExecution.scala:163)\r\n\tat org.apache.spark.sql.execution.SQLExecution$.$anonfun$withNewExecutionId$1(SQLExecution.scala:90)\r\n\tat org.apache.spark.sql.execution.SQLExecution$$$Lambda$2308/1339097793.apply(Unknown Source)\r\n\tat org.apache.spark.sql.SparkSession.withActive(SparkSession.scala:775)\r\n\tat org.apache.spark.sql.execution.SQLExecution$.withNewExecutionId(SQLExecution.scala:64)\r\n\tat org.apache.spark.sql.Dataset.withAction(Dataset.scala:3704)\r\n\tat org.apache.spark.sql.Dataset.collectToPython(Dataset.scala:3535)\r\n\tat sun.reflect.NativeMethodAccessorImpl.invoke0(Native Method)\r\n\tat sun.reflect.NativeMethodAccessorImpl.invoke(NativeMethodAccessorImpl.java:62)\r\n\tat sun.reflect.DelegatingMethodAccessorImpl.invoke(DelegatingMethodAccessorImpl.java:43)\r\n\tat java.lang.reflect.Method.invoke(Method.java:498)\r\n\tat py4j.reflection.MethodInvoker.invoke(MethodInvoker.java:244)\r\n\tat py4j.reflection.ReflectionEngine.invoke(ReflectionEngine.java:357)\r\n\tat py4j.Gateway.invoke(Gateway.java:282)\r\n"
     ]
    }
   ],
   "source": [
    "meteo.where('id < 8000').toPandas().isna().sum()"
   ]
  },
  {
   "cell_type": "raw",
   "metadata": {
    "ExecuteTime": {
     "end_time": "2021-12-07T10:29:43.232604Z",
     "start_time": "2021-12-07T10:29:39.027Z"
    }
   },
   "source": [
    "meteoDataFrame.toPandas().isna().sum()"
   ]
  },
  {
   "cell_type": "code",
   "execution_count": 13,
   "metadata": {
    "ExecuteTime": {
     "end_time": "2021-12-07T10:34:02.439495Z",
     "start_time": "2021-12-07T10:33:51.776388Z"
    },
    "scrolled": true
   },
   "outputs": [
    {
     "name": "stderr",
     "output_type": "stream",
     "text": [
      "WARNING:root:Found pyspark version \"3.2.0\" installed. The pyspark version 3.2 and above has a built-in \"pandas APIs on Spark\" module ported from Koalas. Try `import pyspark.pandas as ps` instead. \n",
      "WARNING:root:'PYARROW_IGNORE_TIMEZONE' environment variable was not set. It is required to set this environment variable to '1' in both driver and executor sides if you use pyarrow>=2.0.0. Koalas will set it for you but it does not work if there is a Spark context already launched.\n"
     ]
    },
    {
     "data": {
      "text/plain": [
       "numer_sta          0\n",
       "date               0\n",
       "pmer          169935\n",
       "tend          574410\n",
       "cod_tend      601623\n",
       "dd             72000\n",
       "ff             70823\n",
       "t              12680\n",
       "td             29995\n",
       "u              31667\n",
       "vv           1070343\n",
       "ww           1123757\n",
       "w1           2089294\n",
       "w2           2149107\n",
       "n            1643865\n",
       "nbas         1714252\n",
       "hbas         1773164\n",
       "cl           2212586\n",
       "cm           2262435\n",
       "ch           2281730\n",
       "pres          501908\n",
       "niv_bar      4012396\n",
       "geop         3978657\n",
       "tend24       2805101\n",
       "tn12         3223289\n",
       "tn24         3932098\n",
       "tx12         3217310\n",
       "tx24         3938527\n",
       "tminsol      3169016\n",
       "sw           4102254\n",
       "tw           4102254\n",
       "raf10        3209169\n",
       "rafper       1730167\n",
       "per          1726348\n",
       "etat_sol     3350075\n",
       "ht_neige     3184301\n",
       "ssfrai       3539650\n",
       "perssfrai    3555072\n",
       "rr1          1692290\n",
       "rr3           666865\n",
       "rr6          2313648\n",
       "rr12         2528896\n",
       "rr24         2772911\n",
       "phenspe1     2321924\n",
       "phenspe2     2580434\n",
       "phenspe3     3466107\n",
       "phenspe4     4083062\n",
       "nnuage1      2055462\n",
       "ctype1       2403330\n",
       "hnuage1      2077926\n",
       "nnuage2      3051578\n",
       "ctype2       3235486\n",
       "hnuage2      3056838\n",
       "nnuage3      3812464\n",
       "ctype3       3895992\n",
       "hnuage3      3812753\n",
       "nnuage4      4092453\n",
       "ctype4       4070022\n",
       "hnuage4      4092452\n",
       "_c59         4102262\n",
       "dtype: int64"
      ]
     },
     "execution_count": 13,
     "metadata": {},
     "output_type": "execute_result"
    }
   ],
   "source": [
    "from databricks import koalas as ks\n",
    "meteoDataFrame.to_koalas().isna().sum()"
   ]
  },
  {
   "cell_type": "code",
   "execution_count": 14,
   "metadata": {
    "ExecuteTime": {
     "end_time": "2021-12-07T10:34:33.955132Z",
     "start_time": "2021-12-07T10:34:33.177353Z"
    }
   },
   "outputs": [
    {
     "data": {
      "text/plain": [
       "2511411"
      ]
     },
     "execution_count": 14,
     "metadata": {},
     "output_type": "execute_result"
    }
   ],
   "source": [
    "meteo.where('id < 8000')\\\n",
    "     .where(meteo['temperature'].isNotNull())\\\n",
    "     .where(meteo['humidite'].isNotNull() )\\\n",
    "     .where(meteo['visibilite'].isNotNull() )\\\n",
    "     .where(meteo['pression'].isNotNull() )\\\n",
    "     .count()"
   ]
  },
  {
   "cell_type": "markdown",
   "metadata": {},
   "source": [
    "## na"
   ]
  },
  {
   "cell_type": "code",
   "execution_count": 15,
   "metadata": {
    "ExecuteTime": {
     "end_time": "2021-12-07T10:34:40.997924Z",
     "start_time": "2021-12-07T10:34:40.080893Z"
    }
   },
   "outputs": [
    {
     "data": {
      "text/plain": [
       "2511411"
      ]
     },
     "execution_count": 15,
     "metadata": {},
     "output_type": "execute_result"
    }
   ],
   "source": [
    "meteo.where('id < 8000')\\\n",
    "     .na.fill(0 ,[\"precipitations\"])\\\n",
    "     .na.drop()\\\n",
    "     .count()"
   ]
  },
  {
   "cell_type": "code",
   "execution_count": 16,
   "metadata": {
    "ExecuteTime": {
     "end_time": "2021-12-07T10:34:48.362958Z",
     "start_time": "2021-12-07T10:34:48.232305Z"
    }
   },
   "outputs": [],
   "source": [
    "meteo = meteoDataFrame.select(\n",
    "                 col('numer_sta'),\n",
    "                 col('date')[0:4].cast('int') ,\n",
    "                 col('date')[5:2].cast('int'),\n",
    "                 col('date')[7:2].cast('int'),\n",
    "                 col('date')[5:4],\n",
    "                 round(col('t') - 273.15,2),\n",
    "                 col('u') / 100 ,\n",
    "                 col('vv') / 1000 ,\n",
    "                 col('pres') / 1000,\n",
    "                 col('rr1')*3,\n",
    "                 col('rr3'),\n",
    "                 col('rr6')/2,\n",
    "                 col('rr12')/4,\n",
    "                 col('rr24')/8)\\\n",
    "                   .toDF('id','annee','mois','jour','mois_jour','temperature',\n",
    "                   'humidite','visibilite','pression',\n",
    "                   'precipitations1','precipitations3','precipitations6',\n",
    "                   'precipitations12','precipitations24')\\\n",
    "             .cache()"
   ]
  },
  {
   "cell_type": "code",
   "execution_count": 17,
   "metadata": {
    "ExecuteTime": {
     "end_time": "2021-12-07T10:35:01.500863Z",
     "start_time": "2021-12-07T10:34:54.105203Z"
    }
   },
   "outputs": [
    {
     "name": "stdout",
     "output_type": "stream",
     "text": [
      "+---------+---------+---------+---------+--------+---------+\n",
      "|    prec1|    prec3|    prec6|   prec12|  prec24|     temp|\n",
      "+---------+---------+---------+---------+--------+---------+\n",
      "|1998601.0|2849023.0|1295972.0|1290021.0|990775.0|2917134.0|\n",
      "|     0.24|     0.26|     0.24|     0.25|    0.25|    12.69|\n",
      "|     1.66|     1.32|     1.03|     0.91|    0.67|     7.33|\n",
      "|     -0.3|     -0.1|    -0.05|    -0.03|   -0.01|    -21.3|\n",
      "|    279.0|    443.0|    104.0|    225.0|   97.66|     46.9|\n",
      "+---------+---------+---------+---------+--------+---------+\n",
      "\n"
     ]
    }
   ],
   "source": [
    "meteo.where('id < 8000')\\\n",
    "       .select('precipitations1','precipitations3','precipitations6',\n",
    "             'precipitations12','precipitations24','temperature')\\\n",
    "       .toDF('prec1','prec3','prec6','prec12','prec24','temp')\\\n",
    "       .describe()\\\n",
    "       .select([c if c == 'summary'\n",
    "                else round(c,2).alias(c)\n",
    "                for c in['prec1','prec3','prec6',\n",
    "                          'prec12','prec24','temp']])\\\n",
    "      .show()"
   ]
  },
  {
   "cell_type": "code",
   "execution_count": 18,
   "metadata": {
    "ExecuteTime": {
     "end_time": "2021-12-07T10:35:42.970582Z",
     "start_time": "2021-12-07T10:35:42.872820Z"
    }
   },
   "outputs": [
    {
     "name": "stdout",
     "output_type": "stream",
     "text": [
      "+--------------+\n",
      "|precipitations|\n",
      "+--------------+\n",
      "|           0.0|\n",
      "|           0.0|\n",
      "|           0.0|\n",
      "|           0.0|\n",
      "|           0.0|\n",
      "|           0.0|\n",
      "|           0.0|\n",
      "|           2.0|\n",
      "|           2.0|\n",
      "|          -0.1|\n",
      "|           0.0|\n",
      "|           0.0|\n",
      "|           0.0|\n",
      "|           0.0|\n",
      "|           0.0|\n",
      "|           0.0|\n",
      "|           0.6|\n",
      "|           3.6|\n",
      "|           1.2|\n",
      "|           0.0|\n",
      "+--------------+\n",
      "only showing top 20 rows\n",
      "\n"
     ]
    }
   ],
   "source": [
    "meteo.select( coalesce('precipitations3','precipitations24',\n",
    "                       'precipitations12','precipitations6',\n",
    "                       'precipitations1').alias('precipitations')).show()"
   ]
  },
  {
   "cell_type": "code",
   "execution_count": 19,
   "metadata": {
    "ExecuteTime": {
     "end_time": "2021-12-07T10:35:55.833961Z",
     "start_time": "2021-12-07T10:35:55.434994Z"
    }
   },
   "outputs": [
    {
     "name": "stdout",
     "output_type": "stream",
     "text": [
      "+-------+--------------------+\n",
      "|summary|     precipitationsH|\n",
      "+-------+--------------------+\n",
      "|  count|             2911157|\n",
      "|   mean|  0.2543271240609963|\n",
      "| stddev|  1.0554809843183568|\n",
      "|    min|-0.30000000000000004|\n",
      "|    max|               220.0|\n",
      "+-------+--------------------+\n",
      "\n"
     ]
    }
   ],
   "source": [
    "meteo.where('id < 8000')\\\n",
    "     .select( coalesce('precipitations24','precipitations12',\n",
    "                       'precipitations6','precipitations3',\n",
    "                       'precipitations1').alias('precipitationsH')\n",
    "            ).describe().show()"
   ]
  },
  {
   "cell_type": "code",
   "execution_count": 20,
   "metadata": {
    "ExecuteTime": {
     "end_time": "2021-12-07T10:36:08.488986Z",
     "start_time": "2021-12-07T10:36:02.856777Z"
    }
   },
   "outputs": [
    {
     "data": {
      "text/plain": [
       "id                        0\n",
       "annee                     0\n",
       "mois                      0\n",
       "jour                      0\n",
       "mois_jour                 0\n",
       "temperature           12680\n",
       "humidite              31667\n",
       "visibilite          1070343\n",
       "pression             501908\n",
       "precipitations1     1692290\n",
       "precipitations3      666865\n",
       "precipitations6     2313648\n",
       "precipitations12    2528896\n",
       "precipitations24    2772911\n",
       "dtype: int64"
      ]
     },
     "execution_count": 20,
     "metadata": {},
     "output_type": "execute_result"
    }
   ],
   "source": [
    "meteo.to_koalas().isna().sum()"
   ]
  },
  {
   "cell_type": "code",
   "execution_count": 21,
   "metadata": {
    "ExecuteTime": {
     "end_time": "2021-12-07T10:36:59.616756Z",
     "start_time": "2021-12-07T10:36:59.400302Z"
    }
   },
   "outputs": [
    {
     "data": {
      "text/plain": [
       "2924329"
      ]
     },
     "execution_count": 21,
     "metadata": {},
     "output_type": "execute_result"
    }
   ],
   "source": [
    "meteo.where('id < 8000').count()"
   ]
  },
  {
   "cell_type": "code",
   "execution_count": null,
   "metadata": {},
   "outputs": [],
   "source": []
  },
  {
   "cell_type": "code",
   "execution_count": null,
   "metadata": {},
   "outputs": [],
   "source": []
  },
  {
   "cell_type": "code",
   "execution_count": null,
   "metadata": {},
   "outputs": [],
   "source": []
  },
  {
   "cell_type": "code",
   "execution_count": null,
   "metadata": {},
   "outputs": [],
   "source": []
  },
  {
   "cell_type": "code",
   "execution_count": null,
   "metadata": {},
   "outputs": [],
   "source": []
  },
  {
   "cell_type": "code",
   "execution_count": null,
   "metadata": {},
   "outputs": [],
   "source": []
  },
  {
   "cell_type": "code",
   "execution_count": null,
   "metadata": {},
   "outputs": [],
   "source": []
  },
  {
   "cell_type": "code",
   "execution_count": null,
   "metadata": {},
   "outputs": [],
   "source": []
  },
  {
   "cell_type": "code",
   "execution_count": null,
   "metadata": {},
   "outputs": [],
   "source": []
  },
  {
   "cell_type": "code",
   "execution_count": null,
   "metadata": {},
   "outputs": [],
   "source": []
  },
  {
   "cell_type": "code",
   "execution_count": null,
   "metadata": {},
   "outputs": [],
   "source": []
  },
  {
   "cell_type": "code",
   "execution_count": null,
   "metadata": {},
   "outputs": [],
   "source": []
  },
  {
   "cell_type": "code",
   "execution_count": null,
   "metadata": {},
   "outputs": [],
   "source": []
  },
  {
   "cell_type": "code",
   "execution_count": null,
   "metadata": {},
   "outputs": [],
   "source": []
  },
  {
   "cell_type": "code",
   "execution_count": null,
   "metadata": {},
   "outputs": [],
   "source": []
  },
  {
   "cell_type": "code",
   "execution_count": null,
   "metadata": {},
   "outputs": [],
   "source": []
  },
  {
   "cell_type": "code",
   "execution_count": null,
   "metadata": {},
   "outputs": [],
   "source": []
  },
  {
   "cell_type": "code",
   "execution_count": null,
   "metadata": {},
   "outputs": [],
   "source": []
  },
  {
   "cell_type": "code",
   "execution_count": null,
   "metadata": {},
   "outputs": [],
   "source": []
  },
  {
   "cell_type": "code",
   "execution_count": null,
   "metadata": {},
   "outputs": [],
   "source": []
  },
  {
   "cell_type": "code",
   "execution_count": null,
   "metadata": {},
   "outputs": [],
   "source": []
  },
  {
   "cell_type": "code",
   "execution_count": null,
   "metadata": {},
   "outputs": [],
   "source": []
  },
  {
   "cell_type": "code",
   "execution_count": null,
   "metadata": {},
   "outputs": [],
   "source": []
  },
  {
   "cell_type": "code",
   "execution_count": null,
   "metadata": {},
   "outputs": [],
   "source": []
  },
  {
   "cell_type": "code",
   "execution_count": null,
   "metadata": {},
   "outputs": [],
   "source": []
  },
  {
   "cell_type": "code",
   "execution_count": null,
   "metadata": {},
   "outputs": [],
   "source": []
  },
  {
   "cell_type": "code",
   "execution_count": null,
   "metadata": {},
   "outputs": [],
   "source": []
  },
  {
   "cell_type": "code",
   "execution_count": null,
   "metadata": {},
   "outputs": [],
   "source": []
  },
  {
   "cell_type": "code",
   "execution_count": null,
   "metadata": {},
   "outputs": [],
   "source": []
  },
  {
   "cell_type": "code",
   "execution_count": null,
   "metadata": {},
   "outputs": [],
   "source": []
  },
  {
   "cell_type": "code",
   "execution_count": null,
   "metadata": {},
   "outputs": [],
   "source": []
  },
  {
   "cell_type": "code",
   "execution_count": null,
   "metadata": {},
   "outputs": [],
   "source": []
  },
  {
   "cell_type": "code",
   "execution_count": null,
   "metadata": {},
   "outputs": [],
   "source": []
  },
  {
   "cell_type": "code",
   "execution_count": null,
   "metadata": {},
   "outputs": [],
   "source": []
  },
  {
   "cell_type": "code",
   "execution_count": null,
   "metadata": {},
   "outputs": [],
   "source": []
  },
  {
   "cell_type": "code",
   "execution_count": null,
   "metadata": {},
   "outputs": [],
   "source": []
  },
  {
   "cell_type": "code",
   "execution_count": null,
   "metadata": {},
   "outputs": [],
   "source": []
  },
  {
   "cell_type": "code",
   "execution_count": null,
   "metadata": {},
   "outputs": [],
   "source": []
  },
  {
   "cell_type": "code",
   "execution_count": null,
   "metadata": {},
   "outputs": [],
   "source": []
  },
  {
   "cell_type": "code",
   "execution_count": null,
   "metadata": {},
   "outputs": [],
   "source": []
  },
  {
   "cell_type": "code",
   "execution_count": null,
   "metadata": {},
   "outputs": [],
   "source": []
  },
  {
   "cell_type": "code",
   "execution_count": null,
   "metadata": {},
   "outputs": [],
   "source": []
  },
  {
   "cell_type": "code",
   "execution_count": null,
   "metadata": {},
   "outputs": [],
   "source": []
  },
  {
   "cell_type": "code",
   "execution_count": null,
   "metadata": {},
   "outputs": [],
   "source": []
  },
  {
   "cell_type": "code",
   "execution_count": null,
   "metadata": {},
   "outputs": [],
   "source": []
  },
  {
   "cell_type": "code",
   "execution_count": null,
   "metadata": {},
   "outputs": [],
   "source": []
  },
  {
   "cell_type": "code",
   "execution_count": null,
   "metadata": {},
   "outputs": [],
   "source": []
  },
  {
   "cell_type": "code",
   "execution_count": null,
   "metadata": {},
   "outputs": [],
   "source": []
  },
  {
   "cell_type": "code",
   "execution_count": null,
   "metadata": {},
   "outputs": [],
   "source": []
  },
  {
   "cell_type": "code",
   "execution_count": null,
   "metadata": {},
   "outputs": [],
   "source": []
  },
  {
   "cell_type": "code",
   "execution_count": null,
   "metadata": {},
   "outputs": [],
   "source": []
  },
  {
   "cell_type": "code",
   "execution_count": null,
   "metadata": {},
   "outputs": [],
   "source": []
  },
  {
   "cell_type": "code",
   "execution_count": null,
   "metadata": {},
   "outputs": [],
   "source": []
  },
  {
   "cell_type": "code",
   "execution_count": null,
   "metadata": {},
   "outputs": [],
   "source": []
  },
  {
   "cell_type": "code",
   "execution_count": null,
   "metadata": {},
   "outputs": [],
   "source": []
  },
  {
   "cell_type": "code",
   "execution_count": null,
   "metadata": {},
   "outputs": [],
   "source": []
  },
  {
   "cell_type": "code",
   "execution_count": null,
   "metadata": {},
   "outputs": [],
   "source": []
  },
  {
   "cell_type": "code",
   "execution_count": null,
   "metadata": {},
   "outputs": [],
   "source": []
  },
  {
   "cell_type": "code",
   "execution_count": null,
   "metadata": {},
   "outputs": [],
   "source": []
  },
  {
   "cell_type": "code",
   "execution_count": null,
   "metadata": {},
   "outputs": [],
   "source": []
  },
  {
   "cell_type": "code",
   "execution_count": null,
   "metadata": {},
   "outputs": [],
   "source": []
  },
  {
   "cell_type": "code",
   "execution_count": null,
   "metadata": {},
   "outputs": [],
   "source": []
  },
  {
   "cell_type": "code",
   "execution_count": null,
   "metadata": {},
   "outputs": [],
   "source": []
  },
  {
   "cell_type": "code",
   "execution_count": null,
   "metadata": {},
   "outputs": [],
   "source": []
  },
  {
   "cell_type": "code",
   "execution_count": null,
   "metadata": {},
   "outputs": [],
   "source": []
  },
  {
   "cell_type": "code",
   "execution_count": null,
   "metadata": {},
   "outputs": [],
   "source": []
  },
  {
   "cell_type": "code",
   "execution_count": null,
   "metadata": {},
   "outputs": [],
   "source": []
  }
 ],
 "metadata": {
  "kernelspec": {
   "display_name": "Python 3",
   "language": "python",
   "name": "python3"
  },
  "language_info": {
   "codemirror_mode": {
    "name": "ipython",
    "version": 3
   },
   "file_extension": ".py",
   "mimetype": "text/x-python",
   "name": "python",
   "nbconvert_exporter": "python",
   "pygments_lexer": "ipython3",
   "version": "3.8.8"
  },
  "toc": {
   "base_numbering": 1,
   "nav_menu": {},
   "number_sections": true,
   "sideBar": true,
   "skip_h1_title": false,
   "title_cell": "Table of Contents",
   "title_sidebar": "Contents",
   "toc_cell": true,
   "toc_position": {},
   "toc_section_display": true,
   "toc_window_display": true
  }
 },
 "nbformat": 4,
 "nbformat_minor": 4
}
