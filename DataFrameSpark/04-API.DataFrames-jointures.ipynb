{
 "cells": [
  {
   "cell_type": "markdown",
   "metadata": {
    "toc": true
   },
   "source": [
    "<h1>Table of Contents<span class=\"tocSkip\"></span></h1>\n",
    "<div class=\"toc\"><ul class=\"toc-item\"><li><span><a href=\"#Jointures\" data-toc-modified-id=\"Jointures-1\"><span class=\"toc-item-num\">1&nbsp;&nbsp;</span>Jointures</a></span><ul class=\"toc-item\"><li><span><a href=\"#inner\" data-toc-modified-id=\"inner-1.1\"><span class=\"toc-item-num\">1.1&nbsp;&nbsp;</span>inner</a></span></li><li><span><a href=\"#outer\" data-toc-modified-id=\"outer-1.2\"><span class=\"toc-item-num\">1.2&nbsp;&nbsp;</span>outer</a></span></li></ul></li></ul></div>"
   ]
  },
  {
   "cell_type": "code",
   "execution_count": 23,
   "metadata": {
    "ExecuteTime": {
     "end_time": "2021-12-07T10:25:48.965011Z",
     "start_time": "2021-12-07T10:25:48.957044Z"
    }
   },
   "outputs": [],
   "source": [
    "import os\n",
    "from pyspark.sql.functions import *\n",
    "from pyspark.sql.types     import StructType, \\\n",
    "     StructField, FloatType, \\\n",
    "     IntegerType, StringType"
   ]
  },
  {
   "cell_type": "code",
   "execution_count": 24,
   "metadata": {
    "ExecuteTime": {
     "end_time": "2021-12-07T10:25:48.995944Z",
     "start_time": "2021-12-07T10:25:48.966997Z"
    }
   },
   "outputs": [
    {
     "data": {
      "text/html": [
       "\n",
       "            <div>\n",
       "                <p><b>SparkSession - hive</b></p>\n",
       "                \n",
       "        <div>\n",
       "            <p><b>SparkContext</b></p>\n",
       "\n",
       "            <p><a href=\"http://athena.olimp.fr:4045\">Spark UI</a></p>\n",
       "\n",
       "            <dl>\n",
       "              <dt>Version</dt>\n",
       "                <dd><code>v3.2.0</code></dd>\n",
       "              <dt>Master</dt>\n",
       "                <dd><code>local[*]</code></dd>\n",
       "              <dt>AppName</dt>\n",
       "                <dd><code>PySparkShell</code></dd>\n",
       "            </dl>\n",
       "        </div>\n",
       "        \n",
       "            </div>\n",
       "        "
      ],
      "text/plain": [
       "<pyspark.sql.session.SparkSession at 0x25302052640>"
      ]
     },
     "execution_count": 24,
     "metadata": {},
     "output_type": "execute_result"
    }
   ],
   "source": [
    "spark"
   ]
  },
  {
   "cell_type": "code",
   "execution_count": 25,
   "metadata": {
    "ExecuteTime": {
     "end_time": "2021-12-07T10:25:55.987663Z",
     "start_time": "2021-12-07T10:25:48.997916Z"
    }
   },
   "outputs": [
    {
     "name": "stdout",
     "output_type": "stream",
     "text": [
      "+-----+----+----+-----------+--------+----------+--------+\n",
      "|annee|mois|jour|temperature|humidite|visibilite|pression|\n",
      "+-----+----+----+-----------+--------+----------+--------+\n",
      "| 2019|  12|   1|        3.7|    0.79|      20.0|  100.86|\n",
      "| 2019|  12|   1|        2.8|    0.87|     12.23|  101.38|\n",
      "| 2019|  12|   1|        8.7|    0.75|      10.0|  101.39|\n",
      "+-----+----+----+-----------+--------+----------+--------+\n",
      "only showing top 3 rows\n",
      "\n"
     ]
    }
   ],
   "source": [
    "from pyspark.sql.functions import *\n",
    "from pyspark.sql.types     import StructType, \\\n",
    "     StructField, FloatType, \\\n",
    "     IntegerType, StringType\n",
    "\n",
    "meteoDataFrame  = spark.read.format('csv')\\\n",
    "    .option('sep',';')\\\n",
    "    .option('header','true')\\\n",
    "    .option('nullValue','mq')\\\n",
    "    .option('inferSchema', 'true')\\\n",
    "    .load('../donnees/meteo30')\\\n",
    "    .cache()\n",
    "\n",
    "schema = StructType([\n",
    "        StructField('Id'           , StringType() , True),\n",
    "        StructField('ville'        , StringType() , True),\n",
    "        StructField('latitude'     , FloatType() , True),\n",
    "        StructField('longitude'    , FloatType() , True),\n",
    "        StructField('altitude'     , IntegerType() , True)])\n",
    "\n",
    "villes  = spark.read.format('csv')   \\\n",
    "      .option('sep',';')                \\\n",
    "      .option('mergeSchema', 'true')    \\\n",
    "      .option('header','true')          \\\n",
    "      .schema(schema)                   \\\n",
    "      .load('../donnees/meteo/postesSynop.csv')  \\\n",
    "      .cache()\n",
    "\n",
    "@udf(\"string\")\n",
    "def formatVille(ville):\n",
    "    if ville in ['CLERMONT-FD','MONT-DE-MARSAN',\n",
    "                                   'ST-PIERRE','ST-BARTHELEMY METEO'] :\n",
    "        return ville.title()\n",
    "    else :\n",
    "        if ville.find('-') != -1 :\n",
    "            return ville[0:ville.find('-')].title()\n",
    "        else:\n",
    "            return ville.title()\n",
    "\n",
    "villesT  = villes.select(\n",
    "                col('Id').alias('id'),\n",
    "                formatVille('ville').alias('ville'),\n",
    "               'latitude',\n",
    "               'longitude',\n",
    "               'altitude')\n",
    "\n",
    "\n",
    "meteo = meteoDataFrame.select(\n",
    "                 col('numer_sta'),\n",
    "                 to_timestamp(col('date').cast('string'),'yyyyMMddHHmmss'),\n",
    "                 col('date')[0:4].cast('int') ,\n",
    "                 col('date')[5:2].cast('int'),\n",
    "                 col('date')[7:2].cast('int'),\n",
    "                 col('date')[5:4],\n",
    "                 round(col('t') - 273.15,2),\n",
    "                 col('u') / 100 ,\n",
    "                 col('vv') / 1000 ,\n",
    "                 col('pres') / 1000,\n",
    "                 coalesce( col('rr3'),\n",
    "                           col('rr24')/8,\n",
    "                           col('rr12')/4,\n",
    "                           col('rr6')/2,\n",
    "                           col('rr1')*3  ) )\\\n",
    "             .toDF('id','date','annee','mois','jour','mois_jour','temperature',\n",
    "                   'humidite','visibilite','pression','precipitations')\\\n",
    "             .cache()\n",
    "\n",
    "meteo.select('annee','mois','jour','temperature','humidite',\n",
    "             'visibilite','pression').show(3)"
   ]
  },
  {
   "cell_type": "code",
   "execution_count": 26,
   "metadata": {
    "ExecuteTime": {
     "end_time": "2021-12-07T10:25:56.594739Z",
     "start_time": "2021-12-07T10:25:55.988632Z"
    }
   },
   "outputs": [
    {
     "name": "stdout",
     "output_type": "stream",
     "text": [
      "+-----+---------------+---------+---------+--------+\n",
      "|   id|          ville| latitude|longitude|altitude|\n",
      "+-----+---------------+---------+---------+--------+\n",
      "|07005|      Abbeville|   50.136|    1.834|      69|\n",
      "|07015|          Lille|    50.57|   3.0975|      47|\n",
      "|07020|Pte De La Hague|49.725166|-1.939833|       6|\n",
      "+-----+---------------+---------+---------+--------+\n",
      "only showing top 3 rows\n",
      "\n"
     ]
    }
   ],
   "source": [
    "villesT.show(3)"
   ]
  },
  {
   "cell_type": "code",
   "execution_count": 27,
   "metadata": {
    "ExecuteTime": {
     "end_time": "2021-12-07T10:25:57.689364Z",
     "start_time": "2021-12-07T10:25:56.596734Z"
    }
   },
   "outputs": [],
   "source": [
    "data = [('Ajaccio'     ,'dfa' ),\n",
    "        ('Angers'      ,'dfa' ),\n",
    "        ('Angoulème'   ,'dfa' ),\n",
    "        ('Besançon'    ,'dfa' ),\n",
    "        ('Biarritz'    ,'dfa' ),\n",
    "        ('Bordeaux'    ,'dfa' ),\n",
    "        ('Brest'       ,'dfa' ),\n",
    "        ('Caen'        ,'dfa' ),\n",
    "        ('Clermont-Fd' ,'dfa' ),\n",
    "        ('Dijon'       ,'dfa' ),\n",
    "        ('Embrun'      ,'dfa' ),\n",
    "        ('Grenoble'    ,'dfa' ),\n",
    "        ('Lille'       ,'dfa' ),\n",
    "        ('Limoges'     ,'dfa' ),\n",
    "        ('Lyon'        ,'dfa' ),\n",
    "        ('Marseille'   ,'dfa' ),\n",
    "        ('Montpellier' ,'dfa' ),\n",
    "        ('Nancy'       ,'dfa' ),\n",
    "        ('Nantes'      ,'dfa' ),\n",
    "        ('Nice'        ,'dfa' ),\n",
    "        ('Nîmes'       ,'dfa' ),\n",
    "        ('Orléans'     ,'dfa' ),\n",
    "        ('Paris'       ,'dfa' )]\n",
    "\n",
    "dfa = spark.sparkContext.parallelize(data).toDF(['ville','valeur'])\n",
    "\n",
    "data = [ ('Nancy'       ,'dfb' ),\n",
    "          ('Nantes'      ,'dfb' ),\n",
    "          ('Nice'        ,'dfb' ),\n",
    "          ('Nîmes'       ,'dfb' ),\n",
    "          ('Orléans'     ,'dfb' ),\n",
    "          ('Paris'       ,'dfb' ),\n",
    "          ('Perpignan'   ,'dfb' ),\n",
    "          ('Poitiers'    ,'dfb' ),\n",
    "          ('Reims'       ,'dfb' ),\n",
    "          ('Rennes'      ,'dfb' ),\n",
    "          ('Rouen'       ,'dfb' ),\n",
    "          ('St-Quentin'  ,'dfb' ),\n",
    "          ('Strasbourg'  ,'dfb' ),\n",
    "          ('Toulon'      ,'dfb' ),\n",
    "          ('Toulouse'    ,'dfb' ),\n",
    "          ('Tours'       ,'dfb' ),\n",
    "          ('Vichy'       ,'dfb' )]\n",
    "\n",
    "dfb = spark.sparkContext.parallelize(data).toDF(['ville','valeur'])"
   ]
  },
  {
   "cell_type": "markdown",
   "metadata": {},
   "source": [
    "# Jointures\n",
    "\n",
    "<img src=\"https://raw.githubusercontent.com/rbizoi/AnalyserLesDonneesAvecSpark/main/DataFrameSpark/images/M06-07.png\" width=\"400\">   "
   ]
  },
  {
   "cell_type": "markdown",
   "metadata": {},
   "source": [
    "## inner"
   ]
  },
  {
   "cell_type": "code",
   "execution_count": 28,
   "metadata": {
    "ExecuteTime": {
     "end_time": "2021-12-07T10:25:58.336535Z",
     "start_time": "2021-12-07T10:25:57.691334Z"
    }
   },
   "outputs": [
    {
     "name": "stdout",
     "output_type": "stream",
     "text": [
      "+---------------+-----+---------+-----------+--------------+\n",
      "|          ville|annee|mois_jour|temperature|precipitations|\n",
      "+---------------+-----+---------+-----------+--------------+\n",
      "|      Abbeville| 2019|     1201|        3.7|           0.0|\n",
      "|          Lille| 2019|     1201|        2.8|           0.0|\n",
      "|Pte De La Hague| 2019|     1201|        8.7|           0.0|\n",
      "|           Caen| 2019|     1201|        4.9|           0.0|\n",
      "|          Rouen| 2019|     1201|        3.5|           0.0|\n",
      "|          Reims| 2019|     1201|        1.7|           0.0|\n",
      "|          Brest| 2019|     1201|        7.1|           0.0|\n",
      "|    Ploumanac'H| 2019|     1201|        8.0|           2.0|\n",
      "|         Rennes| 2019|     1201|        6.2|           2.0|\n",
      "|        Alencon| 2019|     1201|        4.3|          -0.1|\n",
      "+---------------+-----+---------+-----------+--------------+\n",
      "only showing top 10 rows\n",
      "\n"
     ]
    }
   ],
   "source": [
    "meteo.join(villesT,\n",
    "       meteo.id == villesT.id)\\\n",
    "       .select('ville','annee','mois_jour',\n",
    "               'temperature','precipitations')\\\n",
    "       .show(10)"
   ]
  },
  {
   "cell_type": "code",
   "execution_count": 29,
   "metadata": {
    "ExecuteTime": {
     "end_time": "2021-12-07T10:25:58.428798Z",
     "start_time": "2021-12-07T10:25:58.337505Z"
    }
   },
   "outputs": [
    {
     "name": "stdout",
     "output_type": "stream",
     "text": [
      "+-----------------+-----+---------+-----------+--------------+\n",
      "|            ville|annee|mois_jour|temperature|precipitations|\n",
      "+-----------------+-----+---------+-----------+--------------+\n",
      "|        ABBEVILLE| 2019|     1201|        3.7|           0.0|\n",
      "|    LILLE-LESQUIN| 2019|     1201|        2.8|           0.0|\n",
      "|  PTE DE LA HAGUE| 2019|     1201|        8.7|           0.0|\n",
      "|   CAEN-CARPIQUET| 2019|     1201|        4.9|           0.0|\n",
      "|       ROUEN-BOOS| 2019|     1201|        3.5|           0.0|\n",
      "|     REIMS-PRUNAY| 2019|     1201|        1.7|           0.0|\n",
      "|   BREST-GUIPAVAS| 2019|     1201|        7.1|           0.0|\n",
      "|      PLOUMANAC'H| 2019|     1201|        8.0|           2.0|\n",
      "|RENNES-ST JACQUES| 2019|     1201|        6.2|           2.0|\n",
      "|          ALENCON| 2019|     1201|        4.3|          -0.1|\n",
      "+-----------------+-----+---------+-----------+--------------+\n",
      "only showing top 10 rows\n",
      "\n"
     ]
    }
   ],
   "source": [
    "meteo.join(villes,\n",
    "       meteo['id'].eqNullSafe(villes['Id']))\\\n",
    "       .select('ville','annee','mois_jour',\n",
    "               'temperature','precipitations')\\\n",
    "       .show(10)"
   ]
  },
  {
   "cell_type": "code",
   "execution_count": 30,
   "metadata": {
    "ExecuteTime": {
     "end_time": "2021-12-07T10:25:58.553466Z",
     "start_time": "2021-12-07T10:25:58.429795Z"
    }
   },
   "outputs": [
    {
     "name": "stdout",
     "output_type": "stream",
     "text": [
      "+-----------------+-----+---------+-----------+--------------+\n",
      "|            ville|annee|mois_jour|temperature|precipitations|\n",
      "+-----------------+-----+---------+-----------+--------------+\n",
      "|        ABBEVILLE| 2019|     1201|        3.7|           0.0|\n",
      "|    LILLE-LESQUIN| 2019|     1201|        2.8|           0.0|\n",
      "|  PTE DE LA HAGUE| 2019|     1201|        8.7|           0.0|\n",
      "|   CAEN-CARPIQUET| 2019|     1201|        4.9|           0.0|\n",
      "|       ROUEN-BOOS| 2019|     1201|        3.5|           0.0|\n",
      "|     REIMS-PRUNAY| 2019|     1201|        1.7|           0.0|\n",
      "|   BREST-GUIPAVAS| 2019|     1201|        7.1|           0.0|\n",
      "|      PLOUMANAC'H| 2019|     1201|        8.0|           2.0|\n",
      "|RENNES-ST JACQUES| 2019|     1201|        6.2|           2.0|\n",
      "|          ALENCON| 2019|     1201|        4.3|          -0.1|\n",
      "+-----------------+-----+---------+-----------+--------------+\n",
      "only showing top 10 rows\n",
      "\n"
     ]
    }
   ],
   "source": [
    "meteo.join(villes.withColumnRenamed('Id', 'id'),'id')\\\n",
    "       .select('ville','annee','mois_jour',\n",
    "               'temperature','precipitations')\\\n",
    "       .show(10)"
   ]
  },
  {
   "cell_type": "code",
   "execution_count": 31,
   "metadata": {
    "ExecuteTime": {
     "end_time": "2021-12-07T10:26:07.194615Z",
     "start_time": "2021-12-07T10:25:58.555460Z"
    }
   },
   "outputs": [
    {
     "name": "stdout",
     "output_type": "stream",
     "text": [
      "+-------+------+------+\n",
      "|  ville|valeur|valeur|\n",
      "+-------+------+------+\n",
      "|  Nancy|   dfa|   dfb|\n",
      "| Nantes|   dfa|   dfb|\n",
      "|   Nice|   dfa|   dfb|\n",
      "|  Nîmes|   dfa|   dfb|\n",
      "|Orléans|   dfa|   dfb|\n",
      "|  Paris|   dfa|   dfb|\n",
      "+-------+------+------+\n",
      "\n"
     ]
    }
   ],
   "source": [
    "dfa.join(dfb,'ville').show()"
   ]
  },
  {
   "cell_type": "code",
   "execution_count": 32,
   "metadata": {
    "ExecuteTime": {
     "end_time": "2021-12-07T10:26:15.965291Z",
     "start_time": "2021-12-07T10:26:07.196609Z"
    }
   },
   "outputs": [
    {
     "name": "stdout",
     "output_type": "stream",
     "text": [
      "+-------+------+-------+------+\n",
      "|  ville|valeur|  ville|valeur|\n",
      "+-------+------+-------+------+\n",
      "|  Nancy|   dfa|  Nancy|   dfb|\n",
      "| Nantes|   dfa| Nantes|   dfb|\n",
      "|   Nice|   dfa|   Nice|   dfb|\n",
      "|  Nîmes|   dfa|  Nîmes|   dfb|\n",
      "|Orléans|   dfa|Orléans|   dfb|\n",
      "|  Paris|   dfa|  Paris|   dfb|\n",
      "+-------+------+-------+------+\n",
      "\n"
     ]
    }
   ],
   "source": [
    "dfa.join(dfb,dfa['ville'] == dfb['ville'],'inner').show()"
   ]
  },
  {
   "cell_type": "markdown",
   "metadata": {},
   "source": [
    "## outer "
   ]
  },
  {
   "cell_type": "code",
   "execution_count": 33,
   "metadata": {
    "ExecuteTime": {
     "end_time": "2021-12-07T10:26:24.825054Z",
     "start_time": "2021-12-07T10:26:15.967286Z"
    }
   },
   "outputs": [
    {
     "name": "stdout",
     "output_type": "stream",
     "text": [
      "+-----------+------+----------+------+\n",
      "|      ville|valeur|     ville|valeur|\n",
      "+-----------+------+----------+------+\n",
      "|    Ajaccio|   dfa|      null|  null|\n",
      "|     Angers|   dfa|      null|  null|\n",
      "|  Angoulème|   dfa|      null|  null|\n",
      "|   Besançon|   dfa|      null|  null|\n",
      "|   Biarritz|   dfa|      null|  null|\n",
      "|   Bordeaux|   dfa|      null|  null|\n",
      "|      Brest|   dfa|      null|  null|\n",
      "|       Caen|   dfa|      null|  null|\n",
      "|Clermont-Fd|   dfa|      null|  null|\n",
      "|      Dijon|   dfa|      null|  null|\n",
      "|     Embrun|   dfa|      null|  null|\n",
      "|   Grenoble|   dfa|      null|  null|\n",
      "|      Lille|   dfa|      null|  null|\n",
      "|    Limoges|   dfa|      null|  null|\n",
      "|       Lyon|   dfa|      null|  null|\n",
      "|  Marseille|   dfa|      null|  null|\n",
      "|Montpellier|   dfa|      null|  null|\n",
      "|      Nancy|   dfa|     Nancy|   dfb|\n",
      "|     Nantes|   dfa|    Nantes|   dfb|\n",
      "|       Nice|   dfa|      Nice|   dfb|\n",
      "|      Nîmes|   dfa|     Nîmes|   dfb|\n",
      "|    Orléans|   dfa|   Orléans|   dfb|\n",
      "|      Paris|   dfa|     Paris|   dfb|\n",
      "|       null|  null| Perpignan|   dfb|\n",
      "|       null|  null|  Poitiers|   dfb|\n",
      "|       null|  null|     Reims|   dfb|\n",
      "|       null|  null|    Rennes|   dfb|\n",
      "|       null|  null|     Rouen|   dfb|\n",
      "|       null|  null|St-Quentin|   dfb|\n",
      "|       null|  null|Strasbourg|   dfb|\n",
      "|       null|  null|    Toulon|   dfb|\n",
      "|       null|  null|  Toulouse|   dfb|\n",
      "|       null|  null|     Tours|   dfb|\n",
      "|       null|  null|     Vichy|   dfb|\n",
      "+-----------+------+----------+------+\n",
      "\n"
     ]
    }
   ],
   "source": [
    "dfa.join(dfb,dfa['ville'] == dfb['ville'],'outer').show(50)"
   ]
  },
  {
   "cell_type": "code",
   "execution_count": 34,
   "metadata": {
    "ExecuteTime": {
     "end_time": "2021-12-07T10:26:33.449152Z",
     "start_time": "2021-12-07T10:26:24.827048Z"
    }
   },
   "outputs": [
    {
     "name": "stdout",
     "output_type": "stream",
     "text": [
      "+-----------+------+----------+------+\n",
      "|      ville|valeur|     ville|valeur|\n",
      "+-----------+------+----------+------+\n",
      "|    Ajaccio|   dfa|      null|  null|\n",
      "|     Angers|   dfa|      null|  null|\n",
      "|  Angoulème|   dfa|      null|  null|\n",
      "|   Besançon|   dfa|      null|  null|\n",
      "|   Biarritz|   dfa|      null|  null|\n",
      "|   Bordeaux|   dfa|      null|  null|\n",
      "|      Brest|   dfa|      null|  null|\n",
      "|       Caen|   dfa|      null|  null|\n",
      "|Clermont-Fd|   dfa|      null|  null|\n",
      "|      Dijon|   dfa|      null|  null|\n",
      "|     Embrun|   dfa|      null|  null|\n",
      "|   Grenoble|   dfa|      null|  null|\n",
      "|      Lille|   dfa|      null|  null|\n",
      "|    Limoges|   dfa|      null|  null|\n",
      "|       Lyon|   dfa|      null|  null|\n",
      "|  Marseille|   dfa|      null|  null|\n",
      "|Montpellier|   dfa|      null|  null|\n",
      "|      Nancy|   dfa|     Nancy|   dfb|\n",
      "|     Nantes|   dfa|    Nantes|   dfb|\n",
      "|       Nice|   dfa|      Nice|   dfb|\n",
      "|      Nîmes|   dfa|     Nîmes|   dfb|\n",
      "|    Orléans|   dfa|   Orléans|   dfb|\n",
      "|      Paris|   dfa|     Paris|   dfb|\n",
      "|       null|  null| Perpignan|   dfb|\n",
      "|       null|  null|  Poitiers|   dfb|\n",
      "|       null|  null|     Reims|   dfb|\n",
      "|       null|  null|    Rennes|   dfb|\n",
      "|       null|  null|     Rouen|   dfb|\n",
      "|       null|  null|St-Quentin|   dfb|\n",
      "|       null|  null|Strasbourg|   dfb|\n",
      "|       null|  null|    Toulon|   dfb|\n",
      "|       null|  null|  Toulouse|   dfb|\n",
      "|       null|  null|     Tours|   dfb|\n",
      "|       null|  null|     Vichy|   dfb|\n",
      "+-----------+------+----------+------+\n",
      "\n"
     ]
    }
   ],
   "source": [
    "dfa.join(dfb,dfa['ville'] == dfb['ville'],'full').show(50)"
   ]
  },
  {
   "cell_type": "code",
   "execution_count": 35,
   "metadata": {
    "ExecuteTime": {
     "end_time": "2021-12-07T10:26:42.127567Z",
     "start_time": "2021-12-07T10:26:33.451147Z"
    }
   },
   "outputs": [
    {
     "name": "stdout",
     "output_type": "stream",
     "text": [
      "+-----------+------+-------+------+\n",
      "|      ville|valeur|  ville|valeur|\n",
      "+-----------+------+-------+------+\n",
      "|    Ajaccio|   dfa|   null|  null|\n",
      "|     Angers|   dfa|   null|  null|\n",
      "|  Angoulème|   dfa|   null|  null|\n",
      "|   Besançon|   dfa|   null|  null|\n",
      "|   Biarritz|   dfa|   null|  null|\n",
      "|   Bordeaux|   dfa|   null|  null|\n",
      "|      Brest|   dfa|   null|  null|\n",
      "|       Caen|   dfa|   null|  null|\n",
      "|Clermont-Fd|   dfa|   null|  null|\n",
      "|      Dijon|   dfa|   null|  null|\n",
      "|     Embrun|   dfa|   null|  null|\n",
      "|   Grenoble|   dfa|   null|  null|\n",
      "|      Lille|   dfa|   null|  null|\n",
      "|    Limoges|   dfa|   null|  null|\n",
      "|       Lyon|   dfa|   null|  null|\n",
      "|  Marseille|   dfa|   null|  null|\n",
      "|Montpellier|   dfa|   null|  null|\n",
      "|      Nancy|   dfa|  Nancy|   dfb|\n",
      "|     Nantes|   dfa| Nantes|   dfb|\n",
      "|       Nice|   dfa|   Nice|   dfb|\n",
      "|      Nîmes|   dfa|  Nîmes|   dfb|\n",
      "|    Orléans|   dfa|Orléans|   dfb|\n",
      "|      Paris|   dfa|  Paris|   dfb|\n",
      "+-----------+------+-------+------+\n",
      "\n"
     ]
    }
   ],
   "source": [
    "dfa.join(dfb,dfa['ville'] == dfb['ville'],'left').show(50)"
   ]
  },
  {
   "cell_type": "code",
   "execution_count": 36,
   "metadata": {
    "ExecuteTime": {
     "end_time": "2021-12-07T10:26:50.847754Z",
     "start_time": "2021-12-07T10:26:42.129565Z"
    }
   },
   "outputs": [
    {
     "name": "stdout",
     "output_type": "stream",
     "text": [
      "+-------+------+----------+------+\n",
      "|  ville|valeur|     ville|valeur|\n",
      "+-------+------+----------+------+\n",
      "|  Nancy|   dfa|     Nancy|   dfb|\n",
      "| Nantes|   dfa|    Nantes|   dfb|\n",
      "|   Nice|   dfa|      Nice|   dfb|\n",
      "|  Nîmes|   dfa|     Nîmes|   dfb|\n",
      "|Orléans|   dfa|   Orléans|   dfb|\n",
      "|  Paris|   dfa|     Paris|   dfb|\n",
      "|   null|  null| Perpignan|   dfb|\n",
      "|   null|  null|  Poitiers|   dfb|\n",
      "|   null|  null|     Reims|   dfb|\n",
      "|   null|  null|    Rennes|   dfb|\n",
      "|   null|  null|     Rouen|   dfb|\n",
      "|   null|  null|St-Quentin|   dfb|\n",
      "|   null|  null|Strasbourg|   dfb|\n",
      "|   null|  null|    Toulon|   dfb|\n",
      "|   null|  null|  Toulouse|   dfb|\n",
      "|   null|  null|     Tours|   dfb|\n",
      "|   null|  null|     Vichy|   dfb|\n",
      "+-------+------+----------+------+\n",
      "\n"
     ]
    }
   ],
   "source": [
    "dfa.join(dfb,dfa['ville'] == dfb['ville'],'right').show(50)"
   ]
  },
  {
   "cell_type": "code",
   "execution_count": null,
   "metadata": {},
   "outputs": [],
   "source": []
  },
  {
   "cell_type": "code",
   "execution_count": null,
   "metadata": {},
   "outputs": [],
   "source": []
  },
  {
   "cell_type": "code",
   "execution_count": null,
   "metadata": {},
   "outputs": [],
   "source": []
  },
  {
   "cell_type": "code",
   "execution_count": null,
   "metadata": {},
   "outputs": [],
   "source": []
  },
  {
   "cell_type": "code",
   "execution_count": null,
   "metadata": {},
   "outputs": [],
   "source": []
  },
  {
   "cell_type": "code",
   "execution_count": null,
   "metadata": {},
   "outputs": [],
   "source": []
  },
  {
   "cell_type": "code",
   "execution_count": null,
   "metadata": {},
   "outputs": [],
   "source": []
  },
  {
   "cell_type": "code",
   "execution_count": null,
   "metadata": {},
   "outputs": [],
   "source": []
  },
  {
   "cell_type": "code",
   "execution_count": null,
   "metadata": {},
   "outputs": [],
   "source": []
  },
  {
   "cell_type": "code",
   "execution_count": null,
   "metadata": {},
   "outputs": [],
   "source": []
  },
  {
   "cell_type": "code",
   "execution_count": null,
   "metadata": {},
   "outputs": [],
   "source": []
  },
  {
   "cell_type": "code",
   "execution_count": null,
   "metadata": {},
   "outputs": [],
   "source": []
  },
  {
   "cell_type": "code",
   "execution_count": null,
   "metadata": {},
   "outputs": [],
   "source": []
  },
  {
   "cell_type": "code",
   "execution_count": null,
   "metadata": {},
   "outputs": [],
   "source": []
  },
  {
   "cell_type": "code",
   "execution_count": null,
   "metadata": {},
   "outputs": [],
   "source": []
  },
  {
   "cell_type": "code",
   "execution_count": null,
   "metadata": {},
   "outputs": [],
   "source": []
  },
  {
   "cell_type": "code",
   "execution_count": null,
   "metadata": {},
   "outputs": [],
   "source": []
  },
  {
   "cell_type": "code",
   "execution_count": null,
   "metadata": {},
   "outputs": [],
   "source": []
  },
  {
   "cell_type": "code",
   "execution_count": null,
   "metadata": {},
   "outputs": [],
   "source": []
  },
  {
   "cell_type": "code",
   "execution_count": null,
   "metadata": {},
   "outputs": [],
   "source": []
  },
  {
   "cell_type": "code",
   "execution_count": null,
   "metadata": {},
   "outputs": [],
   "source": []
  },
  {
   "cell_type": "code",
   "execution_count": null,
   "metadata": {},
   "outputs": [],
   "source": []
  },
  {
   "cell_type": "code",
   "execution_count": null,
   "metadata": {},
   "outputs": [],
   "source": []
  },
  {
   "cell_type": "code",
   "execution_count": null,
   "metadata": {},
   "outputs": [],
   "source": []
  },
  {
   "cell_type": "code",
   "execution_count": null,
   "metadata": {},
   "outputs": [],
   "source": []
  },
  {
   "cell_type": "code",
   "execution_count": null,
   "metadata": {},
   "outputs": [],
   "source": []
  },
  {
   "cell_type": "code",
   "execution_count": null,
   "metadata": {},
   "outputs": [],
   "source": []
  },
  {
   "cell_type": "code",
   "execution_count": null,
   "metadata": {},
   "outputs": [],
   "source": []
  },
  {
   "cell_type": "code",
   "execution_count": null,
   "metadata": {},
   "outputs": [],
   "source": []
  },
  {
   "cell_type": "code",
   "execution_count": null,
   "metadata": {},
   "outputs": [],
   "source": []
  },
  {
   "cell_type": "code",
   "execution_count": null,
   "metadata": {},
   "outputs": [],
   "source": []
  },
  {
   "cell_type": "code",
   "execution_count": null,
   "metadata": {},
   "outputs": [],
   "source": []
  },
  {
   "cell_type": "code",
   "execution_count": null,
   "metadata": {},
   "outputs": [],
   "source": []
  },
  {
   "cell_type": "code",
   "execution_count": null,
   "metadata": {},
   "outputs": [],
   "source": []
  },
  {
   "cell_type": "code",
   "execution_count": null,
   "metadata": {},
   "outputs": [],
   "source": []
  },
  {
   "cell_type": "code",
   "execution_count": null,
   "metadata": {},
   "outputs": [],
   "source": []
  },
  {
   "cell_type": "code",
   "execution_count": null,
   "metadata": {},
   "outputs": [],
   "source": []
  },
  {
   "cell_type": "code",
   "execution_count": null,
   "metadata": {},
   "outputs": [],
   "source": []
  },
  {
   "cell_type": "code",
   "execution_count": null,
   "metadata": {},
   "outputs": [],
   "source": []
  },
  {
   "cell_type": "code",
   "execution_count": null,
   "metadata": {},
   "outputs": [],
   "source": []
  },
  {
   "cell_type": "code",
   "execution_count": null,
   "metadata": {},
   "outputs": [],
   "source": []
  },
  {
   "cell_type": "code",
   "execution_count": null,
   "metadata": {},
   "outputs": [],
   "source": []
  },
  {
   "cell_type": "code",
   "execution_count": null,
   "metadata": {},
   "outputs": [],
   "source": []
  },
  {
   "cell_type": "code",
   "execution_count": null,
   "metadata": {},
   "outputs": [],
   "source": []
  },
  {
   "cell_type": "code",
   "execution_count": null,
   "metadata": {},
   "outputs": [],
   "source": []
  },
  {
   "cell_type": "code",
   "execution_count": null,
   "metadata": {},
   "outputs": [],
   "source": []
  },
  {
   "cell_type": "code",
   "execution_count": null,
   "metadata": {},
   "outputs": [],
   "source": []
  },
  {
   "cell_type": "code",
   "execution_count": null,
   "metadata": {},
   "outputs": [],
   "source": []
  },
  {
   "cell_type": "code",
   "execution_count": null,
   "metadata": {},
   "outputs": [],
   "source": []
  },
  {
   "cell_type": "code",
   "execution_count": null,
   "metadata": {},
   "outputs": [],
   "source": []
  },
  {
   "cell_type": "code",
   "execution_count": null,
   "metadata": {},
   "outputs": [],
   "source": []
  },
  {
   "cell_type": "code",
   "execution_count": null,
   "metadata": {},
   "outputs": [],
   "source": []
  },
  {
   "cell_type": "code",
   "execution_count": null,
   "metadata": {},
   "outputs": [],
   "source": []
  },
  {
   "cell_type": "code",
   "execution_count": null,
   "metadata": {},
   "outputs": [],
   "source": []
  },
  {
   "cell_type": "code",
   "execution_count": null,
   "metadata": {},
   "outputs": [],
   "source": []
  },
  {
   "cell_type": "code",
   "execution_count": null,
   "metadata": {},
   "outputs": [],
   "source": []
  },
  {
   "cell_type": "code",
   "execution_count": null,
   "metadata": {},
   "outputs": [],
   "source": []
  },
  {
   "cell_type": "code",
   "execution_count": null,
   "metadata": {},
   "outputs": [],
   "source": []
  },
  {
   "cell_type": "code",
   "execution_count": null,
   "metadata": {},
   "outputs": [],
   "source": []
  },
  {
   "cell_type": "code",
   "execution_count": null,
   "metadata": {},
   "outputs": [],
   "source": []
  },
  {
   "cell_type": "code",
   "execution_count": null,
   "metadata": {},
   "outputs": [],
   "source": []
  },
  {
   "cell_type": "code",
   "execution_count": null,
   "metadata": {},
   "outputs": [],
   "source": []
  },
  {
   "cell_type": "code",
   "execution_count": null,
   "metadata": {},
   "outputs": [],
   "source": []
  },
  {
   "cell_type": "code",
   "execution_count": null,
   "metadata": {},
   "outputs": [],
   "source": []
  },
  {
   "cell_type": "code",
   "execution_count": null,
   "metadata": {},
   "outputs": [],
   "source": []
  },
  {
   "cell_type": "code",
   "execution_count": null,
   "metadata": {},
   "outputs": [],
   "source": []
  },
  {
   "cell_type": "code",
   "execution_count": null,
   "metadata": {},
   "outputs": [],
   "source": []
  }
 ],
 "metadata": {
  "kernelspec": {
   "display_name": "Python 3",
   "language": "python",
   "name": "python3"
  },
  "language_info": {
   "codemirror_mode": {
    "name": "ipython",
    "version": 3
   },
   "file_extension": ".py",
   "mimetype": "text/x-python",
   "name": "python",
   "nbconvert_exporter": "python",
   "pygments_lexer": "ipython3",
   "version": "3.8.8"
  },
  "toc": {
   "base_numbering": 1,
   "nav_menu": {},
   "number_sections": true,
   "sideBar": true,
   "skip_h1_title": false,
   "title_cell": "Table of Contents",
   "title_sidebar": "Contents",
   "toc_cell": true,
   "toc_position": {},
   "toc_section_display": true,
   "toc_window_display": true
  }
 },
 "nbformat": 4,
 "nbformat_minor": 4
}
