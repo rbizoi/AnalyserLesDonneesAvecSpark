{
 "cells": [
  {
   "cell_type": "markdown",
   "metadata": {
    "toc": true
   },
   "source": [
    "<h1>Table of Contents<span class=\"tocSkip\"></span></h1>\n",
    "<div class=\"toc\"><ul class=\"toc-item\"><li><span><a href=\"#groupBy\" data-toc-modified-id=\"groupBy-1\"><span class=\"toc-item-num\">1&nbsp;&nbsp;</span>groupBy</a></span><ul class=\"toc-item\"><li><span><a href=\"#rollup\" data-toc-modified-id=\"rollup-1.1\"><span class=\"toc-item-num\">1.1&nbsp;&nbsp;</span>rollup</a></span></li><li><span><a href=\"#cube\" data-toc-modified-id=\"cube-1.2\"><span class=\"toc-item-num\">1.2&nbsp;&nbsp;</span>cube</a></span></li></ul></li><li><span><a href=\"#pivot\" data-toc-modified-id=\"pivot-2\"><span class=\"toc-item-num\">2&nbsp;&nbsp;</span>pivot</a></span></li></ul></div>"
   ]
  },
  {
   "cell_type": "code",
   "execution_count": 10,
   "metadata": {
    "ExecuteTime": {
     "end_time": "2021-12-07T09:44:30.708221Z",
     "start_time": "2021-12-07T09:44:30.694260Z"
    }
   },
   "outputs": [],
   "source": [
    "import os\n",
    "from pyspark.sql.functions import *\n",
    "from pyspark.sql.types     import StructType, \\\n",
    "     StructField, FloatType, \\\n",
    "     IntegerType, StringType"
   ]
  },
  {
   "cell_type": "code",
   "execution_count": 11,
   "metadata": {
    "ExecuteTime": {
     "end_time": "2021-12-07T09:44:30.723182Z",
     "start_time": "2021-12-07T09:44:30.709220Z"
    }
   },
   "outputs": [
    {
     "data": {
      "text/html": [
       "\n",
       "            <div>\n",
       "                <p><b>SparkSession - hive</b></p>\n",
       "                \n",
       "        <div>\n",
       "            <p><b>SparkContext</b></p>\n",
       "\n",
       "            <p><a href=\"http://athena.olimp.fr:4040\">Spark UI</a></p>\n",
       "\n",
       "            <dl>\n",
       "              <dt>Version</dt>\n",
       "                <dd><code>v3.2.0</code></dd>\n",
       "              <dt>Master</dt>\n",
       "                <dd><code>local[*]</code></dd>\n",
       "              <dt>AppName</dt>\n",
       "                <dd><code>PySparkShell</code></dd>\n",
       "            </dl>\n",
       "        </div>\n",
       "        \n",
       "            </div>\n",
       "        "
      ],
      "text/plain": [
       "<pyspark.sql.session.SparkSession at 0x2abb8f53640>"
      ]
     },
     "execution_count": 11,
     "metadata": {},
     "output_type": "execute_result"
    }
   ],
   "source": [
    "spark"
   ]
  },
  {
   "cell_type": "code",
   "execution_count": 12,
   "metadata": {
    "ExecuteTime": {
     "end_time": "2021-12-07T09:44:40.397163Z",
     "start_time": "2021-12-07T09:44:30.725176Z"
    }
   },
   "outputs": [
    {
     "data": {
      "text/plain": [
       "(4102262, 62)"
      ]
     },
     "execution_count": 12,
     "metadata": {},
     "output_type": "execute_result"
    }
   ],
   "source": [
    "from pyspark.sql.functions import *\n",
    "\n",
    "meteo = spark.read.format('csv')\\\n",
    "    .option('sep',';')\\\n",
    "    .option('header','true')\\\n",
    "    .option('nullValue','mq')\\\n",
    "    .option('inferSchema', 'true')\\\n",
    "    .load('../donnees/meteo30')\\\n",
    "    .cache()\n",
    "\n",
    "meteo = meteo.select(\n",
    "                 col('numer_sta'),\n",
    "                 to_timestamp(col('date').cast('string'),'yyyyMMddHHmmss'),\n",
    "                 col('date')[0:4].cast('int') ,\n",
    "                 col('date')[5:2].cast('int'),\n",
    "                 col('date')[7:2].cast('int'),\n",
    "                 col('date')[5:4],\n",
    "                 round(col('t') - 273.15,2),\n",
    "                 col('u') / 100 ,\n",
    "                 col('vv') / 1000 ,\n",
    "                 col('pres') / 1000,\n",
    "                 coalesce( col('rr3'),\n",
    "                           col('rr24')/8,\n",
    "                           col('rr12')/4,\n",
    "                           col('rr6')/2,\n",
    "                           col('rr1')*3  ) )\\\n",
    "             .toDF('id','date','annee','mois','jour','mois_jour','temperature',\n",
    "                   'humidite','visibilite','pression','precipitations')\\\n",
    "             .cache()\n",
    "\n",
    "\n",
    "from pyspark.sql.types     import StructType, \\\n",
    "     StructField, FloatType, \\\n",
    "     IntegerType, StringType\n",
    "\n",
    "schema = StructType([\n",
    "        StructField('Id'           , StringType() , True),\n",
    "        StructField('ville'        , StringType() , True),\n",
    "        StructField('latitude'     , FloatType() , True),\n",
    "        StructField('longitude'    , FloatType() , True),\n",
    "        StructField('altitude'     , IntegerType() , True)])\n",
    "\n",
    "villes  = spark.read.format('csv')   \\\n",
    "      .option('sep',';')                \\\n",
    "      .option('mergeSchema', 'true')    \\\n",
    "      .option('header','true')          \\\n",
    "      .schema(schema)                   \\\n",
    "      .load('../donnees/meteo/postesSynop.csv')  \\\n",
    "      .cache()\n",
    "\n",
    "meteo.count(), villes.count()"
   ]
  },
  {
   "cell_type": "markdown",
   "metadata": {},
   "source": [
    "# groupBy\n",
    "\n",
    "<img src=\"https://raw.githubusercontent.com/rbizoi/AnalyserLesDonneesAvecSpark/main/DataFrameSpark/images/M06-03.png\" width=\"400\">    "
   ]
  },
  {
   "cell_type": "code",
   "execution_count": 13,
   "metadata": {
    "ExecuteTime": {
     "end_time": "2021-12-07T09:44:42.754555Z",
     "start_time": "2021-12-07T09:44:40.398161Z"
    }
   },
   "outputs": [
    {
     "name": "stdout",
     "output_type": "stream",
     "text": [
      "+-------+------------------+-----------------+------------------+--------------------+\n",
      "|summary|             annee|        mois_jour|       temperature|      precipitations|\n",
      "+-------+------------------+-----------------+------------------+--------------------+\n",
      "|  count|           2924329|          2924329|           2917134|             2911157|\n",
      "|   mean|2008.8013773416055|667.2736111429323|12.688548061213664|  0.2606704224471589|\n",
      "| stddev| 7.073323663064156| 342.752779649345| 7.327212877431764|  1.3221662599496276|\n",
      "|    min|              1997|             0101|             -21.3|-0.30000000000000004|\n",
      "|    max|              2021|             1231|              46.9|               443.0|\n",
      "+-------+------------------+-----------------+------------------+--------------------+\n",
      "\n"
     ]
    }
   ],
   "source": [
    "meteo.where('id < 8000')\\\n",
    "     .select('annee','mois_jour','temperature','precipitations')\\\n",
    "     .describe().show()"
   ]
  },
  {
   "cell_type": "code",
   "execution_count": 14,
   "metadata": {
    "ExecuteTime": {
     "end_time": "2021-12-07T09:44:44.749666Z",
     "start_time": "2021-12-07T09:44:42.756550Z"
    },
    "scrolled": true
   },
   "outputs": [
    {
     "name": "stdout",
     "output_type": "stream",
     "text": [
      "+-------+------------------+-----------------+------------------+\n",
      "|summary|             annee|        mois_jour|       temperature|\n",
      "+-------+------------------+-----------------+------------------+\n",
      "|  count|           2924329|          2924329|           2917134|\n",
      "|   mean|2008.8013773416055|667.2736111429323|12.688548061213664|\n",
      "| stddev| 7.073323663064156| 342.752779649345| 7.327212877431764|\n",
      "|    min|              1997|             0101|             -21.3|\n",
      "|    max|              2021|             1231|              46.9|\n",
      "+-------+------------------+-----------------+------------------+\n",
      "\n"
     ]
    }
   ],
   "source": [
    "meteo.where('id < 8000')\\\n",
    "     .select('annee','mois_jour','temperature')\\\n",
    "     .describe().show()"
   ]
  },
  {
   "cell_type": "code",
   "execution_count": 15,
   "metadata": {
    "ExecuteTime": {
     "end_time": "2021-12-07T09:44:45.062365Z",
     "start_time": "2021-12-07T09:44:44.752659Z"
    },
    "scrolled": true
   },
   "outputs": [
    {
     "data": {
      "text/plain": [
       "2924329"
      ]
     },
     "execution_count": 15,
     "metadata": {},
     "output_type": "execute_result"
    }
   ],
   "source": [
    "meteo.where('id < 8000').count()"
   ]
  },
  {
   "cell_type": "code",
   "execution_count": 16,
   "metadata": {
    "ExecuteTime": {
     "end_time": "2021-12-07T09:44:45.864241Z",
     "start_time": "2021-12-07T09:44:45.063364Z"
    }
   },
   "outputs": [
    {
     "name": "stdout",
     "output_type": "stream",
     "text": [
      "+-------+-------------------+------------------+------------------+\n",
      "|summary|           humidite|        visibilite|          pression|\n",
      "+-------+-------------------+------------------+------------------+\n",
      "|  count|            2914795|           2524195|           2911657|\n",
      "|   mean| 0.7553112791808771|22.380299168646044| 99.56710474482422|\n",
      "| stddev|0.17687823174673353| 15.13196338966417|2.5289770316208258|\n",
      "|    min|               0.01|               0.0|              43.4|\n",
      "|    max|                1.0|             80.01|            105.09|\n",
      "+-------+-------------------+------------------+------------------+\n",
      "\n"
     ]
    }
   ],
   "source": [
    "meteo.where('id < 8000')\\\n",
    "     .select('humidite','visibilite','pression')\\\n",
    "     .describe().show()"
   ]
  },
  {
   "cell_type": "code",
   "execution_count": 17,
   "metadata": {
    "ExecuteTime": {
     "end_time": "2021-12-07T09:44:46.768932Z",
     "start_time": "2021-12-07T09:44:45.866236Z"
    }
   },
   "outputs": [
    {
     "name": "stdout",
     "output_type": "stream",
     "text": [
      "+-----+------------------+------------------+-----------------+\n",
      "|annee|  avg(temperature)|   avg(visibilite)|    avg(pression)|\n",
      "+-----+------------------+------------------+-----------------+\n",
      "| 2018| 13.37747716669949|24.960805049257843|  99.493988174803|\n",
      "| 2019|13.185722746378648|25.786389970746466|99.53540068658691|\n",
      "| 2020|15.308303801996642|27.542648986820424|99.51710724780125|\n",
      "| 2017|12.851390398103337|25.692301466912546|99.75424086095852|\n",
      "| 2021|12.864146372890076| 25.19687902899523|99.60843868757007|\n",
      "+-----+------------------+------------------+-----------------+\n",
      "only showing top 5 rows\n",
      "\n"
     ]
    }
   ],
   "source": [
    "meteo.where('id < 8000')\\\n",
    "     .groupBy('annee')\\\n",
    "     .avg('temperature','visibilite','pression').show(5)"
   ]
  },
  {
   "cell_type": "code",
   "execution_count": 18,
   "metadata": {
    "ExecuteTime": {
     "end_time": "2021-12-07T09:44:48.565205Z",
     "start_time": "2021-12-07T09:44:46.772922Z"
    }
   },
   "outputs": [
    {
     "name": "stdout",
     "output_type": "stream",
     "text": [
      "+----+-----+----------------+---------------+-------------+\n",
      "|  id|annee|max(temperature)|max(visibilite)|max(pression)|\n",
      "+----+-----+----------------+---------------+-------------+\n",
      "|7747| 2020|            36.2|           60.0|        102.8|\n",
      "|7790| 2018|            33.7|           60.0|       103.41|\n",
      "|7181| 2018|            35.2|           60.0|        99.58|\n",
      "|7558| 2019|            36.3|           20.0|        94.96|\n",
      "|7558| 2018|            34.1|           20.0|        95.33|\n",
      "+----+-----+----------------+---------------+-------------+\n",
      "only showing top 5 rows\n",
      "\n"
     ]
    }
   ],
   "source": [
    "meteo.where('id < 8000')\\\n",
    "     .groupBy('id','annee')\\\n",
    "     .max('temperature','visibilite','pression').show(5)"
   ]
  },
  {
   "cell_type": "code",
   "execution_count": 19,
   "metadata": {
    "ExecuteTime": {
     "end_time": "2021-12-07T09:44:51.089807Z",
     "start_time": "2021-12-07T09:44:48.568199Z"
    }
   },
   "outputs": [
    {
     "name": "stdout",
     "output_type": "stream",
     "text": [
      "+----+-----+---------+-----------+--------+----------+--------+--------------+\n",
      "|  id|annee|nb_villes|temperature|humidite|visibilite|pression|precipitations|\n",
      "+----+-----+---------+-----------+--------+----------+--------+--------------+\n",
      "|7005| 1997|     2904|      10.54|    0.83|     12.91|   100.8|      292736.0|\n",
      "|7005| 1998|     2912|      10.55|    0.83|     14.52|   100.7|      293250.0|\n",
      "|7005| 1999|     2902|      11.14|    0.82|     13.85|   100.6|      291927.0|\n",
      "|7005| 2000|     2903|      10.94|    0.84|     14.01|  100.57|      291960.0|\n",
      "|7005| 2001|     2882|       10.6|    0.84|     14.87|  100.66|      290096.0|\n",
      "|7005| 2002|     2894|      10.95|    0.83|     16.48|  100.61|      290059.0|\n",
      "|7005| 2003|     2905|      10.93|    0.79|     16.98|  100.83|      292904.0|\n",
      "|7005| 2004|     2911|      10.71|    0.83|     17.87|  100.75|      293285.0|\n",
      "|7005| 2005|     2879|      10.79|    0.84|     17.36|  100.89|      290469.0|\n",
      "|7005| 2006|     2909|      11.08|    0.83|     17.55|  100.75|      293087.0|\n",
      "|7005| 2007|     2914|      11.08|    0.84|     18.17|  100.83|      293808.0|\n",
      "|7005| 2008|     2909|      10.62|    0.84|     20.42|  100.64|      292766.0|\n",
      "|7005| 2009|     2915|      10.65|    0.82|     20.02|  100.57|      292964.0|\n",
      "|7005| 2010|     2905|       9.45|    0.82|     19.85|  100.53|      292048.0|\n",
      "|7005| 2011|     2910|      11.52|     0.8|     18.37|  100.86|      293515.0|\n",
      "|7005| 2012|     2913|       10.4|    0.81|     16.99|  100.74|      293463.0|\n",
      "|7005| 2013|     2910|      10.09|    0.83|     15.92|   100.7|      293044.0|\n",
      "|7005| 2014|     2904|      11.69|    0.81|     16.93|  100.53|      291941.0|\n",
      "|7005| 2015|     2907|      11.27|    0.78|     18.03|  100.99|      293579.0|\n",
      "|7005| 2016|     2926|      10.92|    0.81|     17.08|  100.83|      295036.0|\n",
      "|7005| 2017|     2909|      11.46|     0.8|     17.13|  100.89|      293486.0|\n",
      "|7005| 2018|     2910|      11.56|    0.79|     15.43|   100.7|      293038.0|\n",
      "|7005| 2019|     2911|      11.51|    0.78|     16.25|  100.67|      292942.0|\n",
      "|7005| 2020|     2199|      13.77|    0.78|     17.24|  100.67|      221369.0|\n",
      "|7005| 2021|     1838|       11.0|    0.82|      16.0|  100.79|      185254.0|\n",
      "|7015| 1997|     2903|      10.96|     0.8|     13.71|  101.08|      293334.0|\n",
      "|7015| 1998|     2904|      10.76|    0.83|     15.72|  100.98|      293247.0|\n",
      "|7015| 1999|     2910|      11.43|    0.81|     15.02|  100.91|      293652.0|\n",
      "+----+-----+---------+-----------+--------+----------+--------+--------------+\n",
      "only showing top 28 rows\n",
      "\n"
     ]
    }
   ],
   "source": [
    "meteo.where('id < 8000')\\\n",
    "     .groupBy('id','annee')\\\n",
    "     .agg(\n",
    "            count('id').alias('nb_villes'),\n",
    "            round(avg('temperature'),2).alias('temperature'),\n",
    "            round(avg('humidite'),2).alias('humidite'),\n",
    "            round(avg('visibilite'),2).alias('visibilite'),\n",
    "            round(avg('pression'),2).alias('pression'),\n",
    "            round(sum('pression')).alias('precipitations'))\\\n",
    "     .orderBy(\"id\",\"annee\")\\\n",
    "     .show(28)"
   ]
  },
  {
   "cell_type": "code",
   "execution_count": 20,
   "metadata": {
    "ExecuteTime": {
     "end_time": "2021-12-07T09:44:51.909616Z",
     "start_time": "2021-12-07T09:44:51.091803Z"
    }
   },
   "outputs": [
    {
     "name": "stdout",
     "output_type": "stream",
     "text": [
      "+-----+----+--------------+\n",
      "|annee|mois|precipitations|\n",
      "+-----+----+--------------+\n",
      "| 1997|   1|         982.0|\n",
      "| 1997|   2|         890.0|\n",
      "| 1997|   3|         985.0|\n",
      "| 1997|   4|         951.0|\n",
      "| 1997|   5|        1003.0|\n",
      "+-----+----+--------------+\n",
      "only showing top 5 rows\n",
      "\n"
     ]
    }
   ],
   "source": [
    "meteo.where('id < 8000')\\\n",
    "     .groupBy('annee','mois')\\\n",
    "     .agg(round(sum('pression') / 1000).alias('precipitations'))\\\n",
    "     .orderBy('annee','mois')\\\n",
    "     .show(5)"
   ]
  },
  {
   "cell_type": "markdown",
   "metadata": {},
   "source": [
    "## rollup\n",
    "<img src=\"https://raw.githubusercontent.com/rbizoi/AnalyserLesDonneesAvecSpark/main/DataFrameSpark/images/M06-05.png\" width=\"400\">"
   ]
  },
  {
   "cell_type": "code",
   "execution_count": 21,
   "metadata": {
    "ExecuteTime": {
     "end_time": "2021-12-07T09:44:52.901970Z",
     "start_time": "2021-12-07T09:44:51.911610Z"
    }
   },
   "outputs": [
    {
     "name": "stdout",
     "output_type": "stream",
     "text": [
      "+-----+----+--------------+\n",
      "|annee|mois|precipitations|\n",
      "+-----+----+--------------+\n",
      "| 1997|   1|         982.0|\n",
      "| 1997|   2|         890.0|\n",
      "| 1997|   3|         985.0|\n",
      "| 1997|   4|         951.0|\n",
      "| 1997|   5|        1003.0|\n",
      "| 1997|   6|         963.0|\n",
      "| 1997|   7|         993.0|\n",
      "| 1997|   8|         989.0|\n",
      "| 1997|   9|         972.0|\n",
      "| 1997|  10|         991.0|\n",
      "| 1997|  11|         957.0|\n",
      "| 1997|  12|         992.0|\n",
      "| 1997|null|       11668.0|\n",
      "| 1998|   1|         997.0|\n",
      "+-----+----+--------------+\n",
      "only showing top 14 rows\n",
      "\n"
     ]
    }
   ],
   "source": [
    "meteo.where('id < 8000')\\\n",
    "     .groupBy('annee','mois')\\\n",
    "     .agg(round(sum('pression') / 1000).alias('precipitations'))\\\n",
    "     .rollup('annee','mois')\\\n",
    "     .agg( round(sum('precipitations')).alias('precipitations'))\\\n",
    "     .orderBy(col('annee').asc_nulls_last(),\n",
    "              col('mois').asc_nulls_last())\\\n",
    "     .show(14)"
   ]
  },
  {
   "cell_type": "code",
   "execution_count": 22,
   "metadata": {
    "ExecuteTime": {
     "end_time": "2021-12-07T09:44:53.631175Z",
     "start_time": "2021-12-07T09:44:52.902967Z"
    }
   },
   "outputs": [
    {
     "name": "stdout",
     "output_type": "stream",
     "text": [
      "+-----+----+--------------+\n",
      "|annee|mois|precipitations|\n",
      "+-----+----+--------------+\n",
      "| 1997|   1|         982.0|\n",
      "| 1997|   2|         890.0|\n",
      "| 1997|   3|         985.0|\n",
      "| 1997|   4|         951.0|\n",
      "| 1997|   5|        1003.0|\n",
      "| 1997|   6|         963.0|\n",
      "| 1997|   7|         993.0|\n",
      "| 1997|   8|         989.0|\n",
      "| 1997|   9|         972.0|\n",
      "| 1997|  10|         991.0|\n",
      "| 1997|  11|         957.0|\n",
      "| 1997|  12|         992.0|\n",
      "| 1998|   1|         997.0|\n",
      "| 1998|   2|         916.0|\n",
      "| 1998|   3|        1011.0|\n",
      "| 1998|   4|         955.0|\n",
      "| 1998|   5|        1001.0|\n",
      "| 1998|   6|         971.0|\n",
      "| 1998|   7|        1002.0|\n",
      "| 1998|   8|        1001.0|\n",
      "+-----+----+--------------+\n",
      "only showing top 20 rows\n",
      "\n"
     ]
    }
   ],
   "source": [
    "meteo.where('id < 8000')\\\n",
    "     .groupBy('annee','mois')\\\n",
    "     .agg(round(sum('pression') / 1000).alias('precipitations'))\\\n",
    "     .orderBy('annee','mois')\\\n",
    "     .show()"
   ]
  },
  {
   "cell_type": "code",
   "execution_count": 23,
   "metadata": {
    "ExecuteTime": {
     "end_time": "2021-12-07T09:44:54.502915Z",
     "start_time": "2021-12-07T09:44:53.633169Z"
    }
   },
   "outputs": [
    {
     "name": "stdout",
     "output_type": "stream",
     "text": [
      "+-----+----+--------------+\n",
      "|annee|mois|precipitations|\n",
      "+-----+----+--------------+\n",
      "| null|null|      289907.0|\n",
      "| 1997|null|       11668.0|\n",
      "| 1997|   1|         982.0|\n",
      "| 1997|   2|         890.0|\n",
      "| 1997|   3|         985.0|\n",
      "| 1997|   4|         951.0|\n",
      "| 1997|   5|        1003.0|\n",
      "| 1997|   6|         963.0|\n",
      "| 1997|   7|         993.0|\n",
      "| 1997|   8|         989.0|\n",
      "| 1997|   9|         972.0|\n",
      "| 1997|  10|         991.0|\n",
      "| 1997|  11|         957.0|\n",
      "| 1997|  12|         992.0|\n",
      "| 1998|null|       11796.0|\n",
      "| 1998|   1|         997.0|\n",
      "| 1998|   2|         916.0|\n",
      "| 1998|   3|        1011.0|\n",
      "| 1998|   4|         955.0|\n",
      "| 1998|   5|        1001.0|\n",
      "+-----+----+--------------+\n",
      "only showing top 20 rows\n",
      "\n"
     ]
    }
   ],
   "source": [
    "meteo.where('id < 8000')\\\n",
    "     .groupBy('annee','mois')\\\n",
    "     .agg(round(sum('pression') / 1000).alias('precipitations'))\\\n",
    "     .rollup('annee','mois')\\\n",
    "     .agg( round(sum('precipitations')).alias('precipitations'))\\\n",
    "     .orderBy('annee','mois')\\\n",
    "     .show()"
   ]
  },
  {
   "cell_type": "code",
   "execution_count": 24,
   "metadata": {
    "ExecuteTime": {
     "end_time": "2021-12-07T09:44:55.406500Z",
     "start_time": "2021-12-07T09:44:54.504911Z"
    }
   },
   "outputs": [
    {
     "name": "stdout",
     "output_type": "stream",
     "text": [
      "+-----+----+--------------+\n",
      "|annee|mois|precipitations|\n",
      "+-----+----+--------------+\n",
      "| null|null|      289907.0|\n",
      "| 1997|null|       11668.0|\n",
      "| 1997|   1|         982.0|\n",
      "| 1997|   2|         890.0|\n",
      "| 1997|   3|         985.0|\n",
      "| 1997|   4|         951.0|\n",
      "| 1997|   5|        1003.0|\n",
      "| 1997|   6|         963.0|\n",
      "| 1997|   7|         993.0|\n",
      "| 1997|   8|         989.0|\n",
      "| 1997|   9|         972.0|\n",
      "| 1997|  10|         991.0|\n",
      "| 1997|  11|         957.0|\n",
      "| 1997|  12|         992.0|\n",
      "| 1998|null|       11796.0|\n",
      "| 1998|   1|         997.0|\n",
      "| 1998|   2|         916.0|\n",
      "| 1998|   3|        1011.0|\n",
      "| 1998|   4|         955.0|\n",
      "| 1998|   5|        1001.0|\n",
      "+-----+----+--------------+\n",
      "only showing top 20 rows\n",
      "\n"
     ]
    }
   ],
   "source": [
    "meteo.where('id < 8000')\\\n",
    "     .groupBy('annee','mois')\\\n",
    "     .agg(round(sum('pression') / 1000).alias('precipitations'))\\\n",
    "     .rollup('annee','mois')\\\n",
    "     .agg(round(sum('precipitations')).alias('precipitations'))\\\n",
    "     .orderBy('annee','mois')\\\n",
    "     .show(20)"
   ]
  },
  {
   "cell_type": "code",
   "execution_count": 25,
   "metadata": {
    "ExecuteTime": {
     "end_time": "2021-12-07T09:44:56.202544Z",
     "start_time": "2021-12-07T09:44:55.408495Z"
    }
   },
   "outputs": [
    {
     "name": "stdout",
     "output_type": "stream",
     "text": [
      "+-----+----+--------------+\n",
      "|annee|mois|precipitations|\n",
      "+-----+----+--------------+\n",
      "| 1997|   1|        1988.0|\n",
      "| 1997|   2|        2242.0|\n",
      "| 1997|   3|         421.0|\n",
      "| 1997|   4|         908.0|\n",
      "| 1997|   5|        2980.0|\n",
      "| 1997|   6|        4786.0|\n",
      "| 1997|   7|        1816.0|\n",
      "| 1997|   8|        2988.0|\n",
      "| 1997|   9|         821.0|\n",
      "| 1997|  10|        2386.0|\n",
      "| 1997|  11|        4664.0|\n",
      "| 1997|  12|        3854.0|\n",
      "| 1997|null|       29854.0|\n",
      "| 1998|   1|        3178.0|\n",
      "| 1998|   2|         776.0|\n",
      "| 1998|   3|        1409.0|\n",
      "+-----+----+--------------+\n",
      "only showing top 16 rows\n",
      "\n"
     ]
    }
   ],
   "source": [
    "meteo.where('id < 8000')\\\n",
    "     .rollup('annee','mois')\\\n",
    "     .agg(\n",
    "            round(sum('precipitations')).alias('precipitations'))\\\n",
    "     .orderBy(col('annee').asc_nulls_last(),\n",
    "              col('mois').asc_nulls_last())\\\n",
    "     .show(16)"
   ]
  },
  {
   "cell_type": "code",
   "execution_count": 26,
   "metadata": {
    "ExecuteTime": {
     "end_time": "2021-12-07T09:44:57.220174Z",
     "start_time": "2021-12-07T09:44:56.204538Z"
    }
   },
   "outputs": [
    {
     "name": "stdout",
     "output_type": "stream",
     "text": [
      "+-----+----+-----------+--------+----------+--------+--------------+\n",
      "|annee|mois|temperature|humidite|visibilite|pression|precipitations|\n",
      "+-----+----+-----------+--------+----------+--------+--------------+\n",
      "| 1997|   1|       3.26|    0.86|      9.56|   99.74|          0.23|\n",
      "| 1997|   2|       7.88|    0.79|     15.39|  100.19|          0.28|\n",
      "| 1997|   3|       10.2|    0.73|     16.62|  100.28|          0.04|\n",
      "| 1997|   4|       11.0|    0.62|     20.96|   99.75|          0.09|\n",
      "| 1997|   5|      15.11|    0.71|     20.51|   99.33|           0.3|\n",
      "| 1997|   6|      17.09|    0.76|     19.18|   98.99|          0.49|\n",
      "| 1997|   7|      19.15|    0.74|     19.84|   99.72|          0.18|\n",
      "| 1997|   8|      21.76|    0.75|     17.97|    99.5|           0.3|\n",
      "| 1997|   9|      17.63|    0.74|     18.51|   99.92|          0.08|\n",
      "| 1997|  10|      13.24|    0.78|     17.16|   99.54|          0.24|\n",
      "| 1997|  11|        9.4|    0.85|     15.21|   98.65|          0.48|\n",
      "| 1997|  12|       6.51|    0.84|     14.97|   99.26|          0.39|\n",
      "| 1997|null|      12.73|    0.76|     17.15|   99.57|          0.26|\n",
      "| 1998|   1|       5.78|    0.81|     15.65|   99.68|          0.32|\n",
      "| 1998|   2|       6.76|    0.79|     12.43|  100.44|          0.09|\n",
      "| 1998|   3|       8.96|    0.71|     17.27|  100.17|          0.14|\n",
      "+-----+----+-----------+--------+----------+--------+--------------+\n",
      "only showing top 16 rows\n",
      "\n"
     ]
    }
   ],
   "source": [
    "meteo.where('id < 8000')\\\n",
    "     .rollup('annee','mois')\\\n",
    "     .agg(\n",
    "            round(avg('temperature'),2).alias('temperature'),\n",
    "            round(avg('humidite'),2).alias('humidite'),\n",
    "            round(avg('visibilite'),2).alias('visibilite'),\n",
    "            round(avg('pression'),2).alias('pression'),\n",
    "            round(avg('precipitations'),2).alias('precipitations'))\\\n",
    "     .orderBy(col('annee').asc_nulls_last(),\n",
    "              col('mois').asc_nulls_last())\\\n",
    "     .show(16)"
   ]
  },
  {
   "cell_type": "markdown",
   "metadata": {
    "ExecuteTime": {
     "end_time": "2021-12-07T09:38:07.118806Z",
     "start_time": "2021-12-07T09:38:07.100856Z"
    }
   },
   "source": [
    "## cube\n",
    "<img src=\"https://raw.githubusercontent.com/rbizoi/AnalyserLesDonneesAvecSpark/main/DataFrameSpark/images/M06-06.png\" width=\"400\">"
   ]
  },
  {
   "cell_type": "code",
   "execution_count": 27,
   "metadata": {
    "ExecuteTime": {
     "end_time": "2021-12-07T09:44:58.002216Z",
     "start_time": "2021-12-07T09:44:57.221171Z"
    }
   },
   "outputs": [
    {
     "name": "stdout",
     "output_type": "stream",
     "text": [
      "+-----+----+--------------+\n",
      "|annee|mois|precipitations|\n",
      "+-----+----+--------------+\n",
      "| null|null|      289907.0|\n",
      "| null|   1|       24263.0|\n",
      "| null|   2|       22070.0|\n",
      "| null|   3|       24111.0|\n",
      "| null|   4|       24339.0|\n",
      "| null|   5|       25200.0|\n",
      "| null|   6|       24365.0|\n",
      "| null|   7|       25163.0|\n",
      "| null|   8|       25176.0|\n",
      "| null|   9|       23362.0|\n",
      "| null|  10|       24163.0|\n",
      "| null|  11|       23411.0|\n",
      "| null|  12|       24284.0|\n",
      "| 1997|null|       11668.0|\n",
      "| 1997|   1|         982.0|\n",
      "| 1997|   2|         890.0|\n",
      "| 1997|   3|         985.0|\n",
      "| 1997|   4|         951.0|\n",
      "| 1997|   5|        1003.0|\n",
      "| 1997|   6|         963.0|\n",
      "| 1997|   7|         993.0|\n",
      "| 1997|   8|         989.0|\n",
      "| 1997|   9|         972.0|\n",
      "| 1997|  10|         991.0|\n",
      "+-----+----+--------------+\n",
      "only showing top 24 rows\n",
      "\n"
     ]
    }
   ],
   "source": [
    "meteo.where('id < 8000')\\\n",
    "     .groupBy('annee','mois')\\\n",
    "     .agg(round(sum('pression') / 1000).alias('precipitations'))\\\n",
    "     .cube('annee','mois')\\\n",
    "     .agg( round(sum('precipitations')).alias('precipitations'))\\\n",
    "     .orderBy(col('annee'),col('mois'))\\\n",
    "     .show(24)"
   ]
  },
  {
   "cell_type": "code",
   "execution_count": 28,
   "metadata": {
    "ExecuteTime": {
     "end_time": "2021-12-07T09:44:59.539108Z",
     "start_time": "2021-12-07T09:44:58.004211Z"
    }
   },
   "outputs": [
    {
     "name": "stdout",
     "output_type": "stream",
     "text": [
      "+----+-----+------------------+------------------+---------+\n",
      "|  id|annee|     avg(humidite)|  avg(temperature)|count(id)|\n",
      "+----+-----+------------------+------------------+---------+\n",
      "|7747| 2020|0.6630913242009133|18.260542030316955|     2199|\n",
      "|7790| 2018|0.7473152286008939|16.811172224132005|     2916|\n",
      "|7181| 2018|0.7558756868131872|11.667949158364825|     2912|\n",
      "|7558| 2019|0.7018670886075954|11.308966244725742|     2844|\n",
      "|7558| 2018| 0.739443099273608|11.813490141819441|     2891|\n",
      "|7481| 2019|0.6953703703703707|13.503806584362135|     2916|\n",
      "|7607| 2020|0.7647740757644912|16.179141944317678|     2197|\n",
      "|7139| 2020|0.7439328426862939|14.197884084636618|     2175|\n",
      "|7181| 2020|0.6911885245901641|14.058105646630224|     2197|\n",
      "|7020| 2018|0.8082445987654319|12.319087452471484|     2840|\n",
      "+----+-----+------------------+------------------+---------+\n",
      "only showing top 10 rows\n",
      "\n"
     ]
    }
   ],
   "source": [
    "meteo.where('id < 8000')\\\n",
    "     .groupBy('id','annee')\\\n",
    "     .agg(\n",
    "            {'id':'count',\n",
    "            'temperature':'avg',\n",
    "            'humidite':'avg'}\n",
    "     ).show(10)"
   ]
  },
  {
   "cell_type": "code",
   "execution_count": 29,
   "metadata": {
    "ExecuteTime": {
     "end_time": "2021-12-07T09:45:01.049018Z",
     "start_time": "2021-12-07T09:44:59.540106Z"
    }
   },
   "outputs": [
    {
     "name": "stdout",
     "output_type": "stream",
     "text": [
      "+----+-----+------------------+------------------+---------+\n",
      "|  id|annee|          humidite|       temperature|nb_villes|\n",
      "+----+-----+------------------+------------------+---------+\n",
      "|7747| 2020|0.6630913242009133|18.260542030316955|     2199|\n",
      "|7790| 2018|0.7473152286008939|16.811172224132005|     2916|\n",
      "|7181| 2018|0.7558756868131872|11.667949158364825|     2912|\n",
      "|7558| 2019|0.7018670886075954|11.308966244725742|     2844|\n",
      "|7558| 2018| 0.739443099273608|11.813490141819441|     2891|\n",
      "|7481| 2019|0.6953703703703707|13.503806584362135|     2916|\n",
      "|7607| 2020|0.7647740757644912|16.179141944317678|     2197|\n",
      "|7139| 2020|0.7439328426862939|14.197884084636618|     2175|\n",
      "|7181| 2020|0.6911885245901641|14.058105646630224|     2197|\n",
      "|7020| 2018|0.8082445987654319|12.319087452471484|     2840|\n",
      "+----+-----+------------------+------------------+---------+\n",
      "only showing top 10 rows\n",
      "\n"
     ]
    }
   ],
   "source": [
    "meteo.where('id < 8000')\\\n",
    "     .groupBy('id','annee')\\\n",
    "     .agg(\n",
    "            {'id':'count',\n",
    "            'temperature':'avg',\n",
    "            'humidite':'avg'}\n",
    "     ).toDF('id','annee','humidite','temperature','nb_villes').show(10)"
   ]
  },
  {
   "cell_type": "code",
   "execution_count": 30,
   "metadata": {
    "ExecuteTime": {
     "end_time": "2021-12-07T09:45:02.315009Z",
     "start_time": "2021-12-07T09:45:01.051532Z"
    }
   },
   "outputs": [
    {
     "name": "stdout",
     "output_type": "stream",
     "text": [
      "+----+--------+--------+--------+-------+------+----------+\n",
      "|  id|skewness|kurtosis|variance|var_pop|stddev|stddev_pop|\n",
      "+----+--------+--------+--------+-------+------+----------+\n",
      "|7005|   0.066|  -0.042|  40.025| 40.024| 6.327|     6.326|\n",
      "|7015|   0.122|   -0.19|  46.696| 46.695| 6.833|     6.833|\n",
      "|7020|   -0.16|  -0.418|  17.011| 17.011| 4.124|     4.124|\n",
      "|7027|   0.099|  -0.044|  36.238| 36.238|  6.02|      6.02|\n",
      "|7037|   0.158|  -0.098|   44.12| 44.119| 6.642|     6.642|\n",
      "|7072|   0.231|  -0.263|  56.528| 56.525| 7.518|     7.518|\n",
      "|7110|    0.03|   0.138|  24.879| 24.879| 4.988|     4.988|\n",
      "|7117|  -0.049|  -0.221|  18.651| 18.651| 4.319|     4.319|\n",
      "|7130|   0.136|  -0.024|   41.93|  41.93| 6.475|     6.475|\n",
      "|7139|   0.178|  -0.103|  46.922| 46.922|  6.85|      6.85|\n",
      "|7149|   0.168|  -0.267|  52.845| 52.844| 7.269|     7.269|\n",
      "|7168|   0.187|  -0.199|  59.685| 59.684| 7.726|     7.726|\n",
      "|7181|   0.148|  -0.313|  60.995| 60.994|  7.81|      7.81|\n",
      "|7190|   0.113|   -0.46|  67.557| 67.557| 8.219|     8.219|\n",
      "|7207|  -0.108|    0.09|  22.401| 22.401| 4.733|     4.733|\n",
      "+----+--------+--------+--------+-------+------+----------+\n",
      "only showing top 15 rows\n",
      "\n"
     ]
    }
   ],
   "source": [
    "meteo.where('id < 8000')\\\n",
    "     .groupBy('id')\\\n",
    "     .agg(\n",
    "        round(skewness  ('temperature'),3).alias('skewness'  ),\n",
    "        round(kurtosis  ('temperature'),3).alias('kurtosis'  ),\n",
    "        round(variance  ('temperature'),3).alias('variance'  ),\n",
    "        round(var_pop   ('temperature'),3).alias('var_pop'   ),\n",
    "        round(stddev    ('temperature'),3).alias('stddev'    ),\n",
    "        round(stddev_pop('temperature'),3).alias('stddev_pop'))\\\n",
    "     .orderBy('id')\\\n",
    "     .show(15)"
   ]
  },
  {
   "cell_type": "code",
   "execution_count": 31,
   "metadata": {
    "ExecuteTime": {
     "end_time": "2021-12-07T09:45:03.201663Z",
     "start_time": "2021-12-07T09:45:02.316006Z"
    }
   },
   "outputs": [
    {
     "name": "stdout",
     "output_type": "stream",
     "text": [
      "+----+-----+-----------+\n",
      "|  id|annee|temperature|\n",
      "+----+-----+-----------+\n",
      "|7005| 2015|      11.27|\n",
      "|7005| 2016|      10.92|\n",
      "|7005| 2017|      11.46|\n",
      "|7005| 2018|      11.56|\n",
      "|7005| 2019|      11.51|\n",
      "|7005| 2020|      13.77|\n",
      "|7005| 2021|       11.0|\n",
      "|7015| 2015|      11.38|\n",
      "|7015| 2016|      11.16|\n",
      "|7015| 2017|      11.66|\n",
      "+----+-----+-----------+\n",
      "only showing top 10 rows\n",
      "\n"
     ]
    }
   ],
   "source": [
    "meteo.where('id < 8000 and annee > 2014')\\\n",
    "     .groupBy('id','annee')\\\n",
    "     .agg( round(avg('temperature'),2).alias('temperature'))\\\n",
    "     .orderBy(\"id\",\"annee\")\\\n",
    "     .show(10)"
   ]
  },
  {
   "cell_type": "markdown",
   "metadata": {
    "ExecuteTime": {
     "end_time": "2021-12-07T09:23:44.515494Z",
     "start_time": "2021-12-07T09:23:44.507511Z"
    }
   },
   "source": [
    "# pivot\n",
    "<img src=\"https://raw.githubusercontent.com/rbizoi/AnalyserLesDonneesAvecSpark/main/DataFrameSpark/images/M06-04.png\" width=\"400\"> "
   ]
  },
  {
   "cell_type": "code",
   "execution_count": 32,
   "metadata": {
    "ExecuteTime": {
     "end_time": "2021-12-07T09:45:04.559108Z",
     "start_time": "2021-12-07T09:45:03.203659Z"
    }
   },
   "outputs": [
    {
     "name": "stdout",
     "output_type": "stream",
     "text": [
      "+----+-----+-----+-----+-----+-----+-----+-----+\n",
      "|  id| 2015| 2016| 2017| 2018| 2019| 2020| 2021|\n",
      "+----+-----+-----+-----+-----+-----+-----+-----+\n",
      "|7005|11.27|10.92|11.46|11.56|11.51|13.77| 11.0|\n",
      "|7015|11.38|11.16|11.66|11.95|11.79| 14.3|11.26|\n",
      "|7020|12.43|12.22|12.75|12.32|12.98|13.96|11.59|\n",
      "|7027|11.57|11.15|11.71|11.64|11.58|13.68|11.24|\n",
      "|7037| 11.2| 10.7|11.22|11.57|11.37|13.71| 10.8|\n",
      "|7072|11.36|10.67|11.12|11.87|11.42|13.96| 11.3|\n",
      "|7110|11.96|11.64|11.72|11.81|11.79| 13.5|11.45|\n",
      "|7117|12.44|12.14|12.43|12.25|12.34|13.91|11.75|\n",
      "|7130|12.36|11.82|12.18|12.65|12.43| 14.6|12.02|\n",
      "|7139|11.49|10.94|11.51|11.91|11.71| 14.2|11.29|\n",
      "+----+-----+-----+-----+-----+-----+-----+-----+\n",
      "only showing top 10 rows\n",
      "\n"
     ]
    }
   ],
   "source": [
    "meteo.where('id < 8000 and annee > 2014')\\\n",
    "      .groupBy('id')\\\n",
    "      .pivot('annee')\\\n",
    "      .agg( round(avg('temperature'),2))\\\n",
    "      .sort('id')\\\n",
    "      .show(10)"
   ]
  },
  {
   "cell_type": "code",
   "execution_count": 33,
   "metadata": {
    "ExecuteTime": {
     "end_time": "2021-12-07T09:45:05.160515Z",
     "start_time": "2021-12-07T09:45:04.561104Z"
    }
   },
   "outputs": [
    {
     "data": {
      "text/html": [
       "<div>\n",
       "<style scoped>\n",
       "    .dataframe tbody tr th:only-of-type {\n",
       "        vertical-align: middle;\n",
       "    }\n",
       "\n",
       "    .dataframe tbody tr th {\n",
       "        vertical-align: top;\n",
       "    }\n",
       "\n",
       "    .dataframe thead th {\n",
       "        text-align: right;\n",
       "    }\n",
       "</style>\n",
       "<table border=\"1\" class=\"dataframe\">\n",
       "  <thead>\n",
       "    <tr style=\"text-align: right;\">\n",
       "      <th></th>\n",
       "      <th>altitude</th>\n",
       "      <th>ville par altitude</th>\n",
       "    </tr>\n",
       "  </thead>\n",
       "  <tbody>\n",
       "    <tr>\n",
       "      <th>0</th>\n",
       "      <td>300</td>\n",
       "      <td>[NANCY-OCHEY, BALE-MULHOUSE, CLERMONT-FD, GOUR...</td>\n",
       "    </tr>\n",
       "    <tr>\n",
       "      <th>1</th>\n",
       "      <td>900</td>\n",
       "      <td>[EMBRUN]</td>\n",
       "    </tr>\n",
       "    <tr>\n",
       "      <th>2</th>\n",
       "      <td>800</td>\n",
       "      <td>[LE PUY-LOUDES]</td>\n",
       "    </tr>\n",
       "    <tr>\n",
       "      <th>3</th>\n",
       "      <td>100</td>\n",
       "      <td>[ABBEVILLE, CAEN-CARPIQUET, REIMS-PRUNAY, BRES...</td>\n",
       "    </tr>\n",
       "    <tr>\n",
       "      <th>4</th>\n",
       "      <td>400</td>\n",
       "      <td>[LIMOGES-BELLEGARDE, TARBES-OSSUN, ST GIRONS]</td>\n",
       "    </tr>\n",
       "  </tbody>\n",
       "</table>\n",
       "</div>"
      ],
      "text/plain": [
       "   altitude                                 ville par altitude\n",
       "0       300  [NANCY-OCHEY, BALE-MULHOUSE, CLERMONT-FD, GOUR...\n",
       "1       900                                           [EMBRUN]\n",
       "2       800                                    [LE PUY-LOUDES]\n",
       "3       100  [ABBEVILLE, CAEN-CARPIQUET, REIMS-PRUNAY, BRES...\n",
       "4       400      [LIMOGES-BELLEGARDE, TARBES-OSSUN, ST GIRONS]"
      ]
     },
     "execution_count": 33,
     "metadata": {},
     "output_type": "execute_result"
    }
   ],
   "source": [
    "villes.select('ville',\n",
    "               round('altitude',-2).alias('altitude'))\\\n",
    "      .groupBy('altitude')\\\n",
    "      .agg(collect_list('ville').alias('ville par altitude')).toPandas().head()\n",
    "# .show(truncate=False)"
   ]
  },
  {
   "cell_type": "code",
   "execution_count": 34,
   "metadata": {
    "ExecuteTime": {
     "end_time": "2021-12-07T09:45:05.752532Z",
     "start_time": "2021-12-07T09:45:05.162511Z"
    }
   },
   "outputs": [
    {
     "name": "stdout",
     "output_type": "stream",
     "text": [
      "+-----+----+--------+\n",
      "|annee|mois|pression|\n",
      "+-----+----+--------+\n",
      "| 1997|   1|   982.0|\n",
      "| 1997|   2|   890.0|\n",
      "| 1997|   3|   985.0|\n",
      "| 1997|   4|   951.0|\n",
      "| 1997|   5|  1003.0|\n",
      "| 1997|   6|   963.0|\n",
      "| 1997|   7|   993.0|\n",
      "| 1997|   8|   989.0|\n",
      "| 1997|   9|   972.0|\n",
      "| 1997|  10|   991.0|\n",
      "| 1997|  11|   957.0|\n",
      "| 1997|  12|   992.0|\n",
      "| 1998|   1|   997.0|\n",
      "| 1998|   2|   916.0|\n",
      "| 1998|   3|  1011.0|\n",
      "| 1998|   4|   955.0|\n",
      "+-----+----+--------+\n",
      "only showing top 16 rows\n",
      "\n"
     ]
    }
   ],
   "source": [
    "meteo.where('id < 8000')\\\n",
    "     .groupBy('annee','mois')\\\n",
    "     .agg(round(sum('pression') / 1000).alias('pression'))\\\n",
    "     .orderBy('annee','mois')\\\n",
    "     .show(16)"
   ]
  },
  {
   "cell_type": "code",
   "execution_count": null,
   "metadata": {},
   "outputs": [],
   "source": []
  },
  {
   "cell_type": "code",
   "execution_count": null,
   "metadata": {},
   "outputs": [],
   "source": []
  },
  {
   "cell_type": "code",
   "execution_count": null,
   "metadata": {},
   "outputs": [],
   "source": []
  },
  {
   "cell_type": "code",
   "execution_count": null,
   "metadata": {},
   "outputs": [],
   "source": []
  },
  {
   "cell_type": "code",
   "execution_count": null,
   "metadata": {},
   "outputs": [],
   "source": []
  },
  {
   "cell_type": "code",
   "execution_count": null,
   "metadata": {},
   "outputs": [],
   "source": []
  },
  {
   "cell_type": "code",
   "execution_count": null,
   "metadata": {},
   "outputs": [],
   "source": []
  },
  {
   "cell_type": "code",
   "execution_count": null,
   "metadata": {},
   "outputs": [],
   "source": []
  },
  {
   "cell_type": "code",
   "execution_count": null,
   "metadata": {},
   "outputs": [],
   "source": []
  },
  {
   "cell_type": "code",
   "execution_count": null,
   "metadata": {},
   "outputs": [],
   "source": []
  },
  {
   "cell_type": "code",
   "execution_count": null,
   "metadata": {},
   "outputs": [],
   "source": []
  },
  {
   "cell_type": "code",
   "execution_count": null,
   "metadata": {},
   "outputs": [],
   "source": []
  },
  {
   "cell_type": "code",
   "execution_count": null,
   "metadata": {},
   "outputs": [],
   "source": []
  },
  {
   "cell_type": "code",
   "execution_count": null,
   "metadata": {},
   "outputs": [],
   "source": []
  },
  {
   "cell_type": "code",
   "execution_count": null,
   "metadata": {},
   "outputs": [],
   "source": []
  },
  {
   "cell_type": "code",
   "execution_count": null,
   "metadata": {},
   "outputs": [],
   "source": []
  },
  {
   "cell_type": "code",
   "execution_count": null,
   "metadata": {},
   "outputs": [],
   "source": []
  },
  {
   "cell_type": "code",
   "execution_count": null,
   "metadata": {},
   "outputs": [],
   "source": []
  },
  {
   "cell_type": "code",
   "execution_count": null,
   "metadata": {},
   "outputs": [],
   "source": []
  },
  {
   "cell_type": "code",
   "execution_count": null,
   "metadata": {},
   "outputs": [],
   "source": []
  },
  {
   "cell_type": "code",
   "execution_count": null,
   "metadata": {},
   "outputs": [],
   "source": []
  },
  {
   "cell_type": "code",
   "execution_count": null,
   "metadata": {},
   "outputs": [],
   "source": []
  },
  {
   "cell_type": "code",
   "execution_count": null,
   "metadata": {},
   "outputs": [],
   "source": []
  },
  {
   "cell_type": "code",
   "execution_count": null,
   "metadata": {},
   "outputs": [],
   "source": []
  },
  {
   "cell_type": "code",
   "execution_count": null,
   "metadata": {},
   "outputs": [],
   "source": []
  },
  {
   "cell_type": "code",
   "execution_count": null,
   "metadata": {},
   "outputs": [],
   "source": []
  },
  {
   "cell_type": "code",
   "execution_count": null,
   "metadata": {},
   "outputs": [],
   "source": []
  },
  {
   "cell_type": "code",
   "execution_count": null,
   "metadata": {},
   "outputs": [],
   "source": []
  },
  {
   "cell_type": "code",
   "execution_count": null,
   "metadata": {},
   "outputs": [],
   "source": []
  },
  {
   "cell_type": "code",
   "execution_count": null,
   "metadata": {},
   "outputs": [],
   "source": []
  },
  {
   "cell_type": "code",
   "execution_count": null,
   "metadata": {},
   "outputs": [],
   "source": []
  },
  {
   "cell_type": "code",
   "execution_count": null,
   "metadata": {},
   "outputs": [],
   "source": []
  },
  {
   "cell_type": "code",
   "execution_count": null,
   "metadata": {},
   "outputs": [],
   "source": []
  },
  {
   "cell_type": "code",
   "execution_count": null,
   "metadata": {},
   "outputs": [],
   "source": []
  },
  {
   "cell_type": "code",
   "execution_count": null,
   "metadata": {},
   "outputs": [],
   "source": []
  },
  {
   "cell_type": "code",
   "execution_count": null,
   "metadata": {},
   "outputs": [],
   "source": []
  },
  {
   "cell_type": "code",
   "execution_count": null,
   "metadata": {},
   "outputs": [],
   "source": []
  },
  {
   "cell_type": "code",
   "execution_count": null,
   "metadata": {},
   "outputs": [],
   "source": []
  },
  {
   "cell_type": "code",
   "execution_count": null,
   "metadata": {},
   "outputs": [],
   "source": []
  },
  {
   "cell_type": "code",
   "execution_count": null,
   "metadata": {},
   "outputs": [],
   "source": []
  },
  {
   "cell_type": "code",
   "execution_count": null,
   "metadata": {},
   "outputs": [],
   "source": []
  },
  {
   "cell_type": "code",
   "execution_count": null,
   "metadata": {},
   "outputs": [],
   "source": []
  },
  {
   "cell_type": "code",
   "execution_count": null,
   "metadata": {},
   "outputs": [],
   "source": []
  },
  {
   "cell_type": "code",
   "execution_count": null,
   "metadata": {},
   "outputs": [],
   "source": []
  },
  {
   "cell_type": "code",
   "execution_count": null,
   "metadata": {},
   "outputs": [],
   "source": []
  },
  {
   "cell_type": "code",
   "execution_count": null,
   "metadata": {},
   "outputs": [],
   "source": []
  },
  {
   "cell_type": "code",
   "execution_count": null,
   "metadata": {},
   "outputs": [],
   "source": []
  },
  {
   "cell_type": "code",
   "execution_count": null,
   "metadata": {},
   "outputs": [],
   "source": []
  },
  {
   "cell_type": "code",
   "execution_count": null,
   "metadata": {},
   "outputs": [],
   "source": []
  },
  {
   "cell_type": "code",
   "execution_count": null,
   "metadata": {},
   "outputs": [],
   "source": []
  },
  {
   "cell_type": "code",
   "execution_count": null,
   "metadata": {},
   "outputs": [],
   "source": []
  },
  {
   "cell_type": "code",
   "execution_count": null,
   "metadata": {},
   "outputs": [],
   "source": []
  },
  {
   "cell_type": "code",
   "execution_count": null,
   "metadata": {},
   "outputs": [],
   "source": []
  },
  {
   "cell_type": "code",
   "execution_count": null,
   "metadata": {},
   "outputs": [],
   "source": []
  },
  {
   "cell_type": "code",
   "execution_count": null,
   "metadata": {},
   "outputs": [],
   "source": []
  },
  {
   "cell_type": "code",
   "execution_count": null,
   "metadata": {},
   "outputs": [],
   "source": []
  },
  {
   "cell_type": "code",
   "execution_count": null,
   "metadata": {},
   "outputs": [],
   "source": []
  },
  {
   "cell_type": "code",
   "execution_count": null,
   "metadata": {},
   "outputs": [],
   "source": []
  },
  {
   "cell_type": "code",
   "execution_count": null,
   "metadata": {},
   "outputs": [],
   "source": []
  },
  {
   "cell_type": "code",
   "execution_count": null,
   "metadata": {},
   "outputs": [],
   "source": []
  },
  {
   "cell_type": "code",
   "execution_count": null,
   "metadata": {},
   "outputs": [],
   "source": []
  },
  {
   "cell_type": "code",
   "execution_count": null,
   "metadata": {},
   "outputs": [],
   "source": []
  },
  {
   "cell_type": "code",
   "execution_count": null,
   "metadata": {},
   "outputs": [],
   "source": []
  },
  {
   "cell_type": "code",
   "execution_count": null,
   "metadata": {},
   "outputs": [],
   "source": []
  },
  {
   "cell_type": "code",
   "execution_count": null,
   "metadata": {},
   "outputs": [],
   "source": []
  },
  {
   "cell_type": "code",
   "execution_count": null,
   "metadata": {},
   "outputs": [],
   "source": []
  },
  {
   "cell_type": "code",
   "execution_count": null,
   "metadata": {},
   "outputs": [],
   "source": []
  },
  {
   "cell_type": "code",
   "execution_count": null,
   "metadata": {},
   "outputs": [],
   "source": []
  },
  {
   "cell_type": "code",
   "execution_count": null,
   "metadata": {},
   "outputs": [],
   "source": []
  },
  {
   "cell_type": "code",
   "execution_count": null,
   "metadata": {},
   "outputs": [],
   "source": []
  },
  {
   "cell_type": "code",
   "execution_count": null,
   "metadata": {},
   "outputs": [],
   "source": []
  },
  {
   "cell_type": "code",
   "execution_count": null,
   "metadata": {},
   "outputs": [],
   "source": []
  },
  {
   "cell_type": "code",
   "execution_count": null,
   "metadata": {},
   "outputs": [],
   "source": []
  },
  {
   "cell_type": "code",
   "execution_count": null,
   "metadata": {},
   "outputs": [],
   "source": []
  }
 ],
 "metadata": {
  "kernelspec": {
   "display_name": "Python 3",
   "language": "python",
   "name": "python3"
  },
  "language_info": {
   "codemirror_mode": {
    "name": "ipython",
    "version": 3
   },
   "file_extension": ".py",
   "mimetype": "text/x-python",
   "name": "python",
   "nbconvert_exporter": "python",
   "pygments_lexer": "ipython3",
   "version": "3.8.8"
  },
  "toc": {
   "base_numbering": 1,
   "nav_menu": {},
   "number_sections": true,
   "sideBar": true,
   "skip_h1_title": false,
   "title_cell": "Table of Contents",
   "title_sidebar": "Contents",
   "toc_cell": true,
   "toc_position": {},
   "toc_section_display": true,
   "toc_window_display": true
  }
 },
 "nbformat": 4,
 "nbformat_minor": 4
}
