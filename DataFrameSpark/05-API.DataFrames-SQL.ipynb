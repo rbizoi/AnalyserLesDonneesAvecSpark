{
 "cells": [
  {
   "cell_type": "markdown",
   "metadata": {
    "toc": true
   },
   "source": [
    "<h1>Table of Contents<span class=\"tocSkip\"></span></h1>\n",
    "<div class=\"toc\"><ul class=\"toc-item\"></ul></div>"
   ]
  },
  {
   "cell_type": "code",
   "execution_count": 1,
   "metadata": {
    "ExecuteTime": {
     "end_time": "2021-12-07T10:32:51.109269Z",
     "start_time": "2021-12-07T10:32:51.092344Z"
    }
   },
   "outputs": [],
   "source": [
    "import os\n",
    "from pyspark.sql.functions import *\n",
    "from pyspark.sql.types     import StructType, \\\n",
    "     StructField, FloatType, \\\n",
    "     IntegerType, StringType"
   ]
  },
  {
   "cell_type": "code",
   "execution_count": 2,
   "metadata": {
    "ExecuteTime": {
     "end_time": "2021-12-07T10:32:51.139189Z",
     "start_time": "2021-12-07T10:32:51.111264Z"
    }
   },
   "outputs": [
    {
     "data": {
      "text/html": [
       "\n",
       "            <div>\n",
       "                <p><b>SparkSession - hive</b></p>\n",
       "                \n",
       "        <div>\n",
       "            <p><b>SparkContext</b></p>\n",
       "\n",
       "            <p><a href=\"http://athena.olimp.fr:4040\">Spark UI</a></p>\n",
       "\n",
       "            <dl>\n",
       "              <dt>Version</dt>\n",
       "                <dd><code>v3.2.0</code></dd>\n",
       "              <dt>Master</dt>\n",
       "                <dd><code>local[*]</code></dd>\n",
       "              <dt>AppName</dt>\n",
       "                <dd><code>PySparkShell</code></dd>\n",
       "            </dl>\n",
       "        </div>\n",
       "        \n",
       "            </div>\n",
       "        "
      ],
      "text/plain": [
       "<pyspark.sql.session.SparkSession at 0x14609e72610>"
      ]
     },
     "execution_count": 2,
     "metadata": {},
     "output_type": "execute_result"
    }
   ],
   "source": [
    "spark"
   ]
  },
  {
   "cell_type": "code",
   "execution_count": 1,
   "metadata": {
    "ExecuteTime": {
     "end_time": "2021-12-07T10:47:19.665885Z",
     "start_time": "2021-12-07T10:47:03.578782Z"
    }
   },
   "outputs": [
    {
     "name": "stdout",
     "output_type": "stream",
     "text": [
      "+-----+----+----+-----------+--------+----------+--------+\n",
      "|annee|mois|jour|temperature|humidite|visibilite|pression|\n",
      "+-----+----+----+-----------+--------+----------+--------+\n",
      "| 2019|  12|   1|        3.7|    0.79|      20.0|  100.86|\n",
      "| 2019|  12|   1|        2.8|    0.87|     12.23|  101.38|\n",
      "| 2019|  12|   1|        8.7|    0.75|      10.0|  101.39|\n",
      "+-----+----+----+-----------+--------+----------+--------+\n",
      "only showing top 3 rows\n",
      "\n"
     ]
    }
   ],
   "source": [
    "from pyspark.sql.functions import *\n",
    "from pyspark.sql.types     import StructType, \\\n",
    "     StructField, FloatType, \\\n",
    "     IntegerType, StringType\n",
    "\n",
    "meteoDataFrame  = spark.read.format('csv')\\\n",
    "    .option('sep',';')\\\n",
    "    .option('header','true')\\\n",
    "    .option('nullValue','mq')\\\n",
    "    .option('inferSchema', 'true')\\\n",
    "    .load('../donnees/meteo30')\\\n",
    "    .cache()\n",
    "\n",
    "schema = StructType([\n",
    "        StructField('Id'           , StringType() , True),\n",
    "        StructField('ville'        , StringType() , True),\n",
    "        StructField('latitude'     , FloatType() , True),\n",
    "        StructField('longitude'    , FloatType() , True),\n",
    "        StructField('altitude'     , IntegerType() , True)])\n",
    "\n",
    "villes  = spark.read.format('csv')   \\\n",
    "      .option('sep',';')                \\\n",
    "      .option('mergeSchema', 'true')    \\\n",
    "      .option('header','true')          \\\n",
    "      .schema(schema)                   \\\n",
    "      .load('../donnees/meteo/postesSynop.csv')  \\\n",
    "      .cache()\n",
    "\n",
    "@udf(\"string\")\n",
    "def formatVille(ville):\n",
    "    if ville in ['CLERMONT-FD','MONT-DE-MARSAN',\n",
    "                                   'ST-PIERRE','ST-BARTHELEMY METEO'] :\n",
    "        return ville.title()\n",
    "    else :\n",
    "        if ville.find('-') != -1 :\n",
    "            return ville[0:ville.find('-')].title()\n",
    "        else:\n",
    "            return ville.title()\n",
    "\n",
    "villesT  = villes.select(\n",
    "                col('Id').alias('id'),\n",
    "                formatVille('ville').alias('ville'),\n",
    "               'latitude',\n",
    "               'longitude',\n",
    "               'altitude')\n",
    "\n",
    "\n",
    "meteo = meteoDataFrame.select(\n",
    "                 col('numer_sta'),\n",
    "                 to_timestamp(col('date').cast('string'),'yyyyMMddHHmmss'),\n",
    "                 col('date')[0:4].cast('int') ,\n",
    "                 col('date')[5:2].cast('int'),\n",
    "                 col('date')[7:2].cast('int'),\n",
    "                 col('date')[5:4],\n",
    "                 round(col('t') - 273.15,2),\n",
    "                 col('u') / 100 ,\n",
    "                 col('vv') / 1000 ,\n",
    "                 col('pres') / 1000,\n",
    "                 coalesce( col('rr3'),\n",
    "                           col('rr24')/8,\n",
    "                           col('rr12')/4,\n",
    "                           col('rr6')/2,\n",
    "                           col('rr1')*3  ) )\\\n",
    "             .toDF('id','date','annee','mois','jour','mois_jour','temperature',\n",
    "                   'humidite','visibilite','pression','precipitations')\\\n",
    "             .cache()\n",
    "\n",
    "meteo.select('annee','mois','jour','temperature','humidite',\n",
    "             'visibilite','pression').show(3)"
   ]
  },
  {
   "cell_type": "code",
   "execution_count": 5,
   "metadata": {
    "ExecuteTime": {
     "end_time": "2021-12-07T10:56:51.126569Z",
     "start_time": "2021-12-07T10:56:28.810664Z"
    }
   },
   "outputs": [],
   "source": [
    "meteo.write\\\n",
    "       .mode('overwrite')\\\n",
    "       .format('parquet')\\\n",
    "       .partitionBy('annee')\\\n",
    "       .option('path', '../donnees/meteo/meteoFrance')\\\n",
    "       .save()"
   ]
  },
  {
   "cell_type": "code",
   "execution_count": 7,
   "metadata": {
    "ExecuteTime": {
     "end_time": "2021-12-07T10:57:06.170594Z",
     "start_time": "2021-12-07T10:57:05.890516Z"
    }
   },
   "outputs": [
    {
     "name": "stdout",
     "output_type": "stream",
     "text": [
      "+----+-------------------+----+----+---------+-----------+--------+----------+--------+--------------+-----+\n",
      "|  id|               date|mois|jour|mois_jour|temperature|humidite|visibilite|pression|precipitations|annee|\n",
      "+----+-------------------+----+----+---------+-----------+--------+----------+--------+--------------+-----+\n",
      "|7005|2020-08-01 00:00:00|   8|   1|     0801|       17.5|    0.95|     19.26|  100.69|           0.0| 2020|\n",
      "|7015|2020-08-01 00:00:00|   8|   1|     0801|       20.7|    0.67|     53.38|  100.85|           0.0| 2020|\n",
      "|7020|2020-08-01 00:00:00|   8|   1|     0801|       17.1|    0.97|       8.0|  101.49|           0.0| 2020|\n",
      "|7027|2020-08-01 00:00:00|   8|   1|     0801|       19.3|    0.87|      60.0|  100.86|           0.0| 2020|\n",
      "|7037|2020-08-01 00:00:00|   8|   1|     0801|       17.8|     0.9|     19.63|   99.81|           0.0| 2020|\n",
      "+----+-------------------+----+----+---------+-----------+--------+----------+--------+--------------+-----+\n",
      "only showing top 5 rows\n",
      "\n"
     ]
    }
   ],
   "source": [
    "spark.sql(\"select * from parquet.\"+\n",
    "          \"`../donnees/meteo/meteoFrance` \"+\n",
    "          \"where annee = 2020\").show(5)"
   ]
  },
  {
   "cell_type": "code",
   "execution_count": 8,
   "metadata": {
    "ExecuteTime": {
     "end_time": "2021-12-07T10:57:53.690618Z",
     "start_time": "2021-12-07T10:57:53.513890Z"
    }
   },
   "outputs": [],
   "source": [
    "meteoFance = spark.read.format('parquet').load('../donnees/meteo/meteoFrance')"
   ]
  },
  {
   "cell_type": "code",
   "execution_count": 17,
   "metadata": {
    "ExecuteTime": {
     "end_time": "2021-12-07T11:06:57.189378Z",
     "start_time": "2021-12-07T11:06:57.168435Z"
    }
   },
   "outputs": [
    {
     "name": "stdout",
     "output_type": "stream",
     "text": [
      "++\n",
      "||\n",
      "++\n",
      "++\n",
      "\n"
     ]
    }
   ],
   "source": [
    "spark.sql('CREATE DATABASE IF NOT EXISTS cours').show()"
   ]
  },
  {
   "cell_type": "code",
   "execution_count": 18,
   "metadata": {
    "ExecuteTime": {
     "end_time": "2021-12-07T11:07:02.424382Z",
     "start_time": "2021-12-07T11:07:02.394464Z"
    }
   },
   "outputs": [
    {
     "name": "stdout",
     "output_type": "stream",
     "text": [
      "+---------+\n",
      "|namespace|\n",
      "+---------+\n",
      "|    cours|\n",
      "|  default|\n",
      "+---------+\n",
      "\n"
     ]
    }
   ],
   "source": [
    "spark.sql('show databases').show()"
   ]
  },
  {
   "cell_type": "code",
   "execution_count": 19,
   "metadata": {
    "ExecuteTime": {
     "end_time": "2021-12-07T11:07:09.519525Z",
     "start_time": "2021-12-07T11:07:09.305144Z"
    }
   },
   "outputs": [
    {
     "name": "stdout",
     "output_type": "stream",
     "text": [
      "++\n",
      "||\n",
      "++\n",
      "++\n",
      "\n"
     ]
    }
   ],
   "source": [
    "spark.sql('CREATE TABLE IF NOT EXISTS meteo STORED AS ORC AS SELECT * FROM parquet.`../donnees/meteo/meteoFrance`').show()"
   ]
  },
  {
   "cell_type": "code",
   "execution_count": 20,
   "metadata": {
    "ExecuteTime": {
     "end_time": "2021-12-07T11:07:10.485438Z",
     "start_time": "2021-12-07T11:07:10.433549Z"
    }
   },
   "outputs": [
    {
     "name": "stdout",
     "output_type": "stream",
     "text": [
      "+---------+---------+-----------+\n",
      "|namespace|tableName|isTemporary|\n",
      "+---------+---------+-----------+\n",
      "|  default|    meteo|      false|\n",
      "+---------+---------+-----------+\n",
      "\n"
     ]
    }
   ],
   "source": [
    "spark.sql('show tables').show()"
   ]
  },
  {
   "cell_type": "code",
   "execution_count": 21,
   "metadata": {
    "ExecuteTime": {
     "end_time": "2021-12-07T11:07:14.150793Z",
     "start_time": "2021-12-07T11:07:13.979252Z"
    }
   },
   "outputs": [
    {
     "name": "stdout",
     "output_type": "stream",
     "text": [
      "+----+-------------------+----+----+---------+-----------+--------+----------+--------+--------------+-----+\n",
      "|  id|               date|mois|jour|mois_jour|temperature|humidite|visibilite|pression|precipitations|annee|\n",
      "+----+-------------------+----+----+---------+-----------+--------+----------+--------+--------------+-----+\n",
      "|7005|2020-08-01 00:00:00|   8|   1|     0801|       17.5|    0.95|     19.26|  100.69|           0.0| 2020|\n",
      "|7015|2020-08-01 00:00:00|   8|   1|     0801|       20.7|    0.67|     53.38|  100.85|           0.0| 2020|\n",
      "|7020|2020-08-01 00:00:00|   8|   1|     0801|       17.1|    0.97|       8.0|  101.49|           0.0| 2020|\n",
      "|7027|2020-08-01 00:00:00|   8|   1|     0801|       19.3|    0.87|      60.0|  100.86|           0.0| 2020|\n",
      "|7037|2020-08-01 00:00:00|   8|   1|     0801|       17.8|     0.9|     19.63|   99.81|           0.0| 2020|\n",
      "|7072|2020-08-01 00:00:00|   8|   1|     0801|       22.4|    0.78|      20.0|  100.42|           2.6| 2020|\n",
      "|7110|2020-08-01 00:00:00|   8|   1|     0801|       16.6|    0.97|     15.86|  100.59|           0.0| 2020|\n",
      "|7117|2020-08-01 00:00:00|   8|   1|     0801|       16.1|    0.97|      null|  101.02|           0.2| 2020|\n",
      "|7130|2020-08-01 00:00:00|   8|   1|     0801|       20.3|    0.84|     42.81|  101.29|           0.0| 2020|\n",
      "|7139|2020-08-01 00:00:00|   8|   1|     0801|       19.3|    0.76|      20.0|   99.94|           0.0| 2020|\n",
      "|7149|2020-08-01 00:00:00|   8|   1|     0801|       25.4|    0.58|      30.0|  100.49|           0.0| 2020|\n",
      "|7168|2020-08-01 00:00:00|   8|   1|     0801|       26.6|    0.45|      20.0|   100.1|          -0.1| 2020|\n",
      "|7181|2020-08-01 00:00:00|   8|   1|     0801|       27.3|    0.43|     56.68|   97.58|           0.0| 2020|\n",
      "|7190|2020-08-01 00:00:00|   8|   1|     0801|       20.0|    0.67|      28.4|   99.66|           0.0| 2020|\n",
      "|7207|2020-08-01 00:00:00|   8|   1|     0801|       18.3|    0.91|      null|  101.34|           0.2| 2020|\n",
      "|7222|2020-08-01 00:00:00|   8|   1|     0801|       19.3|    0.89|      60.0|   101.5|           0.0| 2020|\n",
      "|7240|2020-08-01 00:00:00|   8|   1|     0801|       21.5|    0.67|     50.67|  100.31|           0.0| 2020|\n",
      "|7255|2020-08-01 00:00:00|   8|   1|     0801|       22.9|    0.67|      20.0|   99.63|           0.0| 2020|\n",
      "|7280|2020-08-01 00:00:00|   8|   1|     0801|       24.6|    0.59|      60.0|   98.81|          -0.1| 2020|\n",
      "|7299|2020-08-01 00:00:00|   8|   1|     0801|       26.4|    0.45|     44.23|   98.41|           0.0| 2020|\n",
      "+----+-------------------+----+----+---------+-----------+--------+----------+--------+--------------+-----+\n",
      "only showing top 20 rows\n",
      "\n"
     ]
    }
   ],
   "source": [
    "spark.sql(\"\"\"SELECT *\n",
    "            FROM meteo\n",
    "            WHERE ANNEE = 2020\"\"\").show()"
   ]
  },
  {
   "cell_type": "code",
   "execution_count": 22,
   "metadata": {
    "ExecuteTime": {
     "end_time": "2021-12-07T11:07:17.573325Z",
     "start_time": "2021-12-07T11:07:17.122531Z"
    }
   },
   "outputs": [
    {
     "name": "stdout",
     "output_type": "stream",
     "text": [
      "+-----+------------------+------------------+------------------+------------------+\n",
      "|annee|       temperature|          humidite|        visibilite|          pression|\n",
      "+-----+------------------+------------------+------------------+------------------+\n",
      "| 2003|14.888266247864602| 0.741586757490121|19.793412606456336| 99.70438287582083|\n",
      "| 2007|14.955878142458142|0.7754617347834829|20.099471214811043| 99.82876070624651|\n",
      "| 2015|14.204845295660801|0.7475355315160201|26.591579830541605| 99.98739669100065|\n",
      "| 2013|14.263538136576747|0.7621931988781137|24.263107410182634| 99.76092405796415|\n",
      "| 1997| 14.89913250559042| 0.767484417911904|17.773680462295996| 99.63939407093666|\n",
      "| 2019|15.479840961873744|0.7458669954184782| 26.52829253250908| 99.92134292857976|\n",
      "| 1998| 14.69787684670146|0.7690312430702502| 18.07777156381201| 99.71812050353148|\n",
      "| 2020|16.862478665118193|0.7412149554933901| 28.09425989647236| 99.90010034101897|\n",
      "| 2012|  14.5598693053622|0.7528102868351927|24.725182310235276| 99.75265946937144|\n",
      "| 2001|14.757173639157397|0.7674760803062578| 19.19560823924525| 99.70126737752341|\n",
      "| 2010| 14.05743075442325|0.7605428245510342|22.726139081876692| 99.45924698664456|\n",
      "| 2008| 14.48753828337627|0.7719480689167678|21.766084986218875| 99.65391476283776|\n",
      "| 2017|14.912291838417135|0.7509419154140184|26.422810566432414|100.06519580432105|\n",
      "| 1999| 14.71690966912555| 0.773690662334185| 17.98494252302392| 99.61733253317144|\n",
      "| 2002|14.705450312329376|0.7730514439123528|18.735263610968087| 99.64356454244337|\n",
      "| 2021|15.128472545161811| 0.749669839168474|25.606289001628447| 99.99406669604544|\n",
      "| 2018|15.173136520453257| 0.755001854874623| 25.49156098701363| 99.83109365320783|\n",
      "| 2006|15.074878462142928|0.7698742921924185| 20.20624905824641|  99.8076540207415|\n",
      "| 2014|15.001602133195188|0.7610444521771906| 25.98797149470845| 99.69394187284651|\n",
      "| 2004|14.748020145271717|0.7675168729902572|20.071977043258208| 99.75716326969668|\n",
      "+-----+------------------+------------------+------------------+------------------+\n",
      "only showing top 20 rows\n",
      "\n"
     ]
    }
   ],
   "source": [
    "spark.sql(\"\"\"SELECT annee, \n",
    "                    avg(temperature) temperature, \n",
    "                    avg(humidite) humidite, \n",
    "                    avg(visibilite) visibilite, \n",
    "                    avg(pression) pression\n",
    "            FROM meteo\n",
    "            GROUP BY ANNEE\"\"\").show()"
   ]
  },
  {
   "cell_type": "code",
   "execution_count": 23,
   "metadata": {
    "ExecuteTime": {
     "end_time": "2021-12-07T11:07:39.799875Z",
     "start_time": "2021-12-07T11:07:39.778904Z"
    }
   },
   "outputs": [
    {
     "name": "stdout",
     "output_type": "stream",
     "text": [
      "++\n",
      "||\n",
      "++\n",
      "++\n",
      "\n"
     ]
    }
   ],
   "source": [
    "spark.sql('USE cours').show()"
   ]
  },
  {
   "cell_type": "code",
   "execution_count": 24,
   "metadata": {
    "ExecuteTime": {
     "end_time": "2021-12-07T11:07:50.707254Z",
     "start_time": "2021-12-07T11:07:50.666366Z"
    }
   },
   "outputs": [
    {
     "name": "stdout",
     "output_type": "stream",
     "text": [
      "+---------+---------+-----------+\n",
      "|namespace|tableName|isTemporary|\n",
      "+---------+---------+-----------+\n",
      "+---------+---------+-----------+\n",
      "\n"
     ]
    }
   ],
   "source": [
    "spark.sql('show tables').show()"
   ]
  },
  {
   "cell_type": "code",
   "execution_count": null,
   "metadata": {},
   "outputs": [],
   "source": []
  },
  {
   "cell_type": "code",
   "execution_count": null,
   "metadata": {},
   "outputs": [],
   "source": []
  },
  {
   "cell_type": "code",
   "execution_count": null,
   "metadata": {},
   "outputs": [],
   "source": []
  },
  {
   "cell_type": "code",
   "execution_count": null,
   "metadata": {},
   "outputs": [],
   "source": []
  },
  {
   "cell_type": "code",
   "execution_count": null,
   "metadata": {},
   "outputs": [],
   "source": []
  },
  {
   "cell_type": "code",
   "execution_count": null,
   "metadata": {},
   "outputs": [],
   "source": []
  },
  {
   "cell_type": "code",
   "execution_count": null,
   "metadata": {},
   "outputs": [],
   "source": []
  },
  {
   "cell_type": "code",
   "execution_count": null,
   "metadata": {},
   "outputs": [],
   "source": []
  },
  {
   "cell_type": "code",
   "execution_count": null,
   "metadata": {},
   "outputs": [],
   "source": []
  },
  {
   "cell_type": "code",
   "execution_count": null,
   "metadata": {},
   "outputs": [],
   "source": []
  },
  {
   "cell_type": "code",
   "execution_count": null,
   "metadata": {},
   "outputs": [],
   "source": []
  },
  {
   "cell_type": "code",
   "execution_count": null,
   "metadata": {},
   "outputs": [],
   "source": []
  },
  {
   "cell_type": "code",
   "execution_count": null,
   "metadata": {},
   "outputs": [],
   "source": []
  },
  {
   "cell_type": "code",
   "execution_count": null,
   "metadata": {},
   "outputs": [],
   "source": []
  },
  {
   "cell_type": "code",
   "execution_count": null,
   "metadata": {},
   "outputs": [],
   "source": []
  },
  {
   "cell_type": "code",
   "execution_count": null,
   "metadata": {},
   "outputs": [],
   "source": []
  },
  {
   "cell_type": "code",
   "execution_count": null,
   "metadata": {},
   "outputs": [],
   "source": []
  },
  {
   "cell_type": "code",
   "execution_count": null,
   "metadata": {},
   "outputs": [],
   "source": []
  },
  {
   "cell_type": "code",
   "execution_count": null,
   "metadata": {},
   "outputs": [],
   "source": []
  },
  {
   "cell_type": "code",
   "execution_count": null,
   "metadata": {},
   "outputs": [],
   "source": []
  },
  {
   "cell_type": "code",
   "execution_count": null,
   "metadata": {},
   "outputs": [],
   "source": []
  },
  {
   "cell_type": "code",
   "execution_count": null,
   "metadata": {},
   "outputs": [],
   "source": []
  },
  {
   "cell_type": "code",
   "execution_count": null,
   "metadata": {},
   "outputs": [],
   "source": []
  },
  {
   "cell_type": "code",
   "execution_count": null,
   "metadata": {},
   "outputs": [],
   "source": []
  },
  {
   "cell_type": "code",
   "execution_count": null,
   "metadata": {},
   "outputs": [],
   "source": []
  },
  {
   "cell_type": "code",
   "execution_count": null,
   "metadata": {},
   "outputs": [],
   "source": []
  },
  {
   "cell_type": "code",
   "execution_count": null,
   "metadata": {},
   "outputs": [],
   "source": []
  },
  {
   "cell_type": "code",
   "execution_count": null,
   "metadata": {},
   "outputs": [],
   "source": []
  },
  {
   "cell_type": "code",
   "execution_count": null,
   "metadata": {},
   "outputs": [],
   "source": []
  },
  {
   "cell_type": "code",
   "execution_count": null,
   "metadata": {},
   "outputs": [],
   "source": []
  },
  {
   "cell_type": "code",
   "execution_count": null,
   "metadata": {},
   "outputs": [],
   "source": []
  },
  {
   "cell_type": "code",
   "execution_count": null,
   "metadata": {},
   "outputs": [],
   "source": []
  },
  {
   "cell_type": "code",
   "execution_count": null,
   "metadata": {},
   "outputs": [],
   "source": []
  },
  {
   "cell_type": "code",
   "execution_count": null,
   "metadata": {},
   "outputs": [],
   "source": []
  },
  {
   "cell_type": "code",
   "execution_count": null,
   "metadata": {},
   "outputs": [],
   "source": []
  },
  {
   "cell_type": "code",
   "execution_count": null,
   "metadata": {},
   "outputs": [],
   "source": []
  },
  {
   "cell_type": "code",
   "execution_count": null,
   "metadata": {},
   "outputs": [],
   "source": []
  },
  {
   "cell_type": "code",
   "execution_count": null,
   "metadata": {},
   "outputs": [],
   "source": []
  },
  {
   "cell_type": "code",
   "execution_count": null,
   "metadata": {},
   "outputs": [],
   "source": []
  },
  {
   "cell_type": "code",
   "execution_count": null,
   "metadata": {},
   "outputs": [],
   "source": []
  },
  {
   "cell_type": "code",
   "execution_count": null,
   "metadata": {},
   "outputs": [],
   "source": []
  },
  {
   "cell_type": "code",
   "execution_count": null,
   "metadata": {},
   "outputs": [],
   "source": []
  },
  {
   "cell_type": "code",
   "execution_count": null,
   "metadata": {},
   "outputs": [],
   "source": []
  },
  {
   "cell_type": "code",
   "execution_count": null,
   "metadata": {},
   "outputs": [],
   "source": []
  },
  {
   "cell_type": "code",
   "execution_count": null,
   "metadata": {},
   "outputs": [],
   "source": []
  },
  {
   "cell_type": "code",
   "execution_count": null,
   "metadata": {},
   "outputs": [],
   "source": []
  },
  {
   "cell_type": "code",
   "execution_count": null,
   "metadata": {},
   "outputs": [],
   "source": []
  },
  {
   "cell_type": "code",
   "execution_count": null,
   "metadata": {},
   "outputs": [],
   "source": []
  },
  {
   "cell_type": "code",
   "execution_count": null,
   "metadata": {},
   "outputs": [],
   "source": []
  },
  {
   "cell_type": "code",
   "execution_count": null,
   "metadata": {},
   "outputs": [],
   "source": []
  },
  {
   "cell_type": "code",
   "execution_count": null,
   "metadata": {},
   "outputs": [],
   "source": []
  },
  {
   "cell_type": "code",
   "execution_count": null,
   "metadata": {},
   "outputs": [],
   "source": []
  },
  {
   "cell_type": "code",
   "execution_count": null,
   "metadata": {},
   "outputs": [],
   "source": []
  },
  {
   "cell_type": "code",
   "execution_count": null,
   "metadata": {},
   "outputs": [],
   "source": []
  },
  {
   "cell_type": "code",
   "execution_count": null,
   "metadata": {},
   "outputs": [],
   "source": []
  },
  {
   "cell_type": "code",
   "execution_count": null,
   "metadata": {},
   "outputs": [],
   "source": []
  },
  {
   "cell_type": "code",
   "execution_count": null,
   "metadata": {},
   "outputs": [],
   "source": []
  },
  {
   "cell_type": "code",
   "execution_count": null,
   "metadata": {},
   "outputs": [],
   "source": []
  },
  {
   "cell_type": "code",
   "execution_count": null,
   "metadata": {},
   "outputs": [],
   "source": []
  },
  {
   "cell_type": "code",
   "execution_count": null,
   "metadata": {},
   "outputs": [],
   "source": []
  },
  {
   "cell_type": "code",
   "execution_count": null,
   "metadata": {},
   "outputs": [],
   "source": []
  },
  {
   "cell_type": "code",
   "execution_count": null,
   "metadata": {},
   "outputs": [],
   "source": []
  },
  {
   "cell_type": "code",
   "execution_count": null,
   "metadata": {},
   "outputs": [],
   "source": []
  },
  {
   "cell_type": "code",
   "execution_count": null,
   "metadata": {},
   "outputs": [],
   "source": []
  }
 ],
 "metadata": {
  "kernelspec": {
   "display_name": "Python 3",
   "language": "python",
   "name": "python3"
  },
  "language_info": {
   "codemirror_mode": {
    "name": "ipython",
    "version": 3
   },
   "file_extension": ".py",
   "mimetype": "text/x-python",
   "name": "python",
   "nbconvert_exporter": "python",
   "pygments_lexer": "ipython3",
   "version": "3.8.8"
  },
  "toc": {
   "base_numbering": 1,
   "nav_menu": {},
   "number_sections": true,
   "sideBar": true,
   "skip_h1_title": false,
   "title_cell": "Table of Contents",
   "title_sidebar": "Contents",
   "toc_cell": true,
   "toc_position": {},
   "toc_section_display": true,
   "toc_window_display": true
  }
 },
 "nbformat": 4,
 "nbformat_minor": 4
}
