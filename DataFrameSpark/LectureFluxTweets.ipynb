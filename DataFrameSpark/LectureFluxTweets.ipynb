{
 "cells": [
  {
   "cell_type": "markdown",
   "metadata": {
    "toc": true
   },
   "source": [
    "<h1>Table of Contents<span class=\"tocSkip\"></span></h1>\n",
    "<div class=\"toc\"><ul class=\"toc-item\"><li><span><a href=\"#Initialisation-du-flux\" data-toc-modified-id=\"Initialisation-du-flux-1\"><span class=\"toc-item-num\">1&nbsp;&nbsp;</span>Initialisation du flux</a></span></li><li><span><a href=\"#Parkings-de-Strasbourg\" data-toc-modified-id=\"Parkings-de-Strasbourg-2\"><span class=\"toc-item-num\">2&nbsp;&nbsp;</span>Parkings de Strasbourg</a></span></li><li><span><a href=\"#Lecture-URL-Stations-et-sauvegarde\" data-toc-modified-id=\"Lecture-URL-Stations-et-sauvegarde-3\"><span class=\"toc-item-num\">3&nbsp;&nbsp;</span>Lecture URL Stations et sauvegarde</a></span></li><li><span><a href=\"#Lecture-Stations\" data-toc-modified-id=\"Lecture-Stations-4\"><span class=\"toc-item-num\">4&nbsp;&nbsp;</span>Lecture Stations</a></span></li><li><span><a href=\"#Livraison-des-paniers\" data-toc-modified-id=\"Livraison-des-paniers-5\"><span class=\"toc-item-num\">5&nbsp;&nbsp;</span>Livraison des paniers</a></span></li></ul></div>"
   ]
  },
  {
   "cell_type": "code",
   "execution_count": 1,
   "metadata": {
    "ExecuteTime": {
     "end_time": "2021-12-14T08:25:19.610339Z",
     "start_time": "2021-12-14T08:25:19.594356Z"
    }
   },
   "outputs": [],
   "source": [
    "import os\n",
    "from pyspark.sql.functions import *\n",
    "from pyspark.sql.types     import *"
   ]
  },
  {
   "cell_type": "code",
   "execution_count": 2,
   "metadata": {
    "ExecuteTime": {
     "end_time": "2021-12-14T08:25:19.626289Z",
     "start_time": "2021-12-14T08:25:19.613304Z"
    }
   },
   "outputs": [],
   "source": [
    "spark = SparkSession.builder.\\\n",
    "        appName(\"Lecture  du flux des tweets\").getOrCreate()"
   ]
  },
  {
   "cell_type": "code",
   "execution_count": 3,
   "metadata": {
    "ExecuteTime": {
     "end_time": "2021-12-14T08:25:19.657066Z",
     "start_time": "2021-12-14T08:25:19.627267Z"
    }
   },
   "outputs": [
    {
     "data": {
      "text/html": [
       "\n",
       "            <div>\n",
       "                <p><b>SparkSession - hive</b></p>\n",
       "                \n",
       "        <div>\n",
       "            <p><b>SparkContext</b></p>\n",
       "\n",
       "            <p><a href=\"http://athena.olimp.fr:4040\">Spark UI</a></p>\n",
       "\n",
       "            <dl>\n",
       "              <dt>Version</dt>\n",
       "                <dd><code>v3.2.0</code></dd>\n",
       "              <dt>Master</dt>\n",
       "                <dd><code>local[*]</code></dd>\n",
       "              <dt>AppName</dt>\n",
       "                <dd><code>PySparkShell</code></dd>\n",
       "            </dl>\n",
       "        </div>\n",
       "        \n",
       "            </div>\n",
       "        "
      ],
      "text/plain": [
       "<pyspark.sql.session.SparkSession at 0x26f92a027f0>"
      ]
     },
     "execution_count": 3,
     "metadata": {},
     "output_type": "execute_result"
    }
   ],
   "source": [
    "spark"
   ]
  },
  {
   "cell_type": "markdown",
   "metadata": {},
   "source": [
    "# Initialisation du flux"
   ]
  },
  {
   "cell_type": "code",
   "execution_count": 4,
   "metadata": {
    "ExecuteTime": {
     "end_time": "2021-12-14T08:26:36.853816Z",
     "start_time": "2021-12-14T08:26:33.713104Z"
    }
   },
   "outputs": [
    {
     "name": "stdout",
     "output_type": "stream",
     "text": [
      "+----+-----+\n",
      "|word|count|\n",
      "+----+-----+\n",
      "+----+-----+\n",
      "\n"
     ]
    }
   ],
   "source": [
    "tweets = spark\\\n",
    "    .readStream \\\n",
    "    .format(\"kafka\") \\\n",
    "    .option(\"kafka.bootstrap.servers\", \"192.168.9.113:9092\") \\\n",
    "    .option(\"subscribe\", \"tweets-flux\") \\\n",
    "    .load()\n",
    "\n",
    "words = tweets.select(explode(split(\n",
    "                               regexp_replace(lower(tweets.value),\n",
    "                                             '[^a-z]',' '), ' ')).\\\n",
    "                               alias('word'))\n",
    "\n",
    "wordsF = words.filter(length(words.word)>3)\n",
    "wordCounts = wordsF.groupBy('word').count()\n",
    "\n",
    "query = wordCounts.orderBy('count', ascending=False)\\\n",
    "    .writeStream\\\n",
    "    .queryName(\"WordCount\") \\\n",
    "    .outputMode(\"complete\") \\\n",
    "    .format(\"memory\") \\\n",
    "    .start()\n",
    "    \n",
    "spark.sql(\"select * from WordCount\").show()    "
   ]
  },
  {
   "cell_type": "code",
   "execution_count": 6,
   "metadata": {
    "ExecuteTime": {
     "end_time": "2021-12-14T08:27:59.912294Z",
     "start_time": "2021-12-14T08:27:53.954218Z"
    }
   },
   "outputs": [
    {
     "name": "stdout",
     "output_type": "stream",
     "text": [
      "+----------+-----+\n",
      "|      word|count|\n",
      "+----------+-----+\n",
      "|  learning|    9|\n",
      "|   machine|    7|\n",
      "|    python|    6|\n",
      "|      with|    4|\n",
      "|      deep|    4|\n",
      "|    scikit|    3|\n",
      "|tensorflow|    3|\n",
      "|     learn|    3|\n",
      "|     https|    3|\n",
      "|      your|    2|\n",
      "|   edition|    2|\n",
      "|      self|    2|\n",
      "| developed|    2|\n",
      "| pythonbot|    2|\n",
      "|     spark|    2|\n",
      "|      work|    2|\n",
      "|    online|    1|\n",
      "|    thread|    1|\n",
      "|     among|    1|\n",
      "| projector|    1|\n",
      "+----------+-----+\n",
      "only showing top 20 rows\n",
      "\n"
     ]
    }
   ],
   "source": [
    "spark.sql(\"select * from WordCount\").show()    "
   ]
  },
  {
   "cell_type": "code",
   "execution_count": 7,
   "metadata": {
    "ExecuteTime": {
     "end_time": "2021-12-14T08:30:02.679260Z",
     "start_time": "2021-12-14T08:29:57.755421Z"
    }
   },
   "outputs": [
    {
     "name": "stdout",
     "output_type": "stream",
     "text": [
      "+------------+-----+\n",
      "|        word|count|\n",
      "+------------+-----+\n",
      "|       https|   25|\n",
      "|    learning|   24|\n",
      "|     machine|   17|\n",
      "|        with|   11|\n",
      "|        deep|    9|\n",
      "|       spark|    8|\n",
      "|        will|    6|\n",
      "|        your|    6|\n",
      "|      python|    6|\n",
      "|oppoairglass|    5|\n",
      "|        self|    5|\n",
      "|   developed|    5|\n",
      "|   projector|    4|\n",
      "|       light|    4|\n",
      "|        oppo|    4|\n",
      "|        work|    4|\n",
      "|      juyeon|    4|\n",
      "|        that|    4|\n",
      "|       micro|    4|\n",
      "|        thin|    4|\n",
      "+------------+-----+\n",
      "only showing top 20 rows\n",
      "\n"
     ]
    }
   ],
   "source": [
    "spark.sql(\"select * from WordCount\").show()  "
   ]
  },
  {
   "cell_type": "code",
   "execution_count": 10,
   "metadata": {
    "ExecuteTime": {
     "end_time": "2021-12-14T08:43:18.025291Z",
     "start_time": "2021-12-14T08:43:17.796901Z"
    }
   },
   "outputs": [
    {
     "name": "stdout",
     "output_type": "stream",
     "text": [
      "+-----------+-----+\n",
      "|       word|count|\n",
      "+-----------+-----+\n",
      "|      https|  105|\n",
      "|   learning|   91|\n",
      "|      spark|   76|\n",
      "|    machine|   73|\n",
      "|       with|   53|\n",
      "|       deep|   39|\n",
      "|       your|   37|\n",
      "|       that|   32|\n",
      "|       will|   24|\n",
      "|      using|   24|\n",
      "|     python|   24|\n",
      "|datascience|   24|\n",
      "|       work|   23|\n",
      "|       self|   22|\n",
      "|  developed|   22|\n",
      "|      image|   22|\n",
      "| commercial|   20|\n",
      "|   software|   20|\n",
      "|     hacked|   20|\n",
      "| processing|   20|\n",
      "+-----------+-----+\n",
      "only showing top 20 rows\n",
      "\n"
     ]
    }
   ],
   "source": [
    "wordCount = spark.sql(\"select * from WordCount\")\n",
    "wordCount.show()"
   ]
  },
  {
   "cell_type": "code",
   "execution_count": null,
   "metadata": {},
   "outputs": [],
   "source": []
  },
  {
   "cell_type": "code",
   "execution_count": 6,
   "metadata": {
    "ExecuteTime": {
     "end_time": "2021-12-14T08:18:13.831351Z",
     "start_time": "2021-12-14T08:18:13.637451Z"
    }
   },
   "outputs": [
    {
     "ename": "AnalysisException",
     "evalue": "Append output mode not supported when there are streaming aggregations on streaming DataFrames/DataSets without watermark;\nSort [count#84L DESC NULLS LAST], true\n+- Aggregate [word#80], [word#80, count(1) AS count#84L]\n   +- Filter (length(word#80) > 3)\n      +- Project [word#80]\n         +- Generate explode(split(regexp_replace(lower(cast(value#66 as string)), [^a-z],  , 1),  , -1)), false, [word#80]\n            +- StreamingRelationV2 org.apache.spark.sql.kafka010.KafkaSourceProvider@31558208, kafka, org.apache.spark.sql.kafka010.KafkaSourceProvider$KafkaTable@784411d3, [kafka.bootstrap.servers=192.168.9.113:9092, subscribe=tweets-flux], [key#65, value#66, topic#67, partition#68, offset#69L, timestamp#70, timestampType#71], StreamingRelation DataSource(org.apache.spark.sql.SparkSession@1b7aa92e,kafka,List(),None,List(),None,Map(kafka.bootstrap.servers -> 192.168.9.113:9092, subscribe -> tweets-flux),None), kafka, [key#58, value#59, topic#60, partition#61, offset#62L, timestamp#63, timestampType#64]\n",
     "output_type": "error",
     "traceback": [
      "\u001b[1;31m---------------------------------------------------------------------------\u001b[0m",
      "\u001b[1;31mAnalysisException\u001b[0m                         Traceback (most recent call last)",
      "\u001b[1;32m<ipython-input-6-74428266e1fd>\u001b[0m in \u001b[0;36m<module>\u001b[1;34m\u001b[0m\n\u001b[0;32m     14\u001b[0m \u001b[0mwordCounts\u001b[0m \u001b[1;33m=\u001b[0m \u001b[0mwordsF\u001b[0m\u001b[1;33m.\u001b[0m\u001b[0mgroupBy\u001b[0m\u001b[1;33m(\u001b[0m\u001b[1;34m'word'\u001b[0m\u001b[1;33m)\u001b[0m\u001b[1;33m.\u001b[0m\u001b[0mcount\u001b[0m\u001b[1;33m(\u001b[0m\u001b[1;33m)\u001b[0m\u001b[1;33m\u001b[0m\u001b[1;33m\u001b[0m\u001b[0m\n\u001b[0;32m     15\u001b[0m \u001b[1;33m\u001b[0m\u001b[0m\n\u001b[1;32m---> 16\u001b[1;33m \u001b[0mquery\u001b[0m \u001b[1;33m=\u001b[0m \u001b[0mwordCounts\u001b[0m\u001b[1;33m.\u001b[0m\u001b[0morderBy\u001b[0m\u001b[1;33m(\u001b[0m\u001b[1;34m'count'\u001b[0m\u001b[1;33m,\u001b[0m \u001b[0mascending\u001b[0m\u001b[1;33m=\u001b[0m\u001b[1;32mFalse\u001b[0m\u001b[1;33m)\u001b[0m\u001b[0;31m\\\u001b[0m\u001b[1;33m\u001b[0m\u001b[1;33m\u001b[0m\u001b[0m\n\u001b[0m\u001b[0;32m     17\u001b[0m     \u001b[1;33m.\u001b[0m\u001b[0mwriteStream\u001b[0m\u001b[0;31m\\\u001b[0m\u001b[1;33m\u001b[0m\u001b[1;33m\u001b[0m\u001b[0m\n\u001b[0;32m     18\u001b[0m     \u001b[1;33m.\u001b[0m\u001b[0mformat\u001b[0m\u001b[1;33m(\u001b[0m\u001b[1;34m\"memory\"\u001b[0m\u001b[1;33m)\u001b[0m\u001b[0;31m\\\u001b[0m\u001b[1;33m\u001b[0m\u001b[1;33m\u001b[0m\u001b[0m\n",
      "\u001b[1;32mC:\\hadoop\\spark3.2.0\\python\\pyspark\\sql\\streaming.py\u001b[0m in \u001b[0;36mstart\u001b[1;34m(self, path, format, outputMode, partitionBy, queryName, **options)\u001b[0m\n\u001b[0;32m   1200\u001b[0m             \u001b[0mself\u001b[0m\u001b[1;33m.\u001b[0m\u001b[0mqueryName\u001b[0m\u001b[1;33m(\u001b[0m\u001b[0mqueryName\u001b[0m\u001b[1;33m)\u001b[0m\u001b[1;33m\u001b[0m\u001b[1;33m\u001b[0m\u001b[0m\n\u001b[0;32m   1201\u001b[0m         \u001b[1;32mif\u001b[0m \u001b[0mpath\u001b[0m \u001b[1;32mis\u001b[0m \u001b[1;32mNone\u001b[0m\u001b[1;33m:\u001b[0m\u001b[1;33m\u001b[0m\u001b[1;33m\u001b[0m\u001b[0m\n\u001b[1;32m-> 1202\u001b[1;33m             \u001b[1;32mreturn\u001b[0m \u001b[0mself\u001b[0m\u001b[1;33m.\u001b[0m\u001b[0m_sq\u001b[0m\u001b[1;33m(\u001b[0m\u001b[0mself\u001b[0m\u001b[1;33m.\u001b[0m\u001b[0m_jwrite\u001b[0m\u001b[1;33m.\u001b[0m\u001b[0mstart\u001b[0m\u001b[1;33m(\u001b[0m\u001b[1;33m)\u001b[0m\u001b[1;33m)\u001b[0m\u001b[1;33m\u001b[0m\u001b[1;33m\u001b[0m\u001b[0m\n\u001b[0m\u001b[0;32m   1203\u001b[0m         \u001b[1;32melse\u001b[0m\u001b[1;33m:\u001b[0m\u001b[1;33m\u001b[0m\u001b[1;33m\u001b[0m\u001b[0m\n\u001b[0;32m   1204\u001b[0m             \u001b[1;32mreturn\u001b[0m \u001b[0mself\u001b[0m\u001b[1;33m.\u001b[0m\u001b[0m_sq\u001b[0m\u001b[1;33m(\u001b[0m\u001b[0mself\u001b[0m\u001b[1;33m.\u001b[0m\u001b[0m_jwrite\u001b[0m\u001b[1;33m.\u001b[0m\u001b[0mstart\u001b[0m\u001b[1;33m(\u001b[0m\u001b[0mpath\u001b[0m\u001b[1;33m)\u001b[0m\u001b[1;33m)\u001b[0m\u001b[1;33m\u001b[0m\u001b[1;33m\u001b[0m\u001b[0m\n",
      "\u001b[1;32mC:\\hadoop\\spark3.2.0\\python\\lib\\py4j-0.10.9.2-src.zip\\py4j\\java_gateway.py\u001b[0m in \u001b[0;36m__call__\u001b[1;34m(self, *args)\u001b[0m\n\u001b[0;32m   1307\u001b[0m \u001b[1;33m\u001b[0m\u001b[0m\n\u001b[0;32m   1308\u001b[0m         \u001b[0manswer\u001b[0m \u001b[1;33m=\u001b[0m \u001b[0mself\u001b[0m\u001b[1;33m.\u001b[0m\u001b[0mgateway_client\u001b[0m\u001b[1;33m.\u001b[0m\u001b[0msend_command\u001b[0m\u001b[1;33m(\u001b[0m\u001b[0mcommand\u001b[0m\u001b[1;33m)\u001b[0m\u001b[1;33m\u001b[0m\u001b[1;33m\u001b[0m\u001b[0m\n\u001b[1;32m-> 1309\u001b[1;33m         return_value = get_return_value(\n\u001b[0m\u001b[0;32m   1310\u001b[0m             answer, self.gateway_client, self.target_id, self.name)\n\u001b[0;32m   1311\u001b[0m \u001b[1;33m\u001b[0m\u001b[0m\n",
      "\u001b[1;32mC:\\hadoop\\spark3.2.0\\python\\pyspark\\sql\\utils.py\u001b[0m in \u001b[0;36mdeco\u001b[1;34m(*a, **kw)\u001b[0m\n\u001b[0;32m    115\u001b[0m                 \u001b[1;31m# Hide where the exception came from that shows a non-Pythonic\u001b[0m\u001b[1;33m\u001b[0m\u001b[1;33m\u001b[0m\u001b[1;33m\u001b[0m\u001b[0m\n\u001b[0;32m    116\u001b[0m                 \u001b[1;31m# JVM exception message.\u001b[0m\u001b[1;33m\u001b[0m\u001b[1;33m\u001b[0m\u001b[1;33m\u001b[0m\u001b[0m\n\u001b[1;32m--> 117\u001b[1;33m                 \u001b[1;32mraise\u001b[0m \u001b[0mconverted\u001b[0m \u001b[1;32mfrom\u001b[0m \u001b[1;32mNone\u001b[0m\u001b[1;33m\u001b[0m\u001b[1;33m\u001b[0m\u001b[0m\n\u001b[0m\u001b[0;32m    118\u001b[0m             \u001b[1;32melse\u001b[0m\u001b[1;33m:\u001b[0m\u001b[1;33m\u001b[0m\u001b[1;33m\u001b[0m\u001b[0m\n\u001b[0;32m    119\u001b[0m                 \u001b[1;32mraise\u001b[0m\u001b[1;33m\u001b[0m\u001b[1;33m\u001b[0m\u001b[0m\n",
      "\u001b[1;31mAnalysisException\u001b[0m: Append output mode not supported when there are streaming aggregations on streaming DataFrames/DataSets without watermark;\nSort [count#84L DESC NULLS LAST], true\n+- Aggregate [word#80], [word#80, count(1) AS count#84L]\n   +- Filter (length(word#80) > 3)\n      +- Project [word#80]\n         +- Generate explode(split(regexp_replace(lower(cast(value#66 as string)), [^a-z],  , 1),  , -1)), false, [word#80]\n            +- StreamingRelationV2 org.apache.spark.sql.kafka010.KafkaSourceProvider@31558208, kafka, org.apache.spark.sql.kafka010.KafkaSourceProvider$KafkaTable@784411d3, [kafka.bootstrap.servers=192.168.9.113:9092, subscribe=tweets-flux], [key#65, value#66, topic#67, partition#68, offset#69L, timestamp#70, timestampType#71], StreamingRelation DataSource(org.apache.spark.sql.SparkSession@1b7aa92e,kafka,List(),None,List(),None,Map(kafka.bootstrap.servers -> 192.168.9.113:9092, subscribe -> tweets-flux),None), kafka, [key#58, value#59, topic#60, partition#61, offset#62L, timestamp#63, timestampType#64]\n"
     ]
    }
   ],
   "source": [
    "tweets = spark\\\n",
    "    .readStream \\\n",
    "    .format(\"kafka\") \\\n",
    "    .option(\"kafka.bootstrap.servers\", \"192.168.9.113:9092\") \\\n",
    "    .option(\"subscribe\", \"tweets-flux\") \\\n",
    "    .load()\n",
    "\n",
    "words = tweets.select(explode(split(\n",
    "                               regexp_replace(lower(tweets.value),\n",
    "                                             '[^a-z]',' '), ' ')).\\\n",
    "                               alias('word'))\n",
    "\n",
    "wordsF = words.filter(length(words.word)>3)\n",
    "wordCounts = wordsF.groupBy('word').count()\n",
    "\n",
    "query = wordCounts.orderBy('count', ascending=False)\\\n",
    "    .writeStream\\\n",
    "    .format(\"memory\")\\\n",
    "    .queryName(\"WordCount\")\\\n",
    "    .start()\n",
    "\n",
    "query.awaitTermination()"
   ]
  },
  {
   "cell_type": "code",
   "execution_count": null,
   "metadata": {
    "ExecuteTime": {
     "start_time": "2021-12-14T08:07:53.726Z"
    }
   },
   "outputs": [],
   "source": [
    "tweets = spark\\\n",
    "    .readStream \\\n",
    "    .format(\"kafka\") \\\n",
    "    .option(\"kafka.bootstrap.servers\", \"192.168.9.113:9092\") \\\n",
    "    .option(\"subscribe\", \"tweets-flux\") \\\n",
    "    .load()\n",
    "\n",
    "words = tweets.select(explode(split(\n",
    "                               regexp_replace(lower(tweets.value),\n",
    "                                             '[^a-z]',' '), ' ')).\\\n",
    "                               alias('word'))\n",
    "\n",
    "wordsF = words.filter(length(words.word)>3)\n",
    "wordCounts = wordsF.groupBy('word').count()\n",
    "\n",
    "query = wordCounts.orderBy('count', ascending=False)\\\n",
    "    .writeStream\\\n",
    "    .outputMode('complete')\\\n",
    "    .format('console')\\\n",
    "    .start()\n",
    "\n",
    "query.awaitTermination()"
   ]
  },
  {
   "cell_type": "code",
   "execution_count": 4,
   "metadata": {
    "ExecuteTime": {
     "end_time": "2021-12-14T08:13:18.433115Z",
     "start_time": "2021-12-14T08:13:18.159846Z"
    }
   },
   "outputs": [],
   "source": [
    "tweets = spark\\\n",
    "    .readStream \\\n",
    "    .format(\"kafka\") \\\n",
    "    .option(\"kafka.bootstrap.servers\", \"192.168.9.113:9092\") \\\n",
    "    .option(\"subscribe\", \"tweets-flux\") \\\n",
    "    .load()\n",
    "\n",
    "words = tweets.select(explode(split(\n",
    "                               regexp_replace(lower(tweets.value),\n",
    "                                             '[^a-z]',' '), ' ')).\\\n",
    "                               alias('word'))\n",
    "\n",
    "wordsF = words.filter(length(words.word)>3)\n",
    "wordCounts = wordsF.groupBy('word').count()"
   ]
  },
  {
   "cell_type": "code",
   "execution_count": 5,
   "metadata": {
    "ExecuteTime": {
     "end_time": "2021-12-14T08:13:25.943086Z",
     "start_time": "2021-12-14T08:13:25.392519Z"
    }
   },
   "outputs": [
    {
     "ename": "AnalysisException",
     "evalue": "Queries with streaming sources must be executed with writeStream.start();\nkafka",
     "output_type": "error",
     "traceback": [
      "\u001b[1;31m---------------------------------------------------------------------------\u001b[0m",
      "\u001b[1;31mAnalysisException\u001b[0m                         Traceback (most recent call last)",
      "\u001b[1;32m<ipython-input-5-19fd4c1309df>\u001b[0m in \u001b[0;36m<module>\u001b[1;34m\u001b[0m\n\u001b[1;32m----> 1\u001b[1;33m \u001b[0mwordCounts\u001b[0m\u001b[1;33m.\u001b[0m\u001b[0mshow\u001b[0m\u001b[1;33m(\u001b[0m\u001b[1;33m)\u001b[0m\u001b[1;33m\u001b[0m\u001b[1;33m\u001b[0m\u001b[0m\n\u001b[0m",
      "\u001b[1;32mC:\\hadoop\\spark3.2.0\\python\\pyspark\\sql\\dataframe.py\u001b[0m in \u001b[0;36mshow\u001b[1;34m(self, n, truncate, vertical)\u001b[0m\n\u001b[0;32m    492\u001b[0m \u001b[1;33m\u001b[0m\u001b[0m\n\u001b[0;32m    493\u001b[0m         \u001b[1;32mif\u001b[0m \u001b[0misinstance\u001b[0m\u001b[1;33m(\u001b[0m\u001b[0mtruncate\u001b[0m\u001b[1;33m,\u001b[0m \u001b[0mbool\u001b[0m\u001b[1;33m)\u001b[0m \u001b[1;32mand\u001b[0m \u001b[0mtruncate\u001b[0m\u001b[1;33m:\u001b[0m\u001b[1;33m\u001b[0m\u001b[1;33m\u001b[0m\u001b[0m\n\u001b[1;32m--> 494\u001b[1;33m             \u001b[0mprint\u001b[0m\u001b[1;33m(\u001b[0m\u001b[0mself\u001b[0m\u001b[1;33m.\u001b[0m\u001b[0m_jdf\u001b[0m\u001b[1;33m.\u001b[0m\u001b[0mshowString\u001b[0m\u001b[1;33m(\u001b[0m\u001b[0mn\u001b[0m\u001b[1;33m,\u001b[0m \u001b[1;36m20\u001b[0m\u001b[1;33m,\u001b[0m \u001b[0mvertical\u001b[0m\u001b[1;33m)\u001b[0m\u001b[1;33m)\u001b[0m\u001b[1;33m\u001b[0m\u001b[1;33m\u001b[0m\u001b[0m\n\u001b[0m\u001b[0;32m    495\u001b[0m         \u001b[1;32melse\u001b[0m\u001b[1;33m:\u001b[0m\u001b[1;33m\u001b[0m\u001b[1;33m\u001b[0m\u001b[0m\n\u001b[0;32m    496\u001b[0m             \u001b[1;32mtry\u001b[0m\u001b[1;33m:\u001b[0m\u001b[1;33m\u001b[0m\u001b[1;33m\u001b[0m\u001b[0m\n",
      "\u001b[1;32mC:\\hadoop\\spark3.2.0\\python\\lib\\py4j-0.10.9.2-src.zip\\py4j\\java_gateway.py\u001b[0m in \u001b[0;36m__call__\u001b[1;34m(self, *args)\u001b[0m\n\u001b[0;32m   1307\u001b[0m \u001b[1;33m\u001b[0m\u001b[0m\n\u001b[0;32m   1308\u001b[0m         \u001b[0manswer\u001b[0m \u001b[1;33m=\u001b[0m \u001b[0mself\u001b[0m\u001b[1;33m.\u001b[0m\u001b[0mgateway_client\u001b[0m\u001b[1;33m.\u001b[0m\u001b[0msend_command\u001b[0m\u001b[1;33m(\u001b[0m\u001b[0mcommand\u001b[0m\u001b[1;33m)\u001b[0m\u001b[1;33m\u001b[0m\u001b[1;33m\u001b[0m\u001b[0m\n\u001b[1;32m-> 1309\u001b[1;33m         return_value = get_return_value(\n\u001b[0m\u001b[0;32m   1310\u001b[0m             answer, self.gateway_client, self.target_id, self.name)\n\u001b[0;32m   1311\u001b[0m \u001b[1;33m\u001b[0m\u001b[0m\n",
      "\u001b[1;32mC:\\hadoop\\spark3.2.0\\python\\pyspark\\sql\\utils.py\u001b[0m in \u001b[0;36mdeco\u001b[1;34m(*a, **kw)\u001b[0m\n\u001b[0;32m    115\u001b[0m                 \u001b[1;31m# Hide where the exception came from that shows a non-Pythonic\u001b[0m\u001b[1;33m\u001b[0m\u001b[1;33m\u001b[0m\u001b[1;33m\u001b[0m\u001b[0m\n\u001b[0;32m    116\u001b[0m                 \u001b[1;31m# JVM exception message.\u001b[0m\u001b[1;33m\u001b[0m\u001b[1;33m\u001b[0m\u001b[1;33m\u001b[0m\u001b[0m\n\u001b[1;32m--> 117\u001b[1;33m                 \u001b[1;32mraise\u001b[0m \u001b[0mconverted\u001b[0m \u001b[1;32mfrom\u001b[0m \u001b[1;32mNone\u001b[0m\u001b[1;33m\u001b[0m\u001b[1;33m\u001b[0m\u001b[0m\n\u001b[0m\u001b[0;32m    118\u001b[0m             \u001b[1;32melse\u001b[0m\u001b[1;33m:\u001b[0m\u001b[1;33m\u001b[0m\u001b[1;33m\u001b[0m\u001b[0m\n\u001b[0;32m    119\u001b[0m                 \u001b[1;32mraise\u001b[0m\u001b[1;33m\u001b[0m\u001b[1;33m\u001b[0m\u001b[0m\n",
      "\u001b[1;31mAnalysisException\u001b[0m: Queries with streaming sources must be executed with writeStream.start();\nkafka"
     ]
    }
   ],
   "source": [
    "wordCounts.show()"
   ]
  },
  {
   "cell_type": "code",
   "execution_count": null,
   "metadata": {},
   "outputs": [],
   "source": []
  },
  {
   "cell_type": "code",
   "execution_count": null,
   "metadata": {},
   "outputs": [],
   "source": []
  },
  {
   "cell_type": "code",
   "execution_count": 3,
   "metadata": {
    "ExecuteTime": {
     "end_time": "2021-12-13T22:44:43.548055Z",
     "start_time": "2021-12-13T22:44:43.507133Z"
    }
   },
   "outputs": [
    {
     "name": "stdout",
     "output_type": "stream",
     "text": [
      " Le volume dans le lecteur C s'appelle Windows\n",
      " Le num‚ro de s‚rie du volume est 56E1-170F\n",
      "\n",
      " R‚pertoire de C:\\Formation\\spark\n",
      "\n",
      "13/12/2021  23:39    <DIR>          .\n",
      "13/12/2021  23:39    <DIR>          ..\n",
      "13/12/2021  22:15    <DIR>          .ipynb_checkpoints\n",
      "07/12/2021  10:05            28ÿ148 01-API.DataFrames-colonnes-projections.ipynb\n",
      "07/12/2021  10:29            17ÿ476 02-API.DataFrames-Restrictions.ipynb\n",
      "07/12/2021  17:15            51ÿ239 03-API.DataFrames-agregations.ipynb\n",
      "07/12/2021  11:28            32ÿ298 04-API.DataFrames-jointures.ipynb\n",
      "07/12/2021  11:37            44ÿ116 05-API.DataFrames-donnees-manquantes.ipynb\n",
      "07/12/2021  12:07            25ÿ872 05-API.DataFrames-SQL.ipynb\n",
      "07/12/2021  11:54               674 derby.log\n",
      "13/12/2021  20:50    <DIR>          donnees\n",
      "13/12/2021  17:34               857 get-stations.py\n",
      "13/12/2021  17:39            24ÿ597 L'ex‚cution d'une application pyspark .ipynb\n",
      "13/12/2021  23:39            48ÿ036 LectureEcritureJSON.ipynb\n",
      "07/12/2021  11:54    <DIR>          metastore_db\n",
      "07/12/2021  08:41             5ÿ865 postesSynop.parquet\n",
      "07/12/2021  12:06    <DIR>          spark-warehouse\n",
      "07/12/2021  08:49            10ÿ198 Untitled.ipynb\n",
      "              12 fichier(s)          289ÿ376 octets\n",
      "               6 R‚p(s)  84ÿ936ÿ224ÿ768 octets libres\n"
     ]
    }
   ],
   "source": [
    "!dir"
   ]
  },
  {
   "cell_type": "code",
   "execution_count": 4,
   "metadata": {
    "ExecuteTime": {
     "end_time": "2021-12-13T22:44:43.624785Z",
     "start_time": "2021-12-13T22:44:43.553012Z"
    }
   },
   "outputs": [
    {
     "name": "stderr",
     "output_type": "stream",
     "text": [
      "Un sous-r‚pertoire ou un fichier donnees existe d‚j….\n",
      "Un sous-r‚pertoire ou un fichier donnees\\json existe d‚j….\n"
     ]
    }
   ],
   "source": [
    "!mkdir donnees\n",
    "!mkdir donnees\\json"
   ]
  },
  {
   "cell_type": "code",
   "execution_count": 5,
   "metadata": {
    "ExecuteTime": {
     "end_time": "2021-12-13T22:44:43.640734Z",
     "start_time": "2021-12-13T22:44:43.628757Z"
    }
   },
   "outputs": [],
   "source": [
    "import json\n",
    "import urllib.request\n",
    "from pyspark.sql.types import *\n",
    "from pyspark.sql.functions import *"
   ]
  },
  {
   "cell_type": "markdown",
   "metadata": {},
   "source": [
    "# Parkings de Strasbourg"
   ]
  },
  {
   "cell_type": "code",
   "execution_count": 6,
   "metadata": {
    "ExecuteTime": {
     "end_time": "2021-12-13T22:44:43.656103Z",
     "start_time": "2021-12-13T22:44:43.643703Z"
    }
   },
   "outputs": [],
   "source": [
    "url = 'https://data.strasbourg.eu/api/records/1.0/search/?dataset=occupation-parkings-temps-reel&q=&lang=fr&rows=28'"
   ]
  },
  {
   "cell_type": "code",
   "execution_count": 8,
   "metadata": {
    "ExecuteTime": {
     "end_time": "2021-12-13T22:45:28.526654Z",
     "start_time": "2021-12-13T22:45:22.577891Z"
    }
   },
   "outputs": [
    {
     "name": "stdout",
     "output_type": "stream",
     "text": [
      "+----+---------------+-----+-----------+----------+-----+--------------------+-----+\n",
      "|etat|etat_descriptif|ident|    idsurfs|infousager|libre|         nom_parking|total|\n",
      "+----+---------------+-----+-----------+----------+-----+--------------------+-----+\n",
      "|   1|         Ouvert|   10| 1382_DEP_8|       510|  518|  Parking Gare Wodli|  955|\n",
      "|   2|          Fermé|    1|1400_DEP_26|     FERME| 3172|      Parking Zénith| 3175|\n",
      "|   2|          Fermé|    3| 1378_DEP_4|     FERME|    0|Parking Centre Op...|  460|\n",
      "|   1|         Ouvert|    4| 1376_DEP_2|       450|  457|   Parking Baggersee|  460|\n",
      "|   1|         Ouvert|    2| 1377_DEP_3|       150|  151|   Parking Bateliers|  267|\n",
      "+----+---------------+-----+-----------+----------+-----+--------------------+-----+\n",
      "only showing top 5 rows\n",
      "\n"
     ]
    }
   ],
   "source": [
    "donnees = spark.read.json(sc.parallelize(\n",
    "            [x['fields'] for x in\n",
    "                  json.loads(urllib.request.urlopen(url\n",
    "                         ).read().decode())['records']\n",
    "                ]))\n",
    "donnees.select('*').show(5)"
   ]
  },
  {
   "cell_type": "code",
   "execution_count": 9,
   "metadata": {
    "ExecuteTime": {
     "end_time": "2021-12-13T22:46:46.524647Z",
     "start_time": "2021-12-13T22:46:41.992129Z"
    }
   },
   "outputs": [],
   "source": [
    "fichier = 'donnees/json/parking_stras_json'\n",
    "format  = 'json'\n",
    "donnees.write.mode('overwrite').format(format).save(fichier)"
   ]
  },
  {
   "cell_type": "code",
   "execution_count": 10,
   "metadata": {
    "ExecuteTime": {
     "end_time": "2021-12-13T22:48:43.504987Z",
     "start_time": "2021-12-13T22:48:43.178906Z"
    }
   },
   "outputs": [
    {
     "name": "stdout",
     "output_type": "stream",
     "text": [
      "root\n",
      " |-- etat: long (nullable = true)\n",
      " |-- etat_descriptif: string (nullable = true)\n",
      " |-- ident: long (nullable = true)\n",
      " |-- idsurfs: string (nullable = true)\n",
      " |-- infousager: string (nullable = true)\n",
      " |-- libre: long (nullable = true)\n",
      " |-- nom_parking: string (nullable = true)\n",
      " |-- total: long (nullable = true)\n",
      "\n"
     ]
    }
   ],
   "source": [
    "parkings = spark.read.format('json').option('mergeSchema', 'true').option('inferSchema','true').load('donnees/json/parking_stras_json').cache()\n",
    "parkings.printSchema()"
   ]
  },
  {
   "cell_type": "code",
   "execution_count": 11,
   "metadata": {
    "ExecuteTime": {
     "end_time": "2021-12-13T22:48:48.880147Z",
     "start_time": "2021-12-13T22:48:48.616878Z"
    }
   },
   "outputs": [
    {
     "name": "stdout",
     "output_type": "stream",
     "text": [
      "+----+---------------+-----+-----------+----------+-----+--------------------+-----+\n",
      "|etat|etat_descriptif|ident|    idsurfs|infousager|libre|         nom_parking|total|\n",
      "+----+---------------+-----+-----------+----------+-----+--------------------+-----+\n",
      "|   1|         Ouvert|   14|1385_DEP_11|       380|  385|Parking P2 Sebast...|  496|\n",
      "|   1|         Ouvert|   15|1393_DEP_19|        80|   84|Parking Robertsau...|   92|\n",
      "|   1|         Ouvert|   16|1389_DEP_15|     LIBRE|  190|Parking Krimmeri ...|  190|\n",
      "+----+---------------+-----+-----------+----------+-----+--------------------+-----+\n",
      "only showing top 3 rows\n",
      "\n"
     ]
    }
   ],
   "source": [
    "parkings.show(3)"
   ]
  },
  {
   "cell_type": "markdown",
   "metadata": {},
   "source": [
    "# Lecture URL Stations et sauvegarde"
   ]
  },
  {
   "cell_type": "code",
   "execution_count": 161,
   "metadata": {
    "ExecuteTime": {
     "end_time": "2021-12-13T21:55:12.303846Z",
     "start_time": "2021-12-13T21:55:12.285870Z"
    }
   },
   "outputs": [],
   "source": [
    "schema = StructType([\n",
    "        StructField('number',                StringType()  , True),\n",
    "        StructField('contract_name',         StringType()  , True),\n",
    "        StructField('name',                  StringType()  , True),\n",
    "        StructField('address',               StringType()  , True),\n",
    "        StructField('position',              StringType()  , True),\n",
    "        StructField('banking',               StringType()  , True),\n",
    "        StructField('bonus',                 StringType()  , True),\n",
    "        StructField('bike_stands',           IntegerType() , True),\n",
    "        StructField('available_bike_stands', IntegerType() , True),\n",
    "        StructField('available_bikes',       IntegerType() , True),\n",
    "        StructField('status',                StringType()  , True),\n",
    "        StructField('last_update',           StringType()  , True)])"
   ]
  },
  {
   "cell_type": "code",
   "execution_count": 162,
   "metadata": {
    "ExecuteTime": {
     "end_time": "2021-12-13T21:55:18.512381Z",
     "start_time": "2021-12-13T21:55:14.013971Z"
    }
   },
   "outputs": [
    {
     "data": {
      "text/html": [
       "<div>\n",
       "<style scoped>\n",
       "    .dataframe tbody tr th:only-of-type {\n",
       "        vertical-align: middle;\n",
       "    }\n",
       "\n",
       "    .dataframe tbody tr th {\n",
       "        vertical-align: top;\n",
       "    }\n",
       "\n",
       "    .dataframe thead th {\n",
       "        text-align: right;\n",
       "    }\n",
       "</style>\n",
       "<table border=\"1\" class=\"dataframe\">\n",
       "  <thead>\n",
       "    <tr style=\"text-align: right;\">\n",
       "      <th></th>\n",
       "      <th>number</th>\n",
       "      <th>contract_name</th>\n",
       "      <th>name</th>\n",
       "      <th>address</th>\n",
       "      <th>position</th>\n",
       "      <th>banking</th>\n",
       "      <th>bonus</th>\n",
       "      <th>bike_stands</th>\n",
       "      <th>available_bike_stands</th>\n",
       "      <th>available_bikes</th>\n",
       "      <th>status</th>\n",
       "      <th>last_update</th>\n",
       "    </tr>\n",
       "  </thead>\n",
       "  <tbody>\n",
       "    <tr>\n",
       "      <th>0</th>\n",
       "      <td>9087</td>\n",
       "      <td>marseille</td>\n",
       "      <td>9087-MAZARGUES</td>\n",
       "      <td>MAZARGUES - ROND POINT DE MAZARGUES (OBELISQUE)</td>\n",
       "      <td>{lng=5.403244616491982, lat=43.250903869637334}</td>\n",
       "      <td>true</td>\n",
       "      <td>false</td>\n",
       "      <td>21</td>\n",
       "      <td>18</td>\n",
       "      <td>3</td>\n",
       "      <td>OPEN</td>\n",
       "      <td>2021-12-13 22:53:14</td>\n",
       "    </tr>\n",
       "    <tr>\n",
       "      <th>1</th>\n",
       "      <td>55</td>\n",
       "      <td>toulouse</td>\n",
       "      <td>00055 - SAINT-SERNIN - G. ARNOULT</td>\n",
       "      <td>2 RUE GATIEN ARNOULT</td>\n",
       "      <td>{lng=1.4410035987262, lat=43.6089519604964}</td>\n",
       "      <td>true</td>\n",
       "      <td>false</td>\n",
       "      <td>15</td>\n",
       "      <td>5</td>\n",
       "      <td>10</td>\n",
       "      <td>OPEN</td>\n",
       "      <td>2021-12-13 22:45:58</td>\n",
       "    </tr>\n",
       "    <tr>\n",
       "      <th>2</th>\n",
       "      <td>59</td>\n",
       "      <td>ljubljana</td>\n",
       "      <td>LIDL BEŽIGRAD</td>\n",
       "      <td>Bežigrad 11</td>\n",
       "      <td>{lng=14.506854, lat=46.063797}</td>\n",
       "      <td>false</td>\n",
       "      <td>false</td>\n",
       "      <td>20</td>\n",
       "      <td>18</td>\n",
       "      <td>2</td>\n",
       "      <td>OPEN</td>\n",
       "      <td>2021-12-13 22:48:10</td>\n",
       "    </tr>\n",
       "    <tr>\n",
       "      <th>3</th>\n",
       "      <td>2010</td>\n",
       "      <td>lyon</td>\n",
       "      <td>2010 - CONFLUENCE / DARSE</td>\n",
       "      <td>ANGLE ALLEE ANDRE MURE ET QUAI ANTOINE RIBOUD</td>\n",
       "      <td>{lng=4.815747, lat=45.743317}</td>\n",
       "      <td>true</td>\n",
       "      <td>false</td>\n",
       "      <td>22</td>\n",
       "      <td>3</td>\n",
       "      <td>17</td>\n",
       "      <td>OPEN</td>\n",
       "      <td>2021-12-13 22:45:40</td>\n",
       "    </tr>\n",
       "    <tr>\n",
       "      <th>4</th>\n",
       "      <td>5015</td>\n",
       "      <td>lyon</td>\n",
       "      <td>5015 - FULCHIRON</td>\n",
       "      <td>Devant le n°41 rue de la Quarantaine</td>\n",
       "      <td>{lng=4.821662, lat=45.75197}</td>\n",
       "      <td>true</td>\n",
       "      <td>false</td>\n",
       "      <td>19</td>\n",
       "      <td>0</td>\n",
       "      <td>19</td>\n",
       "      <td>OPEN</td>\n",
       "      <td>2021-12-13 22:45:11</td>\n",
       "    </tr>\n",
       "  </tbody>\n",
       "</table>\n",
       "</div>"
      ],
      "text/plain": [
       "  number contract_name                               name  \\\n",
       "0   9087     marseille                     9087-MAZARGUES   \n",
       "1     55      toulouse  00055 - SAINT-SERNIN - G. ARNOULT   \n",
       "2     59     ljubljana                      LIDL BEŽIGRAD   \n",
       "3   2010          lyon          2010 - CONFLUENCE / DARSE   \n",
       "4   5015          lyon                   5015 - FULCHIRON   \n",
       "\n",
       "                                           address  \\\n",
       "0  MAZARGUES - ROND POINT DE MAZARGUES (OBELISQUE)   \n",
       "1                             2 RUE GATIEN ARNOULT   \n",
       "2                                      Bežigrad 11   \n",
       "3    ANGLE ALLEE ANDRE MURE ET QUAI ANTOINE RIBOUD   \n",
       "4             Devant le n°41 rue de la Quarantaine   \n",
       "\n",
       "                                          position banking  bonus  \\\n",
       "0  {lng=5.403244616491982, lat=43.250903869637334}    true  false   \n",
       "1      {lng=1.4410035987262, lat=43.6089519604964}    true  false   \n",
       "2                   {lng=14.506854, lat=46.063797}   false  false   \n",
       "3                    {lng=4.815747, lat=45.743317}    true  false   \n",
       "4                     {lng=4.821662, lat=45.75197}    true  false   \n",
       "\n",
       "   bike_stands  available_bike_stands  available_bikes status  \\\n",
       "0           21                     18                3   OPEN   \n",
       "1           15                      5               10   OPEN   \n",
       "2           20                     18                2   OPEN   \n",
       "3           22                      3               17   OPEN   \n",
       "4           19                      0               19   OPEN   \n",
       "\n",
       "          last_update  \n",
       "0 2021-12-13 22:53:14  \n",
       "1 2021-12-13 22:45:58  \n",
       "2 2021-12-13 22:48:10  \n",
       "3 2021-12-13 22:45:40  \n",
       "4 2021-12-13 22:45:11  "
      ]
     },
     "execution_count": 162,
     "metadata": {},
     "output_type": "execute_result"
    }
   ],
   "source": [
    "API_KEY = \"e89ad7b276374a9d0a5fd75f8a9402c0e765cc08\"\n",
    "url = \"https://api.jcdecaux.com/vls/v1/stations?apiKey={}\".format(API_KEY)\n",
    "donnees =  spark.createDataFrame(sc.parallelize([\n",
    "                x for x in json.loads(urllib.request.urlopen(url).read().decode())\n",
    "                ]),schema).select('number',               \n",
    "                                  'contract_name',        \n",
    "                                  'name',                 \n",
    "                                  'address',              \n",
    "                                  'position',             \n",
    "                                  'banking',              \n",
    "                                  'bonus',                \n",
    "                                  'bike_stands',          \n",
    "                                  'available_bike_stands',\n",
    "                                  'available_bikes',      \n",
    "                                  'status',               \n",
    "                                  from_unixtime(col('last_update')/1000).cast(TimestampType()).alias('last_update'))\n",
    "\n",
    "donnees.toPandas().head()"
   ]
  },
  {
   "cell_type": "code",
   "execution_count": 163,
   "metadata": {
    "ExecuteTime": {
     "end_time": "2021-12-13T21:55:18.528129Z",
     "start_time": "2021-12-13T21:55:18.513378Z"
    }
   },
   "outputs": [
    {
     "name": "stdout",
     "output_type": "stream",
     "text": [
      "root\n",
      " |-- number: string (nullable = true)\n",
      " |-- contract_name: string (nullable = true)\n",
      " |-- name: string (nullable = true)\n",
      " |-- address: string (nullable = true)\n",
      " |-- position: string (nullable = true)\n",
      " |-- banking: string (nullable = true)\n",
      " |-- bonus: string (nullable = true)\n",
      " |-- bike_stands: integer (nullable = true)\n",
      " |-- available_bike_stands: integer (nullable = true)\n",
      " |-- available_bikes: integer (nullable = true)\n",
      " |-- status: string (nullable = true)\n",
      " |-- last_update: timestamp (nullable = true)\n",
      "\n"
     ]
    }
   ],
   "source": [
    "donnees.printSchema()"
   ]
  },
  {
   "cell_type": "code",
   "execution_count": 164,
   "metadata": {
    "ExecuteTime": {
     "end_time": "2021-12-13T21:55:22.666234Z",
     "start_time": "2021-12-13T21:55:18.530097Z"
    }
   },
   "outputs": [],
   "source": [
    "fichier = 'donnees/json/stations'\n",
    "format  = 'json'\n",
    "donnees.write.mode('overwrite').format(format).save(fichier)"
   ]
  },
  {
   "cell_type": "markdown",
   "metadata": {
    "ExecuteTime": {
     "end_time": "2021-12-13T22:00:49.899819Z",
     "start_time": "2021-12-13T22:00:49.894833Z"
    }
   },
   "source": [
    "# Lecture Stations"
   ]
  },
  {
   "cell_type": "code",
   "execution_count": 166,
   "metadata": {
    "ExecuteTime": {
     "end_time": "2021-12-13T21:59:46.693192Z",
     "start_time": "2021-12-13T21:59:46.686207Z"
    }
   },
   "outputs": [],
   "source": [
    "schema = StructType([\n",
    "        StructField('number'               , StringType()   , True),\n",
    "        StructField('contract_name'        , StringType()   , True),\n",
    "        StructField('name'                 , StringType()   , True),\n",
    "        StructField('address'              , StringType()   , True),\n",
    "        StructField('position'             , StringType()   , True),\n",
    "        StructField('banking'              , StringType()   , True),\n",
    "        StructField('bonus'                , StringType()   , True),\n",
    "        StructField('bike_stands'          , IntegerType()  , True),\n",
    "        StructField('available_bike_stands', IntegerType()  , True),\n",
    "        StructField('available_bikes'      , IntegerType()  , True),\n",
    "        StructField('status'               , StringType()   , True),\n",
    "        StructField('last_update'          , TimestampType(), True)])"
   ]
  },
  {
   "cell_type": "code",
   "execution_count": 167,
   "metadata": {
    "ExecuteTime": {
     "end_time": "2021-12-13T21:59:47.501157Z",
     "start_time": "2021-12-13T21:59:47.469221Z"
    }
   },
   "outputs": [
    {
     "name": "stdout",
     "output_type": "stream",
     "text": [
      "root\n",
      " |-- number: string (nullable = true)\n",
      " |-- contract_name: string (nullable = true)\n",
      " |-- name: string (nullable = true)\n",
      " |-- address: string (nullable = true)\n",
      " |-- position: string (nullable = true)\n",
      " |-- banking: string (nullable = true)\n",
      " |-- bonus: string (nullable = true)\n",
      " |-- bike_stands: integer (nullable = true)\n",
      " |-- available_bike_stands: integer (nullable = true)\n",
      " |-- available_bikes: integer (nullable = true)\n",
      " |-- status: string (nullable = true)\n",
      " |-- last_update: timestamp (nullable = true)\n",
      "\n"
     ]
    }
   ],
   "source": [
    "stations = spark.read.format('json').option('mergeSchema', 'true').schema(schema).load('donnees/json/stations').cache()\n",
    "stations.printSchema()"
   ]
  },
  {
   "cell_type": "code",
   "execution_count": 169,
   "metadata": {
    "ExecuteTime": {
     "end_time": "2021-12-13T22:00:32.880999Z",
     "start_time": "2021-12-13T22:00:32.406605Z"
    }
   },
   "outputs": [
    {
     "data": {
      "text/html": [
       "<div>\n",
       "<style scoped>\n",
       "    .dataframe tbody tr th:only-of-type {\n",
       "        vertical-align: middle;\n",
       "    }\n",
       "\n",
       "    .dataframe tbody tr th {\n",
       "        vertical-align: top;\n",
       "    }\n",
       "\n",
       "    .dataframe thead th {\n",
       "        text-align: right;\n",
       "    }\n",
       "</style>\n",
       "<table border=\"1\" class=\"dataframe\">\n",
       "  <thead>\n",
       "    <tr style=\"text-align: right;\">\n",
       "      <th></th>\n",
       "      <th>number</th>\n",
       "      <th>contract_name</th>\n",
       "      <th>name</th>\n",
       "      <th>address</th>\n",
       "      <th>position</th>\n",
       "      <th>banking</th>\n",
       "      <th>bonus</th>\n",
       "      <th>bike_stands</th>\n",
       "      <th>available_bike_stands</th>\n",
       "      <th>available_bikes</th>\n",
       "      <th>status</th>\n",
       "      <th>last_update</th>\n",
       "    </tr>\n",
       "  </thead>\n",
       "  <tbody>\n",
       "    <tr>\n",
       "      <th>0</th>\n",
       "      <td>5008</td>\n",
       "      <td>lyon</td>\n",
       "      <td>5008 - SAINTE-IRÉNÉE</td>\n",
       "      <td>Place Sainte Irénée</td>\n",
       "      <td>{lng=4.812427, lat=45.754978}</td>\n",
       "      <td>false</td>\n",
       "      <td>true</td>\n",
       "      <td>20</td>\n",
       "      <td>15</td>\n",
       "      <td>5</td>\n",
       "      <td>OPEN</td>\n",
       "      <td>2021-12-13 22:48:25</td>\n",
       "    </tr>\n",
       "    <tr>\n",
       "      <th>1</th>\n",
       "      <td>16</td>\n",
       "      <td>namur</td>\n",
       "      <td>016 - PLACE DE WALLONIE</td>\n",
       "      <td>016 - PLACE DE WALLONIE - PLACE DE LA WALLONIE</td>\n",
       "      <td>{lng=4.87266, lat=50.45602}</td>\n",
       "      <td>true</td>\n",
       "      <td>false</td>\n",
       "      <td>15</td>\n",
       "      <td>7</td>\n",
       "      <td>8</td>\n",
       "      <td>OPEN</td>\n",
       "      <td>2021-12-13 22:52:26</td>\n",
       "    </tr>\n",
       "    <tr>\n",
       "      <th>2</th>\n",
       "      <td>14</td>\n",
       "      <td>nantes</td>\n",
       "      <td>014-SAINT FÉLIX</td>\n",
       "      <td>35, Boulevard Amiral Courbet</td>\n",
       "      <td>{lng=-1.556133, lat=47.230334}</td>\n",
       "      <td>false</td>\n",
       "      <td>false</td>\n",
       "      <td>14</td>\n",
       "      <td>10</td>\n",
       "      <td>4</td>\n",
       "      <td>OPEN</td>\n",
       "      <td>2021-12-13 22:54:55</td>\n",
       "    </tr>\n",
       "    <tr>\n",
       "      <th>3</th>\n",
       "      <td>141</td>\n",
       "      <td>bruxelles</td>\n",
       "      <td>141 - GARE DU NORD/NOORDSTATION</td>\n",
       "      <td>GARE DU NORD/NOORDSTATION - PLACE SIMON BOLIVA...</td>\n",
       "      <td>{lng=4.358116, lat=50.860652}</td>\n",
       "      <td>false</td>\n",
       "      <td>false</td>\n",
       "      <td>42</td>\n",
       "      <td>12</td>\n",
       "      <td>30</td>\n",
       "      <td>OPEN</td>\n",
       "      <td>2021-12-13 22:54:06</td>\n",
       "    </tr>\n",
       "    <tr>\n",
       "      <th>4</th>\n",
       "      <td>248</td>\n",
       "      <td>bruxelles</td>\n",
       "      <td>248 - PRINCE DE LIGNE / PRINCE LIJN</td>\n",
       "      <td>PRINCE DE LIGNE / PRINCE LIJN - CHEE DE WATERL...</td>\n",
       "      <td>{lng=4.373631, lat=50.795704}</td>\n",
       "      <td>false</td>\n",
       "      <td>false</td>\n",
       "      <td>22</td>\n",
       "      <td>6</td>\n",
       "      <td>16</td>\n",
       "      <td>OPEN</td>\n",
       "      <td>2021-12-13 22:51:07</td>\n",
       "    </tr>\n",
       "  </tbody>\n",
       "</table>\n",
       "</div>"
      ],
      "text/plain": [
       "  number contract_name                                 name  \\\n",
       "0   5008          lyon                 5008 - SAINTE-IRÉNÉE   \n",
       "1     16         namur              016 - PLACE DE WALLONIE   \n",
       "2     14        nantes                      014-SAINT FÉLIX   \n",
       "3    141     bruxelles      141 - GARE DU NORD/NOORDSTATION   \n",
       "4    248     bruxelles  248 - PRINCE DE LIGNE / PRINCE LIJN   \n",
       "\n",
       "                                             address  \\\n",
       "0                                Place Sainte Irénée   \n",
       "1     016 - PLACE DE WALLONIE - PLACE DE LA WALLONIE   \n",
       "2                       35, Boulevard Amiral Courbet   \n",
       "3  GARE DU NORD/NOORDSTATION - PLACE SIMON BOLIVA...   \n",
       "4  PRINCE DE LIGNE / PRINCE LIJN - CHEE DE WATERL...   \n",
       "\n",
       "                         position banking  bonus  bike_stands  \\\n",
       "0   {lng=4.812427, lat=45.754978}   false   true           20   \n",
       "1     {lng=4.87266, lat=50.45602}    true  false           15   \n",
       "2  {lng=-1.556133, lat=47.230334}   false  false           14   \n",
       "3   {lng=4.358116, lat=50.860652}   false  false           42   \n",
       "4   {lng=4.373631, lat=50.795704}   false  false           22   \n",
       "\n",
       "   available_bike_stands  available_bikes status         last_update  \n",
       "0                     15                5   OPEN 2021-12-13 22:48:25  \n",
       "1                      7                8   OPEN 2021-12-13 22:52:26  \n",
       "2                     10                4   OPEN 2021-12-13 22:54:55  \n",
       "3                     12               30   OPEN 2021-12-13 22:54:06  \n",
       "4                      6               16   OPEN 2021-12-13 22:51:07  "
      ]
     },
     "execution_count": 169,
     "metadata": {},
     "output_type": "execute_result"
    }
   ],
   "source": [
    "stations.toPandas().head()"
   ]
  },
  {
   "cell_type": "markdown",
   "metadata": {},
   "source": [
    "# Livraison des paniers"
   ]
  },
  {
   "cell_type": "code",
   "execution_count": 130,
   "metadata": {
    "ExecuteTime": {
     "end_time": "2021-12-13T21:07:43.610370Z",
     "start_time": "2021-12-13T21:07:35.195098Z"
    }
   },
   "outputs": [],
   "source": [
    "url = 'https://data.strasbourg.eu/api/records/1.0/search/?dataset='\n",
    "dataset = 'livraison_de_paniers'\n",
    "urlDS = url+dataset\n",
    "urlDS = urlDS+\"&q=&lang=fr&rows=\"+str(json.loads(urllib.request.urlopen(urlDS).read().decode())['nhits'])\n",
    "donnees = spark.read.json(sc.parallelize(\n",
    "            [x['fields'] for x in\n",
    "                  json.loads(urllib.request.urlopen(urlDS\n",
    "                         ).read().decode())['records']\n",
    "                ]))\n",
    "\n",
    "fichier = 'donnees/json/'+dataset\n",
    "format  = 'json'\n",
    "donnees.write.mode('overwrite').format(format).save(fichier)"
   ]
  },
  {
   "cell_type": "code",
   "execution_count": 131,
   "metadata": {
    "ExecuteTime": {
     "end_time": "2021-12-13T21:08:11.296115Z",
     "start_time": "2021-12-13T21:08:07.435092Z"
    }
   },
   "outputs": [
    {
     "data": {
      "text/html": [
       "<div>\n",
       "<style scoped>\n",
       "    .dataframe tbody tr th:only-of-type {\n",
       "        vertical-align: middle;\n",
       "    }\n",
       "\n",
       "    .dataframe tbody tr th {\n",
       "        vertical-align: top;\n",
       "    }\n",
       "\n",
       "    .dataframe thead th {\n",
       "        text-align: right;\n",
       "    }\n",
       "</style>\n",
       "<table border=\"1\" class=\"dataframe\">\n",
       "  <thead>\n",
       "    <tr style=\"text-align: right;\">\n",
       "      <th></th>\n",
       "      <th>adresse_de_distribution</th>\n",
       "      <th>agriculture_biologique</th>\n",
       "      <th>commune_de_distribution</th>\n",
       "      <th>date_maj</th>\n",
       "      <th>exploitation</th>\n",
       "      <th>formules</th>\n",
       "      <th>geo_point_2d</th>\n",
       "      <th>jours_et_horaires</th>\n",
       "      <th>lieu</th>\n",
       "      <th>produits</th>\n",
       "      <th>quartier</th>\n",
       "      <th>sig_id</th>\n",
       "      <th>site_web</th>\n",
       "      <th>telephone</th>\n",
       "    </tr>\n",
       "  </thead>\n",
       "  <tbody>\n",
       "    <tr>\n",
       "      <th>0</th>\n",
       "      <td>Place de la République</td>\n",
       "      <td>AB</td>\n",
       "      <td>Bischheim</td>\n",
       "      <td>02/09/2019</td>\n",
       "      <td>Ferme Herrmann</td>\n",
       "      <td>Sans abonnement</td>\n",
       "      <td>[48.613144, 7.757405]</td>\n",
       "      <td>Mardi de 17h à 18h30</td>\n",
       "      <td>Parking Place de la République</td>\n",
       "      <td>Fruits et légumes</td>\n",
       "      <td>None</td>\n",
       "      <td>2</td>\n",
       "      <td>www.fruits-herrmann.fr/</td>\n",
       "      <td>03 88 70 57 10</td>\n",
       "    </tr>\n",
       "    <tr>\n",
       "      <th>1</th>\n",
       "      <td>12 rue Antoine Freyermuth</td>\n",
       "      <td>None</td>\n",
       "      <td>Lingolsheim</td>\n",
       "      <td>02/09/2019</td>\n",
       "      <td>La Ruche qui dit Oui</td>\n",
       "      <td>Sans abonnement</td>\n",
       "      <td>[48.568137, 7.697459]</td>\n",
       "      <td>Jeudi de 18h à 19h</td>\n",
       "      <td>None</td>\n",
       "      <td>Multi-produits</td>\n",
       "      <td>None</td>\n",
       "      <td>12</td>\n",
       "      <td>www.laruchequiditoui.fr/fr</td>\n",
       "      <td>None</td>\n",
       "    </tr>\n",
       "    <tr>\n",
       "      <th>2</th>\n",
       "      <td>11 rue Boistel</td>\n",
       "      <td>None</td>\n",
       "      <td>Plobsheim</td>\n",
       "      <td>02/09/2019</td>\n",
       "      <td>La Ruche qui dit Oui</td>\n",
       "      <td>Sans abonnement</td>\n",
       "      <td>[48.471986, 7.726139]</td>\n",
       "      <td>Vendredi de 18h30 à 19h30</td>\n",
       "      <td>None</td>\n",
       "      <td>Multi-produits</td>\n",
       "      <td>None</td>\n",
       "      <td>17</td>\n",
       "      <td>www.laruchequiditoui.fr/fr</td>\n",
       "      <td>None</td>\n",
       "    </tr>\n",
       "    <tr>\n",
       "      <th>3</th>\n",
       "      <td>Rue des Pompiers</td>\n",
       "      <td>None</td>\n",
       "      <td>Schiltigheim</td>\n",
       "      <td>02/09/2019</td>\n",
       "      <td>Ferme Hager</td>\n",
       "      <td>Sans abonnement</td>\n",
       "      <td>[48.606655, 7.749879]</td>\n",
       "      <td>Mardi de 16h à 18h30</td>\n",
       "      <td>Maison du Jeune Citoyen</td>\n",
       "      <td>Fruits et légumes, oeufs</td>\n",
       "      <td>None</td>\n",
       "      <td>19</td>\n",
       "      <td>www.fermehager.fr</td>\n",
       "      <td>03 88 51 28 37</td>\n",
       "    </tr>\n",
       "    <tr>\n",
       "      <th>4</th>\n",
       "      <td>1 Allée d'Athènes</td>\n",
       "      <td>AB</td>\n",
       "      <td>Schiltigheim</td>\n",
       "      <td>02/09/2019</td>\n",
       "      <td>Les Jardins de la Montagne Verte</td>\n",
       "      <td>3 formules d'abonnement</td>\n",
       "      <td>[48.607784, 7.708715]</td>\n",
       "      <td>Mardi de 12h à 17h</td>\n",
       "      <td>IUT Louis Pasteur</td>\n",
       "      <td>Fruits et légumes</td>\n",
       "      <td>None</td>\n",
       "      <td>23</td>\n",
       "      <td>www.jardins-montagne-verte.com/</td>\n",
       "      <td>03 88 29 36 33</td>\n",
       "    </tr>\n",
       "  </tbody>\n",
       "</table>\n",
       "</div>"
      ],
      "text/plain": [
       "     adresse_de_distribution agriculture_biologique commune_de_distribution  \\\n",
       "0     Place de la République                     AB               Bischheim   \n",
       "1  12 rue Antoine Freyermuth                   None             Lingolsheim   \n",
       "2             11 rue Boistel                   None               Plobsheim   \n",
       "3           Rue des Pompiers                   None            Schiltigheim   \n",
       "4          1 Allée d'Athènes                     AB            Schiltigheim   \n",
       "\n",
       "     date_maj                      exploitation                 formules  \\\n",
       "0  02/09/2019                    Ferme Herrmann          Sans abonnement   \n",
       "1  02/09/2019              La Ruche qui dit Oui          Sans abonnement   \n",
       "2  02/09/2019              La Ruche qui dit Oui          Sans abonnement   \n",
       "3  02/09/2019                       Ferme Hager          Sans abonnement   \n",
       "4  02/09/2019  Les Jardins de la Montagne Verte  3 formules d'abonnement   \n",
       "\n",
       "            geo_point_2d          jours_et_horaires  \\\n",
       "0  [48.613144, 7.757405]       Mardi de 17h à 18h30   \n",
       "1  [48.568137, 7.697459]         Jeudi de 18h à 19h   \n",
       "2  [48.471986, 7.726139]  Vendredi de 18h30 à 19h30   \n",
       "3  [48.606655, 7.749879]       Mardi de 16h à 18h30   \n",
       "4  [48.607784, 7.708715]         Mardi de 12h à 17h   \n",
       "\n",
       "                             lieu                  produits quartier sig_id  \\\n",
       "0  Parking Place de la République         Fruits et légumes     None      2   \n",
       "1                            None            Multi-produits     None     12   \n",
       "2                            None            Multi-produits     None     17   \n",
       "3         Maison du Jeune Citoyen  Fruits et légumes, oeufs     None     19   \n",
       "4               IUT Louis Pasteur         Fruits et légumes     None     23   \n",
       "\n",
       "                          site_web       telephone  \n",
       "0          www.fruits-herrmann.fr/  03 88 70 57 10  \n",
       "1       www.laruchequiditoui.fr/fr            None  \n",
       "2       www.laruchequiditoui.fr/fr            None  \n",
       "3                www.fermehager.fr  03 88 51 28 37  \n",
       "4  www.jardins-montagne-verte.com/  03 88 29 36 33  "
      ]
     },
     "execution_count": 131,
     "metadata": {},
     "output_type": "execute_result"
    }
   ],
   "source": [
    "donnees.toPandas().head()"
   ]
  },
  {
   "cell_type": "code",
   "execution_count": 12,
   "metadata": {
    "ExecuteTime": {
     "end_time": "2021-12-13T22:51:35.611795Z",
     "start_time": "2021-12-13T22:51:35.498098Z"
    }
   },
   "outputs": [
    {
     "name": "stdout",
     "output_type": "stream",
     "text": [
      "root\n",
      " |-- adresse_de_distribution: string (nullable = true)\n",
      " |-- agriculture_biologique: string (nullable = true)\n",
      " |-- commune_de_distribution: string (nullable = true)\n",
      " |-- date_maj: string (nullable = true)\n",
      " |-- exploitation: string (nullable = true)\n",
      " |-- formules: string (nullable = true)\n",
      " |-- geo_point_2d: array (nullable = true)\n",
      " |    |-- element: double (containsNull = true)\n",
      " |-- jours_et_horaires: string (nullable = true)\n",
      " |-- lieu: string (nullable = true)\n",
      " |-- produits: string (nullable = true)\n",
      " |-- quartier: string (nullable = true)\n",
      " |-- sig_id: string (nullable = true)\n",
      " |-- site_web: string (nullable = true)\n",
      " |-- telephone: string (nullable = true)\n",
      "\n"
     ]
    }
   ],
   "source": [
    "paniers = spark.read.format('json').option('mergeSchema', 'true').option('inferSchema','true').load('donnees/json/livraison_de_paniers').cache()\n",
    "paniers.printSchema()"
   ]
  },
  {
   "cell_type": "code",
   "execution_count": 14,
   "metadata": {
    "ExecuteTime": {
     "end_time": "2021-12-13T22:51:55.913422Z",
     "start_time": "2021-12-13T22:51:55.490240Z"
    }
   },
   "outputs": [
    {
     "data": {
      "text/html": [
       "<div>\n",
       "<style scoped>\n",
       "    .dataframe tbody tr th:only-of-type {\n",
       "        vertical-align: middle;\n",
       "    }\n",
       "\n",
       "    .dataframe tbody tr th {\n",
       "        vertical-align: top;\n",
       "    }\n",
       "\n",
       "    .dataframe thead th {\n",
       "        text-align: right;\n",
       "    }\n",
       "</style>\n",
       "<table border=\"1\" class=\"dataframe\">\n",
       "  <thead>\n",
       "    <tr style=\"text-align: right;\">\n",
       "      <th></th>\n",
       "      <th>adresse_de_distribution</th>\n",
       "      <th>agriculture_biologique</th>\n",
       "      <th>commune_de_distribution</th>\n",
       "      <th>date_maj</th>\n",
       "      <th>exploitation</th>\n",
       "      <th>formules</th>\n",
       "      <th>geo_point_2d</th>\n",
       "      <th>jours_et_horaires</th>\n",
       "      <th>lieu</th>\n",
       "      <th>produits</th>\n",
       "      <th>quartier</th>\n",
       "      <th>sig_id</th>\n",
       "      <th>site_web</th>\n",
       "      <th>telephone</th>\n",
       "    </tr>\n",
       "  </thead>\n",
       "  <tbody>\n",
       "    <tr>\n",
       "      <th>0</th>\n",
       "      <td>Chemin du Grossroethig</td>\n",
       "      <td>AB</td>\n",
       "      <td>Strasbourg</td>\n",
       "      <td>02/09/2019</td>\n",
       "      <td>Les Jardins de la Montagne Verte</td>\n",
       "      <td>3 formules d'abonnement</td>\n",
       "      <td>[48.5719394111, 7.70795030284]</td>\n",
       "      <td>Mardi au vendredi de 11h à 17h</td>\n",
       "      <td>Jardins de la Montagne Verte</td>\n",
       "      <td>Fruits et légumes</td>\n",
       "      <td>Koeningshoffen</td>\n",
       "      <td>66</td>\n",
       "      <td>www.jardins-montagne-verte.com/</td>\n",
       "      <td>03 88 29 36 33</td>\n",
       "    </tr>\n",
       "    <tr>\n",
       "      <th>1</th>\n",
       "      <td>3 rue Mgr Hoch</td>\n",
       "      <td>AB</td>\n",
       "      <td>Strasbourg</td>\n",
       "      <td>02/09/2019</td>\n",
       "      <td>Ried Oasis</td>\n",
       "      <td>3 formules d'abonnement</td>\n",
       "      <td>[48.576182, 7.699618]</td>\n",
       "      <td>Jeudi de 16h30 à 18h</td>\n",
       "      <td>Ecole Joie de Vivre</td>\n",
       "      <td>Fruits, légumes, pain et oeufs</td>\n",
       "      <td>Koeningshoffen</td>\n",
       "      <td>70</td>\n",
       "      <td>www.riedoasis.fr/</td>\n",
       "      <td>03 88 98 49 32</td>\n",
       "    </tr>\n",
       "    <tr>\n",
       "      <th>2</th>\n",
       "      <td>68 rue de Zurich (devant Krutt'herbes)</td>\n",
       "      <td>AB</td>\n",
       "      <td>Strasbourg</td>\n",
       "      <td>02/09/2019</td>\n",
       "      <td>Ferme de Truttenhausen</td>\n",
       "      <td>2 formules d'abonnement</td>\n",
       "      <td>[48.578571, 7.75894]</td>\n",
       "      <td>Le mardi de 18h00 à 19h30</td>\n",
       "      <td>AMAP Truttenhausen</td>\n",
       "      <td>Fruits et légumes, pain et produits laitiers</td>\n",
       "      <td>Krutenau</td>\n",
       "      <td>71</td>\n",
       "      <td>www.truttenhausen.jimdo.com/vente-de-produits/...</td>\n",
       "      <td>03 88 08 24 33</td>\n",
       "    </tr>\n",
       "    <tr>\n",
       "      <th>3</th>\n",
       "      <td>Centre socio-culturel CARDEK, 1 place des Orph...</td>\n",
       "      <td>AB</td>\n",
       "      <td>Strasbourg</td>\n",
       "      <td>02/09/2019</td>\n",
       "      <td>Le Panier du Jardin d'Agnès</td>\n",
       "      <td>3 abonnements</td>\n",
       "      <td>[48.578822, 7.753991]</td>\n",
       "      <td>Mercredi de 18h15 à 19h30</td>\n",
       "      <td>La Carotte sociale et solidaire</td>\n",
       "      <td>Fruits et légumes, œufs</td>\n",
       "      <td>Krutenau</td>\n",
       "      <td>72</td>\n",
       "      <td>www.lejardindagnes.fr/</td>\n",
       "      <td>06 08 21 54 68</td>\n",
       "    </tr>\n",
       "    <tr>\n",
       "      <th>4</th>\n",
       "      <td>13 rue d'Austerlitz</td>\n",
       "      <td>AB</td>\n",
       "      <td>Strasbourg</td>\n",
       "      <td>02/09/2019</td>\n",
       "      <td>Vegetal Respekt</td>\n",
       "      <td>Sans abonnement</td>\n",
       "      <td>[48.578576, 7.752399]</td>\n",
       "      <td>Vendredi 15h à 19h30 et samedi 9h à 20h</td>\n",
       "      <td>HAPPY FLEURS</td>\n",
       "      <td>Fruits, légumes et aromates</td>\n",
       "      <td>Krutenau</td>\n",
       "      <td>73</td>\n",
       "      <td>https://ma-ferme-bio.com/</td>\n",
       "      <td>03 90 40 66 35</td>\n",
       "    </tr>\n",
       "  </tbody>\n",
       "</table>\n",
       "</div>"
      ],
      "text/plain": [
       "                             adresse_de_distribution agriculture_biologique  \\\n",
       "0                             Chemin du Grossroethig                     AB   \n",
       "1                                     3 rue Mgr Hoch                     AB   \n",
       "2             68 rue de Zurich (devant Krutt'herbes)                     AB   \n",
       "3  Centre socio-culturel CARDEK, 1 place des Orph...                     AB   \n",
       "4                                13 rue d'Austerlitz                     AB   \n",
       "\n",
       "  commune_de_distribution    date_maj                      exploitation  \\\n",
       "0              Strasbourg  02/09/2019  Les Jardins de la Montagne Verte   \n",
       "1              Strasbourg  02/09/2019                        Ried Oasis   \n",
       "2              Strasbourg  02/09/2019            Ferme de Truttenhausen   \n",
       "3              Strasbourg  02/09/2019       Le Panier du Jardin d'Agnès   \n",
       "4              Strasbourg  02/09/2019                   Vegetal Respekt   \n",
       "\n",
       "                  formules                    geo_point_2d  \\\n",
       "0  3 formules d'abonnement  [48.5719394111, 7.70795030284]   \n",
       "1  3 formules d'abonnement           [48.576182, 7.699618]   \n",
       "2  2 formules d'abonnement            [48.578571, 7.75894]   \n",
       "3            3 abonnements           [48.578822, 7.753991]   \n",
       "4          Sans abonnement           [48.578576, 7.752399]   \n",
       "\n",
       "                         jours_et_horaires                             lieu  \\\n",
       "0           Mardi au vendredi de 11h à 17h     Jardins de la Montagne Verte   \n",
       "1                     Jeudi de 16h30 à 18h              Ecole Joie de Vivre   \n",
       "2                Le mardi de 18h00 à 19h30               AMAP Truttenhausen   \n",
       "3                Mercredi de 18h15 à 19h30  La Carotte sociale et solidaire   \n",
       "4  Vendredi 15h à 19h30 et samedi 9h à 20h                     HAPPY FLEURS   \n",
       "\n",
       "                                       produits        quartier sig_id  \\\n",
       "0                             Fruits et légumes  Koeningshoffen     66   \n",
       "1                Fruits, légumes, pain et oeufs  Koeningshoffen     70   \n",
       "2  Fruits et légumes, pain et produits laitiers        Krutenau     71   \n",
       "3                       Fruits et légumes, œufs        Krutenau     72   \n",
       "4                   Fruits, légumes et aromates        Krutenau     73   \n",
       "\n",
       "                                            site_web       telephone  \n",
       "0                    www.jardins-montagne-verte.com/  03 88 29 36 33  \n",
       "1                                  www.riedoasis.fr/  03 88 98 49 32  \n",
       "2  www.truttenhausen.jimdo.com/vente-de-produits/...  03 88 08 24 33  \n",
       "3                             www.lejardindagnes.fr/  06 08 21 54 68  \n",
       "4                          https://ma-ferme-bio.com/  03 90 40 66 35  "
      ]
     },
     "execution_count": 14,
     "metadata": {},
     "output_type": "execute_result"
    }
   ],
   "source": [
    "paniers.toPandas().head()"
   ]
  },
  {
   "cell_type": "code",
   "execution_count": null,
   "metadata": {},
   "outputs": [],
   "source": []
  },
  {
   "cell_type": "code",
   "execution_count": null,
   "metadata": {},
   "outputs": [],
   "source": []
  },
  {
   "cell_type": "code",
   "execution_count": null,
   "metadata": {},
   "outputs": [],
   "source": []
  },
  {
   "cell_type": "code",
   "execution_count": null,
   "metadata": {},
   "outputs": [],
   "source": []
  },
  {
   "cell_type": "code",
   "execution_count": null,
   "metadata": {},
   "outputs": [],
   "source": []
  },
  {
   "cell_type": "code",
   "execution_count": null,
   "metadata": {},
   "outputs": [],
   "source": []
  }
 ],
 "metadata": {
  "kernelspec": {
   "display_name": "Python 3",
   "language": "python",
   "name": "python3"
  },
  "language_info": {
   "codemirror_mode": {
    "name": "ipython",
    "version": 3
   },
   "file_extension": ".py",
   "mimetype": "text/x-python",
   "name": "python",
   "nbconvert_exporter": "python",
   "pygments_lexer": "ipython3",
   "version": "3.8.8"
  },
  "toc": {
   "base_numbering": 1,
   "nav_menu": {},
   "number_sections": true,
   "sideBar": true,
   "skip_h1_title": false,
   "title_cell": "Table of Contents",
   "title_sidebar": "Contents",
   "toc_cell": true,
   "toc_position": {},
   "toc_section_display": true,
   "toc_window_display": false
  }
 },
 "nbformat": 4,
 "nbformat_minor": 4
}
