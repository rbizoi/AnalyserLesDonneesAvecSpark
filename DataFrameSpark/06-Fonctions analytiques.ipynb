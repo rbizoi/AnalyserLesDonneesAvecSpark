{
 "cells": [
  {
   "cell_type": "markdown",
   "metadata": {
    "toc": true
   },
   "source": [
    "<h1>Table of Contents<span class=\"tocSkip\"></span></h1>\n",
    "<div class=\"toc\"><ul class=\"toc-item\"><li><span><a href=\"#Initialise-données\" data-toc-modified-id=\"Initialise-données-1\"><span class=\"toc-item-num\">1&nbsp;&nbsp;</span>Initialise données</a></span></li><li><span><a href=\"#partitionBy\" data-toc-modified-id=\"partitionBy-2\"><span class=\"toc-item-num\">2&nbsp;&nbsp;</span>partitionBy</a></span></li><li><span><a href=\"#orderBy\" data-toc-modified-id=\"orderBy-3\"><span class=\"toc-item-num\">3&nbsp;&nbsp;</span>orderBy</a></span></li><li><span><a href=\"#rowsBetween\" data-toc-modified-id=\"rowsBetween-4\"><span class=\"toc-item-num\">4&nbsp;&nbsp;</span>rowsBetween</a></span></li></ul></div>"
   ]
  },
  {
   "cell_type": "code",
   "execution_count": 1,
   "metadata": {},
   "outputs": [],
   "source": [
    "import os\n",
    "from pyspark.sql.types import *\n",
    "from pyspark.sql.functions import *"
   ]
  },
  {
   "cell_type": "code",
   "execution_count": 2,
   "metadata": {},
   "outputs": [
    {
     "data": {
      "text/html": [
       "\n",
       "            <div>\n",
       "                <p><b>SparkSession - hive</b></p>\n",
       "                \n",
       "        <div>\n",
       "            <p><b>SparkContext</b></p>\n",
       "\n",
       "            <p><a href=\"http://jupiter.olimp.fr:4041\">Spark UI</a></p>\n",
       "\n",
       "            <dl>\n",
       "              <dt>Version</dt>\n",
       "                <dd><code>v3.0.0</code></dd>\n",
       "              <dt>Master</dt>\n",
       "                <dd><code>spark://jupiter.olimp.fr:7077</code></dd>\n",
       "              <dt>AppName</dt>\n",
       "                <dd><code>PySparkShell</code></dd>\n",
       "            </dl>\n",
       "        </div>\n",
       "        \n",
       "            </div>\n",
       "        "
      ],
      "text/plain": [
       "<pyspark.sql.session.SparkSession at 0x7fa5076835e0>"
      ]
     },
     "execution_count": 2,
     "metadata": {},
     "output_type": "execute_result"
    }
   ],
   "source": [
    "spark"
   ]
  },
  {
   "cell_type": "markdown",
   "metadata": {},
   "source": [
    "# Initialise données"
   ]
  },
  {
   "cell_type": "code",
   "execution_count": 3,
   "metadata": {},
   "outputs": [
    {
     "name": "stdout",
     "output_type": "stream",
     "text": [
      "root\n",
      " |-- numer_sta: integer (nullable = true)\n",
      " |-- date: long (nullable = true)\n",
      " |-- pmer: integer (nullable = true)\n",
      " |-- tend: integer (nullable = true)\n",
      " |-- cod_tend: integer (nullable = true)\n",
      " |-- dd: integer (nullable = true)\n",
      " |-- ff: double (nullable = true)\n",
      " |-- t: double (nullable = true)\n",
      " |-- td: double (nullable = true)\n",
      " |-- u: integer (nullable = true)\n",
      " |-- vv: integer (nullable = true)\n",
      " |-- ww: integer (nullable = true)\n",
      " |-- w1: integer (nullable = true)\n",
      " |-- w2: integer (nullable = true)\n",
      " |-- n: integer (nullable = true)\n",
      " |-- nbas: integer (nullable = true)\n",
      " |-- hbas: integer (nullable = true)\n",
      " |-- cl: integer (nullable = true)\n",
      " |-- cm: integer (nullable = true)\n",
      " |-- ch: integer (nullable = true)\n",
      " |-- pres: integer (nullable = true)\n",
      " |-- niv_bar: integer (nullable = true)\n",
      " |-- geop: integer (nullable = true)\n",
      " |-- tend24: integer (nullable = true)\n",
      " |-- tn12: double (nullable = true)\n",
      " |-- tn24: double (nullable = true)\n",
      " |-- tx12: double (nullable = true)\n",
      " |-- tx24: double (nullable = true)\n",
      " |-- tminsol: double (nullable = true)\n",
      " |-- sw: integer (nullable = true)\n",
      " |-- tw: double (nullable = true)\n",
      " |-- raf10: double (nullable = true)\n",
      " |-- rafper: double (nullable = true)\n",
      " |-- per: integer (nullable = true)\n",
      " |-- etat_sol: integer (nullable = true)\n",
      " |-- ht_neige: double (nullable = true)\n",
      " |-- ssfrai: double (nullable = true)\n",
      " |-- perssfrai: integer (nullable = true)\n",
      " |-- rr1: double (nullable = true)\n",
      " |-- rr3: double (nullable = true)\n",
      " |-- rr6: double (nullable = true)\n",
      " |-- rr12: double (nullable = true)\n",
      " |-- rr24: double (nullable = true)\n",
      " |-- phenspe1: double (nullable = true)\n",
      " |-- phenspe2: double (nullable = true)\n",
      " |-- phenspe3: double (nullable = true)\n",
      " |-- phenspe4: double (nullable = true)\n",
      " |-- nnuage1: integer (nullable = true)\n",
      " |-- ctype1: integer (nullable = true)\n",
      " |-- hnuage1: integer (nullable = true)\n",
      " |-- nnuage2: integer (nullable = true)\n",
      " |-- ctype2: integer (nullable = true)\n",
      " |-- hnuage2: integer (nullable = true)\n",
      " |-- nnuage3: integer (nullable = true)\n",
      " |-- ctype3: integer (nullable = true)\n",
      " |-- hnuage3: integer (nullable = true)\n",
      " |-- nnuage4: integer (nullable = true)\n",
      " |-- ctype4: integer (nullable = true)\n",
      " |-- hnuage4: integer (nullable = true)\n",
      " |-- _c59: string (nullable = true)\n",
      "\n",
      "+-----+----+----+-----------+--------+----------+--------+\n",
      "|annee|mois|jour|temperature|humidite|visibilite|pression|\n",
      "+-----+----+----+-----------+--------+----------+--------+\n",
      "| 2019|  12|   1|        3.7|    0.79|      20.0|  100.86|\n",
      "| 2019|  12|   1|        2.8|    0.87|     12.23|  101.38|\n",
      "| 2019|  12|   1|        8.7|    0.75|      10.0|  101.39|\n",
      "+-----+----+----+-----------+--------+----------+--------+\n",
      "only showing top 3 rows\n",
      "\n"
     ]
    }
   ],
   "source": [
    "from pyspark.sql.functions import *\n",
    "from pyspark.sql.types     import StructType, \\\n",
    "     StructField, FloatType, \\\n",
    "     IntegerType, StringType\n",
    "\n",
    "spark = SparkSession.builder\\\n",
    "          .config(\"spark.jars.packages\",\n",
    "                         \"io.delta:delta-core_2.12:0.8.0\") \\\n",
    "          .config(\"spark.sql.extensions\",\n",
    "                         \"io.delta.sql.DeltaSparkSessionExtension\")\\\n",
    "          .getOrCreate()\n",
    "\n",
    "meteoDataFrame  = spark.read.format('csv')\\\n",
    "    .option('sep',';')\\\n",
    "    .option('header','true')\\\n",
    "    .option('nullValue','mq')\\\n",
    "    .option('inferSchema', 'true')\\\n",
    "    .load('donnees/meteo')\\\n",
    "    .cache()\n",
    "\n",
    "meteoDataFrame.columns\n",
    "meteoDataFrame.printSchema()\n",
    "\n",
    "schema = StructType([\n",
    "        StructField('Id'           , StringType() , True),\n",
    "        StructField('ville'        , StringType() , True),\n",
    "        StructField('latitude'     , FloatType() , True),\n",
    "        StructField('longitude'    , FloatType() , True),\n",
    "        StructField('altitude'     , IntegerType() , True)])\n",
    "\n",
    "villes  = spark.read.format('csv')   \\\n",
    "      .option('sep',';')                \\\n",
    "      .option('mergeSchema', 'true')    \\\n",
    "      .option('header','true')          \\\n",
    "      .schema(schema)                   \\\n",
    "      .load('/user/spark/donnees/postesSynop.csv')  \\\n",
    "      .cache()\n",
    "\n",
    "@udf(\"string\")\n",
    "def formatVille(ville):\n",
    "    if ville in ['CLERMONT-FD','MONT-DE-MARSAN',\n",
    "                                   'ST-PIERRE','ST-BARTHELEMY METEO'] :\n",
    "        return ville.title()\n",
    "    else :\n",
    "        if ville.find('-') != -1 :\n",
    "            return ville[0:ville.find('-')].title()\n",
    "        else:\n",
    "            return ville.title()\n",
    "\n",
    "villesT  = villes.select(\n",
    "                col('Id').alias('id'),\n",
    "                formatVille('ville').alias('ville'),\n",
    "               'latitude',\n",
    "               'longitude',\n",
    "               'altitude')\n",
    "\n",
    "\n",
    "meteo = meteoDataFrame.select(\n",
    "                 col('numer_sta'),\n",
    "                 to_timestamp(col('date').cast('string'),'yyyyMMddHHmmss'),\n",
    "                 col('date')[0:4].cast('int') ,\n",
    "                 col('date')[5:2].cast('int'),\n",
    "                 col('date')[7:2].cast('int'),\n",
    "                 col('date')[5:4],\n",
    "                 round(col('t') - 273.15,2),\n",
    "                 col('u') / 100 ,\n",
    "                 col('vv') / 1000 ,\n",
    "                 col('pres') / 1000,\n",
    "                 coalesce( col('rr3'),\n",
    "                           col('rr24')/8,\n",
    "                           col('rr12')/4,\n",
    "                           col('rr6')/2,\n",
    "                           col('rr1')*3  ) )\\\n",
    "             .toDF('id','date','annee','mois','jour','mois_jour','temperature',\n",
    "                   'humidite','visibilite','pression','precipitations')\\\n",
    "             .cache()\n",
    "\n",
    "meteo.select('annee','mois','jour','temperature','humidite',\n",
    "             'visibilite','pression').show(3)\n",
    "\n",
    "meteoFance = meteo.where('id < 8000')\\\n",
    "             .join(villesT,'id')\\\n",
    "             .select(initcap(regexp_replace('ville','-',' ')).alias('ville'),\n",
    "                     'annee','mois','jour','temperature',\n",
    "                     'humidite','visibilite','pression','precipitations')\n",
    "\n",
    "meteoFance.write\\\n",
    "       .mode('overwrite')\\\n",
    "       .format('parquet')\\\n",
    "       .partitionBy('annee')\\\n",
    "       .option('path', '/user/spark/donnees/meteoFrance')\\\n",
    "       .save()\n",
    "\n",
    "meteo.join(villesT,'id')\\\n",
    "     .select(initcap(regexp_replace('ville','-',' ')).alias('ville'),\n",
    "                     'annee','mois','jour','temperature',\n",
    "                     'humidite','visibilite','pression','precipitations')\\\n",
    "     .write\\\n",
    "     .mode('overwrite')\\\n",
    "     .format('parquet')\\\n",
    "     .partitionBy('annee')\\\n",
    "     .option('path', '/user/spark/donnees/meteoGlobal')\\\n",
    "     .save()\n",
    "\n",
    "data = [('Ajaccio'     ,'dfa' ),\n",
    "                  ('Angers'      ,'dfa' ),\n",
    "                  ('Angoulème'   ,'dfa' ),\n",
    "                  ('Besançon'    ,'dfa' ),\n",
    "                  ('Biarritz'    ,'dfa' ),\n",
    "                  ('Bordeaux'    ,'dfa' ),\n",
    "                  ('Brest'       ,'dfa' ),\n",
    "                  ('Caen'        ,'dfa' ),\n",
    "                  ('Clermont-Fd' ,'dfa' ),\n",
    "                  ('Dijon'       ,'dfa' ),\n",
    "                  ('Embrun'      ,'dfa' ),\n",
    "                  ('Grenoble'    ,'dfa' ),\n",
    "                  ('Lille'       ,'dfa' ),\n",
    "                  ('Limoges'     ,'dfa' ),\n",
    "                  ('Lyon'        ,'dfa' ),\n",
    "                  ('Marseille'   ,'dfa' ),\n",
    "                  ('Montpellier' ,'dfa' ),\n",
    "                  ('Nancy'       ,'dfa' ),\n",
    "                  ('Nantes'      ,'dfa' ),\n",
    "                  ('Nice'        ,'dfa' ),\n",
    "                  ('Nîmes'       ,'dfa' ),\n",
    "                  ('Orléans'     ,'dfa' ),\n",
    "                  ('Paris'       ,'dfa' )]\n",
    "\n",
    "dfa = spark.sparkContext.parallelize(data).toDF(['ville','valeur'])\n",
    "\n",
    "data = [ ('Nancy'       ,'dfb' ),\n",
    "          ('Nantes'      ,'dfb' ),\n",
    "          ('Nice'        ,'dfb' ),\n",
    "          ('Nîmes'       ,'dfb' ),\n",
    "          ('Orléans'     ,'dfb' ),\n",
    "          ('Paris'       ,'dfb' ),\n",
    "          ('Perpignan'   ,'dfb' ),\n",
    "          ('Poitiers'    ,'dfb' ),\n",
    "          ('Reims'       ,'dfb' ),\n",
    "          ('Rennes'      ,'dfb' ),\n",
    "          ('Rouen'       ,'dfb' ),\n",
    "          ('St-Quentin'  ,'dfb' ),\n",
    "          ('Strasbourg'  ,'dfb' ),\n",
    "          ('Toulon'      ,'dfb' ),\n",
    "          ('Toulouse'    ,'dfb' ),\n",
    "          ('Tours'       ,'dfb' ),\n",
    "          ('Vichy'       ,'dfb' )]\n",
    "\n",
    "dfb = spark.sparkContext.parallelize(data).toDF(['ville','valeur'])"
   ]
  },
  {
   "cell_type": "markdown",
   "metadata": {},
   "source": []
  },
  {
   "cell_type": "code",
   "execution_count": 5,
   "metadata": {},
   "outputs": [
    {
     "data": {
      "text/plain": [
       "2941041"
      ]
     },
     "execution_count": 5,
     "metadata": {},
     "output_type": "execute_result"
    }
   ],
   "source": [
    "from pyspark.sql.functions import *\n",
    "from pyspark.sql import Window\n",
    "\n",
    "meteoFance = meteo.where('id < 8000')\\\n",
    "             .join(villes.withColumnRenamed('Id', 'id'),'id')\\\n",
    "             .select(initcap(regexp_replace('ville','-',' ')).alias('ville'),\n",
    "                     'annee','mois','jour','temperature',\n",
    "                     'humidite','visibilite','pression','precipitations')\n",
    "\n",
    "meteoFance.count()"
   ]
  },
  {
   "cell_type": "code",
   "execution_count": 6,
   "metadata": {},
   "outputs": [
    {
     "name": "stdout",
     "output_type": "stream",
     "text": [
      "+-------------------+-----+----+----+---+----+-----+------+----+\n",
      "|              ville|annee|mois|jour|  t|   h|    v|     p|   e|\n",
      "+-------------------+-----+----+----+---+----+-----+------+----+\n",
      "|          Abbeville| 2019|  12|   1|3.7|0.79| 20.0|100.86| 0.0|\n",
      "|      Lille Lesquin| 2019|  12|   1|2.8|0.87|12.23|101.38| 0.0|\n",
      "|    Pte De La Hague| 2019|  12|   1|8.7|0.75| 10.0|101.39| 0.0|\n",
      "|     Caen Carpiquet| 2019|  12|   1|4.9| 0.8|30.18|100.62| 0.0|\n",
      "|         Rouen Boos| 2019|  12|   1|3.5|0.84|39.54| 99.68| 0.0|\n",
      "|       Reims Prunay| 2019|  12|   1|1.7|0.89| 20.0|100.53| 0.0|\n",
      "|     Brest Guipavas| 2019|  12|   1|7.1|0.91| 30.3|100.09| 0.0|\n",
      "|        Ploumanac'h| 2019|  12|   1|8.0|0.95| null|100.61| 2.0|\n",
      "|  Rennes St Jacques| 2019|  12|   1|6.2|0.92|18.06| 100.7| 2.0|\n",
      "|            Alencon| 2019|  12|   1|4.3|0.89|13.52| 99.52|-0.1|\n",
      "|               Orly| 2019|  12|   1|4.7|0.77|17.23| 100.4| 0.0|\n",
      "|    Troyes Barberey| 2019|  12|   1|3.9|0.83| 20.0| 100.1| 0.0|\n",
      "|        Nancy Ochey| 2019|  12|   1|1.4|0.81|26.22| 97.56| 0.0|\n",
      "|Strasbourg Entzheim| 2019|  12|   1|0.7|0.92|13.72| 100.1| 0.0|\n",
      "| Belle Ile Le Talut| 2019|  12|   1|7.8|0.93| null|100.56| 0.0|\n",
      "|  Nantes Bouguenais| 2019|  12|   1|7.8|0.99| 0.28| 100.7| 0.0|\n",
      "|              Tours| 2019|  12|   1|6.9|0.99| 3.42| 99.82| 0.6|\n",
      "|            Bourges| 2019|  12|   1|6.4|0.98| 2.11| 99.27| 3.6|\n",
      "|      Dijon Longvic| 2019|  12|   1|4.5|0.93|10.73| 98.83| 1.2|\n",
      "|      Bale Mulhouse| 2019|  12|   1|0.9|0.97| 5.22| 98.53| 0.0|\n",
      "+-------------------+-----+----+----+---+----+-----+------+----+\n",
      "only showing top 20 rows\n",
      "\n"
     ]
    }
   ],
   "source": [
    "meteoFance.selectExpr('ville','annee','mois','jour','temperature as t',\n",
    "                      'humidite as h','visibilite as v',\n",
    "                      'pression as p','precipitations as e').show()"
   ]
  },
  {
   "cell_type": "code",
   "execution_count": 7,
   "metadata": {},
   "outputs": [
    {
     "name": "stdout",
     "output_type": "stream",
     "text": [
      "+----+-----------+--------+----------+--------+--------------+\n",
      "|jour|temperature|humidite|visibilite|pression|precipitations|\n",
      "+----+-----------+--------+----------+--------+--------------+\n",
      "|   1|        8.9|    0.97|      3.77|  101.26|           0.0|\n",
      "|   1|       10.6|    0.99|     11.17|  101.07|           0.0|\n",
      "|   1|       12.9|    0.99|      4.58|  100.93|           0.2|\n",
      "|   1|       15.9|    0.99|     29.86|  100.87|           5.0|\n",
      "|   1|       18.3|    0.96|     11.98|  100.66|           1.2|\n",
      "|   1|       20.8|    0.82|      60.0|  100.41|          -0.1|\n",
      "|   1|       17.6|    0.97|     11.57|  100.39|           7.9|\n",
      "|   1|       16.9|    0.95|      60.0|  100.31|           0.4|\n",
      "|   2|       16.4|    0.95|     49.88|   100.1|           1.4|\n",
      "|   2|       16.4|    0.97|      5.17|   99.98|           4.6|\n",
      "|   2|       15.8|    0.97|       1.7|   99.95|           4.0|\n",
      "|   2|       16.2|    0.96|     19.65|   99.95|           2.5|\n",
      "|   2|       17.3|    0.85|     50.13|   99.76|           0.8|\n",
      "|   2|       16.0|    0.89|     19.85|   99.64|           0.6|\n",
      "|   2|       14.3|    0.95|     37.39|   99.49|           1.0|\n",
      "|   2|       13.7|    0.97|     19.76|   99.16|           3.2|\n",
      "|   3|       13.4|    0.97|     12.87|   98.83|           3.7|\n",
      "|   3|       13.9|    0.82|      60.0|   98.09|          -0.1|\n",
      "|   3|       12.5|    0.85|      4.05|   98.52|           3.0|\n",
      "|   3|       12.6|    0.83|     18.07|   99.03|           2.0|\n",
      "+----+-----------+--------+----------+--------+--------------+\n",
      "only showing top 20 rows\n",
      "\n"
     ]
    }
   ],
   "source": [
    "meteoMM = meteoFance.where(\"ville = 'Mont De Marsan' and \\\n",
    "                                annee = 2019 and mois = 11 and jour < 11\")\\\n",
    "                     .select('jour','temperature','humidite','visibilite',\n",
    "                             'pression','precipitations')\n",
    "meteoMM.show()"
   ]
  },
  {
   "cell_type": "markdown",
   "metadata": {},
   "source": [
    "# partitionBy\n",
    "<img src=\"https://raw.githubusercontent.com/rbizoi/AnalyserLesDonneesAvecSpark/main/DataFrameSpark/images/M06-10.png\" width=\"400\">   "
   ]
  },
  {
   "cell_type": "code",
   "execution_count": 8,
   "metadata": {},
   "outputs": [
    {
     "name": "stdout",
     "output_type": "stream",
     "text": [
      "+----+--------------+------------+\n",
      "|jour|precipitations|somme totale|\n",
      "+----+--------------+------------+\n",
      "|   1|           0.0|       215.2|\n",
      "|   1|           0.0|       215.2|\n",
      "|   1|           0.2|       215.2|\n",
      "|   1|           5.0|       215.2|\n",
      "|   1|           1.2|       215.2|\n",
      "+----+--------------+------------+\n",
      "only showing top 5 rows\n",
      "\n"
     ]
    }
   ],
   "source": [
    "window = Window.partitionBy()\n",
    "meteoMM.select('jour','precipitations',\n",
    "               sum('precipitations').over(window)\\\n",
    "                   .alias(\"somme totale\"))\\\n",
    "        .show(5)"
   ]
  },
  {
   "cell_type": "code",
   "execution_count": 9,
   "metadata": {},
   "outputs": [
    {
     "name": "stdout",
     "output_type": "stream",
     "text": [
      "+----+--------------+\n",
      "|jour|precipitations|\n",
      "+----+--------------+\n",
      "|   1|          14.6|\n",
      "|   2|          18.1|\n",
      "|   3|          16.5|\n",
      "|   4|          31.5|\n",
      "|   5|          52.5|\n",
      "|   6|          21.1|\n",
      "|   7|          22.1|\n",
      "|   8|          26.1|\n",
      "|   9|           5.8|\n",
      "|  10|           6.9|\n",
      "|null|         215.2|\n",
      "+----+--------------+\n",
      "\n"
     ]
    }
   ],
   "source": [
    "meteoMM.groupBy('jour')\\\n",
    "        .agg( round(sum('precipitations'),2).alias('precipitations'))\\\n",
    "        .orderBy(col('jour'))\\\n",
    "        .rollup('jour')\\\n",
    "        .agg( round(sum('precipitations'),2).alias('precipitations'))\\\n",
    "        .orderBy(col('jour').asc_nulls_last())\\\n",
    "        .show()"
   ]
  },
  {
   "cell_type": "code",
   "execution_count": 10,
   "metadata": {},
   "outputs": [
    {
     "name": "stdout",
     "output_type": "stream",
     "text": [
      "+----+--------------+-----------------+------------+\n",
      "|jour|precipitations|somme journalière|somme totale|\n",
      "+----+--------------+-----------------+------------+\n",
      "|   1|           0.0|             14.6|       215.2|\n",
      "|   1|           0.0|             14.6|       215.2|\n",
      "|   1|           0.2|             14.6|       215.2|\n",
      "|   1|           5.0|             14.6|       215.2|\n",
      "|   1|           1.2|             14.6|       215.2|\n",
      "|   1|          -0.1|             14.6|       215.2|\n",
      "|   1|           7.9|             14.6|       215.2|\n",
      "|   1|           0.4|             14.6|       215.2|\n",
      "|   2|           1.4|             18.1|       215.2|\n",
      "|   2|           4.6|             18.1|       215.2|\n",
      "|   2|           4.0|             18.1|       215.2|\n",
      "|   2|           2.5|             18.1|       215.2|\n",
      "|   2|           0.8|             18.1|       215.2|\n",
      "|   2|           0.6|             18.1|       215.2|\n",
      "|   2|           1.0|             18.1|       215.2|\n",
      "|   2|           3.2|             18.1|       215.2|\n",
      "|   3|           3.7|             16.5|       215.2|\n",
      "|   3|          -0.1|             16.5|       215.2|\n",
      "|   3|           3.0|             16.5|       215.2|\n",
      "|   3|           2.0|             16.5|       215.2|\n",
      "+----+--------------+-----------------+------------+\n",
      "only showing top 20 rows\n",
      "\n"
     ]
    }
   ],
   "source": [
    "total = Window.partitionBy()\n",
    "jour  = Window.partitionBy('jour')\n",
    "meteoMM.select('jour','precipitations',\n",
    "               round(sum('precipitations').over(jour),2)\\\n",
    "                   .alias(\"somme journalière\"),\\\n",
    "               sum('precipitations').over(total)\\\n",
    "                   .alias(\"somme totale\"))\\\n",
    "        .show()"
   ]
  },
  {
   "cell_type": "code",
   "execution_count": null,
   "metadata": {},
   "outputs": [],
   "source": []
  },
  {
   "cell_type": "code",
   "execution_count": 11,
   "metadata": {},
   "outputs": [
    {
     "name": "stdout",
     "output_type": "stream",
     "text": [
      "+-----+----+----+-----------+--------------+\n",
      "|annee|mois|jour|temperature|precipitations|\n",
      "+-----+----+----+-----------+--------------+\n",
      "| 2007|   7|  12|      19.58|           0.0|\n",
      "| 2010|   5|  25|      22.31|           0.2|\n",
      "| 2016|   1|   2|       10.1|          23.9|\n",
      "| 2010|   2|   9|       3.05|           0.2|\n",
      "| 1997|   6|  30|      14.66|          28.8|\n",
      "+-----+----+----+-----------+--------------+\n",
      "only showing top 5 rows\n",
      "\n"
     ]
    }
   ],
   "source": [
    "meteoMM = meteoFance.where(\"ville = 'Mont De Marsan'\")\\\n",
    "           .select('ville','annee','mois',\n",
    "                           'jour','temperature','precipitations')\\\n",
    "           .groupBy('ville', 'annee', 'mois', 'jour')\\\n",
    "           .agg( round(avg('temperature'),2).alias('temperature'),\n",
    "                round(sum('precipitations'),2).alias('precipitations'))\\\n",
    "           .select('annee','mois','jour','temperature','precipitations')\n",
    "meteoMM.show(5)"
   ]
  },
  {
   "cell_type": "code",
   "execution_count": 12,
   "metadata": {},
   "outputs": [
    {
     "name": "stdout",
     "output_type": "stream",
     "text": [
      "+----+----+-----+----+----+-----+------+-------+-------+------+\n",
      "|jour|mois|annee|prec|  s1|   s2|    s3|     s4|     s5|    s6|\n",
      "+----+----+-----+----+----+-----+------+-------+-------+------+\n",
      "|  24|  12| 1996|2.38|2.38|17.33| 61.16|1775.66|  851.9|531.75|\n",
      "|  24|  12| 1997| 0.0| 0.0|17.33| 95.53|1775.66| 956.12|531.75|\n",
      "|  24|  12| 1998| 0.9| 0.9|17.33| 16.13|1775.66|1045.37|531.75|\n",
      "|  24|  12| 1999|0.25|0.25|17.33|133.79|1775.66|1124.75|531.75|\n",
      "|  24|  12| 2000|3.45|3.45|17.33| 86.75|1775.66|1262.65|531.75|\n",
      "|  24|  12| 2001| 0.0| 0.0|17.33| 35.85|1775.66| 818.99|531.75|\n",
      "|  24|  12| 2002|0.35|0.35|17.33| 94.74|1775.66| 768.37|531.75|\n",
      "|  24|  12| 2003| 0.6| 0.6|17.33| 66.81|1775.66| 887.54|531.75|\n",
      "|  24|  12| 2004| 2.2| 2.2|17.33|  86.6|1775.66| 784.89|531.75|\n",
      "|  24|  12| 2005| 0.0| 0.0|17.33| 108.8|1775.66|  740.2|531.75|\n",
      "|  24|  12| 2006| 0.0| 0.0|17.33|  59.2|1775.66|  762.2|531.75|\n",
      "|  24|  12| 2007| 0.0| 0.0|17.33|  70.0|1775.66|  799.2|531.75|\n",
      "|  24|  12| 2008| 0.0| 0.0|17.33|  86.6|1775.66|  874.2|531.75|\n",
      "|  24|  12| 2009| 2.4| 2.4|17.33|  73.6|1775.66|  861.2|531.75|\n",
      "|  24|  12| 2010| 0.8| 0.8|17.33|  51.4|1775.66|  832.2|531.75|\n",
      "|  24|  12| 2011| 0.8| 0.8|17.33| 153.0|1775.66|  666.5|531.75|\n",
      "|  24|  12| 2012| 0.0| 0.0|17.33|  93.2|1775.66|  761.8|531.75|\n",
      "|  24|  12| 2013| 1.0| 1.0|17.33|  59.6|1775.66| 1067.0|531.75|\n",
      "|  24|  12| 2014| 0.0| 0.0|17.33|  42.4|1775.66| 1007.3|531.75|\n",
      "|  24|  12| 2015| 0.0| 0.0|17.33|   3.9|1775.66| 710.45|531.75|\n",
      "|  24|  12| 2016| 2.5| 2.5|17.33|  13.6|1775.66|  778.9|531.75|\n",
      "|  24|  12| 2017| 0.0| 0.0|17.33| 136.3|1775.66|  827.8|531.75|\n",
      "|  24|  12| 2018|-0.2|-0.2|17.33|  48.0|1775.66|  861.0|531.75|\n",
      "|  24|  12| 2019|-0.1|-0.1|17.33|  98.7|1775.66| 1228.5|531.75|\n",
      "|  26|  12| 1996| 0.0| 0.0|38.25| 61.16|1775.66|  851.9|676.07|\n",
      "|  26|  12| 1997|10.8|10.8|38.25| 95.53|1775.66| 956.12|676.07|\n",
      "|  26|  12| 1998| 0.0| 0.0|38.25| 16.13|1775.66|1045.37|676.07|\n",
      "|  26|  12| 1999| 4.7| 4.7|38.25|133.79|1775.66|1124.75|676.07|\n",
      "+----+----+-----+----+----+-----+------+-------+-------+------+\n",
      "only showing top 28 rows\n",
      "\n"
     ]
    }
   ],
   "source": [
    "jour          = Window.partitionBy('jour')\n",
    "mois          = Window.partitionBy('mois')\n",
    "moisAnnee     = Window.partitionBy('mois','annee')\n",
    "annee         = Window.partitionBy('annee')\n",
    "jourMois      = Window.partitionBy('jour','mois')\n",
    "jourMoisAnnee = Window.partitionBy('jour','mois','annee')\n",
    "\n",
    "meteoMM.select('jour','mois','annee',col('precipitations').alias('prec'),\n",
    "          round(sum('precipitations').over(jourMoisAnnee),2).alias('s1'),\n",
    "          round(sum('precipitations').over(jourMois),2).alias('s2'),\n",
    "          round(sum('precipitations').over(moisAnnee),2).alias('s3'),\n",
    "          round(sum('precipitations').over(mois),2).alias('s4'),\n",
    "          round(sum('precipitations').over(annee),2).alias('s5'),\n",
    "          round(sum('precipitations').over(jour),2).alias('s6'))\\\n",
    "       .show(28)"
   ]
  },
  {
   "cell_type": "code",
   "execution_count": 13,
   "metadata": {},
   "outputs": [
    {
     "name": "stdout",
     "output_type": "stream",
     "text": [
      "+---+\n",
      "| s1|\n",
      "+---+\n",
      "|7.4|\n",
      "+---+\n",
      "\n"
     ]
    }
   ],
   "source": [
    "meteoMM.where('annee = 1997 and mois = 12 and jour = 31').agg(sum('precipitations').alias('s1')).show()"
   ]
  },
  {
   "cell_type": "code",
   "execution_count": 14,
   "metadata": {},
   "outputs": [
    {
     "name": "stdout",
     "output_type": "stream",
     "text": [
      "+-----+\n",
      "|   s2|\n",
      "+-----+\n",
      "|75.53|\n",
      "+-----+\n",
      "\n"
     ]
    }
   ],
   "source": [
    "meteoMM.where('mois = 12 and jour = 31').agg(sum('precipitations').alias('s2')).show()"
   ]
  },
  {
   "cell_type": "code",
   "execution_count": 15,
   "metadata": {},
   "outputs": [
    {
     "name": "stdout",
     "output_type": "stream",
     "text": [
      "+-----------------+\n",
      "|               s3|\n",
      "+-----------------+\n",
      "|61.15999999999999|\n",
      "+-----------------+\n",
      "\n"
     ]
    }
   ],
   "source": [
    "meteoMM.where('annee = 1996 and mois = 12').agg(sum('precipitations').alias('s3')).show()"
   ]
  },
  {
   "cell_type": "code",
   "execution_count": 16,
   "metadata": {},
   "outputs": [
    {
     "name": "stdout",
     "output_type": "stream",
     "text": [
      "+-------+\n",
      "|     s4|\n",
      "+-------+\n",
      "|1775.66|\n",
      "+-------+\n",
      "\n"
     ]
    }
   ],
   "source": [
    "meteoMM.where('mois  = 12'  ).agg(sum('precipitations').alias('s4')).show()"
   ]
  },
  {
   "cell_type": "code",
   "execution_count": 17,
   "metadata": {},
   "outputs": [
    {
     "name": "stdout",
     "output_type": "stream",
     "text": [
      "+-----------------+\n",
      "|               s5|\n",
      "+-----------------+\n",
      "|851.9000000000001|\n",
      "+-----------------+\n",
      "\n"
     ]
    }
   ],
   "source": [
    "meteoMM.where('annee = 1996').agg(sum('precipitations').alias('s5')).show()"
   ]
  },
  {
   "cell_type": "code",
   "execution_count": 18,
   "metadata": {},
   "outputs": [
    {
     "name": "stdout",
     "output_type": "stream",
     "text": [
      "+------------------+\n",
      "|                s6|\n",
      "+------------------+\n",
      "|402.73999999999984|\n",
      "+------------------+\n",
      "\n"
     ]
    }
   ],
   "source": [
    "meteoMM.where('jour = 31').agg(sum('precipitations').alias('s6')).show()"
   ]
  },
  {
   "cell_type": "code",
   "execution_count": 19,
   "metadata": {},
   "outputs": [
    {
     "name": "stdout",
     "output_type": "stream",
     "text": [
      "+-------------------+\n",
      "|sum(precipitations)|\n",
      "+-------------------+\n",
      "|  21804.02999999999|\n",
      "+-------------------+\n",
      "\n"
     ]
    }
   ],
   "source": [
    "meteoMM.agg(sum('precipitations')).show()"
   ]
  },
  {
   "cell_type": "markdown",
   "metadata": {},
   "source": [
    "# orderBy\n",
    "\n",
    "<img src=\"https://raw.githubusercontent.com/rbizoi/AnalyserLesDonneesAvecSpark/main/DataFrameSpark/images/M06-11.png\" width=\"400\">  "
   ]
  },
  {
   "cell_type": "code",
   "execution_count": 20,
   "metadata": {},
   "outputs": [
    {
     "name": "stdout",
     "output_type": "stream",
     "text": [
      "+----+----+-----+----+----+----+----+----+\n",
      "|mois|jour| temp|  s1|  s2|prec|  s3|  s4|\n",
      "+----+----+-----+----+----+----+----+----+\n",
      "|  12|   1|  6.1| 6.1|8.89|-0.1|-0.1|98.7|\n",
      "|  12|   2| 6.57|6.34|8.89|-0.1|-0.2|98.7|\n",
      "|  12|   3| 1.81|4.83|8.89| 0.0|-0.2|98.7|\n",
      "|  12|   4| 3.39|4.47|8.89| 0.0|-0.2|98.7|\n",
      "|  12|   5| 6.05|4.78|8.89|-0.1|-0.3|98.7|\n",
      "|  12|   6| 5.23|4.86|8.89| 0.0|-0.3|98.7|\n",
      "|  12|   7| 8.05|5.31|8.89|-0.1|-0.4|98.7|\n",
      "|  12|   8|  9.4|5.83|8.89| 5.2| 4.8|98.7|\n",
      "|  12|   9|10.36|6.33|8.89| 5.4|10.2|98.7|\n",
      "|  12|  10| 8.01| 6.5|8.89| 0.0|10.2|98.7|\n",
      "|  12|  11| 8.51|6.68|8.89| 7.8|18.0|98.7|\n",
      "|  12|  12| 9.66|6.93|8.89|25.0|43.0|98.7|\n",
      "|  12|  13|13.55|7.44|8.89|25.0|68.0|98.7|\n",
      "|  12|  14|13.74|7.89|8.89|-0.1|67.9|98.7|\n",
      "|  12|  15|12.65|8.21|8.89| 0.0|67.9|98.7|\n",
      "|  12|  16|10.35|8.34|8.89| 0.0|67.9|98.7|\n",
      "|  12|  17|10.99| 8.5|8.89| 0.0|67.9|98.7|\n",
      "|  12|  18|10.66|8.62|8.89| 0.1|68.0|98.7|\n",
      "|  12|  19|11.63|8.77|8.89|-0.1|67.9|98.7|\n",
      "|  12|  20|12.23|8.95|8.89| 6.3|74.2|98.7|\n",
      "|  12|  21|11.79|9.08|8.89|10.5|84.7|98.7|\n",
      "|  12|  22|11.29|9.18|8.89|13.8|98.5|98.7|\n",
      "|  12|  23|10.63|9.25|8.89| 0.4|98.9|98.7|\n",
      "|  12|  24|15.33| 9.5|8.89|-0.1|98.8|98.7|\n",
      "|  12|  25|12.54|9.62|8.89| 0.0|98.8|98.7|\n",
      "|  12|  26|10.13|9.64|8.89| 0.0|98.8|98.7|\n",
      "|  12|  27| 5.19|9.48|8.89| 0.0|98.8|98.7|\n",
      "|  12|  28| 7.25| 9.4|8.89|-0.1|98.7|98.7|\n",
      "|  12|  29| 4.05|9.21|8.89| 0.0|98.7|98.7|\n",
      "|  12|  30| 4.13|9.04|8.89| 0.0|98.7|98.7|\n",
      "|  12|  31| 4.41|8.89|8.89| 0.0|98.7|98.7|\n",
      "|   1|   1| 3.48|3.48|4.93|-0.3|-0.3|98.0|\n",
      "+----+----+-----+----+----+----+----+----+\n",
      "only showing top 32 rows\n",
      "\n"
     ]
    }
   ],
   "source": [
    "jour    = Window.partitionBy('mois')\n",
    "jourOby = Window.partitionBy('mois').orderBy('jour')\n",
    "meteoMM.where(\"annee = 2019\")\\\n",
    "       .select('mois','jour',\n",
    "          col('temperature').alias('temp'),\n",
    "          round(avg('temperature').over(jourOby),2).alias('s1'),\n",
    "          round(avg('temperature').over(jour),2).alias('s2'),\n",
    "          col('precipitations').alias('prec'),\n",
    "          round(sum('precipitations').over(jourOby),2).alias('s3'),\n",
    "          round(sum('precipitations').over(jour),2).alias('s4'))\\\n",
    "       .show(32)"
   ]
  },
  {
   "cell_type": "code",
   "execution_count": 21,
   "metadata": {},
   "outputs": [
    {
     "name": "stdout",
     "output_type": "stream",
     "text": [
      "+----+----+----+----+-----+\n",
      "|mois|jour|prec|  s3|   s4|\n",
      "+----+----+----+----+-----+\n",
      "|   1|   1|-0.3|-0.3| -0.3|\n",
      "|   1|   2|-0.1|-0.4| -0.4|\n",
      "|   1|   3| 0.0|-0.4| -0.4|\n",
      "|   1|   4| 0.0|-0.4| -0.4|\n",
      "|   1|   5| 0.0|-0.4| -0.4|\n",
      "|   1|   6| 0.0|-0.4| -0.4|\n",
      "|   1|   7| 0.0|-0.4| -0.4|\n",
      "|   1|   8| 0.3|-0.1| -0.1|\n",
      "|   1|   9| 0.1| 0.0|  0.0|\n",
      "|   1|  10| 0.0| 0.0|  0.0|\n",
      "|   1|  11| 0.0| 0.0|  0.0|\n",
      "|   1|  12|-0.3|-0.3| -0.3|\n",
      "|   1|  13| 2.2| 1.9|  1.9|\n",
      "|   1|  14| 0.8| 2.7|  2.7|\n",
      "|   1|  15| 0.0| 2.7|  2.7|\n",
      "|   1|  16| 0.0| 2.7|  2.7|\n",
      "|   1|  17| 2.8| 5.5|  5.5|\n",
      "|   1|  18|-0.3| 5.2|  5.2|\n",
      "|   1|  19|-0.3| 4.9|  4.9|\n",
      "|   1|  20| 0.6| 5.5|  5.5|\n",
      "|   1|  21|-0.1| 5.4|  5.4|\n",
      "|   1|  22| 7.1|12.5| 12.5|\n",
      "|   1|  23| 9.4|21.9| 21.9|\n",
      "|   1|  24| 0.0|21.9| 21.9|\n",
      "|   1|  25|-0.2|21.7| 21.7|\n",
      "|   1|  26|-0.2|21.5| 21.5|\n",
      "|   1|  27| 5.6|27.1| 27.1|\n",
      "|   1|  28|13.7|40.8| 40.8|\n",
      "|   1|  29| 4.2|45.0| 45.0|\n",
      "|   1|  30| 8.8|53.8| 53.8|\n",
      "|   1|  31|44.2|98.0| 98.0|\n",
      "|   2|   1|15.2|15.2|113.2|\n",
      "|   2|   2| 6.9|22.1|120.1|\n",
      "|   2|   3| 0.0|22.1|120.1|\n",
      "|   2|   4| 4.9|27.0|125.0|\n",
      "+----+----+----+----+-----+\n",
      "only showing top 35 rows\n",
      "\n"
     ]
    }
   ],
   "source": [
    "jourPOby = Window.partitionBy('mois').orderBy('jour')\n",
    "jourOby  = Window.orderBy('mois','jour')\n",
    "meteoMM.where(\"annee = 2019\")\\\n",
    "       .select('mois','jour',\n",
    "          col('precipitations').alias('prec'),\n",
    "          round(sum('precipitations').over(jourPOby),2).alias('s3'),\n",
    "          round(sum('precipitations').over(jourOby),2).alias('s4'))\\\n",
    "       .show(35)"
   ]
  },
  {
   "cell_type": "markdown",
   "metadata": {},
   "source": [
    "# rowsBetween\n",
    "\n",
    "<img src=\"https://raw.githubusercontent.com/rbizoi/AnalyserLesDonneesAvecSpark/main/DataFrameSpark/images/M06-12.png\" width=\"400\">  "
   ]
  },
  {
   "cell_type": "code",
   "execution_count": 22,
   "metadata": {},
   "outputs": [],
   "source": [
    "jourOby = Window.partitionBy('mois')\\\n",
    "                .orderBy('jour')\\\n",
    "                .rowsBetween(Window.unboundedPreceding,Window.currentRow)"
   ]
  },
  {
   "cell_type": "code",
   "execution_count": 23,
   "metadata": {},
   "outputs": [
    {
     "name": "stdout",
     "output_type": "stream",
     "text": [
      "+----+----+----+----+\n",
      "|mois|jour|prec|  s3|\n",
      "+----+----+----+----+\n",
      "|  12|   1|-0.1|-0.1|\n",
      "|  12|   2|-0.1|-0.2|\n",
      "|  12|   3| 0.0|-0.2|\n",
      "|  12|   4| 0.0|-0.2|\n",
      "|  12|   5|-0.1|-0.3|\n",
      "|  12|   6| 0.0|-0.3|\n",
      "|  12|   7|-0.1|-0.4|\n",
      "|  12|   8| 5.2| 4.8|\n",
      "|  12|   9| 5.4|10.2|\n",
      "|  12|  10| 0.0|10.2|\n",
      "|  12|  11| 7.8|18.0|\n",
      "|  12|  12|25.0|43.0|\n",
      "|  12|  13|25.0|68.0|\n",
      "|  12|  14|-0.1|67.9|\n",
      "|  12|  15| 0.0|67.9|\n",
      "|  12|  16| 0.0|67.9|\n",
      "|  12|  17| 0.0|67.9|\n",
      "|  12|  18| 0.1|68.0|\n",
      "|  12|  19|-0.1|67.9|\n",
      "|  12|  20| 6.3|74.2|\n",
      "|  12|  21|10.5|84.7|\n",
      "|  12|  22|13.8|98.5|\n",
      "|  12|  23| 0.4|98.9|\n",
      "|  12|  24|-0.1|98.8|\n",
      "|  12|  25| 0.0|98.8|\n",
      "|  12|  26| 0.0|98.8|\n",
      "|  12|  27| 0.0|98.8|\n",
      "|  12|  28|-0.1|98.7|\n",
      "|  12|  29| 0.0|98.7|\n",
      "|  12|  30| 0.0|98.7|\n",
      "|  12|  31| 0.0|98.7|\n",
      "|   1|   1|-0.3|-0.3|\n",
      "+----+----+----+----+\n",
      "only showing top 32 rows\n",
      "\n"
     ]
    }
   ],
   "source": [
    "meteoMM.where(\"annee = 2019\")\\\n",
    "       .select('mois','jour',\n",
    "          col('precipitations').alias('prec'),\n",
    "          round(sum('precipitations')\\\n",
    "                   .over(jourOby),2).alias('s3'))\\\n",
    "       .show(32)"
   ]
  },
  {
   "cell_type": "code",
   "execution_count": 24,
   "metadata": {},
   "outputs": [
    {
     "name": "stdout",
     "output_type": "stream",
     "text": [
      "+----+-----+-----+-----+-----+\n",
      "|mois| temp|   s1| prec|   s2|\n",
      "+----+-----+-----+-----+-----+\n",
      "|   1| 4.93| 6.66| 98.0|128.9|\n",
      "|   2| 8.39| 7.96| 30.9|167.0|\n",
      "|   3|10.56|10.38| 38.1|224.4|\n",
      "|   4|12.19|12.32|155.4|286.1|\n",
      "|   5|14.21|15.23| 92.6|353.5|\n",
      "|   6|19.28|18.73|105.5|259.4|\n",
      "|   7|22.69|21.16| 61.3|223.7|\n",
      "|   8|21.52| 21.1| 56.9|149.6|\n",
      "|   9|19.09|18.72| 31.4|182.7|\n",
      "|  10|15.56|14.67| 94.4|491.1|\n",
      "|  11| 9.37|11.27|365.3|558.4|\n",
      "|  12| 8.89| 9.13| 98.7|464.0|\n",
      "+----+-----+-----+-----+-----+\n",
      "\n"
     ]
    }
   ],
   "source": [
    "jour = Window.orderBy('mois').rowsBetween(-1, 1)\n",
    "meteoMM.where('annee = 2019')\\\n",
    "       .groupBy('mois')\\\n",
    "       .agg( round(avg('temperature'),2).alias('temp'),\n",
    "             round(sum('precipitations'),2).alias('prec'))\\\n",
    "       .select('mois','temp',\n",
    "          round(avg('temp').over(jour),2).alias('s1'),\n",
    "          'prec',\n",
    "          round(sum('prec').over(jour),2).alias('s2'))\\\n",
    "       .show(32)"
   ]
  },
  {
   "cell_type": "code",
   "execution_count": null,
   "metadata": {},
   "outputs": [],
   "source": []
  },
  {
   "cell_type": "code",
   "execution_count": null,
   "metadata": {},
   "outputs": [],
   "source": []
  },
  {
   "cell_type": "code",
   "execution_count": null,
   "metadata": {},
   "outputs": [],
   "source": []
  }
 ],
 "metadata": {
  "kernelspec": {
   "display_name": "Python 3",
   "language": "python",
   "name": "python3"
  },
  "language_info": {
   "codemirror_mode": {
    "name": "ipython",
    "version": 3
   },
   "file_extension": ".py",
   "mimetype": "text/x-python",
   "name": "python",
   "nbconvert_exporter": "python",
   "pygments_lexer": "ipython3",
   "version": "3.8.8"
  },
  "toc": {
   "base_numbering": 1,
   "nav_menu": {},
   "number_sections": true,
   "sideBar": true,
   "skip_h1_title": false,
   "title_cell": "Table of Contents",
   "title_sidebar": "Contents",
   "toc_cell": true,
   "toc_position": {},
   "toc_section_display": true,
   "toc_window_display": true
  }
 },
 "nbformat": 4,
 "nbformat_minor": 4
}
