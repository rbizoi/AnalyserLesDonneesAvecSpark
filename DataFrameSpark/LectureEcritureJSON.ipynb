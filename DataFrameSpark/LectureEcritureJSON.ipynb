{
 "cells": [
  {
   "cell_type": "markdown",
   "metadata": {
    "toc": true
   },
   "source": [
    "<h1>Table of Contents<span class=\"tocSkip\"></span></h1>\n",
    "<div class=\"toc\"><ul class=\"toc-item\"><li><span><a href=\"#Parkings-de-Strasbourg\" data-toc-modified-id=\"Parkings-de-Strasbourg-1\"><span class=\"toc-item-num\">1&nbsp;&nbsp;</span>Parkings de Strasbourg</a></span></li><li><span><a href=\"#Lecture-URL-Stations-et-sauvegarde\" data-toc-modified-id=\"Lecture-URL-Stations-et-sauvegarde-2\"><span class=\"toc-item-num\">2&nbsp;&nbsp;</span>Lecture URL Stations et sauvegarde</a></span></li><li><span><a href=\"#Lecture-Stations\" data-toc-modified-id=\"Lecture-Stations-3\"><span class=\"toc-item-num\">3&nbsp;&nbsp;</span>Lecture Stations</a></span></li><li><span><a href=\"#Livraison-des-paniers\" data-toc-modified-id=\"Livraison-des-paniers-4\"><span class=\"toc-item-num\">4&nbsp;&nbsp;</span>Livraison des paniers</a></span></li></ul></div>"
   ]
  },
  {
   "cell_type": "code",
   "execution_count": 1,
   "metadata": {
    "ExecuteTime": {
     "end_time": "2021-12-14T07:59:17.384122Z",
     "start_time": "2021-12-14T07:59:17.372243Z"
    }
   },
   "outputs": [],
   "source": [
    "import os\n",
    "from pyspark.sql.functions import *\n",
    "from pyspark.sql.types     import StructType, \\\n",
    "     StructField, FloatType, \\\n",
    "     IntegerType, StringType"
   ]
  },
  {
   "cell_type": "code",
   "execution_count": 3,
   "metadata": {
    "ExecuteTime": {
     "end_time": "2021-12-14T08:23:40.228595Z",
     "start_time": "2021-12-14T08:23:40.216628Z"
    }
   },
   "outputs": [
    {
     "data": {
      "text/html": [
       "\n",
       "            <div>\n",
       "                <p><b>SparkSession - hive</b></p>\n",
       "                \n",
       "        <div>\n",
       "            <p><b>SparkContext</b></p>\n",
       "\n",
       "            <p><a href=\"http://athena.olimp.fr:4040\">Spark UI</a></p>\n",
       "\n",
       "            <dl>\n",
       "              <dt>Version</dt>\n",
       "                <dd><code>v3.2.0</code></dd>\n",
       "              <dt>Master</dt>\n",
       "                <dd><code>local[*]</code></dd>\n",
       "              <dt>AppName</dt>\n",
       "                <dd><code>PySparkShell</code></dd>\n",
       "            </dl>\n",
       "        </div>\n",
       "        \n",
       "            </div>\n",
       "        "
      ],
      "text/plain": [
       "<pyspark.sql.session.SparkSession at 0x20f30a127f0>"
      ]
     },
     "execution_count": 3,
     "metadata": {},
     "output_type": "execute_result"
    }
   ],
   "source": [
    "spark"
   ]
  },
  {
   "cell_type": "code",
   "execution_count": 3,
   "metadata": {
    "ExecuteTime": {
     "end_time": "2021-12-13T22:44:43.548055Z",
     "start_time": "2021-12-13T22:44:43.507133Z"
    }
   },
   "outputs": [
    {
     "name": "stdout",
     "output_type": "stream",
     "text": [
      " Le volume dans le lecteur C s'appelle Windows\n",
      " Le num‚ro de s‚rie du volume est 56E1-170F\n",
      "\n",
      " R‚pertoire de C:\\Formation\\spark\n",
      "\n",
      "13/12/2021  23:39    <DIR>          .\n",
      "13/12/2021  23:39    <DIR>          ..\n",
      "13/12/2021  22:15    <DIR>          .ipynb_checkpoints\n",
      "07/12/2021  10:05            28ÿ148 01-API.DataFrames-colonnes-projections.ipynb\n",
      "07/12/2021  10:29            17ÿ476 02-API.DataFrames-Restrictions.ipynb\n",
      "07/12/2021  17:15            51ÿ239 03-API.DataFrames-agregations.ipynb\n",
      "07/12/2021  11:28            32ÿ298 04-API.DataFrames-jointures.ipynb\n",
      "07/12/2021  11:37            44ÿ116 05-API.DataFrames-donnees-manquantes.ipynb\n",
      "07/12/2021  12:07            25ÿ872 05-API.DataFrames-SQL.ipynb\n",
      "07/12/2021  11:54               674 derby.log\n",
      "13/12/2021  20:50    <DIR>          donnees\n",
      "13/12/2021  17:34               857 get-stations.py\n",
      "13/12/2021  17:39            24ÿ597 L'ex‚cution d'une application pyspark .ipynb\n",
      "13/12/2021  23:39            48ÿ036 LectureEcritureJSON.ipynb\n",
      "07/12/2021  11:54    <DIR>          metastore_db\n",
      "07/12/2021  08:41             5ÿ865 postesSynop.parquet\n",
      "07/12/2021  12:06    <DIR>          spark-warehouse\n",
      "07/12/2021  08:49            10ÿ198 Untitled.ipynb\n",
      "              12 fichier(s)          289ÿ376 octets\n",
      "               6 R‚p(s)  84ÿ936ÿ224ÿ768 octets libres\n"
     ]
    }
   ],
   "source": [
    "!dir"
   ]
  },
  {
   "cell_type": "code",
   "execution_count": 4,
   "metadata": {
    "ExecuteTime": {
     "end_time": "2021-12-13T22:44:43.624785Z",
     "start_time": "2021-12-13T22:44:43.553012Z"
    }
   },
   "outputs": [
    {
     "name": "stderr",
     "output_type": "stream",
     "text": [
      "Un sous-r‚pertoire ou un fichier donnees existe d‚j….\n",
      "Un sous-r‚pertoire ou un fichier donnees\\json existe d‚j….\n"
     ]
    }
   ],
   "source": [
    "!mkdir donnees\n",
    "!mkdir donnees\\json"
   ]
  },
  {
   "cell_type": "code",
   "execution_count": 5,
   "metadata": {
    "ExecuteTime": {
     "end_time": "2021-12-13T22:44:43.640734Z",
     "start_time": "2021-12-13T22:44:43.628757Z"
    }
   },
   "outputs": [],
   "source": [
    "import json\n",
    "import urllib.request\n",
    "from pyspark.sql.types import *\n",
    "from pyspark.sql.functions import *"
   ]
  },
  {
   "cell_type": "markdown",
   "metadata": {},
   "source": [
    "# Parkings de Strasbourg"
   ]
  },
  {
   "cell_type": "code",
   "execution_count": 6,
   "metadata": {
    "ExecuteTime": {
     "end_time": "2021-12-13T22:44:43.656103Z",
     "start_time": "2021-12-13T22:44:43.643703Z"
    }
   },
   "outputs": [],
   "source": [
    "url = 'https://data.strasbourg.eu/api/records/1.0/search/?dataset=occupation-parkings-temps-reel&q=&lang=fr&rows=28'"
   ]
  },
  {
   "cell_type": "code",
   "execution_count": 8,
   "metadata": {
    "ExecuteTime": {
     "end_time": "2021-12-13T22:45:28.526654Z",
     "start_time": "2021-12-13T22:45:22.577891Z"
    }
   },
   "outputs": [
    {
     "name": "stdout",
     "output_type": "stream",
     "text": [
      "+----+---------------+-----+-----------+----------+-----+--------------------+-----+\n",
      "|etat|etat_descriptif|ident|    idsurfs|infousager|libre|         nom_parking|total|\n",
      "+----+---------------+-----+-----------+----------+-----+--------------------+-----+\n",
      "|   1|         Ouvert|   10| 1382_DEP_8|       510|  518|  Parking Gare Wodli|  955|\n",
      "|   2|          Fermé|    1|1400_DEP_26|     FERME| 3172|      Parking Zénith| 3175|\n",
      "|   2|          Fermé|    3| 1378_DEP_4|     FERME|    0|Parking Centre Op...|  460|\n",
      "|   1|         Ouvert|    4| 1376_DEP_2|       450|  457|   Parking Baggersee|  460|\n",
      "|   1|         Ouvert|    2| 1377_DEP_3|       150|  151|   Parking Bateliers|  267|\n",
      "+----+---------------+-----+-----------+----------+-----+--------------------+-----+\n",
      "only showing top 5 rows\n",
      "\n"
     ]
    }
   ],
   "source": [
    "donnees = spark.read.json(sc.parallelize(\n",
    "            [x['fields'] for x in\n",
    "                  json.loads(urllib.request.urlopen(url\n",
    "                         ).read().decode())['records']\n",
    "                ]))\n",
    "donnees.select('*').show(5)"
   ]
  },
  {
   "cell_type": "code",
   "execution_count": 9,
   "metadata": {
    "ExecuteTime": {
     "end_time": "2021-12-13T22:46:46.524647Z",
     "start_time": "2021-12-13T22:46:41.992129Z"
    }
   },
   "outputs": [],
   "source": [
    "fichier = 'donnees/json/parking_stras_json'\n",
    "format  = 'json'\n",
    "donnees.write.mode('overwrite').format(format).save(fichier)"
   ]
  },
  {
   "cell_type": "code",
   "execution_count": 10,
   "metadata": {
    "ExecuteTime": {
     "end_time": "2021-12-13T22:48:43.504987Z",
     "start_time": "2021-12-13T22:48:43.178906Z"
    }
   },
   "outputs": [
    {
     "name": "stdout",
     "output_type": "stream",
     "text": [
      "root\n",
      " |-- etat: long (nullable = true)\n",
      " |-- etat_descriptif: string (nullable = true)\n",
      " |-- ident: long (nullable = true)\n",
      " |-- idsurfs: string (nullable = true)\n",
      " |-- infousager: string (nullable = true)\n",
      " |-- libre: long (nullable = true)\n",
      " |-- nom_parking: string (nullable = true)\n",
      " |-- total: long (nullable = true)\n",
      "\n"
     ]
    }
   ],
   "source": [
    "parkings = spark.read.format('json').option('mergeSchema', 'true').option('inferSchema','true').load('donnees/json/parking_stras_json').cache()\n",
    "parkings.printSchema()"
   ]
  },
  {
   "cell_type": "code",
   "execution_count": 11,
   "metadata": {
    "ExecuteTime": {
     "end_time": "2021-12-13T22:48:48.880147Z",
     "start_time": "2021-12-13T22:48:48.616878Z"
    }
   },
   "outputs": [
    {
     "name": "stdout",
     "output_type": "stream",
     "text": [
      "+----+---------------+-----+-----------+----------+-----+--------------------+-----+\n",
      "|etat|etat_descriptif|ident|    idsurfs|infousager|libre|         nom_parking|total|\n",
      "+----+---------------+-----+-----------+----------+-----+--------------------+-----+\n",
      "|   1|         Ouvert|   14|1385_DEP_11|       380|  385|Parking P2 Sebast...|  496|\n",
      "|   1|         Ouvert|   15|1393_DEP_19|        80|   84|Parking Robertsau...|   92|\n",
      "|   1|         Ouvert|   16|1389_DEP_15|     LIBRE|  190|Parking Krimmeri ...|  190|\n",
      "+----+---------------+-----+-----------+----------+-----+--------------------+-----+\n",
      "only showing top 3 rows\n",
      "\n"
     ]
    }
   ],
   "source": [
    "parkings.show(3)"
   ]
  },
  {
   "cell_type": "markdown",
   "metadata": {},
   "source": [
    "# Lecture URL Stations et sauvegarde"
   ]
  },
  {
   "cell_type": "code",
   "execution_count": 161,
   "metadata": {
    "ExecuteTime": {
     "end_time": "2021-12-13T21:55:12.303846Z",
     "start_time": "2021-12-13T21:55:12.285870Z"
    }
   },
   "outputs": [],
   "source": [
    "schema = StructType([\n",
    "        StructField('number',                StringType()  , True),\n",
    "        StructField('contract_name',         StringType()  , True),\n",
    "        StructField('name',                  StringType()  , True),\n",
    "        StructField('address',               StringType()  , True),\n",
    "        StructField('position',              StringType()  , True),\n",
    "        StructField('banking',               StringType()  , True),\n",
    "        StructField('bonus',                 StringType()  , True),\n",
    "        StructField('bike_stands',           IntegerType() , True),\n",
    "        StructField('available_bike_stands', IntegerType() , True),\n",
    "        StructField('available_bikes',       IntegerType() , True),\n",
    "        StructField('status',                StringType()  , True),\n",
    "        StructField('last_update',           StringType()  , True)])"
   ]
  },
  {
   "cell_type": "code",
   "execution_count": 162,
   "metadata": {
    "ExecuteTime": {
     "end_time": "2021-12-13T21:55:18.512381Z",
     "start_time": "2021-12-13T21:55:14.013971Z"
    }
   },
   "outputs": [
    {
     "data": {
      "text/html": [
       "<div>\n",
       "<style scoped>\n",
       "    .dataframe tbody tr th:only-of-type {\n",
       "        vertical-align: middle;\n",
       "    }\n",
       "\n",
       "    .dataframe tbody tr th {\n",
       "        vertical-align: top;\n",
       "    }\n",
       "\n",
       "    .dataframe thead th {\n",
       "        text-align: right;\n",
       "    }\n",
       "</style>\n",
       "<table border=\"1\" class=\"dataframe\">\n",
       "  <thead>\n",
       "    <tr style=\"text-align: right;\">\n",
       "      <th></th>\n",
       "      <th>number</th>\n",
       "      <th>contract_name</th>\n",
       "      <th>name</th>\n",
       "      <th>address</th>\n",
       "      <th>position</th>\n",
       "      <th>banking</th>\n",
       "      <th>bonus</th>\n",
       "      <th>bike_stands</th>\n",
       "      <th>available_bike_stands</th>\n",
       "      <th>available_bikes</th>\n",
       "      <th>status</th>\n",
       "      <th>last_update</th>\n",
       "    </tr>\n",
       "  </thead>\n",
       "  <tbody>\n",
       "    <tr>\n",
       "      <th>0</th>\n",
       "      <td>9087</td>\n",
       "      <td>marseille</td>\n",
       "      <td>9087-MAZARGUES</td>\n",
       "      <td>MAZARGUES - ROND POINT DE MAZARGUES (OBELISQUE)</td>\n",
       "      <td>{lng=5.403244616491982, lat=43.250903869637334}</td>\n",
       "      <td>true</td>\n",
       "      <td>false</td>\n",
       "      <td>21</td>\n",
       "      <td>18</td>\n",
       "      <td>3</td>\n",
       "      <td>OPEN</td>\n",
       "      <td>2021-12-13 22:53:14</td>\n",
       "    </tr>\n",
       "    <tr>\n",
       "      <th>1</th>\n",
       "      <td>55</td>\n",
       "      <td>toulouse</td>\n",
       "      <td>00055 - SAINT-SERNIN - G. ARNOULT</td>\n",
       "      <td>2 RUE GATIEN ARNOULT</td>\n",
       "      <td>{lng=1.4410035987262, lat=43.6089519604964}</td>\n",
       "      <td>true</td>\n",
       "      <td>false</td>\n",
       "      <td>15</td>\n",
       "      <td>5</td>\n",
       "      <td>10</td>\n",
       "      <td>OPEN</td>\n",
       "      <td>2021-12-13 22:45:58</td>\n",
       "    </tr>\n",
       "    <tr>\n",
       "      <th>2</th>\n",
       "      <td>59</td>\n",
       "      <td>ljubljana</td>\n",
       "      <td>LIDL BEŽIGRAD</td>\n",
       "      <td>Bežigrad 11</td>\n",
       "      <td>{lng=14.506854, lat=46.063797}</td>\n",
       "      <td>false</td>\n",
       "      <td>false</td>\n",
       "      <td>20</td>\n",
       "      <td>18</td>\n",
       "      <td>2</td>\n",
       "      <td>OPEN</td>\n",
       "      <td>2021-12-13 22:48:10</td>\n",
       "    </tr>\n",
       "    <tr>\n",
       "      <th>3</th>\n",
       "      <td>2010</td>\n",
       "      <td>lyon</td>\n",
       "      <td>2010 - CONFLUENCE / DARSE</td>\n",
       "      <td>ANGLE ALLEE ANDRE MURE ET QUAI ANTOINE RIBOUD</td>\n",
       "      <td>{lng=4.815747, lat=45.743317}</td>\n",
       "      <td>true</td>\n",
       "      <td>false</td>\n",
       "      <td>22</td>\n",
       "      <td>3</td>\n",
       "      <td>17</td>\n",
       "      <td>OPEN</td>\n",
       "      <td>2021-12-13 22:45:40</td>\n",
       "    </tr>\n",
       "    <tr>\n",
       "      <th>4</th>\n",
       "      <td>5015</td>\n",
       "      <td>lyon</td>\n",
       "      <td>5015 - FULCHIRON</td>\n",
       "      <td>Devant le n°41 rue de la Quarantaine</td>\n",
       "      <td>{lng=4.821662, lat=45.75197}</td>\n",
       "      <td>true</td>\n",
       "      <td>false</td>\n",
       "      <td>19</td>\n",
       "      <td>0</td>\n",
       "      <td>19</td>\n",
       "      <td>OPEN</td>\n",
       "      <td>2021-12-13 22:45:11</td>\n",
       "    </tr>\n",
       "  </tbody>\n",
       "</table>\n",
       "</div>"
      ],
      "text/plain": [
       "  number contract_name                               name  \\\n",
       "0   9087     marseille                     9087-MAZARGUES   \n",
       "1     55      toulouse  00055 - SAINT-SERNIN - G. ARNOULT   \n",
       "2     59     ljubljana                      LIDL BEŽIGRAD   \n",
       "3   2010          lyon          2010 - CONFLUENCE / DARSE   \n",
       "4   5015          lyon                   5015 - FULCHIRON   \n",
       "\n",
       "                                           address  \\\n",
       "0  MAZARGUES - ROND POINT DE MAZARGUES (OBELISQUE)   \n",
       "1                             2 RUE GATIEN ARNOULT   \n",
       "2                                      Bežigrad 11   \n",
       "3    ANGLE ALLEE ANDRE MURE ET QUAI ANTOINE RIBOUD   \n",
       "4             Devant le n°41 rue de la Quarantaine   \n",
       "\n",
       "                                          position banking  bonus  \\\n",
       "0  {lng=5.403244616491982, lat=43.250903869637334}    true  false   \n",
       "1      {lng=1.4410035987262, lat=43.6089519604964}    true  false   \n",
       "2                   {lng=14.506854, lat=46.063797}   false  false   \n",
       "3                    {lng=4.815747, lat=45.743317}    true  false   \n",
       "4                     {lng=4.821662, lat=45.75197}    true  false   \n",
       "\n",
       "   bike_stands  available_bike_stands  available_bikes status  \\\n",
       "0           21                     18                3   OPEN   \n",
       "1           15                      5               10   OPEN   \n",
       "2           20                     18                2   OPEN   \n",
       "3           22                      3               17   OPEN   \n",
       "4           19                      0               19   OPEN   \n",
       "\n",
       "          last_update  \n",
       "0 2021-12-13 22:53:14  \n",
       "1 2021-12-13 22:45:58  \n",
       "2 2021-12-13 22:48:10  \n",
       "3 2021-12-13 22:45:40  \n",
       "4 2021-12-13 22:45:11  "
      ]
     },
     "execution_count": 162,
     "metadata": {},
     "output_type": "execute_result"
    }
   ],
   "source": [
    "API_KEY = \"e89ad7b276374a9d0a5fd75f8a9402c0e765cc08\"\n",
    "url = \"https://api.jcdecaux.com/vls/v1/stations?apiKey={}\".format(API_KEY)\n",
    "donnees =  spark.createDataFrame(sc.parallelize([\n",
    "                x for x in json.loads(urllib.request.urlopen(url).read().decode())\n",
    "                ]),schema).select('number',               \n",
    "                                  'contract_name',        \n",
    "                                  'name',                 \n",
    "                                  'address',              \n",
    "                                  'position',             \n",
    "                                  'banking',              \n",
    "                                  'bonus',                \n",
    "                                  'bike_stands',          \n",
    "                                  'available_bike_stands',\n",
    "                                  'available_bikes',      \n",
    "                                  'status',               \n",
    "                                  from_unixtime(col('last_update')/1000).cast(TimestampType()).alias('last_update'))\n",
    "\n",
    "donnees.toPandas().head()"
   ]
  },
  {
   "cell_type": "code",
   "execution_count": 163,
   "metadata": {
    "ExecuteTime": {
     "end_time": "2021-12-13T21:55:18.528129Z",
     "start_time": "2021-12-13T21:55:18.513378Z"
    }
   },
   "outputs": [
    {
     "name": "stdout",
     "output_type": "stream",
     "text": [
      "root\n",
      " |-- number: string (nullable = true)\n",
      " |-- contract_name: string (nullable = true)\n",
      " |-- name: string (nullable = true)\n",
      " |-- address: string (nullable = true)\n",
      " |-- position: string (nullable = true)\n",
      " |-- banking: string (nullable = true)\n",
      " |-- bonus: string (nullable = true)\n",
      " |-- bike_stands: integer (nullable = true)\n",
      " |-- available_bike_stands: integer (nullable = true)\n",
      " |-- available_bikes: integer (nullable = true)\n",
      " |-- status: string (nullable = true)\n",
      " |-- last_update: timestamp (nullable = true)\n",
      "\n"
     ]
    }
   ],
   "source": [
    "donnees.printSchema()"
   ]
  },
  {
   "cell_type": "code",
   "execution_count": 164,
   "metadata": {
    "ExecuteTime": {
     "end_time": "2021-12-13T21:55:22.666234Z",
     "start_time": "2021-12-13T21:55:18.530097Z"
    }
   },
   "outputs": [],
   "source": [
    "fichier = 'donnees/json/stations'\n",
    "format  = 'json'\n",
    "donnees.write.mode('overwrite').format(format).save(fichier)"
   ]
  },
  {
   "cell_type": "markdown",
   "metadata": {
    "ExecuteTime": {
     "end_time": "2021-12-13T22:00:49.899819Z",
     "start_time": "2021-12-13T22:00:49.894833Z"
    }
   },
   "source": [
    "# Lecture Stations"
   ]
  },
  {
   "cell_type": "code",
   "execution_count": 166,
   "metadata": {
    "ExecuteTime": {
     "end_time": "2021-12-13T21:59:46.693192Z",
     "start_time": "2021-12-13T21:59:46.686207Z"
    }
   },
   "outputs": [],
   "source": [
    "schema = StructType([\n",
    "        StructField('number'               , StringType()   , True),\n",
    "        StructField('contract_name'        , StringType()   , True),\n",
    "        StructField('name'                 , StringType()   , True),\n",
    "        StructField('address'              , StringType()   , True),\n",
    "        StructField('position'             , StringType()   , True),\n",
    "        StructField('banking'              , StringType()   , True),\n",
    "        StructField('bonus'                , StringType()   , True),\n",
    "        StructField('bike_stands'          , IntegerType()  , True),\n",
    "        StructField('available_bike_stands', IntegerType()  , True),\n",
    "        StructField('available_bikes'      , IntegerType()  , True),\n",
    "        StructField('status'               , StringType()   , True),\n",
    "        StructField('last_update'          , TimestampType(), True)])"
   ]
  },
  {
   "cell_type": "code",
   "execution_count": 167,
   "metadata": {
    "ExecuteTime": {
     "end_time": "2021-12-13T21:59:47.501157Z",
     "start_time": "2021-12-13T21:59:47.469221Z"
    }
   },
   "outputs": [
    {
     "name": "stdout",
     "output_type": "stream",
     "text": [
      "root\n",
      " |-- number: string (nullable = true)\n",
      " |-- contract_name: string (nullable = true)\n",
      " |-- name: string (nullable = true)\n",
      " |-- address: string (nullable = true)\n",
      " |-- position: string (nullable = true)\n",
      " |-- banking: string (nullable = true)\n",
      " |-- bonus: string (nullable = true)\n",
      " |-- bike_stands: integer (nullable = true)\n",
      " |-- available_bike_stands: integer (nullable = true)\n",
      " |-- available_bikes: integer (nullable = true)\n",
      " |-- status: string (nullable = true)\n",
      " |-- last_update: timestamp (nullable = true)\n",
      "\n"
     ]
    }
   ],
   "source": [
    "stations = spark.read.format('json').option('mergeSchema', 'true').schema(schema).load('donnees/json/stations').cache()\n",
    "stations.printSchema()"
   ]
  },
  {
   "cell_type": "code",
   "execution_count": 169,
   "metadata": {
    "ExecuteTime": {
     "end_time": "2021-12-13T22:00:32.880999Z",
     "start_time": "2021-12-13T22:00:32.406605Z"
    }
   },
   "outputs": [
    {
     "data": {
      "text/html": [
       "<div>\n",
       "<style scoped>\n",
       "    .dataframe tbody tr th:only-of-type {\n",
       "        vertical-align: middle;\n",
       "    }\n",
       "\n",
       "    .dataframe tbody tr th {\n",
       "        vertical-align: top;\n",
       "    }\n",
       "\n",
       "    .dataframe thead th {\n",
       "        text-align: right;\n",
       "    }\n",
       "</style>\n",
       "<table border=\"1\" class=\"dataframe\">\n",
       "  <thead>\n",
       "    <tr style=\"text-align: right;\">\n",
       "      <th></th>\n",
       "      <th>number</th>\n",
       "      <th>contract_name</th>\n",
       "      <th>name</th>\n",
       "      <th>address</th>\n",
       "      <th>position</th>\n",
       "      <th>banking</th>\n",
       "      <th>bonus</th>\n",
       "      <th>bike_stands</th>\n",
       "      <th>available_bike_stands</th>\n",
       "      <th>available_bikes</th>\n",
       "      <th>status</th>\n",
       "      <th>last_update</th>\n",
       "    </tr>\n",
       "  </thead>\n",
       "  <tbody>\n",
       "    <tr>\n",
       "      <th>0</th>\n",
       "      <td>5008</td>\n",
       "      <td>lyon</td>\n",
       "      <td>5008 - SAINTE-IRÉNÉE</td>\n",
       "      <td>Place Sainte Irénée</td>\n",
       "      <td>{lng=4.812427, lat=45.754978}</td>\n",
       "      <td>false</td>\n",
       "      <td>true</td>\n",
       "      <td>20</td>\n",
       "      <td>15</td>\n",
       "      <td>5</td>\n",
       "      <td>OPEN</td>\n",
       "      <td>2021-12-13 22:48:25</td>\n",
       "    </tr>\n",
       "    <tr>\n",
       "      <th>1</th>\n",
       "      <td>16</td>\n",
       "      <td>namur</td>\n",
       "      <td>016 - PLACE DE WALLONIE</td>\n",
       "      <td>016 - PLACE DE WALLONIE - PLACE DE LA WALLONIE</td>\n",
       "      <td>{lng=4.87266, lat=50.45602}</td>\n",
       "      <td>true</td>\n",
       "      <td>false</td>\n",
       "      <td>15</td>\n",
       "      <td>7</td>\n",
       "      <td>8</td>\n",
       "      <td>OPEN</td>\n",
       "      <td>2021-12-13 22:52:26</td>\n",
       "    </tr>\n",
       "    <tr>\n",
       "      <th>2</th>\n",
       "      <td>14</td>\n",
       "      <td>nantes</td>\n",
       "      <td>014-SAINT FÉLIX</td>\n",
       "      <td>35, Boulevard Amiral Courbet</td>\n",
       "      <td>{lng=-1.556133, lat=47.230334}</td>\n",
       "      <td>false</td>\n",
       "      <td>false</td>\n",
       "      <td>14</td>\n",
       "      <td>10</td>\n",
       "      <td>4</td>\n",
       "      <td>OPEN</td>\n",
       "      <td>2021-12-13 22:54:55</td>\n",
       "    </tr>\n",
       "    <tr>\n",
       "      <th>3</th>\n",
       "      <td>141</td>\n",
       "      <td>bruxelles</td>\n",
       "      <td>141 - GARE DU NORD/NOORDSTATION</td>\n",
       "      <td>GARE DU NORD/NOORDSTATION - PLACE SIMON BOLIVA...</td>\n",
       "      <td>{lng=4.358116, lat=50.860652}</td>\n",
       "      <td>false</td>\n",
       "      <td>false</td>\n",
       "      <td>42</td>\n",
       "      <td>12</td>\n",
       "      <td>30</td>\n",
       "      <td>OPEN</td>\n",
       "      <td>2021-12-13 22:54:06</td>\n",
       "    </tr>\n",
       "    <tr>\n",
       "      <th>4</th>\n",
       "      <td>248</td>\n",
       "      <td>bruxelles</td>\n",
       "      <td>248 - PRINCE DE LIGNE / PRINCE LIJN</td>\n",
       "      <td>PRINCE DE LIGNE / PRINCE LIJN - CHEE DE WATERL...</td>\n",
       "      <td>{lng=4.373631, lat=50.795704}</td>\n",
       "      <td>false</td>\n",
       "      <td>false</td>\n",
       "      <td>22</td>\n",
       "      <td>6</td>\n",
       "      <td>16</td>\n",
       "      <td>OPEN</td>\n",
       "      <td>2021-12-13 22:51:07</td>\n",
       "    </tr>\n",
       "  </tbody>\n",
       "</table>\n",
       "</div>"
      ],
      "text/plain": [
       "  number contract_name                                 name  \\\n",
       "0   5008          lyon                 5008 - SAINTE-IRÉNÉE   \n",
       "1     16         namur              016 - PLACE DE WALLONIE   \n",
       "2     14        nantes                      014-SAINT FÉLIX   \n",
       "3    141     bruxelles      141 - GARE DU NORD/NOORDSTATION   \n",
       "4    248     bruxelles  248 - PRINCE DE LIGNE / PRINCE LIJN   \n",
       "\n",
       "                                             address  \\\n",
       "0                                Place Sainte Irénée   \n",
       "1     016 - PLACE DE WALLONIE - PLACE DE LA WALLONIE   \n",
       "2                       35, Boulevard Amiral Courbet   \n",
       "3  GARE DU NORD/NOORDSTATION - PLACE SIMON BOLIVA...   \n",
       "4  PRINCE DE LIGNE / PRINCE LIJN - CHEE DE WATERL...   \n",
       "\n",
       "                         position banking  bonus  bike_stands  \\\n",
       "0   {lng=4.812427, lat=45.754978}   false   true           20   \n",
       "1     {lng=4.87266, lat=50.45602}    true  false           15   \n",
       "2  {lng=-1.556133, lat=47.230334}   false  false           14   \n",
       "3   {lng=4.358116, lat=50.860652}   false  false           42   \n",
       "4   {lng=4.373631, lat=50.795704}   false  false           22   \n",
       "\n",
       "   available_bike_stands  available_bikes status         last_update  \n",
       "0                     15                5   OPEN 2021-12-13 22:48:25  \n",
       "1                      7                8   OPEN 2021-12-13 22:52:26  \n",
       "2                     10                4   OPEN 2021-12-13 22:54:55  \n",
       "3                     12               30   OPEN 2021-12-13 22:54:06  \n",
       "4                      6               16   OPEN 2021-12-13 22:51:07  "
      ]
     },
     "execution_count": 169,
     "metadata": {},
     "output_type": "execute_result"
    }
   ],
   "source": [
    "stations.toPandas().head()"
   ]
  },
  {
   "cell_type": "markdown",
   "metadata": {},
   "source": [
    "# Livraison des paniers"
   ]
  },
  {
   "cell_type": "code",
   "execution_count": 130,
   "metadata": {
    "ExecuteTime": {
     "end_time": "2021-12-13T21:07:43.610370Z",
     "start_time": "2021-12-13T21:07:35.195098Z"
    }
   },
   "outputs": [],
   "source": [
    "url = 'https://data.strasbourg.eu/api/records/1.0/search/?dataset='\n",
    "dataset = 'livraison_de_paniers'\n",
    "urlDS = url+dataset\n",
    "urlDS = urlDS+\"&q=&lang=fr&rows=\"+str(json.loads(urllib.request.urlopen(urlDS).read().decode())['nhits'])\n",
    "donnees = spark.read.json(sc.parallelize(\n",
    "            [x['fields'] for x in\n",
    "                  json.loads(urllib.request.urlopen(urlDS\n",
    "                         ).read().decode())['records']\n",
    "                ]))\n",
    "\n",
    "fichier = 'donnees/json/'+dataset\n",
    "format  = 'json'\n",
    "donnees.write.mode('overwrite').format(format).save(fichier)"
   ]
  },
  {
   "cell_type": "code",
   "execution_count": 131,
   "metadata": {
    "ExecuteTime": {
     "end_time": "2021-12-13T21:08:11.296115Z",
     "start_time": "2021-12-13T21:08:07.435092Z"
    }
   },
   "outputs": [
    {
     "data": {
      "text/html": [
       "<div>\n",
       "<style scoped>\n",
       "    .dataframe tbody tr th:only-of-type {\n",
       "        vertical-align: middle;\n",
       "    }\n",
       "\n",
       "    .dataframe tbody tr th {\n",
       "        vertical-align: top;\n",
       "    }\n",
       "\n",
       "    .dataframe thead th {\n",
       "        text-align: right;\n",
       "    }\n",
       "</style>\n",
       "<table border=\"1\" class=\"dataframe\">\n",
       "  <thead>\n",
       "    <tr style=\"text-align: right;\">\n",
       "      <th></th>\n",
       "      <th>adresse_de_distribution</th>\n",
       "      <th>agriculture_biologique</th>\n",
       "      <th>commune_de_distribution</th>\n",
       "      <th>date_maj</th>\n",
       "      <th>exploitation</th>\n",
       "      <th>formules</th>\n",
       "      <th>geo_point_2d</th>\n",
       "      <th>jours_et_horaires</th>\n",
       "      <th>lieu</th>\n",
       "      <th>produits</th>\n",
       "      <th>quartier</th>\n",
       "      <th>sig_id</th>\n",
       "      <th>site_web</th>\n",
       "      <th>telephone</th>\n",
       "    </tr>\n",
       "  </thead>\n",
       "  <tbody>\n",
       "    <tr>\n",
       "      <th>0</th>\n",
       "      <td>Place de la République</td>\n",
       "      <td>AB</td>\n",
       "      <td>Bischheim</td>\n",
       "      <td>02/09/2019</td>\n",
       "      <td>Ferme Herrmann</td>\n",
       "      <td>Sans abonnement</td>\n",
       "      <td>[48.613144, 7.757405]</td>\n",
       "      <td>Mardi de 17h à 18h30</td>\n",
       "      <td>Parking Place de la République</td>\n",
       "      <td>Fruits et légumes</td>\n",
       "      <td>None</td>\n",
       "      <td>2</td>\n",
       "      <td>www.fruits-herrmann.fr/</td>\n",
       "      <td>03 88 70 57 10</td>\n",
       "    </tr>\n",
       "    <tr>\n",
       "      <th>1</th>\n",
       "      <td>12 rue Antoine Freyermuth</td>\n",
       "      <td>None</td>\n",
       "      <td>Lingolsheim</td>\n",
       "      <td>02/09/2019</td>\n",
       "      <td>La Ruche qui dit Oui</td>\n",
       "      <td>Sans abonnement</td>\n",
       "      <td>[48.568137, 7.697459]</td>\n",
       "      <td>Jeudi de 18h à 19h</td>\n",
       "      <td>None</td>\n",
       "      <td>Multi-produits</td>\n",
       "      <td>None</td>\n",
       "      <td>12</td>\n",
       "      <td>www.laruchequiditoui.fr/fr</td>\n",
       "      <td>None</td>\n",
       "    </tr>\n",
       "    <tr>\n",
       "      <th>2</th>\n",
       "      <td>11 rue Boistel</td>\n",
       "      <td>None</td>\n",
       "      <td>Plobsheim</td>\n",
       "      <td>02/09/2019</td>\n",
       "      <td>La Ruche qui dit Oui</td>\n",
       "      <td>Sans abonnement</td>\n",
       "      <td>[48.471986, 7.726139]</td>\n",
       "      <td>Vendredi de 18h30 à 19h30</td>\n",
       "      <td>None</td>\n",
       "      <td>Multi-produits</td>\n",
       "      <td>None</td>\n",
       "      <td>17</td>\n",
       "      <td>www.laruchequiditoui.fr/fr</td>\n",
       "      <td>None</td>\n",
       "    </tr>\n",
       "    <tr>\n",
       "      <th>3</th>\n",
       "      <td>Rue des Pompiers</td>\n",
       "      <td>None</td>\n",
       "      <td>Schiltigheim</td>\n",
       "      <td>02/09/2019</td>\n",
       "      <td>Ferme Hager</td>\n",
       "      <td>Sans abonnement</td>\n",
       "      <td>[48.606655, 7.749879]</td>\n",
       "      <td>Mardi de 16h à 18h30</td>\n",
       "      <td>Maison du Jeune Citoyen</td>\n",
       "      <td>Fruits et légumes, oeufs</td>\n",
       "      <td>None</td>\n",
       "      <td>19</td>\n",
       "      <td>www.fermehager.fr</td>\n",
       "      <td>03 88 51 28 37</td>\n",
       "    </tr>\n",
       "    <tr>\n",
       "      <th>4</th>\n",
       "      <td>1 Allée d'Athènes</td>\n",
       "      <td>AB</td>\n",
       "      <td>Schiltigheim</td>\n",
       "      <td>02/09/2019</td>\n",
       "      <td>Les Jardins de la Montagne Verte</td>\n",
       "      <td>3 formules d'abonnement</td>\n",
       "      <td>[48.607784, 7.708715]</td>\n",
       "      <td>Mardi de 12h à 17h</td>\n",
       "      <td>IUT Louis Pasteur</td>\n",
       "      <td>Fruits et légumes</td>\n",
       "      <td>None</td>\n",
       "      <td>23</td>\n",
       "      <td>www.jardins-montagne-verte.com/</td>\n",
       "      <td>03 88 29 36 33</td>\n",
       "    </tr>\n",
       "  </tbody>\n",
       "</table>\n",
       "</div>"
      ],
      "text/plain": [
       "     adresse_de_distribution agriculture_biologique commune_de_distribution  \\\n",
       "0     Place de la République                     AB               Bischheim   \n",
       "1  12 rue Antoine Freyermuth                   None             Lingolsheim   \n",
       "2             11 rue Boistel                   None               Plobsheim   \n",
       "3           Rue des Pompiers                   None            Schiltigheim   \n",
       "4          1 Allée d'Athènes                     AB            Schiltigheim   \n",
       "\n",
       "     date_maj                      exploitation                 formules  \\\n",
       "0  02/09/2019                    Ferme Herrmann          Sans abonnement   \n",
       "1  02/09/2019              La Ruche qui dit Oui          Sans abonnement   \n",
       "2  02/09/2019              La Ruche qui dit Oui          Sans abonnement   \n",
       "3  02/09/2019                       Ferme Hager          Sans abonnement   \n",
       "4  02/09/2019  Les Jardins de la Montagne Verte  3 formules d'abonnement   \n",
       "\n",
       "            geo_point_2d          jours_et_horaires  \\\n",
       "0  [48.613144, 7.757405]       Mardi de 17h à 18h30   \n",
       "1  [48.568137, 7.697459]         Jeudi de 18h à 19h   \n",
       "2  [48.471986, 7.726139]  Vendredi de 18h30 à 19h30   \n",
       "3  [48.606655, 7.749879]       Mardi de 16h à 18h30   \n",
       "4  [48.607784, 7.708715]         Mardi de 12h à 17h   \n",
       "\n",
       "                             lieu                  produits quartier sig_id  \\\n",
       "0  Parking Place de la République         Fruits et légumes     None      2   \n",
       "1                            None            Multi-produits     None     12   \n",
       "2                            None            Multi-produits     None     17   \n",
       "3         Maison du Jeune Citoyen  Fruits et légumes, oeufs     None     19   \n",
       "4               IUT Louis Pasteur         Fruits et légumes     None     23   \n",
       "\n",
       "                          site_web       telephone  \n",
       "0          www.fruits-herrmann.fr/  03 88 70 57 10  \n",
       "1       www.laruchequiditoui.fr/fr            None  \n",
       "2       www.laruchequiditoui.fr/fr            None  \n",
       "3                www.fermehager.fr  03 88 51 28 37  \n",
       "4  www.jardins-montagne-verte.com/  03 88 29 36 33  "
      ]
     },
     "execution_count": 131,
     "metadata": {},
     "output_type": "execute_result"
    }
   ],
   "source": [
    "donnees.toPandas().head()"
   ]
  },
  {
   "cell_type": "code",
   "execution_count": 12,
   "metadata": {
    "ExecuteTime": {
     "end_time": "2021-12-13T22:51:35.611795Z",
     "start_time": "2021-12-13T22:51:35.498098Z"
    }
   },
   "outputs": [
    {
     "name": "stdout",
     "output_type": "stream",
     "text": [
      "root\n",
      " |-- adresse_de_distribution: string (nullable = true)\n",
      " |-- agriculture_biologique: string (nullable = true)\n",
      " |-- commune_de_distribution: string (nullable = true)\n",
      " |-- date_maj: string (nullable = true)\n",
      " |-- exploitation: string (nullable = true)\n",
      " |-- formules: string (nullable = true)\n",
      " |-- geo_point_2d: array (nullable = true)\n",
      " |    |-- element: double (containsNull = true)\n",
      " |-- jours_et_horaires: string (nullable = true)\n",
      " |-- lieu: string (nullable = true)\n",
      " |-- produits: string (nullable = true)\n",
      " |-- quartier: string (nullable = true)\n",
      " |-- sig_id: string (nullable = true)\n",
      " |-- site_web: string (nullable = true)\n",
      " |-- telephone: string (nullable = true)\n",
      "\n"
     ]
    }
   ],
   "source": [
    "paniers = spark.read.format('json').option('mergeSchema', 'true').option('inferSchema','true').load('donnees/json/livraison_de_paniers').cache()\n",
    "paniers.printSchema()"
   ]
  },
  {
   "cell_type": "code",
   "execution_count": 14,
   "metadata": {
    "ExecuteTime": {
     "end_time": "2021-12-13T22:51:55.913422Z",
     "start_time": "2021-12-13T22:51:55.490240Z"
    }
   },
   "outputs": [
    {
     "data": {
      "text/html": [
       "<div>\n",
       "<style scoped>\n",
       "    .dataframe tbody tr th:only-of-type {\n",
       "        vertical-align: middle;\n",
       "    }\n",
       "\n",
       "    .dataframe tbody tr th {\n",
       "        vertical-align: top;\n",
       "    }\n",
       "\n",
       "    .dataframe thead th {\n",
       "        text-align: right;\n",
       "    }\n",
       "</style>\n",
       "<table border=\"1\" class=\"dataframe\">\n",
       "  <thead>\n",
       "    <tr style=\"text-align: right;\">\n",
       "      <th></th>\n",
       "      <th>adresse_de_distribution</th>\n",
       "      <th>agriculture_biologique</th>\n",
       "      <th>commune_de_distribution</th>\n",
       "      <th>date_maj</th>\n",
       "      <th>exploitation</th>\n",
       "      <th>formules</th>\n",
       "      <th>geo_point_2d</th>\n",
       "      <th>jours_et_horaires</th>\n",
       "      <th>lieu</th>\n",
       "      <th>produits</th>\n",
       "      <th>quartier</th>\n",
       "      <th>sig_id</th>\n",
       "      <th>site_web</th>\n",
       "      <th>telephone</th>\n",
       "    </tr>\n",
       "  </thead>\n",
       "  <tbody>\n",
       "    <tr>\n",
       "      <th>0</th>\n",
       "      <td>Chemin du Grossroethig</td>\n",
       "      <td>AB</td>\n",
       "      <td>Strasbourg</td>\n",
       "      <td>02/09/2019</td>\n",
       "      <td>Les Jardins de la Montagne Verte</td>\n",
       "      <td>3 formules d'abonnement</td>\n",
       "      <td>[48.5719394111, 7.70795030284]</td>\n",
       "      <td>Mardi au vendredi de 11h à 17h</td>\n",
       "      <td>Jardins de la Montagne Verte</td>\n",
       "      <td>Fruits et légumes</td>\n",
       "      <td>Koeningshoffen</td>\n",
       "      <td>66</td>\n",
       "      <td>www.jardins-montagne-verte.com/</td>\n",
       "      <td>03 88 29 36 33</td>\n",
       "    </tr>\n",
       "    <tr>\n",
       "      <th>1</th>\n",
       "      <td>3 rue Mgr Hoch</td>\n",
       "      <td>AB</td>\n",
       "      <td>Strasbourg</td>\n",
       "      <td>02/09/2019</td>\n",
       "      <td>Ried Oasis</td>\n",
       "      <td>3 formules d'abonnement</td>\n",
       "      <td>[48.576182, 7.699618]</td>\n",
       "      <td>Jeudi de 16h30 à 18h</td>\n",
       "      <td>Ecole Joie de Vivre</td>\n",
       "      <td>Fruits, légumes, pain et oeufs</td>\n",
       "      <td>Koeningshoffen</td>\n",
       "      <td>70</td>\n",
       "      <td>www.riedoasis.fr/</td>\n",
       "      <td>03 88 98 49 32</td>\n",
       "    </tr>\n",
       "    <tr>\n",
       "      <th>2</th>\n",
       "      <td>68 rue de Zurich (devant Krutt'herbes)</td>\n",
       "      <td>AB</td>\n",
       "      <td>Strasbourg</td>\n",
       "      <td>02/09/2019</td>\n",
       "      <td>Ferme de Truttenhausen</td>\n",
       "      <td>2 formules d'abonnement</td>\n",
       "      <td>[48.578571, 7.75894]</td>\n",
       "      <td>Le mardi de 18h00 à 19h30</td>\n",
       "      <td>AMAP Truttenhausen</td>\n",
       "      <td>Fruits et légumes, pain et produits laitiers</td>\n",
       "      <td>Krutenau</td>\n",
       "      <td>71</td>\n",
       "      <td>www.truttenhausen.jimdo.com/vente-de-produits/...</td>\n",
       "      <td>03 88 08 24 33</td>\n",
       "    </tr>\n",
       "    <tr>\n",
       "      <th>3</th>\n",
       "      <td>Centre socio-culturel CARDEK, 1 place des Orph...</td>\n",
       "      <td>AB</td>\n",
       "      <td>Strasbourg</td>\n",
       "      <td>02/09/2019</td>\n",
       "      <td>Le Panier du Jardin d'Agnès</td>\n",
       "      <td>3 abonnements</td>\n",
       "      <td>[48.578822, 7.753991]</td>\n",
       "      <td>Mercredi de 18h15 à 19h30</td>\n",
       "      <td>La Carotte sociale et solidaire</td>\n",
       "      <td>Fruits et légumes, œufs</td>\n",
       "      <td>Krutenau</td>\n",
       "      <td>72</td>\n",
       "      <td>www.lejardindagnes.fr/</td>\n",
       "      <td>06 08 21 54 68</td>\n",
       "    </tr>\n",
       "    <tr>\n",
       "      <th>4</th>\n",
       "      <td>13 rue d'Austerlitz</td>\n",
       "      <td>AB</td>\n",
       "      <td>Strasbourg</td>\n",
       "      <td>02/09/2019</td>\n",
       "      <td>Vegetal Respekt</td>\n",
       "      <td>Sans abonnement</td>\n",
       "      <td>[48.578576, 7.752399]</td>\n",
       "      <td>Vendredi 15h à 19h30 et samedi 9h à 20h</td>\n",
       "      <td>HAPPY FLEURS</td>\n",
       "      <td>Fruits, légumes et aromates</td>\n",
       "      <td>Krutenau</td>\n",
       "      <td>73</td>\n",
       "      <td>https://ma-ferme-bio.com/</td>\n",
       "      <td>03 90 40 66 35</td>\n",
       "    </tr>\n",
       "  </tbody>\n",
       "</table>\n",
       "</div>"
      ],
      "text/plain": [
       "                             adresse_de_distribution agriculture_biologique  \\\n",
       "0                             Chemin du Grossroethig                     AB   \n",
       "1                                     3 rue Mgr Hoch                     AB   \n",
       "2             68 rue de Zurich (devant Krutt'herbes)                     AB   \n",
       "3  Centre socio-culturel CARDEK, 1 place des Orph...                     AB   \n",
       "4                                13 rue d'Austerlitz                     AB   \n",
       "\n",
       "  commune_de_distribution    date_maj                      exploitation  \\\n",
       "0              Strasbourg  02/09/2019  Les Jardins de la Montagne Verte   \n",
       "1              Strasbourg  02/09/2019                        Ried Oasis   \n",
       "2              Strasbourg  02/09/2019            Ferme de Truttenhausen   \n",
       "3              Strasbourg  02/09/2019       Le Panier du Jardin d'Agnès   \n",
       "4              Strasbourg  02/09/2019                   Vegetal Respekt   \n",
       "\n",
       "                  formules                    geo_point_2d  \\\n",
       "0  3 formules d'abonnement  [48.5719394111, 7.70795030284]   \n",
       "1  3 formules d'abonnement           [48.576182, 7.699618]   \n",
       "2  2 formules d'abonnement            [48.578571, 7.75894]   \n",
       "3            3 abonnements           [48.578822, 7.753991]   \n",
       "4          Sans abonnement           [48.578576, 7.752399]   \n",
       "\n",
       "                         jours_et_horaires                             lieu  \\\n",
       "0           Mardi au vendredi de 11h à 17h     Jardins de la Montagne Verte   \n",
       "1                     Jeudi de 16h30 à 18h              Ecole Joie de Vivre   \n",
       "2                Le mardi de 18h00 à 19h30               AMAP Truttenhausen   \n",
       "3                Mercredi de 18h15 à 19h30  La Carotte sociale et solidaire   \n",
       "4  Vendredi 15h à 19h30 et samedi 9h à 20h                     HAPPY FLEURS   \n",
       "\n",
       "                                       produits        quartier sig_id  \\\n",
       "0                             Fruits et légumes  Koeningshoffen     66   \n",
       "1                Fruits, légumes, pain et oeufs  Koeningshoffen     70   \n",
       "2  Fruits et légumes, pain et produits laitiers        Krutenau     71   \n",
       "3                       Fruits et légumes, œufs        Krutenau     72   \n",
       "4                   Fruits, légumes et aromates        Krutenau     73   \n",
       "\n",
       "                                            site_web       telephone  \n",
       "0                    www.jardins-montagne-verte.com/  03 88 29 36 33  \n",
       "1                                  www.riedoasis.fr/  03 88 98 49 32  \n",
       "2  www.truttenhausen.jimdo.com/vente-de-produits/...  03 88 08 24 33  \n",
       "3                             www.lejardindagnes.fr/  06 08 21 54 68  \n",
       "4                          https://ma-ferme-bio.com/  03 90 40 66 35  "
      ]
     },
     "execution_count": 14,
     "metadata": {},
     "output_type": "execute_result"
    }
   ],
   "source": [
    "paniers.toPandas().head()"
   ]
  },
  {
   "cell_type": "code",
   "execution_count": null,
   "metadata": {},
   "outputs": [],
   "source": []
  },
  {
   "cell_type": "code",
   "execution_count": null,
   "metadata": {},
   "outputs": [],
   "source": []
  },
  {
   "cell_type": "code",
   "execution_count": null,
   "metadata": {},
   "outputs": [],
   "source": []
  },
  {
   "cell_type": "code",
   "execution_count": null,
   "metadata": {},
   "outputs": [],
   "source": []
  },
  {
   "cell_type": "code",
   "execution_count": null,
   "metadata": {},
   "outputs": [],
   "source": []
  },
  {
   "cell_type": "code",
   "execution_count": null,
   "metadata": {},
   "outputs": [],
   "source": []
  }
 ],
 "metadata": {
  "kernelspec": {
   "display_name": "Python 3",
   "language": "python",
   "name": "python3"
  },
  "language_info": {
   "codemirror_mode": {
    "name": "ipython",
    "version": 3
   },
   "file_extension": ".py",
   "mimetype": "text/x-python",
   "name": "python",
   "nbconvert_exporter": "python",
   "pygments_lexer": "ipython3",
   "version": "3.8.8"
  },
  "toc": {
   "base_numbering": 1,
   "nav_menu": {},
   "number_sections": true,
   "sideBar": true,
   "skip_h1_title": false,
   "title_cell": "Table of Contents",
   "title_sidebar": "Contents",
   "toc_cell": true,
   "toc_position": {},
   "toc_section_display": true,
   "toc_window_display": false
  }
 },
 "nbformat": 4,
 "nbformat_minor": 4
}
