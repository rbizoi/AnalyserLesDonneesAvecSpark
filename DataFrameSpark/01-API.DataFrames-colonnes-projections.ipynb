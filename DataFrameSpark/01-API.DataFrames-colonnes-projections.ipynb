{
 "cells": [
  {
   "cell_type": "markdown",
   "metadata": {
    "toc": true
   },
   "source": [
    "<h1>Table of Contents<span class=\"tocSkip\"></span></h1>\n",
    "<div class=\"toc\"><ul class=\"toc-item\"><li><span><a href=\"#Row\" data-toc-modified-id=\"Row-1\"><span class=\"toc-item-num\">1&nbsp;&nbsp;</span>Row</a></span></li><li><span><a href=\"#Colonnes\" data-toc-modified-id=\"Colonnes-2\"><span class=\"toc-item-num\">2&nbsp;&nbsp;</span>Colonnes</a></span></li><li><span><a href=\"#expr\" data-toc-modified-id=\"expr-3\"><span class=\"toc-item-num\">3&nbsp;&nbsp;</span>expr</a></span></li><li><span><a href=\"#Transformations\" data-toc-modified-id=\"Transformations-4\"><span class=\"toc-item-num\">4&nbsp;&nbsp;</span>Transformations</a></span><ul class=\"toc-item\"><li><span><a href=\"#Projections\" data-toc-modified-id=\"Projections-4.1\"><span class=\"toc-item-num\">4.1&nbsp;&nbsp;</span>Projections</a></span><ul class=\"toc-item\"><li><span><a href=\"#selectExpr\" data-toc-modified-id=\"selectExpr-4.1.1\"><span class=\"toc-item-num\">4.1.1&nbsp;&nbsp;</span>selectExpr</a></span></li><li><span><a href=\"#drop\" data-toc-modified-id=\"drop-4.1.2\"><span class=\"toc-item-num\">4.1.2&nbsp;&nbsp;</span>drop</a></span></li><li><span><a href=\"#orderBy\" data-toc-modified-id=\"orderBy-4.1.3\"><span class=\"toc-item-num\">4.1.3&nbsp;&nbsp;</span>orderBy</a></span></li></ul></li></ul></li></ul></div>"
   ]
  },
  {
   "cell_type": "code",
   "execution_count": null,
   "metadata": {},
   "outputs": [],
   "source": []
  },
  {
   "cell_type": "code",
   "execution_count": 25,
   "metadata": {
    "ExecuteTime": {
     "end_time": "2021-12-07T09:04:29.861586Z",
     "start_time": "2021-12-07T09:04:29.848620Z"
    }
   },
   "outputs": [],
   "source": [
    "import os\n",
    "from pyspark.sql.functions import *\n",
    "from pyspark.sql.types     import StructType, \\\n",
    "     StructField, FloatType, \\\n",
    "     IntegerType, StringType"
   ]
  },
  {
   "cell_type": "code",
   "execution_count": 26,
   "metadata": {
    "ExecuteTime": {
     "end_time": "2021-12-07T09:04:29.892503Z",
     "start_time": "2021-12-07T09:04:29.863580Z"
    }
   },
   "outputs": [
    {
     "data": {
      "text/html": [
       "\n",
       "            <div>\n",
       "                <p><b>SparkSession - hive</b></p>\n",
       "                \n",
       "        <div>\n",
       "            <p><b>SparkContext</b></p>\n",
       "\n",
       "            <p><a href=\"http://athena.olimp.fr:4040\">Spark UI</a></p>\n",
       "\n",
       "            <dl>\n",
       "              <dt>Version</dt>\n",
       "                <dd><code>v3.2.0</code></dd>\n",
       "              <dt>Master</dt>\n",
       "                <dd><code>local[*]</code></dd>\n",
       "              <dt>AppName</dt>\n",
       "                <dd><code>PySparkShell</code></dd>\n",
       "            </dl>\n",
       "        </div>\n",
       "        \n",
       "            </div>\n",
       "        "
      ],
      "text/plain": [
       "<pyspark.sql.session.SparkSession at 0x20fd2ea2610>"
      ]
     },
     "execution_count": 26,
     "metadata": {},
     "output_type": "execute_result"
    }
   ],
   "source": [
    "spark"
   ]
  },
  {
   "cell_type": "markdown",
   "metadata": {
    "ExecuteTime": {
     "end_time": "2021-12-07T07:50:21.795770Z",
     "start_time": "2021-12-07T07:50:21.781805Z"
    }
   },
   "source": [
    "# Row\n",
    "Un DataFrame est un objet de type **« Dataset[Row] »**, ainsi toutes les caractéristiques de l’objet **« Dataset »** sont également valables pour les **DataFrames**."
   ]
  },
  {
   "cell_type": "code",
   "execution_count": 27,
   "metadata": {
    "ExecuteTime": {
     "end_time": "2021-12-07T09:04:34.170235Z",
     "start_time": "2021-12-07T09:04:29.894498Z"
    }
   },
   "outputs": [
    {
     "name": "stdout",
     "output_type": "stream",
     "text": [
      "+---+--------+-----+\n",
      "| Id|  Prenom|  Nom|\n",
      "+---+--------+-----+\n",
      "|  1|Isabelle|BIZOÏ|\n",
      "|  2|  Razvan|BIZOÏ|\n",
      "+---+--------+-----+\n",
      "\n"
     ]
    }
   ],
   "source": [
    "from pyspark.sql import Row\n",
    "from pyspark.sql.functions import *\n",
    "\n",
    "uneLigne = Row(1,\"Isabelle\",\"BIZOÏ\")\n",
    "uneAutre = Row(2,\"Razvan\",\"BIZOÏ\")\n",
    "listeLignes = [uneLigne,uneAutre]\n",
    "personnes = spark.createDataFrame(listeLignes,[\"Id\",\"Prenom\",\"Nom\"])\n",
    "personnes.show()"
   ]
  },
  {
   "cell_type": "markdown",
   "metadata": {},
   "source": [
    "# Colonnes\n",
    "\n",
    "<img src=\"https://raw.githubusercontent.com/rbizoi/AnalyserLesDonneesAvecSpark/main/DataFrameSpark/images/M06-01.png\" width=\"400\">    "
   ]
  },
  {
   "cell_type": "code",
   "execution_count": 28,
   "metadata": {
    "ExecuteTime": {
     "end_time": "2021-12-07T09:04:34.631510Z",
     "start_time": "2021-12-07T09:04:34.172232Z"
    }
   },
   "outputs": [],
   "source": [
    "from pyspark.sql.functions import expr,col\n",
    "\n",
    "meteoDataFrame  = spark.read.format('csv')\\\n",
    "    .option('sep',';')\\\n",
    "    .option('header','true')\\\n",
    "    .option('nullValue','mq')\\\n",
    "    .option('inferSchema', 'true')\\\n",
    "    .load('../donnees/meteo1')\\\n",
    "    .cache()"
   ]
  },
  {
   "cell_type": "code",
   "execution_count": 29,
   "metadata": {
    "ExecuteTime": {
     "end_time": "2021-12-07T09:04:34.647468Z",
     "start_time": "2021-12-07T09:04:34.632509Z"
    },
    "scrolled": true
   },
   "outputs": [
    {
     "name": "stdout",
     "output_type": "stream",
     "text": [
      "root\n",
      " |-- numer_sta: integer (nullable = true)\n",
      " |-- date: long (nullable = true)\n",
      " |-- pmer: integer (nullable = true)\n",
      " |-- tend: integer (nullable = true)\n",
      " |-- cod_tend: integer (nullable = true)\n",
      " |-- dd: integer (nullable = true)\n",
      " |-- ff: double (nullable = true)\n",
      " |-- t: double (nullable = true)\n",
      " |-- td: double (nullable = true)\n",
      " |-- u: integer (nullable = true)\n",
      " |-- vv: integer (nullable = true)\n",
      " |-- ww: integer (nullable = true)\n",
      " |-- w1: integer (nullable = true)\n",
      " |-- w2: integer (nullable = true)\n",
      " |-- n: integer (nullable = true)\n",
      " |-- nbas: integer (nullable = true)\n",
      " |-- hbas: integer (nullable = true)\n",
      " |-- cl: integer (nullable = true)\n",
      " |-- cm: integer (nullable = true)\n",
      " |-- ch: integer (nullable = true)\n",
      " |-- pres: integer (nullable = true)\n",
      " |-- niv_bar: string (nullable = true)\n",
      " |-- geop: integer (nullable = true)\n",
      " |-- tend24: integer (nullable = true)\n",
      " |-- tn12: double (nullable = true)\n",
      " |-- tn24: double (nullable = true)\n",
      " |-- tx12: double (nullable = true)\n",
      " |-- tx24: double (nullable = true)\n",
      " |-- tminsol: double (nullable = true)\n",
      " |-- sw: string (nullable = true)\n",
      " |-- tw: string (nullable = true)\n",
      " |-- raf10: double (nullable = true)\n",
      " |-- rafper: double (nullable = true)\n",
      " |-- per: integer (nullable = true)\n",
      " |-- etat_sol: integer (nullable = true)\n",
      " |-- ht_neige: double (nullable = true)\n",
      " |-- ssfrai: double (nullable = true)\n",
      " |-- perssfrai: integer (nullable = true)\n",
      " |-- rr1: double (nullable = true)\n",
      " |-- rr3: double (nullable = true)\n",
      " |-- rr6: double (nullable = true)\n",
      " |-- rr12: double (nullable = true)\n",
      " |-- rr24: double (nullable = true)\n",
      " |-- phenspe1: string (nullable = true)\n",
      " |-- phenspe2: string (nullable = true)\n",
      " |-- phenspe3: string (nullable = true)\n",
      " |-- phenspe4: string (nullable = true)\n",
      " |-- nnuage1: integer (nullable = true)\n",
      " |-- ctype1: integer (nullable = true)\n",
      " |-- hnuage1: integer (nullable = true)\n",
      " |-- nnuage2: integer (nullable = true)\n",
      " |-- ctype2: integer (nullable = true)\n",
      " |-- hnuage2: integer (nullable = true)\n",
      " |-- nnuage3: integer (nullable = true)\n",
      " |-- ctype3: integer (nullable = true)\n",
      " |-- hnuage3: integer (nullable = true)\n",
      " |-- nnuage4: integer (nullable = true)\n",
      " |-- ctype4: integer (nullable = true)\n",
      " |-- hnuage4: integer (nullable = true)\n",
      " |-- _c59: string (nullable = true)\n",
      "\n"
     ]
    }
   ],
   "source": [
    "meteoDataFrame.printSchema()"
   ]
  },
  {
   "cell_type": "code",
   "execution_count": 30,
   "metadata": {
    "ExecuteTime": {
     "end_time": "2021-12-07T09:04:34.663426Z",
     "start_time": "2021-12-07T09:04:34.648467Z"
    },
    "scrolled": true
   },
   "outputs": [
    {
     "data": {
      "text/plain": [
       "(60,\n",
       " ['numer_sta',\n",
       "  'date',\n",
       "  'pmer',\n",
       "  'tend',\n",
       "  'cod_tend',\n",
       "  'dd',\n",
       "  'ff',\n",
       "  't',\n",
       "  'td',\n",
       "  'u',\n",
       "  'vv',\n",
       "  'ww',\n",
       "  'w1',\n",
       "  'w2',\n",
       "  'n',\n",
       "  'nbas',\n",
       "  'hbas',\n",
       "  'cl',\n",
       "  'cm',\n",
       "  'ch',\n",
       "  'pres',\n",
       "  'niv_bar',\n",
       "  'geop',\n",
       "  'tend24',\n",
       "  'tn12',\n",
       "  'tn24',\n",
       "  'tx12',\n",
       "  'tx24',\n",
       "  'tminsol',\n",
       "  'sw',\n",
       "  'tw',\n",
       "  'raf10',\n",
       "  'rafper',\n",
       "  'per',\n",
       "  'etat_sol',\n",
       "  'ht_neige',\n",
       "  'ssfrai',\n",
       "  'perssfrai',\n",
       "  'rr1',\n",
       "  'rr3',\n",
       "  'rr6',\n",
       "  'rr12',\n",
       "  'rr24',\n",
       "  'phenspe1',\n",
       "  'phenspe2',\n",
       "  'phenspe3',\n",
       "  'phenspe4',\n",
       "  'nnuage1',\n",
       "  'ctype1',\n",
       "  'hnuage1',\n",
       "  'nnuage2',\n",
       "  'ctype2',\n",
       "  'hnuage2',\n",
       "  'nnuage3',\n",
       "  'ctype3',\n",
       "  'hnuage3',\n",
       "  'nnuage4',\n",
       "  'ctype4',\n",
       "  'hnuage4',\n",
       "  '_c59'])"
      ]
     },
     "execution_count": 30,
     "metadata": {},
     "output_type": "execute_result"
    }
   ],
   "source": [
    "len(meteoDataFrame.columns), meteoDataFrame.columns"
   ]
  },
  {
   "cell_type": "code",
   "execution_count": 31,
   "metadata": {
    "ExecuteTime": {
     "end_time": "2021-12-07T09:04:34.724264Z",
     "start_time": "2021-12-07T09:04:34.664424Z"
    }
   },
   "outputs": [
    {
     "name": "stdout",
     "output_type": "stream",
     "text": [
      "+---------+--------------+------+\n",
      "|numer_sta|          date|     t|\n",
      "+---------+--------------+------+\n",
      "|     7005|20200301000000|278.05|\n",
      "|     7015|20200301000000|278.25|\n",
      "|     7020|20200301000000|280.85|\n",
      "+---------+--------------+------+\n",
      "only showing top 3 rows\n",
      "\n"
     ]
    }
   ],
   "source": [
    "meteoDataFrame.select('numer_sta',\"date\",\"t\").show(3)"
   ]
  },
  {
   "cell_type": "code",
   "execution_count": 32,
   "metadata": {
    "ExecuteTime": {
     "end_time": "2021-12-07T09:04:34.740222Z",
     "start_time": "2021-12-07T09:04:34.725262Z"
    }
   },
   "outputs": [
    {
     "data": {
      "text/plain": [
       "(Column<'numer_sta'>, Column<'numer_sta'>, Column<'t'>)"
      ]
     },
     "execution_count": 32,
     "metadata": {},
     "output_type": "execute_result"
    }
   ],
   "source": [
    "meteoDataFrame.numer_sta,meteoDataFrame[\"numer_sta\"],meteoDataFrame.t"
   ]
  },
  {
   "cell_type": "markdown",
   "metadata": {},
   "source": [
    "# expr\n",
    "La fonction permet d’écrire directement une expression qui est exécutée pour l’ensemble des lignes."
   ]
  },
  {
   "cell_type": "code",
   "execution_count": 33,
   "metadata": {
    "ExecuteTime": {
     "end_time": "2021-12-07T09:04:34.802662Z",
     "start_time": "2021-12-07T09:04:34.742215Z"
    }
   },
   "outputs": [
    {
     "name": "stdout",
     "output_type": "stream",
     "text": [
      "+---------+------------------+-------+\n",
      "|numer_sta|       temperature|   calc|\n",
      "+---------+------------------+-------+\n",
      "|     7005| 4.900000000000034| 7532.6|\n",
      "|     7015| 5.100000000000023|22626.6|\n",
      "|     7020|7.7000000000000455| 3800.4|\n",
      "+---------+------------------+-------+\n",
      "only showing top 3 rows\n",
      "\n"
     ]
    }
   ],
   "source": [
    "meteoDataFrame.select('numer_sta',\n",
    "                      expr('t  - 273.15').alias('temperature'),\n",
    "                      expr('(t + pres/1000)*vv/1000').alias('calc')\n",
    "        ).show(3)"
   ]
  },
  {
   "cell_type": "markdown",
   "metadata": {},
   "source": [
    "# Transformations\n",
    "\n",
    "<img src=\"https://raw.githubusercontent.com/rbizoi/AnalyserLesDonneesAvecSpark/main/DataFrameSpark/images/M06-02.png\" width=\"400\"> \n",
    "\n",
    "## Projections"
   ]
  },
  {
   "cell_type": "code",
   "execution_count": 34,
   "metadata": {
    "ExecuteTime": {
     "end_time": "2021-12-07T09:04:34.864495Z",
     "start_time": "2021-12-07T09:04:34.804658Z"
    }
   },
   "outputs": [],
   "source": [
    "from pyspark.sql.types     import StructType, \\\n",
    "     StructField, FloatType, \\\n",
    "     IntegerType, StringType\n",
    "\n",
    "schema = StructType([\n",
    "        StructField('Id'           , StringType() , True),\n",
    "        StructField('ville'        , StringType() , True),\n",
    "        StructField('latitude'     , FloatType() , True),\n",
    "        StructField('longitude'    , FloatType() , True),\n",
    "        StructField('altitude'     , IntegerType() , True)])\n",
    "\n",
    "villes  = spark.read.format('csv')   \\\n",
    "      .option('sep',';')                \\\n",
    "      .option('mergeSchema', 'true')    \\\n",
    "      .option('header','true')          \\\n",
    "      .schema(schema)                   \\\n",
    "      .load('../donnees/meteo/postesSynop.csv')  \\\n",
    "      .cache()\n",
    "\n",
    "@udf(\"string\")\n",
    "def formatVille(ville):\n",
    "    if ville in ['CLERMONT-FD','MONT-DE-MARSAN',\n",
    "                                   'ST-PIERRE','ST-BARTHELEMY METEO'] :\n",
    "        return ville.title()\n",
    "    else :\n",
    "        if ville.find('-') != -1 :\n",
    "            return ville[0:ville.find('-')].title()\n",
    "        else:\n",
    "            return ville.title()\n",
    "\n",
    "villesT  = villes.select(\n",
    "                col('Id').alias('id'),\n",
    "                formatVille('ville').alias('ville'),\n",
    "               'latitude',\n",
    "               'longitude',\n",
    "               'altitude')"
   ]
  },
  {
   "cell_type": "markdown",
   "metadata": {},
   "source": [
    "### selectExpr"
   ]
  },
  {
   "cell_type": "code",
   "execution_count": 35,
   "metadata": {
    "ExecuteTime": {
     "end_time": "2021-12-07T09:04:34.910617Z",
     "start_time": "2021-12-07T09:04:34.865494Z"
    }
   },
   "outputs": [
    {
     "name": "stdout",
     "output_type": "stream",
     "text": [
      "+-----+---------------+---------+---------+--------+-----+\n",
      "|   Id|          ville| latitude|longitude|altitude|  alt|\n",
      "+-----+---------------+---------+---------+--------+-----+\n",
      "|07005|      ABBEVILLE|   50.136|    1.834|      69|69000|\n",
      "|07015|  LILLE-LESQUIN|    50.57|   3.0975|      47|47000|\n",
      "|07020|PTE DE LA HAGUE|49.725166|-1.939833|       6| 6000|\n",
      "+-----+---------------+---------+---------+--------+-----+\n",
      "only showing top 3 rows\n",
      "\n"
     ]
    }
   ],
   "source": [
    "villes.selectExpr('*','altitude * 1000 as alt').show(3)"
   ]
  },
  {
   "cell_type": "code",
   "execution_count": 36,
   "metadata": {
    "ExecuteTime": {
     "end_time": "2021-12-07T09:04:35.487189Z",
     "start_time": "2021-12-07T09:04:34.912613Z"
    }
   },
   "outputs": [
    {
     "name": "stdout",
     "output_type": "stream",
     "text": [
      "+-----+---------------+---------+---------+--------+-----+\n",
      "|   id|          ville| latitude|longitude|altitude|  alt|\n",
      "+-----+---------------+---------+---------+--------+-----+\n",
      "|07005|      Abbeville|   50.136|    1.834|      69|69000|\n",
      "|07015|          Lille|    50.57|   3.0975|      47|47000|\n",
      "|07020|Pte De La Hague|49.725166|-1.939833|       6| 6000|\n",
      "+-----+---------------+---------+---------+--------+-----+\n",
      "only showing top 3 rows\n",
      "\n"
     ]
    }
   ],
   "source": [
    "villesT.selectExpr('*','altitude * 1000 as alt').show(3)"
   ]
  },
  {
   "cell_type": "code",
   "execution_count": 37,
   "metadata": {
    "ExecuteTime": {
     "end_time": "2021-12-07T09:04:35.533066Z",
     "start_time": "2021-12-07T09:04:35.489184Z"
    }
   },
   "outputs": [
    {
     "name": "stdout",
     "output_type": "stream",
     "text": [
      "+---------------+--------+\n",
      "|          ville|altitude|\n",
      "+---------------+--------+\n",
      "|      ABBEVILLE|      69|\n",
      "|  LILLE-LESQUIN|      47|\n",
      "|PTE DE LA HAGUE|       6|\n",
      "+---------------+--------+\n",
      "only showing top 3 rows\n",
      "\n"
     ]
    }
   ],
   "source": [
    "villes.drop('Id', 'latitude', 'longitude').show(3)"
   ]
  },
  {
   "cell_type": "markdown",
   "metadata": {},
   "source": [
    "### drop"
   ]
  },
  {
   "cell_type": "code",
   "execution_count": 38,
   "metadata": {
    "ExecuteTime": {
     "end_time": "2021-12-07T09:04:35.593904Z",
     "start_time": "2021-12-07T09:04:35.535062Z"
    }
   },
   "outputs": [
    {
     "name": "stdout",
     "output_type": "stream",
     "text": [
      "+-------------+--------+\n",
      "|        ville|altitude|\n",
      "+-------------+--------+\n",
      "|    ABBEVILLE|      69|\n",
      "|      AJACCIO|       5|\n",
      "|      ALENCON|     143|\n",
      "|BALE-MULHOUSE|     263|\n",
      "|       BASTIA|      10|\n",
      "+-------------+--------+\n",
      "only showing top 5 rows\n",
      "\n"
     ]
    }
   ],
   "source": [
    "villes.drop('Id', 'latitude', 'longitude')\\\n",
    "       .orderBy('ville').show(5)"
   ]
  },
  {
   "cell_type": "code",
   "execution_count": 39,
   "metadata": {
    "ExecuteTime": {
     "end_time": "2021-12-07T09:04:35.639781Z",
     "start_time": "2021-12-07T09:04:35.595899Z"
    }
   },
   "outputs": [
    {
     "name": "stdout",
     "output_type": "stream",
     "text": [
      "+------------------+--------+\n",
      "|             ville|altitude|\n",
      "+------------------+--------+\n",
      "|            EMBRUN|     871|\n",
      "|     LE PUY-LOUDES|     833|\n",
      "|            MILLAU|     712|\n",
      "|         ST GIRONS|     414|\n",
      "|LIMOGES-BELLEGARDE|     402|\n",
      "+------------------+--------+\n",
      "only showing top 5 rows\n",
      "\n"
     ]
    }
   ],
   "source": [
    "villes.drop('Id', 'latitude', 'longitude')\\\n",
    "       .orderBy(desc('altitude')).show(5)"
   ]
  },
  {
   "cell_type": "code",
   "execution_count": 40,
   "metadata": {
    "ExecuteTime": {
     "end_time": "2021-12-07T09:04:35.748490Z",
     "start_time": "2021-12-07T09:04:35.640778Z"
    }
   },
   "outputs": [],
   "source": [
    "meteo = meteoDataFrame.select(\n",
    "                 col('numer_sta'),\n",
    "                 to_timestamp(col('date').cast('string'),'yyyyMMddHHmmss'),\n",
    "                 col('date')[0:4].cast('int') ,\n",
    "                 col('date')[5:2].cast('int'),\n",
    "                 col('date')[7:2].cast('int'),\n",
    "                 col('date')[5:4],\n",
    "                 round(col('t') - 273.15,2),\n",
    "                 col('u') / 100 ,\n",
    "                 col('vv') / 1000 ,\n",
    "                 col('pres') / 1000,\n",
    "                 coalesce( col('rr3'),\n",
    "                           col('rr24')/8,\n",
    "                           col('rr12')/4,\n",
    "                           col('rr6')/2,\n",
    "                           col('rr1')*3  ) )\\\n",
    "             .toDF('id','date','annee','mois','jour','mois_jour','temperature',\n",
    "                   'humidite','visibilite','pression','precipitations')\\\n",
    "             .cache()"
   ]
  },
  {
   "cell_type": "markdown",
   "metadata": {},
   "source": [
    "### orderBy"
   ]
  },
  {
   "cell_type": "code",
   "execution_count": 41,
   "metadata": {
    "ExecuteTime": {
     "end_time": "2021-12-07T09:04:35.871162Z",
     "start_time": "2021-12-07T09:04:35.750486Z"
    }
   },
   "outputs": [
    {
     "name": "stdout",
     "output_type": "stream",
     "text": [
      "+----+-----+----+----+-----------+\n",
      "|  id|annee|mois|jour|temperature|\n",
      "+----+-----+----+----+-----------+\n",
      "|7005| 2020|  12|  31|        0.0|\n",
      "|7005| 2020|  12|  31|        0.2|\n",
      "|7005| 2020|  12|  31|        1.7|\n",
      "|7005| 2020|  12|  31|        2.4|\n",
      "|7005| 2020|  12|  31|        2.4|\n",
      "+----+-----+----+----+-----------+\n",
      "only showing top 5 rows\n",
      "\n"
     ]
    }
   ],
   "source": [
    "meteo.where('id < 8000')\\\n",
    "      .select ('id','annee','mois','jour','temperature')\\\n",
    "      .orderBy( 'id','annee','mois','jour','temperature',\n",
    "                ascending=[1,0,0,0,1])\\\n",
    "      .show(5)"
   ]
  },
  {
   "cell_type": "code",
   "execution_count": 42,
   "metadata": {
    "ExecuteTime": {
     "end_time": "2021-12-07T09:04:36.219628Z",
     "start_time": "2021-12-07T09:04:35.872160Z"
    }
   },
   "outputs": [
    {
     "name": "stdout",
     "output_type": "stream",
     "text": [
      "+-------+------+------------------+------------------+\n",
      "|summary| annee|         mois_jour|       temperature|\n",
      "+-------+------+------------------+------------------+\n",
      "|  count|122248|            122248|            119516|\n",
      "|   mean|2020.0| 666.2442493946731|13.526039191405314|\n",
      "| stddev|   0.0|345.16250616182487| 6.969180673312196|\n",
      "|    min|  2020|              0101|              -7.6|\n",
      "|    max|  2020|              1231|              39.8|\n",
      "+-------+------+------------------+------------------+\n",
      "\n"
     ]
    }
   ],
   "source": [
    "meteo.where('id < 8000')\\\n",
    "     .select('annee','mois_jour',\n",
    "             'temperature')\\\n",
    "     .describe().show(20)"
   ]
  },
  {
   "cell_type": "code",
   "execution_count": 43,
   "metadata": {
    "ExecuteTime": {
     "end_time": "2021-12-07T09:04:36.551256Z",
     "start_time": "2021-12-07T09:04:36.221622Z"
    }
   },
   "outputs": [
    {
     "data": {
      "text/plain": [
       "(174227, 1760)"
      ]
     },
     "execution_count": 43,
     "metadata": {},
     "output_type": "execute_result"
    }
   ],
   "source": [
    "meteo.count(), meteo.sample(withReplacement=True, fraction=0.01, seed=123456).count()"
   ]
  },
  {
   "cell_type": "code",
   "execution_count": 44,
   "metadata": {
    "ExecuteTime": {
     "end_time": "2021-12-07T09:04:36.752009Z",
     "start_time": "2021-12-07T09:04:36.552253Z"
    }
   },
   "outputs": [
    {
     "data": {
      "text/plain": [
       "1731"
      ]
     },
     "execution_count": 44,
     "metadata": {},
     "output_type": "execute_result"
    }
   ],
   "source": [
    "meteo.sample(True,1/100).count()"
   ]
  },
  {
   "cell_type": "code",
   "execution_count": 45,
   "metadata": {
    "ExecuteTime": {
     "end_time": "2021-12-07T09:04:36.908678Z",
     "start_time": "2021-12-07T09:04:36.754001Z"
    }
   },
   "outputs": [
    {
     "data": {
      "text/plain": [
       "1740"
      ]
     },
     "execution_count": 45,
     "metadata": {},
     "output_type": "execute_result"
    }
   ],
   "source": [
    "meteo.sample(1/100).count()"
   ]
  },
  {
   "cell_type": "code",
   "execution_count": null,
   "metadata": {},
   "outputs": [],
   "source": []
  },
  {
   "cell_type": "code",
   "execution_count": null,
   "metadata": {},
   "outputs": [],
   "source": []
  },
  {
   "cell_type": "code",
   "execution_count": null,
   "metadata": {},
   "outputs": [],
   "source": []
  },
  {
   "cell_type": "code",
   "execution_count": null,
   "metadata": {},
   "outputs": [],
   "source": []
  },
  {
   "cell_type": "code",
   "execution_count": null,
   "metadata": {},
   "outputs": [],
   "source": []
  },
  {
   "cell_type": "code",
   "execution_count": null,
   "metadata": {},
   "outputs": [],
   "source": []
  },
  {
   "cell_type": "code",
   "execution_count": null,
   "metadata": {},
   "outputs": [],
   "source": []
  },
  {
   "cell_type": "code",
   "execution_count": null,
   "metadata": {},
   "outputs": [],
   "source": []
  },
  {
   "cell_type": "code",
   "execution_count": null,
   "metadata": {},
   "outputs": [],
   "source": []
  },
  {
   "cell_type": "code",
   "execution_count": null,
   "metadata": {},
   "outputs": [],
   "source": []
  },
  {
   "cell_type": "code",
   "execution_count": null,
   "metadata": {},
   "outputs": [],
   "source": []
  },
  {
   "cell_type": "code",
   "execution_count": null,
   "metadata": {},
   "outputs": [],
   "source": []
  },
  {
   "cell_type": "code",
   "execution_count": null,
   "metadata": {},
   "outputs": [],
   "source": []
  },
  {
   "cell_type": "code",
   "execution_count": null,
   "metadata": {},
   "outputs": [],
   "source": []
  },
  {
   "cell_type": "code",
   "execution_count": null,
   "metadata": {},
   "outputs": [],
   "source": []
  },
  {
   "cell_type": "code",
   "execution_count": null,
   "metadata": {},
   "outputs": [],
   "source": []
  },
  {
   "cell_type": "code",
   "execution_count": null,
   "metadata": {},
   "outputs": [],
   "source": []
  },
  {
   "cell_type": "code",
   "execution_count": null,
   "metadata": {},
   "outputs": [],
   "source": []
  },
  {
   "cell_type": "code",
   "execution_count": null,
   "metadata": {},
   "outputs": [],
   "source": []
  },
  {
   "cell_type": "code",
   "execution_count": null,
   "metadata": {},
   "outputs": [],
   "source": []
  },
  {
   "cell_type": "code",
   "execution_count": null,
   "metadata": {},
   "outputs": [],
   "source": []
  },
  {
   "cell_type": "code",
   "execution_count": null,
   "metadata": {},
   "outputs": [],
   "source": []
  },
  {
   "cell_type": "code",
   "execution_count": null,
   "metadata": {},
   "outputs": [],
   "source": []
  },
  {
   "cell_type": "code",
   "execution_count": null,
   "metadata": {},
   "outputs": [],
   "source": []
  },
  {
   "cell_type": "code",
   "execution_count": null,
   "metadata": {},
   "outputs": [],
   "source": []
  },
  {
   "cell_type": "code",
   "execution_count": null,
   "metadata": {},
   "outputs": [],
   "source": []
  }
 ],
 "metadata": {
  "kernelspec": {
   "display_name": "Python 3",
   "language": "python",
   "name": "python3"
  },
  "language_info": {
   "codemirror_mode": {
    "name": "ipython",
    "version": 3
   },
   "file_extension": ".py",
   "mimetype": "text/x-python",
   "name": "python",
   "nbconvert_exporter": "python",
   "pygments_lexer": "ipython3",
   "version": "3.8.8"
  },
  "toc": {
   "base_numbering": 1,
   "nav_menu": {},
   "number_sections": true,
   "sideBar": true,
   "skip_h1_title": false,
   "title_cell": "Table of Contents",
   "title_sidebar": "Contents",
   "toc_cell": true,
   "toc_position": {},
   "toc_section_display": true,
   "toc_window_display": false
  }
 },
 "nbformat": 4,
 "nbformat_minor": 4
}
